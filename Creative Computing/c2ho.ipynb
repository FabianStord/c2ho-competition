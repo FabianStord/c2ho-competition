{
 "cells": [
  {
   "cell_type": "markdown",
   "id": "71c95016-ab55-40dd-935e-09b6c37319b6",
   "metadata": {},
   "source": [
    "# Importing Packages"
   ]
  },
  {
   "cell_type": "code",
   "execution_count": 9,
   "id": "6cecb47a",
   "metadata": {},
   "outputs": [],
   "source": [
    "import numpy as np\n",
    "from tensorflow.keras.utils import img_to_array\n",
    "from keras.layers import Dense, Conv2D, MaxPooling2D, UpSampling2D, Dropout\n",
    "from keras.models import Sequential\n",
    "from keras.callbacks import LambdaCallback\n",
    "import os\n",
    "import cv2\n",
    "import matplotlib.pyplot as plt\n",
    "import tensorflow as tf\n",
    "import imageio\n",
    "import tensorflow_docs.vis.embed as embed\n",
    "from PIL import Image\n",
    "import glob\n",
    "import re\n",
    "import librosa\n",
    "from IPython.display import Audio\n",
    "import matplotlib.pyplot as plt\n",
    "import scipy.io.wavfile as wavefile\n",
    "from moviepy.editor import *"
   ]
  },
  {
   "cell_type": "markdown",
   "id": "5c53cf29",
   "metadata": {},
   "source": [
    "# Image Preprocessing"
   ]
  },
  {
   "cell_type": "code",
   "execution_count": 10,
   "id": "39dd4aaa",
   "metadata": {},
   "outputs": [],
   "source": [
    "img_size=1024 #Size of image in pixels\n",
    "img_data=[] #Array for image\n",
    "img=cv2.imread('mandelbrot.jpg', 1) #reading image\n",
    "rgb_img=cv2.cvtColor(img, cv2.COLOR_BGR2RGB) #converting to rgb\n",
    "rgb_img=cv2.resize(rgb_img, (1024,1024)) #resizing image\n",
    "img_data.append(img_to_array(rgb_img)) #converting image to array\n",
    "img_final=np.reshape(img_data, (len(img_data),1024, 1024, 3)) #reshaping image to correct type\n",
    "img_final=img_final.astype('float32')/255 #Normalizing image \n",
    "# print(img_final.dtype)\n",
    "# print(img_final.shape)"
   ]
  },
  {
   "cell_type": "markdown",
   "id": "e3e49098-c66f-41f2-b7c0-a83ebf73ad29",
   "metadata": {},
   "source": [
    "# Defining Model architechture"
   ]
  },
  {
   "cell_type": "code",
   "execution_count": 11,
   "id": "086f66ce",
   "metadata": {
    "scrolled": true
   },
   "outputs": [
    {
     "name": "stderr",
     "output_type": "stream",
     "text": [
      "WARNING:absl:`lr` is deprecated, please use `learning_rate` instead, or use the legacy optimizer, e.g.,tf.keras.optimizers.legacy.RMSprop.\n"
     ]
    },
    {
     "name": "stdout",
     "output_type": "stream",
     "text": [
      "Model: \"sequential_1\"\n",
      "_________________________________________________________________\n",
      " Layer (type)                Output Shape              Param #   \n",
      "=================================================================\n",
      " conv2d_5 (Conv2D)           (None, 1024, 1024, 128)   3584      \n",
      "                                                                 \n",
      " max_pooling2d_2 (MaxPooling  (None, 512, 512, 128)    0         \n",
      " 2D)                                                             \n",
      "                                                                 \n",
      " dropout_2 (Dropout)         (None, 512, 512, 128)     0         \n",
      "                                                                 \n",
      " conv2d_6 (Conv2D)           (None, 512, 512, 256)     295168    \n",
      "                                                                 \n",
      " max_pooling2d_3 (MaxPooling  (None, 256, 256, 256)    0         \n",
      " 2D)                                                             \n",
      "                                                                 \n",
      " dropout_3 (Dropout)         (None, 256, 256, 256)     0         \n",
      "                                                                 \n",
      " conv2d_7 (Conv2D)           (None, 256, 256, 256)     590080    \n",
      "                                                                 \n",
      " up_sampling2d_2 (UpSampling  (None, 512, 512, 256)    0         \n",
      " 2D)                                                             \n",
      "                                                                 \n",
      " conv2d_8 (Conv2D)           (None, 512, 512, 128)     295040    \n",
      "                                                                 \n",
      " up_sampling2d_3 (UpSampling  (None, 1024, 1024, 128)  0         \n",
      " 2D)                                                             \n",
      "                                                                 \n",
      " conv2d_9 (Conv2D)           (None, 1024, 1024, 3)     3459      \n",
      "                                                                 \n",
      "=================================================================\n",
      "Total params: 1,187,331\n",
      "Trainable params: 1,187,331\n",
      "Non-trainable params: 0\n",
      "_________________________________________________________________\n"
     ]
    }
   ],
   "source": [
    "model=Sequential()\n",
    "#Encoder\n",
    "model.add(Conv2D(128, (3,3), activation='relu', padding='same', input_shape=(1024,1024,3)))\n",
    "model.add(MaxPooling2D((2,2), padding='same'))\n",
    "model.add(Dropout(rate=0.3))\n",
    "\n",
    "model.add(Conv2D(256, (3,3),activation='relu',padding='same'))\n",
    "model.add(MaxPooling2D((2,2), padding='same'))\n",
    "model.add(Dropout(rate=0.3))\n",
    "\n",
    "\n",
    "\n",
    "\n",
    "#Decoder\n",
    "\n",
    "model.add(Conv2D(256, (3,3), activation='relu', padding='same'))\n",
    "model.add(UpSampling2D((2,2)))\n",
    "\n",
    "model.add(Conv2D(128, (3,3), activation='relu', padding='same'))\n",
    "model.add(UpSampling2D((2,2)))\n",
    "\n",
    "model.add(Conv2D(3, (3,3), activation='relu', padding='same'))\n",
    "\n",
    "#compiling model\n",
    "optimizer = tf.keras.optimizers.RMSprop(lr=0.00001) \n",
    "model.compile(optimizer=optimizer, loss='binary_crossentropy',metrics=['accuracy'])\n",
    "\n",
    "model.summary()\n",
    "\n",
    "\n",
    "\n",
    "\n"
   ]
  },
  {
   "cell_type": "markdown",
   "id": "ca465418-dfb3-4e46-8fb4-a191c2435fa8",
   "metadata": {},
   "source": [
    "# Callback Class"
   ]
  },
  {
   "cell_type": "code",
   "execution_count": 12,
   "id": "42e83143-b187-4c3c-959f-143d23abbc52",
   "metadata": {},
   "outputs": [],
   "source": [
    "\n",
    "class AutoencoderPredictCallback(tf.keras.callbacks.Callback):\n",
    "    def __init__(self, model, data, save_dir):\n",
    "        super(AutoencoderPredictCallback, self).__init__()\n",
    "        self.model = model\n",
    "        self.data = data\n",
    "        self.save_dir = save_dir\n",
    "\n",
    "    def on_epoch_end(self, epoch, logs=None):\n",
    "        # Make predictions using the Autoencoder model\n",
    "        reconstructed = self.model.predict(self.data)\n",
    "\n",
    "        # Plot the reconstructed images\n",
    "        fig = plt.figure(figsize=(15,15))\n",
    "        plt.imshow(reconstructed.reshape(1024, 1024,3))\n",
    "        plt.axis('off')\n",
    "\n",
    "        # Save the plot as a PNG file\n",
    "        if not os.path.exists(self.save_dir):\n",
    "            os.makedirs(self.save_dir)\n",
    "        plt.savefig(f\"{self.save_dir}/reconstructed_epoch_0{epoch}.png\")\n",
    "        plt.close(fig)\n"
   ]
  },
  {
   "cell_type": "markdown",
   "id": "1c6b12bd-47e2-4a6a-8ea0-b75d49b9a99f",
   "metadata": {},
   "source": [
    "# Fitting the Model"
   ]
  },
  {
   "cell_type": "code",
   "execution_count": 13,
   "id": "c52063e5",
   "metadata": {
    "tags": []
   },
   "outputs": [
    {
     "name": "stdout",
     "output_type": "stream",
     "text": [
      "Epoch 1/200\n",
      "1/1 [==============================] - 2s 2s/steploss: 5.1849 - accuracy: 0.33\n"
     ]
    },
    {
     "name": "stderr",
     "output_type": "stream",
     "text": [
      "WARNING:matplotlib.image:Clipping input data to the valid range for imshow with RGB data ([0..1] for floats or [0..255] for integers).\n"
     ]
    },
    {
     "name": "stdout",
     "output_type": "stream",
     "text": [
      "1/1 [==============================] - 13s 13s/step - loss: 5.1849 - accuracy: 0.3352\n",
      "Epoch 2/200\n",
      "1/1 [==============================] - 2s 2s/steploss: 7.4567 - accuracy: 0.35\n"
     ]
    },
    {
     "name": "stderr",
     "output_type": "stream",
     "text": [
      "WARNING:matplotlib.image:Clipping input data to the valid range for imshow with RGB data ([0..1] for floats or [0..255] for integers).\n"
     ]
    },
    {
     "name": "stdout",
     "output_type": "stream",
     "text": [
      "1/1 [==============================] - 11s 11s/step - loss: 7.4567 - accuracy: 0.3586\n",
      "Epoch 3/200\n",
      "1/1 [==============================] - 2s 2s/steploss: 7.4567 - accuracy: 0.35\n"
     ]
    },
    {
     "name": "stderr",
     "output_type": "stream",
     "text": [
      "WARNING:matplotlib.image:Clipping input data to the valid range for imshow with RGB data ([0..1] for floats or [0..255] for integers).\n"
     ]
    },
    {
     "name": "stdout",
     "output_type": "stream",
     "text": [
      "1/1 [==============================] - 12s 12s/step - loss: 7.4567 - accuracy: 0.3586\n",
      "Epoch 4/200\n",
      "1/1 [==============================] - 2s 2s/steploss: 7.4567 - accuracy: 0.35\n"
     ]
    },
    {
     "name": "stderr",
     "output_type": "stream",
     "text": [
      "WARNING:matplotlib.image:Clipping input data to the valid range for imshow with RGB data ([0..1] for floats or [0..255] for integers).\n"
     ]
    },
    {
     "name": "stdout",
     "output_type": "stream",
     "text": [
      "1/1 [==============================] - 13s 13s/step - loss: 7.4567 - accuracy: 0.3586\n",
      "Epoch 5/200\n"
     ]
    },
    {
     "ename": "KeyboardInterrupt",
     "evalue": "",
     "output_type": "error",
     "traceback": [
      "\u001b[1;31m---------------------------------------------------------------------------\u001b[0m",
      "\u001b[1;31mKeyboardInterrupt\u001b[0m                         Traceback (most recent call last)",
      "Input \u001b[1;32mIn [13]\u001b[0m, in \u001b[0;36m<cell line: 4>\u001b[1;34m()\u001b[0m\n\u001b[0;32m      2\u001b[0m save_dir \u001b[38;5;241m=\u001b[39m \u001b[38;5;124m\"\u001b[39m\u001b[38;5;124m./reconstructed_images/\u001b[39m\u001b[38;5;124m\"\u001b[39m\n\u001b[0;32m      3\u001b[0m predict_callback \u001b[38;5;241m=\u001b[39m AutoencoderPredictCallback(model, img_final, save_dir)\n\u001b[1;32m----> 4\u001b[0m model_train \u001b[38;5;241m=\u001b[39m \u001b[43mmodel\u001b[49m\u001b[38;5;241;43m.\u001b[39;49m\u001b[43mfit\u001b[49m\u001b[43m(\u001b[49m\u001b[43mimg_final\u001b[49m\u001b[43m,\u001b[49m\u001b[43m \u001b[49m\u001b[43mimg_final\u001b[49m\u001b[43m,\u001b[49m\u001b[43m \u001b[49m\n\u001b[0;32m      5\u001b[0m \u001b[43m                        \u001b[49m\u001b[43mepochs\u001b[49m\u001b[38;5;241;43m=\u001b[39;49m\u001b[43mepochs\u001b[49m\u001b[43m,\u001b[49m\u001b[43m \u001b[49m\n\u001b[0;32m      6\u001b[0m \u001b[43m                        \u001b[49m\u001b[43mcallbacks\u001b[49m\u001b[38;5;241;43m=\u001b[39;49m\u001b[43m[\u001b[49m\u001b[43mpredict_callback\u001b[49m\u001b[43m]\u001b[49m\n\u001b[0;32m      7\u001b[0m \u001b[43m                        \u001b[49m\u001b[43m)\u001b[49m\n",
      "File \u001b[1;32m~\\anaconda3\\lib\\site-packages\\keras\\utils\\traceback_utils.py:65\u001b[0m, in \u001b[0;36mfilter_traceback.<locals>.error_handler\u001b[1;34m(*args, **kwargs)\u001b[0m\n\u001b[0;32m     63\u001b[0m filtered_tb \u001b[38;5;241m=\u001b[39m \u001b[38;5;28;01mNone\u001b[39;00m\n\u001b[0;32m     64\u001b[0m \u001b[38;5;28;01mtry\u001b[39;00m:\n\u001b[1;32m---> 65\u001b[0m     \u001b[38;5;28;01mreturn\u001b[39;00m fn(\u001b[38;5;241m*\u001b[39margs, \u001b[38;5;241m*\u001b[39m\u001b[38;5;241m*\u001b[39mkwargs)\n\u001b[0;32m     66\u001b[0m \u001b[38;5;28;01mexcept\u001b[39;00m \u001b[38;5;167;01mException\u001b[39;00m \u001b[38;5;28;01mas\u001b[39;00m e:\n\u001b[0;32m     67\u001b[0m     filtered_tb \u001b[38;5;241m=\u001b[39m _process_traceback_frames(e\u001b[38;5;241m.\u001b[39m__traceback__)\n",
      "File \u001b[1;32m~\\anaconda3\\lib\\site-packages\\keras\\engine\\training.py:1650\u001b[0m, in \u001b[0;36mModel.fit\u001b[1;34m(self, x, y, batch_size, epochs, verbose, callbacks, validation_split, validation_data, shuffle, class_weight, sample_weight, initial_epoch, steps_per_epoch, validation_steps, validation_batch_size, validation_freq, max_queue_size, workers, use_multiprocessing)\u001b[0m\n\u001b[0;32m   1642\u001b[0m \u001b[38;5;28;01mwith\u001b[39;00m tf\u001b[38;5;241m.\u001b[39mprofiler\u001b[38;5;241m.\u001b[39mexperimental\u001b[38;5;241m.\u001b[39mTrace(\n\u001b[0;32m   1643\u001b[0m     \u001b[38;5;124m\"\u001b[39m\u001b[38;5;124mtrain\u001b[39m\u001b[38;5;124m\"\u001b[39m,\n\u001b[0;32m   1644\u001b[0m     epoch_num\u001b[38;5;241m=\u001b[39mepoch,\n\u001b[1;32m   (...)\u001b[0m\n\u001b[0;32m   1647\u001b[0m     _r\u001b[38;5;241m=\u001b[39m\u001b[38;5;241m1\u001b[39m,\n\u001b[0;32m   1648\u001b[0m ):\n\u001b[0;32m   1649\u001b[0m     callbacks\u001b[38;5;241m.\u001b[39mon_train_batch_begin(step)\n\u001b[1;32m-> 1650\u001b[0m     tmp_logs \u001b[38;5;241m=\u001b[39m \u001b[38;5;28;43mself\u001b[39;49m\u001b[38;5;241;43m.\u001b[39;49m\u001b[43mtrain_function\u001b[49m\u001b[43m(\u001b[49m\u001b[43miterator\u001b[49m\u001b[43m)\u001b[49m\n\u001b[0;32m   1651\u001b[0m     \u001b[38;5;28;01mif\u001b[39;00m data_handler\u001b[38;5;241m.\u001b[39mshould_sync:\n\u001b[0;32m   1652\u001b[0m         context\u001b[38;5;241m.\u001b[39masync_wait()\n",
      "File \u001b[1;32m~\\anaconda3\\lib\\site-packages\\tensorflow\\python\\util\\traceback_utils.py:150\u001b[0m, in \u001b[0;36mfilter_traceback.<locals>.error_handler\u001b[1;34m(*args, **kwargs)\u001b[0m\n\u001b[0;32m    148\u001b[0m filtered_tb \u001b[38;5;241m=\u001b[39m \u001b[38;5;28;01mNone\u001b[39;00m\n\u001b[0;32m    149\u001b[0m \u001b[38;5;28;01mtry\u001b[39;00m:\n\u001b[1;32m--> 150\u001b[0m   \u001b[38;5;28;01mreturn\u001b[39;00m fn(\u001b[38;5;241m*\u001b[39margs, \u001b[38;5;241m*\u001b[39m\u001b[38;5;241m*\u001b[39mkwargs)\n\u001b[0;32m    151\u001b[0m \u001b[38;5;28;01mexcept\u001b[39;00m \u001b[38;5;167;01mException\u001b[39;00m \u001b[38;5;28;01mas\u001b[39;00m e:\n\u001b[0;32m    152\u001b[0m   filtered_tb \u001b[38;5;241m=\u001b[39m _process_traceback_frames(e\u001b[38;5;241m.\u001b[39m__traceback__)\n",
      "File \u001b[1;32m~\\anaconda3\\lib\\site-packages\\tensorflow\\python\\eager\\polymorphic_function\\polymorphic_function.py:880\u001b[0m, in \u001b[0;36mFunction.__call__\u001b[1;34m(self, *args, **kwds)\u001b[0m\n\u001b[0;32m    877\u001b[0m compiler \u001b[38;5;241m=\u001b[39m \u001b[38;5;124m\"\u001b[39m\u001b[38;5;124mxla\u001b[39m\u001b[38;5;124m\"\u001b[39m \u001b[38;5;28;01mif\u001b[39;00m \u001b[38;5;28mself\u001b[39m\u001b[38;5;241m.\u001b[39m_jit_compile \u001b[38;5;28;01melse\u001b[39;00m \u001b[38;5;124m\"\u001b[39m\u001b[38;5;124mnonXla\u001b[39m\u001b[38;5;124m\"\u001b[39m\n\u001b[0;32m    879\u001b[0m \u001b[38;5;28;01mwith\u001b[39;00m OptionalXlaContext(\u001b[38;5;28mself\u001b[39m\u001b[38;5;241m.\u001b[39m_jit_compile):\n\u001b[1;32m--> 880\u001b[0m   result \u001b[38;5;241m=\u001b[39m \u001b[38;5;28mself\u001b[39m\u001b[38;5;241m.\u001b[39m_call(\u001b[38;5;241m*\u001b[39margs, \u001b[38;5;241m*\u001b[39m\u001b[38;5;241m*\u001b[39mkwds)\n\u001b[0;32m    882\u001b[0m new_tracing_count \u001b[38;5;241m=\u001b[39m \u001b[38;5;28mself\u001b[39m\u001b[38;5;241m.\u001b[39mexperimental_get_tracing_count()\n\u001b[0;32m    883\u001b[0m without_tracing \u001b[38;5;241m=\u001b[39m (tracing_count \u001b[38;5;241m==\u001b[39m new_tracing_count)\n",
      "File \u001b[1;32m~\\anaconda3\\lib\\site-packages\\tensorflow\\python\\eager\\polymorphic_function\\polymorphic_function.py:912\u001b[0m, in \u001b[0;36mFunction._call\u001b[1;34m(self, *args, **kwds)\u001b[0m\n\u001b[0;32m    909\u001b[0m   \u001b[38;5;28mself\u001b[39m\u001b[38;5;241m.\u001b[39m_lock\u001b[38;5;241m.\u001b[39mrelease()\n\u001b[0;32m    910\u001b[0m   \u001b[38;5;66;03m# In this case we have created variables on the first call, so we run the\u001b[39;00m\n\u001b[0;32m    911\u001b[0m   \u001b[38;5;66;03m# defunned version which is guaranteed to never create variables.\u001b[39;00m\n\u001b[1;32m--> 912\u001b[0m   \u001b[38;5;28;01mreturn\u001b[39;00m \u001b[38;5;28mself\u001b[39m\u001b[38;5;241m.\u001b[39m_no_variable_creation_fn(\u001b[38;5;241m*\u001b[39margs, \u001b[38;5;241m*\u001b[39m\u001b[38;5;241m*\u001b[39mkwds)  \u001b[38;5;66;03m# pylint: disable=not-callable\u001b[39;00m\n\u001b[0;32m    913\u001b[0m \u001b[38;5;28;01melif\u001b[39;00m \u001b[38;5;28mself\u001b[39m\u001b[38;5;241m.\u001b[39m_variable_creation_fn \u001b[38;5;129;01mis\u001b[39;00m \u001b[38;5;129;01mnot\u001b[39;00m \u001b[38;5;28;01mNone\u001b[39;00m:\n\u001b[0;32m    914\u001b[0m   \u001b[38;5;66;03m# Release the lock early so that multiple threads can perform the call\u001b[39;00m\n\u001b[0;32m    915\u001b[0m   \u001b[38;5;66;03m# in parallel.\u001b[39;00m\n\u001b[0;32m    916\u001b[0m   \u001b[38;5;28mself\u001b[39m\u001b[38;5;241m.\u001b[39m_lock\u001b[38;5;241m.\u001b[39mrelease()\n",
      "File \u001b[1;32m~\\anaconda3\\lib\\site-packages\\tensorflow\\python\\eager\\polymorphic_function\\tracing_compiler.py:134\u001b[0m, in \u001b[0;36mTracingCompiler.__call__\u001b[1;34m(self, *args, **kwargs)\u001b[0m\n\u001b[0;32m    131\u001b[0m \u001b[38;5;28;01mwith\u001b[39;00m \u001b[38;5;28mself\u001b[39m\u001b[38;5;241m.\u001b[39m_lock:\n\u001b[0;32m    132\u001b[0m   (concrete_function,\n\u001b[0;32m    133\u001b[0m    filtered_flat_args) \u001b[38;5;241m=\u001b[39m \u001b[38;5;28mself\u001b[39m\u001b[38;5;241m.\u001b[39m_maybe_define_function(args, kwargs)\n\u001b[1;32m--> 134\u001b[0m \u001b[38;5;28;01mreturn\u001b[39;00m \u001b[43mconcrete_function\u001b[49m\u001b[38;5;241;43m.\u001b[39;49m\u001b[43m_call_flat\u001b[49m\u001b[43m(\u001b[49m\n\u001b[0;32m    135\u001b[0m \u001b[43m    \u001b[49m\u001b[43mfiltered_flat_args\u001b[49m\u001b[43m,\u001b[49m\u001b[43m \u001b[49m\u001b[43mcaptured_inputs\u001b[49m\u001b[38;5;241;43m=\u001b[39;49m\u001b[43mconcrete_function\u001b[49m\u001b[38;5;241;43m.\u001b[39;49m\u001b[43mcaptured_inputs\u001b[49m\u001b[43m)\u001b[49m\n",
      "File \u001b[1;32m~\\anaconda3\\lib\\site-packages\\tensorflow\\python\\eager\\polymorphic_function\\monomorphic_function.py:1745\u001b[0m, in \u001b[0;36mConcreteFunction._call_flat\u001b[1;34m(self, args, captured_inputs, cancellation_manager)\u001b[0m\n\u001b[0;32m   1741\u001b[0m possible_gradient_type \u001b[38;5;241m=\u001b[39m gradients_util\u001b[38;5;241m.\u001b[39mPossibleTapeGradientTypes(args)\n\u001b[0;32m   1742\u001b[0m \u001b[38;5;28;01mif\u001b[39;00m (possible_gradient_type \u001b[38;5;241m==\u001b[39m gradients_util\u001b[38;5;241m.\u001b[39mPOSSIBLE_GRADIENT_TYPES_NONE\n\u001b[0;32m   1743\u001b[0m     \u001b[38;5;129;01mand\u001b[39;00m executing_eagerly):\n\u001b[0;32m   1744\u001b[0m   \u001b[38;5;66;03m# No tape is watching; skip to running the function.\u001b[39;00m\n\u001b[1;32m-> 1745\u001b[0m   \u001b[38;5;28;01mreturn\u001b[39;00m \u001b[38;5;28mself\u001b[39m\u001b[38;5;241m.\u001b[39m_build_call_outputs(\u001b[38;5;28;43mself\u001b[39;49m\u001b[38;5;241;43m.\u001b[39;49m\u001b[43m_inference_function\u001b[49m\u001b[38;5;241;43m.\u001b[39;49m\u001b[43mcall\u001b[49m\u001b[43m(\u001b[49m\n\u001b[0;32m   1746\u001b[0m \u001b[43m      \u001b[49m\u001b[43mctx\u001b[49m\u001b[43m,\u001b[49m\u001b[43m \u001b[49m\u001b[43margs\u001b[49m\u001b[43m,\u001b[49m\u001b[43m \u001b[49m\u001b[43mcancellation_manager\u001b[49m\u001b[38;5;241;43m=\u001b[39;49m\u001b[43mcancellation_manager\u001b[49m\u001b[43m)\u001b[49m)\n\u001b[0;32m   1747\u001b[0m forward_backward \u001b[38;5;241m=\u001b[39m \u001b[38;5;28mself\u001b[39m\u001b[38;5;241m.\u001b[39m_select_forward_and_backward_functions(\n\u001b[0;32m   1748\u001b[0m     args,\n\u001b[0;32m   1749\u001b[0m     possible_gradient_type,\n\u001b[0;32m   1750\u001b[0m     executing_eagerly)\n\u001b[0;32m   1751\u001b[0m forward_function, args_with_tangents \u001b[38;5;241m=\u001b[39m forward_backward\u001b[38;5;241m.\u001b[39mforward()\n",
      "File \u001b[1;32m~\\anaconda3\\lib\\site-packages\\tensorflow\\python\\eager\\polymorphic_function\\monomorphic_function.py:378\u001b[0m, in \u001b[0;36m_EagerDefinedFunction.call\u001b[1;34m(self, ctx, args, cancellation_manager)\u001b[0m\n\u001b[0;32m    376\u001b[0m \u001b[38;5;28;01mwith\u001b[39;00m _InterpolateFunctionError(\u001b[38;5;28mself\u001b[39m):\n\u001b[0;32m    377\u001b[0m   \u001b[38;5;28;01mif\u001b[39;00m cancellation_manager \u001b[38;5;129;01mis\u001b[39;00m \u001b[38;5;28;01mNone\u001b[39;00m:\n\u001b[1;32m--> 378\u001b[0m     outputs \u001b[38;5;241m=\u001b[39m \u001b[43mexecute\u001b[49m\u001b[38;5;241;43m.\u001b[39;49m\u001b[43mexecute\u001b[49m\u001b[43m(\u001b[49m\n\u001b[0;32m    379\u001b[0m \u001b[43m        \u001b[49m\u001b[38;5;28;43mstr\u001b[39;49m\u001b[43m(\u001b[49m\u001b[38;5;28;43mself\u001b[39;49m\u001b[38;5;241;43m.\u001b[39;49m\u001b[43msignature\u001b[49m\u001b[38;5;241;43m.\u001b[39;49m\u001b[43mname\u001b[49m\u001b[43m)\u001b[49m\u001b[43m,\u001b[49m\n\u001b[0;32m    380\u001b[0m \u001b[43m        \u001b[49m\u001b[43mnum_outputs\u001b[49m\u001b[38;5;241;43m=\u001b[39;49m\u001b[38;5;28;43mself\u001b[39;49m\u001b[38;5;241;43m.\u001b[39;49m\u001b[43m_num_outputs\u001b[49m\u001b[43m,\u001b[49m\n\u001b[0;32m    381\u001b[0m \u001b[43m        \u001b[49m\u001b[43minputs\u001b[49m\u001b[38;5;241;43m=\u001b[39;49m\u001b[43margs\u001b[49m\u001b[43m,\u001b[49m\n\u001b[0;32m    382\u001b[0m \u001b[43m        \u001b[49m\u001b[43mattrs\u001b[49m\u001b[38;5;241;43m=\u001b[39;49m\u001b[43mattrs\u001b[49m\u001b[43m,\u001b[49m\n\u001b[0;32m    383\u001b[0m \u001b[43m        \u001b[49m\u001b[43mctx\u001b[49m\u001b[38;5;241;43m=\u001b[39;49m\u001b[43mctx\u001b[49m\u001b[43m)\u001b[49m\n\u001b[0;32m    384\u001b[0m   \u001b[38;5;28;01melse\u001b[39;00m:\n\u001b[0;32m    385\u001b[0m     outputs \u001b[38;5;241m=\u001b[39m execute\u001b[38;5;241m.\u001b[39mexecute_with_cancellation(\n\u001b[0;32m    386\u001b[0m         \u001b[38;5;28mstr\u001b[39m(\u001b[38;5;28mself\u001b[39m\u001b[38;5;241m.\u001b[39msignature\u001b[38;5;241m.\u001b[39mname),\n\u001b[0;32m    387\u001b[0m         num_outputs\u001b[38;5;241m=\u001b[39m\u001b[38;5;28mself\u001b[39m\u001b[38;5;241m.\u001b[39m_num_outputs,\n\u001b[1;32m   (...)\u001b[0m\n\u001b[0;32m    390\u001b[0m         ctx\u001b[38;5;241m=\u001b[39mctx,\n\u001b[0;32m    391\u001b[0m         cancellation_manager\u001b[38;5;241m=\u001b[39mcancellation_manager)\n",
      "File \u001b[1;32m~\\anaconda3\\lib\\site-packages\\tensorflow\\python\\eager\\execute.py:52\u001b[0m, in \u001b[0;36mquick_execute\u001b[1;34m(op_name, num_outputs, inputs, attrs, ctx, name)\u001b[0m\n\u001b[0;32m     50\u001b[0m \u001b[38;5;28;01mtry\u001b[39;00m:\n\u001b[0;32m     51\u001b[0m   ctx\u001b[38;5;241m.\u001b[39mensure_initialized()\n\u001b[1;32m---> 52\u001b[0m   tensors \u001b[38;5;241m=\u001b[39m \u001b[43mpywrap_tfe\u001b[49m\u001b[38;5;241;43m.\u001b[39;49m\u001b[43mTFE_Py_Execute\u001b[49m\u001b[43m(\u001b[49m\u001b[43mctx\u001b[49m\u001b[38;5;241;43m.\u001b[39;49m\u001b[43m_handle\u001b[49m\u001b[43m,\u001b[49m\u001b[43m \u001b[49m\u001b[43mdevice_name\u001b[49m\u001b[43m,\u001b[49m\u001b[43m \u001b[49m\u001b[43mop_name\u001b[49m\u001b[43m,\u001b[49m\n\u001b[0;32m     53\u001b[0m \u001b[43m                                      \u001b[49m\u001b[43minputs\u001b[49m\u001b[43m,\u001b[49m\u001b[43m \u001b[49m\u001b[43mattrs\u001b[49m\u001b[43m,\u001b[49m\u001b[43m \u001b[49m\u001b[43mnum_outputs\u001b[49m\u001b[43m)\u001b[49m\n\u001b[0;32m     54\u001b[0m \u001b[38;5;28;01mexcept\u001b[39;00m core\u001b[38;5;241m.\u001b[39m_NotOkStatusException \u001b[38;5;28;01mas\u001b[39;00m e:\n\u001b[0;32m     55\u001b[0m   \u001b[38;5;28;01mif\u001b[39;00m name \u001b[38;5;129;01mis\u001b[39;00m \u001b[38;5;129;01mnot\u001b[39;00m \u001b[38;5;28;01mNone\u001b[39;00m:\n",
      "\u001b[1;31mKeyboardInterrupt\u001b[0m: "
     ]
    }
   ],
   "source": [
    "epochs=200\n",
    "save_dir = \"./reconstructed_images/\"\n",
    "predict_callback = AutoencoderPredictCallback(model, img_final, save_dir)\n",
    "model_train = model.fit(img_final, img_final, \n",
    "                        epochs=epochs, \n",
    "                        callbacks=[predict_callback]\n",
    "                        )"
   ]
  },
  {
   "cell_type": "markdown",
   "id": "10686c0a-e998-445e-b242-7af938f5bffb",
   "metadata": {},
   "source": [
    "# Croppping Images"
   ]
  },
  {
   "cell_type": "code",
   "execution_count": null,
   "id": "3d9d6d08",
   "metadata": {},
   "outputs": [],
   "source": [
    "for root, subfolder, filenames in os.walk(\"./reconstructed_images\"):\n",
    "    filenames.sort(key=lambda f: int(re.sub('\\D', '', f)))\n",
    "    print(filenames)\n",
    "    for i, file in enumerate(filenames):\n",
    "        img = Image.open(f\"./reconstructed_images/{file}\")\n",
    "        box = (200,180,1328,1328)\n",
    "        img2 = img.crop(box)\n",
    "        img2.save(f\"img_crop_{i}.png\")"
   ]
  },
  {
   "cell_type": "markdown",
   "id": "26bf3bfd-407c-42d2-aad0-704e6f0faeb4",
   "metadata": {},
   "source": [
    "# Creating a .gif file from cropped images"
   ]
  },
  {
   "cell_type": "code",
   "execution_count": 9,
   "id": "7f367959",
   "metadata": {},
   "outputs": [
    {
     "name": "stdout",
     "output_type": "stream",
     "text": [
      "['./Cropped Images\\\\img_crop_0.png', './Cropped Images\\\\img_crop_1.png', './Cropped Images\\\\img_crop_2.png', './Cropped Images\\\\img_crop_3.png', './Cropped Images\\\\img_crop_4.png', './Cropped Images\\\\img_crop_5.png', './Cropped Images\\\\img_crop_6.png', './Cropped Images\\\\img_crop_7.png', './Cropped Images\\\\img_crop_8.png', './Cropped Images\\\\img_crop_9.png', './Cropped Images\\\\img_crop_10.png', './Cropped Images\\\\img_crop_11.png', './Cropped Images\\\\img_crop_12.png', './Cropped Images\\\\img_crop_13.png', './Cropped Images\\\\img_crop_14.png', './Cropped Images\\\\img_crop_15.png', './Cropped Images\\\\img_crop_16.png', './Cropped Images\\\\img_crop_17.png', './Cropped Images\\\\img_crop_18.png', './Cropped Images\\\\img_crop_19.png', './Cropped Images\\\\img_crop_20.png', './Cropped Images\\\\img_crop_21.png', './Cropped Images\\\\img_crop_22.png', './Cropped Images\\\\img_crop_23.png', './Cropped Images\\\\img_crop_24.png', './Cropped Images\\\\img_crop_25.png', './Cropped Images\\\\img_crop_26.png', './Cropped Images\\\\img_crop_27.png', './Cropped Images\\\\img_crop_28.png', './Cropped Images\\\\img_crop_29.png', './Cropped Images\\\\img_crop_30.png', './Cropped Images\\\\img_crop_31.png', './Cropped Images\\\\img_crop_32.png', './Cropped Images\\\\img_crop_33.png', './Cropped Images\\\\img_crop_34.png', './Cropped Images\\\\img_crop_35.png', './Cropped Images\\\\img_crop_36.png', './Cropped Images\\\\img_crop_37.png', './Cropped Images\\\\img_crop_38.png', './Cropped Images\\\\img_crop_39.png', './Cropped Images\\\\img_crop_40.png', './Cropped Images\\\\img_crop_41.png', './Cropped Images\\\\img_crop_42.png', './Cropped Images\\\\img_crop_43.png', './Cropped Images\\\\img_crop_44.png', './Cropped Images\\\\img_crop_45.png', './Cropped Images\\\\img_crop_46.png', './Cropped Images\\\\img_crop_47.png', './Cropped Images\\\\img_crop_48.png', './Cropped Images\\\\img_crop_49.png', './Cropped Images\\\\img_crop_50.png', './Cropped Images\\\\img_crop_51.png', './Cropped Images\\\\img_crop_52.png', './Cropped Images\\\\img_crop_53.png', './Cropped Images\\\\img_crop_54.png', './Cropped Images\\\\img_crop_55.png', './Cropped Images\\\\img_crop_56.png', './Cropped Images\\\\img_crop_57.png', './Cropped Images\\\\img_crop_58.png', './Cropped Images\\\\img_crop_59.png', './Cropped Images\\\\img_crop_60.png', './Cropped Images\\\\img_crop_61.png', './Cropped Images\\\\img_crop_62.png', './Cropped Images\\\\img_crop_63.png', './Cropped Images\\\\img_crop_64.png', './Cropped Images\\\\img_crop_65.png', './Cropped Images\\\\img_crop_66.png', './Cropped Images\\\\img_crop_67.png', './Cropped Images\\\\img_crop_68.png', './Cropped Images\\\\img_crop_69.png', './Cropped Images\\\\img_crop_70.png', './Cropped Images\\\\img_crop_71.png', './Cropped Images\\\\img_crop_72.png', './Cropped Images\\\\img_crop_73.png', './Cropped Images\\\\img_crop_74.png', './Cropped Images\\\\img_crop_75.png', './Cropped Images\\\\img_crop_76.png', './Cropped Images\\\\img_crop_77.png', './Cropped Images\\\\img_crop_78.png', './Cropped Images\\\\img_crop_79.png', './Cropped Images\\\\img_crop_80.png', './Cropped Images\\\\img_crop_81.png', './Cropped Images\\\\img_crop_82.png', './Cropped Images\\\\img_crop_83.png', './Cropped Images\\\\img_crop_84.png', './Cropped Images\\\\img_crop_85.png', './Cropped Images\\\\img_crop_86.png', './Cropped Images\\\\img_crop_87.png', './Cropped Images\\\\img_crop_88.png', './Cropped Images\\\\img_crop_89.png', './Cropped Images\\\\img_crop_90.png', './Cropped Images\\\\img_crop_91.png', './Cropped Images\\\\img_crop_92.png', './Cropped Images\\\\img_crop_93.png', './Cropped Images\\\\img_crop_94.png', './Cropped Images\\\\img_crop_95.png', './Cropped Images\\\\img_crop_96.png', './Cropped Images\\\\img_crop_97.png', './Cropped Images\\\\img_crop_98.png', './Cropped Images\\\\img_crop_99.png', './Cropped Images\\\\img_crop_100.png', './Cropped Images\\\\img_crop_101.png', './Cropped Images\\\\img_crop_102.png', './Cropped Images\\\\img_crop_103.png', './Cropped Images\\\\img_crop_104.png', './Cropped Images\\\\img_crop_105.png', './Cropped Images\\\\img_crop_106.png', './Cropped Images\\\\img_crop_107.png', './Cropped Images\\\\img_crop_108.png', './Cropped Images\\\\img_crop_109.png', './Cropped Images\\\\img_crop_110.png', './Cropped Images\\\\img_crop_111.png', './Cropped Images\\\\img_crop_112.png', './Cropped Images\\\\img_crop_113.png', './Cropped Images\\\\img_crop_114.png', './Cropped Images\\\\img_crop_115.png', './Cropped Images\\\\img_crop_116.png', './Cropped Images\\\\img_crop_117.png', './Cropped Images\\\\img_crop_118.png', './Cropped Images\\\\img_crop_119.png', './Cropped Images\\\\img_crop_120.png', './Cropped Images\\\\img_crop_121.png', './Cropped Images\\\\img_crop_122.png', './Cropped Images\\\\img_crop_123.png', './Cropped Images\\\\img_crop_124.png', './Cropped Images\\\\img_crop_125.png', './Cropped Images\\\\img_crop_126.png', './Cropped Images\\\\img_crop_127.png', './Cropped Images\\\\img_crop_128.png', './Cropped Images\\\\img_crop_129.png', './Cropped Images\\\\img_crop_130.png', './Cropped Images\\\\img_crop_131.png', './Cropped Images\\\\img_crop_132.png', './Cropped Images\\\\img_crop_133.png', './Cropped Images\\\\img_crop_134.png', './Cropped Images\\\\img_crop_135.png', './Cropped Images\\\\img_crop_136.png', './Cropped Images\\\\img_crop_137.png', './Cropped Images\\\\img_crop_138.png', './Cropped Images\\\\img_crop_139.png', './Cropped Images\\\\img_crop_140.png', './Cropped Images\\\\img_crop_141.png', './Cropped Images\\\\img_crop_142.png', './Cropped Images\\\\img_crop_143.png', './Cropped Images\\\\img_crop_144.png', './Cropped Images\\\\img_crop_145.png', './Cropped Images\\\\img_crop_146.png', './Cropped Images\\\\img_crop_147.png', './Cropped Images\\\\img_crop_148.png', './Cropped Images\\\\img_crop_149.png', './Cropped Images\\\\img_crop_150.png', './Cropped Images\\\\img_crop_151.png', './Cropped Images\\\\img_crop_152.png', './Cropped Images\\\\img_crop_153.png', './Cropped Images\\\\img_crop_154.png', './Cropped Images\\\\img_crop_155.png', './Cropped Images\\\\img_crop_156.png', './Cropped Images\\\\img_crop_157.png', './Cropped Images\\\\img_crop_158.png', './Cropped Images\\\\img_crop_159.png', './Cropped Images\\\\img_crop_160.png', './Cropped Images\\\\img_crop_161.png', './Cropped Images\\\\img_crop_162.png', './Cropped Images\\\\img_crop_163.png', './Cropped Images\\\\img_crop_164.png', './Cropped Images\\\\img_crop_165.png', './Cropped Images\\\\img_crop_166.png', './Cropped Images\\\\img_crop_167.png', './Cropped Images\\\\img_crop_168.png', './Cropped Images\\\\img_crop_169.png', './Cropped Images\\\\img_crop_170.png', './Cropped Images\\\\img_crop_171.png', './Cropped Images\\\\img_crop_172.png', './Cropped Images\\\\img_crop_173.png', './Cropped Images\\\\img_crop_174.png', './Cropped Images\\\\img_crop_175.png', './Cropped Images\\\\img_crop_176.png', './Cropped Images\\\\img_crop_177.png', './Cropped Images\\\\img_crop_178.png', './Cropped Images\\\\img_crop_179.png', './Cropped Images\\\\img_crop_180.png', './Cropped Images\\\\img_crop_181.png', './Cropped Images\\\\img_crop_182.png', './Cropped Images\\\\img_crop_183.png', './Cropped Images\\\\img_crop_184.png', './Cropped Images\\\\img_crop_185.png', './Cropped Images\\\\img_crop_186.png', './Cropped Images\\\\img_crop_187.png', './Cropped Images\\\\img_crop_188.png', './Cropped Images\\\\img_crop_189.png', './Cropped Images\\\\img_crop_190.png', './Cropped Images\\\\img_crop_191.png', './Cropped Images\\\\img_crop_192.png', './Cropped Images\\\\img_crop_193.png', './Cropped Images\\\\img_crop_194.png', './Cropped Images\\\\img_crop_195.png', './Cropped Images\\\\img_crop_196.png', './Cropped Images\\\\img_crop_197.png', './Cropped Images\\\\img_crop_198.png', './Cropped Images\\\\img_crop_199.png']\n"
     ]
    }
   ],
   "source": [
    "\n",
    "# Set the path to the folder containing the images\n",
    "image_folder = './Cropped Images'\n",
    "\n",
    "# Set the name of the output GIF file\n",
    "output_file = 'animation.gif'\n",
    "\n",
    "# Get a list of all the image file names in the folder\n",
    "image_files = glob.glob(image_folder + '*.png')\n",
    "\n",
    "# Sort the file names alphabetically to ensure they are in the correct order\n",
    "image_files.sort(key=lambda f: int(re.sub('\\D', '', f)))\n",
    "\n",
    "# Open each image and add it to a list\n",
    "images = []\n",
    "for filename in image_files:\n",
    "    images.append(Image.open(filename))\n",
    "\n",
    "# Save the images as a GIF\n",
    "images[0].save(output_file, save_all=True, append_images=images[1:], duration=450, loop=0)\n"
   ]
  },
  {
   "cell_type": "markdown",
   "id": "c22ee207-04a1-40c8-88b6-5721503aecf1",
   "metadata": {},
   "source": [
    "# Function for Sonifying images"
   ]
  },
  {
   "cell_type": "code",
   "execution_count": null,
   "id": "2f900826",
   "metadata": {},
   "outputs": [],
   "source": [
    "# Load the spectrogram image using OpenCV\n",
    "n_fft = 512\n",
    "hop_length = 4\n",
    "sr=10000\n",
    "\n",
    "def reconstruct_audio(image):\n",
    "    spec_image = cv2.imread(image, cv2.IMREAD_GRAYSCALE)\n",
    "    \n",
    "    # Convert the spectrogram image to a numpy array\n",
    "    spec_array = np.array(spec_image)\n",
    "        \n",
    "    # Denormalise Spectrogram\n",
    "    spec_array = cv2.normalize(spec_array, None, alpha=0, beta=255, norm_type=cv2.NORM_MINMAX) #Produces cleaner audio although a lot of frequency content is lost\n",
    "\n",
    "    # Convert the spectrogram array to a magnitude spectrogram\n",
    "    spec = librosa.db_to_amplitude(spec_array) \n",
    "        \n",
    "    # Reconstruct the audio signal from the magnitude spectrogram\n",
    "    y_reconstructed = librosa.feature.inverse.mel_to_audio(spec, sr=sr, n_fft=n_fft, n_iter=1, fmax=sr, hop_length=hop_length)\n",
    "    \n",
    "    #return y_reconstructed\n",
    "    # Save the reconstructed audio signal as a WAV file\n",
    "    return Audio(y_reconstructed, rate=sr)"
   ]
  },
  {
   "cell_type": "markdown",
   "id": "8575a81c-6b52-4262-bffa-2234b36752b9",
   "metadata": {},
   "source": [
    "# Fuction for combining sonification"
   ]
  },
  {
   "cell_type": "code",
   "execution_count": null,
   "id": "868c160e",
   "metadata": {},
   "outputs": [],
   "source": [
    "# Set the path to the folder containing the images\n",
    "image_folder = './Cropped Images/'\n",
    "\n",
    "# Get a list of all the image file names in the folder\n",
    "image_files = glob.glob(image_folder + '*.png')\n",
    "# Sort the file names alphabetically to ensure they are in the correct order\n",
    "\n",
    "image_files.sort(key=lambda f: int(re.sub('\\D', '', f)))\n",
    "#image_files.sort(key=os.path.getmtime)\n",
    "def create_final_audio(folder):\n",
    "    \n",
    "        audio = np.array([])\n",
    "        for i, filename in enumerate(image_files):\n",
    "            spec_image = cv2.imread(filename, cv2.IMREAD_GRAYSCALE)\n",
    "        \n",
    "            spec_array = np.array(spec_image)\n",
    " \n",
    "            spec = librosa.db_to_amplitude(spec_array) \n",
    "      \n",
    "            y_reconstructed = librosa.feature.inverse.mel_to_audio(spec, sr=sr, n_fft=n_fft, n_iter=1, fmax=sr, hop_length=hop_length)\n",
    "            \n",
    "          \n",
    "            audio = np.append(audio, y_reconstructed)\n",
    "        return audio"
   ]
  },
  {
   "cell_type": "markdown",
   "id": "d7e40d0a-9063-4bc7-93a0-a7081225db66",
   "metadata": {},
   "source": [
    "# Sonifying the images"
   ]
  },
  {
   "cell_type": "code",
   "execution_count": null,
   "id": "5eb18a06",
   "metadata": {},
   "outputs": [],
   "source": [
    "final_array = create_final_audio(image_files)\n",
    "Audio(final_array, rate=sr)"
   ]
  },
  {
   "cell_type": "markdown",
   "id": "e90bb93a-014a-4453-93b0-b95805e70f21",
   "metadata": {},
   "source": [
    "# Combining video and audio"
   ]
  },
  {
   "cell_type": "code",
   "execution_count": 4,
   "id": "1d0fc78d",
   "metadata": {},
   "outputs": [
    {
     "name": "stdout",
     "output_type": "stream",
     "text": [
      "Collecting ffmpeg\n",
      "  Downloading ffmpeg-1.4.tar.gz (5.1 kB)\n",
      "Building wheels for collected packages: ffmpeg\n",
      "  Building wheel for ffmpeg (setup.py): started\n",
      "  Building wheel for ffmpeg (setup.py): finished with status 'done'\n",
      "  Created wheel for ffmpeg: filename=ffmpeg-1.4-py3-none-any.whl size=6084 sha256=e128b9302890e881d57c1ae3ed5b9f2e069233bb56573cb917e1ab840f69a58f\n",
      "  Stored in directory: c:\\users\\kongf\\appdata\\local\\pip\\cache\\wheels\\1d\\57\\24\\4eff6a03a9ea0e647568e8a5a0546cdf957e3cf005372c0245\n",
      "Successfully built ffmpeg\n",
      "Installing collected packages: ffmpeg\n",
      "Successfully installed ffmpeg-1.4\n",
      "Moviepy - Building video ./joined.mp4.\n",
      "MoviePy - Writing audio in joinedTEMP_MPY_wvf_snd.mp3\n"
     ]
    },
    {
     "name": "stderr",
     "output_type": "stream",
     "text": [
      "                                                                      \r"
     ]
    },
    {
     "name": "stdout",
     "output_type": "stream",
     "text": [
      "MoviePy - Done.\n",
      "Moviepy - Writing video ./joined.mp4\n",
      "\n"
     ]
    },
    {
     "name": "stderr",
     "output_type": "stream",
     "text": [
      "                                                              \r"
     ]
    },
    {
     "name": "stdout",
     "output_type": "stream",
     "text": [
      "Moviepy - Done !\n",
      "Moviepy - video ready ./joined.mp4\n"
     ]
    }
   ],
   "source": [
    "\n",
    "video = VideoFileClip('animation.gif')\n",
    "audio = AudioFileClip('final audio.wav')\n",
    "video_with_audio = video.set_audio(audio)\n",
    "video_with_audio.write_videofile('./sonification.mp4')"
   ]
  }
 ],
 "metadata": {
  "kernelspec": {
   "display_name": "Python 3 (ipykernel)",
   "language": "python",
   "name": "python3"
  },
  "language_info": {
   "codemirror_mode": {
    "name": "ipython",
    "version": 3
   },
   "file_extension": ".py",
   "mimetype": "text/x-python",
   "name": "python",
   "nbconvert_exporter": "python",
   "pygments_lexer": "ipython3",
   "version": "3.9.12"
  }
 },
 "nbformat": 4,
 "nbformat_minor": 5
}
