{
 "cells": [
  {
   "cell_type": "code",
   "execution_count": 3,
   "id": "21070db5",
   "metadata": {},
   "outputs": [],
   "source": [
    "# Importing packages\n",
    "import os\n",
    "import numpy as np\n",
    "import librosa\n",
    "from IPython.display import Audio, display, Image\n",
    "import matplotlib.pyplot as plt\n",
    "import cv2\n",
    "import soundfile as sf\n"
   ]
  },
  {
   "cell_type": "code",
   "execution_count": 5,
   "id": "5c5357eb-a80d-4358-af9e-e10bdc2331c2",
   "metadata": {},
   "outputs": [
    {
     "name": "stdout",
     "output_type": "stream",
     "text": [
      "128\n"
     ]
    }
   ],
   "source": [
    "n_fft = 512\n",
    "hop_length = 128\n",
    "n_mels = 128\n",
    "sr=10000\n",
    "print(hop_length)"
   ]
  },
  {
   "cell_type": "code",
   "execution_count": 4,
   "id": "3ff9d8ff-e310-4582-a44b-b8ceb42a24b0",
   "metadata": {},
   "outputs": [],
   "source": [
    "def split_wav(filename, segment_duration): #Segment duration is in seconds\n",
    "    y, sr = librosa.load(filename, sr=sr, mono=True)\n",
    "    samples_per_segment = int(sr * segment_duration)\n",
    "    for i in range(0, len(y), samples_per_segment):\n",
    "        segment = y[i: i + samples_per_segment]\n",
    "        sf.write(f\"segments{i//samples_per_segment + 1}.wav\", segment, samplerate=sr)\n",
    "        \n",
    "split_wav(\"./Slices/break_slice (1).wav\", 1)"
   ]
  },
  {
   "cell_type": "code",
   "execution_count": 6,
   "id": "809332e6",
   "metadata": {},
   "outputs": [],
   "source": [
    "# Path to directory containing audio files\n",
    "audio_dir = './Slices'\n",
    "# Directory where spectrograms should be saved\n",
    "output_dir = './Spec6'\n",
    "\n",
    "# Loop through all audio files in directory\n",
    "for filename in os.listdir(audio_dir):\n",
    "    if filename.endswith('.wav'):\n",
    "        # Load audio file\n",
    "        audio_file = os.path.join(audio_dir, filename)\n",
    "        y, sr = librosa.load(audio_file, sr=sr, mono=True, duration=5.33)\n",
    "        \n",
    "        # Compute the mel spectrogram\n",
    "        S = librosa.feature.melspectrogram(y=y, sr=sr, n_fft=n_fft,\n",
    "                                           hop_length=hop_length) #REMOVED NUMBER OF MELS\n",
    "        # Convert to decibels\n",
    "        S_dB = librosa.power_to_db(S, ref=np.max) \n",
    "        output_file = os.path.join(output_dir, os.path.splitext(filename)[0])\n",
    "\n",
    "        # Plot the spectrogram and save as PNG\n",
    "        \n",
    "        px = 1/plt.rcParams['figure.dpi']  # pixel in inches\n",
    "        plt.figure(figsize=(1000*px, 1000*px)) # Specifying the shape of spectrogram in pixels\n",
    "        librosa.display.specshow(S_dB, sr=sr, hop_length=hop_length,\n",
    "                                 x_axis='time', y_axis='mel', cmap='gray', n_fft=n_fft)\n",
    "        plt.axis('off')\n",
    "        output_file = os.path.join(output_dir, os.path.splitext(filename)[0] + '_spectrogram.png')\n",
    "        plt.savefig(output_file, bbox_inches=\"tight\", pad_inches=0)\n",
    "        plt.close()\n"
   ]
  },
  {
   "cell_type": "code",
   "execution_count": 6,
   "id": "19ec98c3",
   "metadata": {},
   "outputs": [
    {
     "data": {
      "text/plain": [
       "(2272, 512, 512, 1)"
      ]
     },
     "execution_count": 6,
     "metadata": {},
     "output_type": "execute_result"
    }
   ],
   "source": [
    "# Load your image dataset\n",
    "images = [] # Empty array for images\n",
    "for filename in os.listdir('./Spec6'):\n",
    "    img = cv2.imread(os.path.join('./Spec6', filename))\n",
    "    img = cv2.cvtColor(img, cv2.COLOR_BGR2GRAY)\n",
    "    img = cv2.resize(img, (512, 512))\n",
    "    images.append(img)    \n",
    "images = np.array(images).reshape(-1, 512, 512, 1) #Reshaping the image array so that it includes color data\n",
    "\n",
    "# Normalize the pixel values\n",
    "images = images.astype('float32') / 255\n",
    "\n",
    "# Save the dataset\n",
    "np.save('amen_512x512_10000k.npy', images)\n"
   ]
  }
 ],
 "metadata": {
  "kernelspec": {
   "display_name": "Python 3 (ipykernel)",
   "language": "python",
   "name": "python3"
  },
  "language_info": {
   "codemirror_mode": {
    "name": "ipython",
    "version": 3
   },
   "file_extension": ".py",
   "mimetype": "text/x-python",
   "name": "python",
   "nbconvert_exporter": "python",
   "pygments_lexer": "ipython3",
   "version": "3.9.12"
  }
 },
 "nbformat": 4,
 "nbformat_minor": 5
}
