{
 "cells": [
  {
   "cell_type": "code",
   "execution_count": 86,
   "id": "6cecb47a",
   "metadata": {},
   "outputs": [],
   "source": [
    "import numpy as np\n",
    "from tensorflow.keras.utils import img_to_array\n",
    "from keras.layers import Dense, Conv2D, MaxPooling2D, UpSampling2D\n",
    "from keras.models import Sequential\n",
    "import cv2\n",
    "import matplotlib.pyplot as plt\n",
    "import tensorflow as tf\n",
    "import imageio\n",
    "import tensorflow_docs.vis.embed as embed\n",
    "\n"
   ]
  },
  {
   "attachments": {},
   "cell_type": "markdown",
   "id": "5c53cf29",
   "metadata": {},
   "source": [
    "# Disregard this\n",
    "Only used to set up GPU for ML training\n"
   ]
  },
  {
   "cell_type": "code",
   "execution_count": 2,
   "id": "ed8b84d8",
   "metadata": {},
   "outputs": [
    {
     "name": "stdout",
     "output_type": "stream",
     "text": [
      "[PhysicalDevice(name='/physical_device:GPU:0', device_type='GPU')]\n"
     ]
    }
   ],
   "source": [
    "gpus = tf.config.experimental.list_physical_devices('GPU')\n",
    "print(gpus) #Piss\n",
    "for gpu in gpus: \n",
    "    tf.config.experimental.set_memory_growth(gpu, True)"
   ]
  },
  {
   "cell_type": "code",
   "execution_count": 13,
   "id": "39dd4aaa",
   "metadata": {},
   "outputs": [
    {
     "name": "stdout",
     "output_type": "stream",
     "text": [
      "float32\n",
      "(1, 256, 256, 3)\n"
     ]
    }
   ],
   "source": [
    "img_size=256 #Size of image in pixels\n",
    "img_data=[] #Array for image\n",
    "img=cv2.imread('borzoi.png', 1) #reading image\n",
    "rgb_img=cv2.cvtColor(img, cv2.COLOR_BGR2RGB) #converting to rgb\n",
    "rgb_img=cv2.resize(rgb_img, (256,256)) #resizing image\n",
    "img_data.append(img_to_array(rgb_img)) #converting image to array\n",
    "img_final=np.reshape(img_data, (len(img_data),256, 256, 3)) #reshaping image to correct type\n",
    "img_final=img_final.astype('float32')/255 #Normalizing image \n",
    "print(img_final.dtype)\n",
    "print(img_final.shape)"
   ]
  },
  {
   "cell_type": "code",
   "execution_count": 98,
   "id": "086f66ce",
   "metadata": {
    "scrolled": true
   },
   "outputs": [
    {
     "name": "stdout",
     "output_type": "stream",
     "text": [
      "Model: \"sequential_7\"\n",
      "_________________________________________________________________\n",
      " Layer (type)                Output Shape              Param #   \n",
      "=================================================================\n",
      " conv2d_69 (Conv2D)          (None, 256, 256, 256)     7168      \n",
      "                                                                 \n",
      " max_pooling2d_31 (MaxPoolin  (None, 128, 128, 256)    0         \n",
      " g2D)                                                            \n",
      "                                                                 \n",
      " conv2d_70 (Conv2D)          (None, 128, 128, 128)     295040    \n",
      "                                                                 \n",
      " max_pooling2d_32 (MaxPoolin  (None, 64, 64, 128)      0         \n",
      " g2D)                                                            \n",
      "                                                                 \n",
      " conv2d_71 (Conv2D)          (None, 64, 64, 64)        73792     \n",
      "                                                                 \n",
      " max_pooling2d_33 (MaxPoolin  (None, 32, 32, 64)       0         \n",
      " g2D)                                                            \n",
      "                                                                 \n",
      " conv2d_72 (Conv2D)          (None, 32, 32, 32)        18464     \n",
      "                                                                 \n",
      " max_pooling2d_34 (MaxPoolin  (None, 16, 16, 32)       0         \n",
      " g2D)                                                            \n",
      "                                                                 \n",
      " conv2d_73 (Conv2D)          (None, 16, 16, 16)        4624      \n",
      "                                                                 \n",
      " max_pooling2d_35 (MaxPoolin  (None, 8, 8, 16)         0         \n",
      " g2D)                                                            \n",
      "                                                                 \n",
      " conv2d_74 (Conv2D)          (None, 8, 8, 16)          2320      \n",
      "                                                                 \n",
      " up_sampling2d_31 (UpSamplin  (None, 16, 16, 16)       0         \n",
      " g2D)                                                            \n",
      "                                                                 \n",
      " conv2d_75 (Conv2D)          (None, 16, 16, 32)        4640      \n",
      "                                                                 \n",
      " up_sampling2d_32 (UpSamplin  (None, 32, 32, 32)       0         \n",
      " g2D)                                                            \n",
      "                                                                 \n",
      " conv2d_76 (Conv2D)          (None, 32, 32, 64)        18496     \n",
      "                                                                 \n",
      " up_sampling2d_33 (UpSamplin  (None, 64, 64, 64)       0         \n",
      " g2D)                                                            \n",
      "                                                                 \n",
      " conv2d_77 (Conv2D)          (None, 64, 64, 128)       73856     \n",
      "                                                                 \n",
      " up_sampling2d_34 (UpSamplin  (None, 128, 128, 128)    0         \n",
      " g2D)                                                            \n",
      "                                                                 \n",
      " conv2d_78 (Conv2D)          (None, 128, 128, 256)     295168    \n",
      "                                                                 \n",
      " up_sampling2d_35 (UpSamplin  (None, 256, 256, 256)    0         \n",
      " g2D)                                                            \n",
      "                                                                 \n",
      " conv2d_79 (Conv2D)          (None, 256, 256, 3)       6915      \n",
      "                                                                 \n",
      "=================================================================\n",
      "Total params: 800,483\n",
      "Trainable params: 800,483\n",
      "Non-trainable params: 0\n",
      "_________________________________________________________________\n"
     ]
    }
   ],
   "source": [
    "model=Sequential()\n",
    "#Encoder\n",
    "model.add(Conv2D(256, (3,3), activation='relu', padding='same', input_shape=(256,256,3)))\n",
    "model.add(MaxPooling2D((2,2), padding='same'))\n",
    "\n",
    "model.add(Conv2D(128, (3,3),activation='relu',padding='same'))\n",
    "model.add(MaxPooling2D((2,2), padding='same'))\n",
    "\n",
    "model.add(Conv2D(64, (3,3),activation='relu',padding='same'))\n",
    "model.add(MaxPooling2D((2,2), padding='same'))\n",
    "\n",
    "model.add(Conv2D(32, (3,3),activation='relu',padding='same'))\n",
    "model.add(MaxPooling2D((2,2), padding='same'))\n",
    "\n",
    "model.add(Conv2D(16, (3,3),activation='relu',padding='same'))\n",
    "model.add(MaxPooling2D((2,2), padding='same'))\n",
    "\n",
    "\n",
    "#Decoder\n",
    "model.add(Conv2D(16, (3,3), activation='relu', padding='same'))\n",
    "model.add(UpSampling2D((2,2)))\n",
    "\n",
    "model.add(Conv2D(32, (3,3), activation='relu', padding='same'))\n",
    "model.add(UpSampling2D((2,2)))\n",
    "\n",
    "model.add(Conv2D(64, (3,3), activation='relu', padding='same'))\n",
    "model.add(UpSampling2D((2,2)))\n",
    "\n",
    "model.add(Conv2D(128, (3,3), activation='relu', padding='same'))\n",
    "model.add(UpSampling2D((2,2)))\n",
    "\n",
    "model.add(Conv2D(256, (3,3), activation='relu', padding='same'))\n",
    "model.add(UpSampling2D((2,2)))\n",
    "\n",
    "model.add(Conv2D(3, (3,3), activation='relu', padding='same'))\n",
    "\n",
    "#compiling model\n",
    "optimizer = tf.keras.optimizers.Adam(lr=0.0001) #Fuck around with the learning rate\n",
    "model.compile(optimizer=optimizer,loss='mean_squared_error',metrics=['accuracy'])\n",
    "\n",
    "model.summary()\n",
    "\n",
    "\n",
    "\n",
    "\n"
   ]
  },
  {
   "cell_type": "code",
   "execution_count": 99,
   "id": "42e83143-b187-4c3c-959f-143d23abbc52",
   "metadata": {},
   "outputs": [],
   "source": [
    "from keras.callbacks import LambdaCallback\n",
    "\n",
    "class AutoencoderPredictCallback(Callback):\n",
    "    def __init__(self, model, data, save_dir):\n",
    "        super(AutoencoderPredictCallback, self).__init__()\n",
    "        self.model = model\n",
    "        self.data = data\n",
    "        self.save_dir = save_dir\n",
    "\n",
    "    def on_epoch_end(self, epoch, logs=None):\n",
    "        # Make predictions using the Autoencoder model\n",
    "        reconstructed = self.model.predict(self.data)\n",
    "\n",
    "        # Plot the reconstructed images\n",
    "        n = min(self.data.shape[0], 8)\n",
    "        fig = plt.figure(figsize=(n*1.5, 1.5))\n",
    "        for i in range(n):\n",
    "            # Plot the reconstructed image\n",
    "            plt.subplot(1, n, i+1)\n",
    "            plt.imshow(reconstructed[i].reshape(256, 256,3))\n",
    "            plt.axis('off')\n",
    "        plt.tight_layout()\n",
    "\n",
    "        # Save the plot as a PNG file\n",
    "        if not os.path.exists(self.save_dir):\n",
    "            os.makedirs(self.save_dir)\n",
    "        plt.savefig(f\"{self.save_dir}/reconstructed_epoch_{epoch}.png\")\n",
    "        plt.close(fig)\n"
   ]
  },
  {
   "cell_type": "code",
   "execution_count": 100,
   "id": "c52063e5",
   "metadata": {
    "collapsed": true,
    "jupyter": {
     "outputs_hidden": true
    },
    "tags": []
   },
   "outputs": [
    {
     "name": "stdout",
     "output_type": "stream",
     "text": [
      "Epoch 1/1000\n",
      "1/1 [==============================] - 0s 89ms/stepss: 0.1247 - accuracy: 0.01\n",
      "1/1 [==============================] - 1s 661ms/step - loss: 0.1247 - accuracy: 0.0160\n",
      "Epoch 2/1000\n",
      "1/1 [==============================] - 0s 15ms/stepss: 0.1219 - accuracy: 0.01\n",
      "1/1 [==============================] - 0s 93ms/step - loss: 0.1219 - accuracy: 0.0128\n",
      "Epoch 3/1000\n",
      "1/1 [==============================] - 0s 15ms/stepss: 0.1173 - accuracy: 0.01\n",
      "1/1 [==============================] - 0s 90ms/step - loss: 0.1173 - accuracy: 0.0143\n",
      "Epoch 4/1000\n",
      "1/1 [==============================] - 0s 14ms/stepss: 0.1106 - accuracy: 0.01\n",
      "1/1 [==============================] - 0s 92ms/step - loss: 0.1106 - accuracy: 0.0176\n",
      "Epoch 5/1000\n",
      "1/1 [==============================] - 0s 14ms/stepss: 0.1016 - accuracy: 0.02\n",
      "1/1 [==============================] - 0s 92ms/step - loss: 0.1016 - accuracy: 0.0204\n",
      "Epoch 6/1000\n",
      "1/1 [==============================] - 0s 15ms/stepss: 0.0904 - accuracy: 0.02\n",
      "1/1 [==============================] - 0s 99ms/step - loss: 0.0904 - accuracy: 0.0259\n",
      "Epoch 7/1000\n",
      "1/1 [==============================] - 0s 14ms/stepss: 0.0775 - accuracy: 0.03\n",
      "1/1 [==============================] - 0s 98ms/step - loss: 0.0775 - accuracy: 0.0330\n",
      "Epoch 8/1000\n",
      "1/1 [==============================] - 0s 14ms/stepss: 0.0635 - accuracy: 0.04\n",
      "1/1 [==============================] - 0s 96ms/step - loss: 0.0635 - accuracy: 0.0446\n",
      "Epoch 9/1000\n",
      "1/1 [==============================] - 0s 14ms/stepss: 0.0511 - accuracy: 0.08\n",
      "1/1 [==============================] - 0s 95ms/step - loss: 0.0511 - accuracy: 0.0826\n",
      "Epoch 10/1000\n",
      "1/1 [==============================] - 0s 14ms/stepss: 0.0454 - accuracy: 0.23\n",
      "1/1 [==============================] - 0s 93ms/step - loss: 0.0454 - accuracy: 0.2399\n",
      "Epoch 11/1000\n",
      "1/1 [==============================] - 0s 15ms/stepss: 0.0520 - accuracy: 0.90\n",
      "1/1 [==============================] - 0s 96ms/step - loss: 0.0520 - accuracy: 0.9065\n",
      "Epoch 12/1000\n",
      "1/1 [==============================] - 0s 15ms/stepss: 0.0591 - accuracy: 0.97\n",
      "1/1 [==============================] - 0s 97ms/step - loss: 0.0591 - accuracy: 0.9750\n",
      "Epoch 13/1000\n",
      "1/1 [==============================] - 0s 15ms/stepss: 0.0564 - accuracy: 0.97\n",
      "1/1 [==============================] - 0s 93ms/step - loss: 0.0564 - accuracy: 0.9795\n",
      "Epoch 14/1000\n",
      "1/1 [==============================] - 0s 14ms/stepss: 0.0498 - accuracy: 0.97\n",
      "1/1 [==============================] - 0s 98ms/step - loss: 0.0498 - accuracy: 0.9798\n",
      "Epoch 15/1000\n",
      "1/1 [==============================] - 0s 16ms/stepss: 0.0448 - accuracy: 0.97\n",
      "1/1 [==============================] - 0s 107ms/step - loss: 0.0448 - accuracy: 0.9799\n",
      "Epoch 16/1000\n",
      "1/1 [==============================] - 0s 15ms/stepss: 0.0432 - accuracy: 0.98\n",
      "1/1 [==============================] - 0s 101ms/step - loss: 0.0432 - accuracy: 0.9800\n",
      "Epoch 17/1000\n",
      "1/1 [==============================] - 0s 16ms/stepss: 0.0439 - accuracy: 0.98\n",
      "1/1 [==============================] - 0s 97ms/step - loss: 0.0439 - accuracy: 0.9801\n",
      "Epoch 18/1000\n",
      "1/1 [==============================] - 0s 14ms/stepss: 0.0454 - accuracy: 0.98\n",
      "1/1 [==============================] - 0s 94ms/step - loss: 0.0454 - accuracy: 0.9802\n",
      "Epoch 19/1000\n",
      "1/1 [==============================] - 0s 14ms/stepss: 0.0467 - accuracy: 0.98\n",
      "1/1 [==============================] - 0s 99ms/step - loss: 0.0467 - accuracy: 0.9803\n",
      "Epoch 20/1000\n",
      "1/1 [==============================] - 0s 16ms/stepss: 0.0471 - accuracy: 0.98\n",
      "1/1 [==============================] - 0s 103ms/step - loss: 0.0471 - accuracy: 0.9803\n",
      "Epoch 21/1000\n",
      "1/1 [==============================] - 0s 16ms/stepss: 0.0467 - accuracy: 0.98\n",
      "1/1 [==============================] - 0s 98ms/step - loss: 0.0467 - accuracy: 0.9804\n",
      "Epoch 22/1000\n",
      "1/1 [==============================] - 0s 14ms/stepss: 0.0454 - accuracy: 0.98\n",
      "1/1 [==============================] - 0s 90ms/step - loss: 0.0454 - accuracy: 0.9804\n",
      "Epoch 23/1000\n",
      "1/1 [==============================] - 0s 13ms/stepss: 0.0437 - accuracy: 0.98\n",
      "1/1 [==============================] - 0s 90ms/step - loss: 0.0437 - accuracy: 0.9804\n",
      "Epoch 24/1000\n",
      "1/1 [==============================] - 0s 14ms/stepss: 0.0419 - accuracy: 0.98\n",
      "1/1 [==============================] - 0s 95ms/step - loss: 0.0419 - accuracy: 0.9804\n",
      "Epoch 25/1000\n",
      "1/1 [==============================] - 0s 16ms/stepss: 0.0406 - accuracy: 0.98\n",
      "1/1 [==============================] - 0s 100ms/step - loss: 0.0406 - accuracy: 0.9803\n",
      "Epoch 26/1000\n",
      "1/1 [==============================] - 0s 16ms/stepss: 0.0402 - accuracy: 0.98\n",
      "1/1 [==============================] - 0s 101ms/step - loss: 0.0402 - accuracy: 0.9803\n",
      "Epoch 27/1000\n",
      "1/1 [==============================] - 0s 14ms/stepss: 0.0409 - accuracy: 0.98\n",
      "1/1 [==============================] - 0s 92ms/step - loss: 0.0409 - accuracy: 0.9802\n",
      "Epoch 28/1000\n",
      "1/1 [==============================] - 0s 14ms/stepss: 0.0416 - accuracy: 0.98\n",
      "1/1 [==============================] - 0s 94ms/step - loss: 0.0416 - accuracy: 0.9801\n",
      "Epoch 29/1000\n",
      "1/1 [==============================] - 0s 16ms/stepss: 0.0415 - accuracy: 0.98\n",
      "1/1 [==============================] - 0s 102ms/step - loss: 0.0415 - accuracy: 0.9800\n",
      "Epoch 30/1000\n",
      "1/1 [==============================] - 0s 16ms/stepss: 0.0405 - accuracy: 0.98\n",
      "1/1 [==============================] - 0s 101ms/step - loss: 0.0405 - accuracy: 0.9800\n",
      "Epoch 31/1000\n",
      "1/1 [==============================] - 0s 15ms/stepss: 0.0393 - accuracy: 0.98\n",
      "1/1 [==============================] - 0s 96ms/step - loss: 0.0393 - accuracy: 0.9800\n",
      "Epoch 32/1000\n",
      "1/1 [==============================] - 0s 15ms/stepss: 0.0385 - accuracy: 0.98\n",
      "1/1 [==============================] - 0s 95ms/step - loss: 0.0385 - accuracy: 0.9800\n",
      "Epoch 33/1000\n",
      "1/1 [==============================] - 0s 14ms/stepss: 0.0383 - accuracy: 0.98\n",
      "1/1 [==============================] - 0s 92ms/step - loss: 0.0383 - accuracy: 0.9800\n",
      "Epoch 34/1000\n",
      "1/1 [==============================] - 0s 14ms/stepss: 0.0383 - accuracy: 0.98\n",
      "1/1 [==============================] - 0s 93ms/step - loss: 0.0383 - accuracy: 0.9800\n",
      "Epoch 35/1000\n",
      "1/1 [==============================] - 0s 19ms/stepss: 0.0384 - accuracy: 0.98\n",
      "1/1 [==============================] - 0s 115ms/step - loss: 0.0384 - accuracy: 0.9800\n",
      "Epoch 36/1000\n",
      "1/1 [==============================] - 0s 16ms/stepss: 0.0382 - accuracy: 0.98\n",
      "1/1 [==============================] - 0s 98ms/step - loss: 0.0382 - accuracy: 0.9800\n",
      "Epoch 37/1000\n",
      "1/1 [==============================] - 0s 15ms/stepss: 0.0377 - accuracy: 0.98\n",
      "1/1 [==============================] - 0s 96ms/step - loss: 0.0377 - accuracy: 0.9801\n",
      "Epoch 38/1000\n",
      "1/1 [==============================] - 0s 15ms/stepss: 0.0371 - accuracy: 0.98\n",
      "1/1 [==============================] - 0s 93ms/step - loss: 0.0371 - accuracy: 0.9801\n",
      "Epoch 39/1000\n",
      "1/1 [==============================] - 0s 15ms/stepss: 0.0365 - accuracy: 0.98\n",
      "1/1 [==============================] - 0s 95ms/step - loss: 0.0365 - accuracy: 0.9802\n",
      "Epoch 40/1000\n",
      "1/1 [==============================] - 0s 14ms/stepss: 0.0362 - accuracy: 0.98\n",
      "1/1 [==============================] - 0s 95ms/step - loss: 0.0362 - accuracy: 0.9803\n",
      "Epoch 41/1000\n",
      "1/1 [==============================] - 0s 15ms/stepss: 0.0361 - accuracy: 0.98\n",
      "1/1 [==============================] - 0s 97ms/step - loss: 0.0361 - accuracy: 0.9803\n",
      "Epoch 42/1000\n",
      "1/1 [==============================] - 0s 13ms/stepss: 0.0361 - accuracy: 0.98\n",
      "1/1 [==============================] - 0s 90ms/step - loss: 0.0361 - accuracy: 0.9803\n",
      "Epoch 43/1000\n",
      "1/1 [==============================] - 0s 14ms/stepss: 0.0358 - accuracy: 0.98\n",
      "1/1 [==============================] - 0s 91ms/step - loss: 0.0358 - accuracy: 0.9804\n",
      "Epoch 44/1000\n",
      "1/1 [==============================] - 0s 13ms/stepss: 0.0353 - accuracy: 0.98\n",
      "1/1 [==============================] - 0s 92ms/step - loss: 0.0353 - accuracy: 0.9804\n",
      "Epoch 45/1000\n",
      "1/1 [==============================] - 0s 14ms/stepss: 0.0349 - accuracy: 0.98\n",
      "1/1 [==============================] - 0s 88ms/step - loss: 0.0349 - accuracy: 0.9803\n",
      "Epoch 46/1000\n",
      "1/1 [==============================] - 0s 15ms/stepss: 0.0346 - accuracy: 0.98\n",
      "1/1 [==============================] - 0s 97ms/step - loss: 0.0346 - accuracy: 0.9803\n",
      "Epoch 47/1000\n",
      "1/1 [==============================] - 0s 16ms/stepss: 0.0345 - accuracy: 0.98\n",
      "1/1 [==============================] - 0s 102ms/step - loss: 0.0345 - accuracy: 0.9803\n",
      "Epoch 48/1000\n",
      "1/1 [==============================] - 0s 14ms/stepss: 0.0343 - accuracy: 0.98\n",
      "1/1 [==============================] - 0s 91ms/step - loss: 0.0343 - accuracy: 0.9803\n",
      "Epoch 49/1000\n",
      "1/1 [==============================] - 0s 15ms/stepss: 0.0340 - accuracy: 0.98\n",
      "1/1 [==============================] - 0s 94ms/step - loss: 0.0340 - accuracy: 0.9802\n",
      "Epoch 50/1000\n",
      "1/1 [==============================] - 0s 15ms/stepss: 0.0336 - accuracy: 0.98\n",
      "1/1 [==============================] - 0s 95ms/step - loss: 0.0336 - accuracy: 0.9802\n",
      "Epoch 51/1000\n",
      "1/1 [==============================] - 0s 14ms/stepss: 0.0332 - accuracy: 0.98\n",
      "1/1 [==============================] - 0s 92ms/step - loss: 0.0332 - accuracy: 0.9802\n",
      "Epoch 52/1000\n",
      "1/1 [==============================] - 0s 16ms/stepss: 0.0330 - accuracy: 0.98\n",
      "1/1 [==============================] - 0s 99ms/step - loss: 0.0330 - accuracy: 0.9802\n",
      "Epoch 53/1000\n",
      "1/1 [==============================] - 0s 14ms/stepss: 0.0328 - accuracy: 0.98\n",
      "1/1 [==============================] - 0s 95ms/step - loss: 0.0328 - accuracy: 0.9802\n",
      "Epoch 54/1000\n",
      "1/1 [==============================] - 0s 14ms/stepss: 0.0325 - accuracy: 0.98\n",
      "1/1 [==============================] - 0s 96ms/step - loss: 0.0325 - accuracy: 0.9802\n",
      "Epoch 55/1000\n",
      "1/1 [==============================] - 0s 14ms/stepss: 0.0321 - accuracy: 0.98\n",
      "1/1 [==============================] - 0s 93ms/step - loss: 0.0321 - accuracy: 0.9802\n",
      "Epoch 56/1000\n",
      "1/1 [==============================] - 0s 15ms/stepss: 0.0317 - accuracy: 0.98\n",
      "1/1 [==============================] - 0s 95ms/step - loss: 0.0317 - accuracy: 0.9803\n",
      "Epoch 57/1000\n",
      "1/1 [==============================] - 0s 15ms/stepss: 0.0315 - accuracy: 0.98\n",
      "1/1 [==============================] - 0s 100ms/step - loss: 0.0315 - accuracy: 0.9804\n",
      "Epoch 58/1000\n",
      "1/1 [==============================] - 0s 14ms/stepss: 0.0312 - accuracy: 0.98\n",
      "1/1 [==============================] - 0s 96ms/step - loss: 0.0312 - accuracy: 0.9805\n",
      "Epoch 59/1000\n",
      "1/1 [==============================] - 0s 14ms/stepss: 0.0308 - accuracy: 0.98\n",
      "1/1 [==============================] - 0s 94ms/step - loss: 0.0308 - accuracy: 0.9806\n",
      "Epoch 60/1000\n",
      "1/1 [==============================] - 0s 14ms/stepss: 0.0304 - accuracy: 0.98\n",
      "1/1 [==============================] - 0s 95ms/step - loss: 0.0304 - accuracy: 0.9807\n",
      "Epoch 61/1000\n",
      "1/1 [==============================] - 0s 14ms/stepss: 0.0301 - accuracy: 0.98\n",
      "1/1 [==============================] - 0s 95ms/step - loss: 0.0301 - accuracy: 0.9809\n",
      "Epoch 62/1000\n",
      "1/1 [==============================] - 0s 16ms/stepss: 0.0299 - accuracy: 0.98\n",
      "1/1 [==============================] - 0s 99ms/step - loss: 0.0299 - accuracy: 0.9811\n",
      "Epoch 63/1000\n",
      "1/1 [==============================] - 0s 16ms/stepss: 0.0295 - accuracy: 0.98\n",
      "1/1 [==============================] - 0s 97ms/step - loss: 0.0295 - accuracy: 0.9812\n",
      "Epoch 64/1000\n",
      "1/1 [==============================] - 0s 14ms/stepss: 0.0292 - accuracy: 0.98\n",
      "1/1 [==============================] - 0s 96ms/step - loss: 0.0292 - accuracy: 0.9813\n",
      "Epoch 65/1000\n",
      "1/1 [==============================] - 0s 16ms/stepss: 0.0289 - accuracy: 0.98\n",
      "1/1 [==============================] - 0s 96ms/step - loss: 0.0289 - accuracy: 0.9815\n",
      "Epoch 66/1000\n",
      "1/1 [==============================] - 0s 15ms/stepss: 0.0287 - accuracy: 0.98\n",
      "1/1 [==============================] - 0s 96ms/step - loss: 0.0287 - accuracy: 0.9816\n",
      "Epoch 67/1000\n",
      "1/1 [==============================] - 0s 15ms/stepss: 0.0283 - accuracy: 0.98\n",
      "1/1 [==============================] - 0s 95ms/step - loss: 0.0283 - accuracy: 0.9816\n",
      "Epoch 68/1000\n",
      "1/1 [==============================] - 0s 15ms/stepss: 0.0280 - accuracy: 0.98\n",
      "1/1 [==============================] - 0s 93ms/step - loss: 0.0280 - accuracy: 0.9816\n",
      "Epoch 69/1000\n",
      "1/1 [==============================] - 0s 14ms/stepss: 0.0278 - accuracy: 0.98\n",
      "1/1 [==============================] - 0s 92ms/step - loss: 0.0278 - accuracy: 0.9817\n",
      "Epoch 70/1000\n",
      "1/1 [==============================] - 0s 15ms/stepss: 0.0275 - accuracy: 0.98\n",
      "1/1 [==============================] - 0s 93ms/step - loss: 0.0275 - accuracy: 0.9818\n",
      "Epoch 71/1000\n",
      "1/1 [==============================] - 0s 14ms/stepss: 0.0272 - accuracy: 0.98\n",
      "1/1 [==============================] - 0s 92ms/step - loss: 0.0272 - accuracy: 0.9820\n",
      "Epoch 72/1000\n",
      "1/1 [==============================] - 0s 14ms/stepss: 0.0270 - accuracy: 0.98\n",
      "1/1 [==============================] - 0s 94ms/step - loss: 0.0270 - accuracy: 0.9821\n",
      "Epoch 73/1000\n",
      "1/1 [==============================] - 0s 15ms/stepss: 0.0267 - accuracy: 0.98\n",
      "1/1 [==============================] - 0s 93ms/step - loss: 0.0267 - accuracy: 0.9822\n",
      "Epoch 74/1000\n",
      "1/1 [==============================] - 0s 18ms/stepss: 0.0264 - accuracy: 0.98\n",
      "1/1 [==============================] - 0s 110ms/step - loss: 0.0264 - accuracy: 0.9822\n",
      "Epoch 75/1000\n",
      "1/1 [==============================] - 0s 17ms/stepss: 0.0262 - accuracy: 0.98\n",
      "1/1 [==============================] - 0s 105ms/step - loss: 0.0262 - accuracy: 0.9822\n",
      "Epoch 76/1000\n",
      "1/1 [==============================] - 0s 15ms/stepss: 0.0259 - accuracy: 0.98\n",
      "1/1 [==============================] - 0s 97ms/step - loss: 0.0259 - accuracy: 0.9823\n",
      "Epoch 77/1000\n",
      "1/1 [==============================] - 0s 15ms/stepss: 0.0256 - accuracy: 0.98\n",
      "1/1 [==============================] - 0s 94ms/step - loss: 0.0256 - accuracy: 0.9823\n",
      "Epoch 78/1000\n",
      "1/1 [==============================] - 0s 15ms/stepss: 0.0253 - accuracy: 0.98\n",
      "1/1 [==============================] - 0s 99ms/step - loss: 0.0253 - accuracy: 0.9824\n",
      "Epoch 79/1000\n",
      "1/1 [==============================] - 0s 15ms/stepss: 0.0251 - accuracy: 0.98\n",
      "1/1 [==============================] - 0s 98ms/step - loss: 0.0251 - accuracy: 0.9823\n",
      "Epoch 80/1000\n",
      "1/1 [==============================] - 0s 17ms/stepss: 0.0248 - accuracy: 0.98\n",
      "1/1 [==============================] - 0s 98ms/step - loss: 0.0248 - accuracy: 0.9822\n",
      "Epoch 81/1000\n",
      "1/1 [==============================] - 0s 15ms/stepss: 0.0246 - accuracy: 0.98\n",
      "1/1 [==============================] - 0s 98ms/step - loss: 0.0246 - accuracy: 0.9821\n",
      "Epoch 82/1000\n",
      "1/1 [==============================] - 0s 15ms/stepss: 0.0243 - accuracy: 0.98\n",
      "1/1 [==============================] - 0s 94ms/step - loss: 0.0243 - accuracy: 0.9821\n",
      "Epoch 83/1000\n",
      "1/1 [==============================] - 0s 17ms/stepss: 0.0241 - accuracy: 0.98\n",
      "1/1 [==============================] - 0s 101ms/step - loss: 0.0241 - accuracy: 0.9819\n",
      "Epoch 84/1000\n",
      "1/1 [==============================] - 0s 14ms/stepss: 0.0239 - accuracy: 0.98\n",
      "1/1 [==============================] - 0s 106ms/step - loss: 0.0239 - accuracy: 0.9818\n",
      "Epoch 85/1000\n",
      "1/1 [==============================] - 0s 15ms/stepss: 0.0236 - accuracy: 0.98\n",
      "1/1 [==============================] - 0s 98ms/step - loss: 0.0236 - accuracy: 0.9819\n",
      "Epoch 86/1000\n",
      "1/1 [==============================] - 0s 15ms/stepss: 0.0234 - accuracy: 0.98\n",
      "1/1 [==============================] - 0s 98ms/step - loss: 0.0234 - accuracy: 0.9821\n",
      "Epoch 87/1000\n",
      "1/1 [==============================] - 0s 14ms/stepss: 0.0231 - accuracy: 0.98\n",
      "1/1 [==============================] - 0s 97ms/step - loss: 0.0231 - accuracy: 0.9823\n",
      "Epoch 88/1000\n",
      "1/1 [==============================] - 0s 14ms/stepss: 0.0229 - accuracy: 0.98\n",
      "1/1 [==============================] - 0s 95ms/step - loss: 0.0229 - accuracy: 0.9825\n",
      "Epoch 89/1000\n",
      "1/1 [==============================] - 0s 15ms/stepss: 0.0227 - accuracy: 0.98\n",
      "1/1 [==============================] - 0s 108ms/step - loss: 0.0227 - accuracy: 0.9825\n",
      "Epoch 90/1000\n",
      "1/1 [==============================] - 0s 15ms/stepss: 0.0224 - accuracy: 0.98\n",
      "1/1 [==============================] - 0s 98ms/step - loss: 0.0224 - accuracy: 0.9826\n",
      "Epoch 91/1000\n",
      "1/1 [==============================] - 0s 15ms/stepss: 0.0222 - accuracy: 0.98\n"
     ]
    },
    {
     "name": "stderr",
     "output_type": "stream",
     "text": [
      "Clipping input data to the valid range for imshow with RGB data ([0..1] for floats or [0..255] for integers).\n"
     ]
    },
    {
     "name": "stdout",
     "output_type": "stream",
     "text": [
      "1/1 [==============================] - 0s 97ms/step - loss: 0.0222 - accuracy: 0.9827\n",
      "Epoch 92/1000\n",
      "1/1 [==============================] - 0s 15ms/stepss: 0.0220 - accuracy: 0.98\n"
     ]
    },
    {
     "name": "stderr",
     "output_type": "stream",
     "text": [
      "Clipping input data to the valid range for imshow with RGB data ([0..1] for floats or [0..255] for integers).\n"
     ]
    },
    {
     "name": "stdout",
     "output_type": "stream",
     "text": [
      "1/1 [==============================] - 0s 98ms/step - loss: 0.0220 - accuracy: 0.9827\n",
      "Epoch 93/1000\n",
      "1/1 [==============================] - 0s 16ms/stepss: 0.0217 - accuracy: 0.98\n"
     ]
    },
    {
     "name": "stderr",
     "output_type": "stream",
     "text": [
      "Clipping input data to the valid range for imshow with RGB data ([0..1] for floats or [0..255] for integers).\n"
     ]
    },
    {
     "name": "stdout",
     "output_type": "stream",
     "text": [
      "1/1 [==============================] - 0s 98ms/step - loss: 0.0217 - accuracy: 0.9827\n",
      "Epoch 94/1000\n",
      "1/1 [==============================] - 0s 16ms/stepss: 0.0215 - accuracy: 0.98\n"
     ]
    },
    {
     "name": "stderr",
     "output_type": "stream",
     "text": [
      "Clipping input data to the valid range for imshow with RGB data ([0..1] for floats or [0..255] for integers).\n"
     ]
    },
    {
     "name": "stdout",
     "output_type": "stream",
     "text": [
      "1/1 [==============================] - 0s 105ms/step - loss: 0.0215 - accuracy: 0.9827\n",
      "Epoch 95/1000\n",
      "1/1 [==============================] - 0s 14ms/stepss: 0.0212 - accuracy: 0.98\n"
     ]
    },
    {
     "name": "stderr",
     "output_type": "stream",
     "text": [
      "Clipping input data to the valid range for imshow with RGB data ([0..1] for floats or [0..255] for integers).\n"
     ]
    },
    {
     "name": "stdout",
     "output_type": "stream",
     "text": [
      "1/1 [==============================] - 0s 98ms/step - loss: 0.0212 - accuracy: 0.9826\n",
      "Epoch 96/1000\n",
      "1/1 [==============================] - 0s 15ms/stepss: 0.0210 - accuracy: 0.98\n"
     ]
    },
    {
     "name": "stderr",
     "output_type": "stream",
     "text": [
      "Clipping input data to the valid range for imshow with RGB data ([0..1] for floats or [0..255] for integers).\n"
     ]
    },
    {
     "name": "stdout",
     "output_type": "stream",
     "text": [
      "1/1 [==============================] - 0s 95ms/step - loss: 0.0210 - accuracy: 0.9825\n",
      "Epoch 97/1000\n",
      "1/1 [==============================] - 0s 15ms/stepss: 0.0208 - accuracy: 0.98\n"
     ]
    },
    {
     "name": "stderr",
     "output_type": "stream",
     "text": [
      "Clipping input data to the valid range for imshow with RGB data ([0..1] for floats or [0..255] for integers).\n"
     ]
    },
    {
     "name": "stdout",
     "output_type": "stream",
     "text": [
      "1/1 [==============================] - 0s 95ms/step - loss: 0.0208 - accuracy: 0.9824\n",
      "Epoch 98/1000\n",
      "1/1 [==============================] - 0s 16ms/stepss: 0.0205 - accuracy: 0.98\n"
     ]
    },
    {
     "name": "stderr",
     "output_type": "stream",
     "text": [
      "Clipping input data to the valid range for imshow with RGB data ([0..1] for floats or [0..255] for integers).\n"
     ]
    },
    {
     "name": "stdout",
     "output_type": "stream",
     "text": [
      "1/1 [==============================] - 0s 93ms/step - loss: 0.0205 - accuracy: 0.9823\n",
      "Epoch 99/1000\n",
      "1/1 [==============================] - 0s 16ms/stepss: 0.0203 - accuracy: 0.98\n"
     ]
    },
    {
     "name": "stderr",
     "output_type": "stream",
     "text": [
      "Clipping input data to the valid range for imshow with RGB data ([0..1] for floats or [0..255] for integers).\n"
     ]
    },
    {
     "name": "stdout",
     "output_type": "stream",
     "text": [
      "1/1 [==============================] - 0s 100ms/step - loss: 0.0203 - accuracy: 0.9823\n",
      "Epoch 100/1000\n",
      "1/1 [==============================] - 0s 16ms/stepss: 0.0201 - accuracy: 0.98\n"
     ]
    },
    {
     "name": "stderr",
     "output_type": "stream",
     "text": [
      "Clipping input data to the valid range for imshow with RGB data ([0..1] for floats or [0..255] for integers).\n"
     ]
    },
    {
     "name": "stdout",
     "output_type": "stream",
     "text": [
      "1/1 [==============================] - 0s 108ms/step - loss: 0.0201 - accuracy: 0.9823\n",
      "Epoch 101/1000\n",
      "1/1 [==============================] - 0s 16ms/stepss: 0.0199 - accuracy: 0.98\n"
     ]
    },
    {
     "name": "stderr",
     "output_type": "stream",
     "text": [
      "Clipping input data to the valid range for imshow with RGB data ([0..1] for floats or [0..255] for integers).\n"
     ]
    },
    {
     "name": "stdout",
     "output_type": "stream",
     "text": [
      "1/1 [==============================] - 0s 108ms/step - loss: 0.0199 - accuracy: 0.9824\n",
      "Epoch 102/1000\n",
      "1/1 [==============================] - 0s 17ms/stepss: 0.0196 - accuracy: 0.98\n"
     ]
    },
    {
     "name": "stderr",
     "output_type": "stream",
     "text": [
      "Clipping input data to the valid range for imshow with RGB data ([0..1] for floats or [0..255] for integers).\n"
     ]
    },
    {
     "name": "stdout",
     "output_type": "stream",
     "text": [
      "1/1 [==============================] - 0s 107ms/step - loss: 0.0196 - accuracy: 0.9825\n",
      "Epoch 103/1000\n",
      "1/1 [==============================] - 0s 17ms/stepss: 0.0194 - accuracy: 0.98\n"
     ]
    },
    {
     "name": "stderr",
     "output_type": "stream",
     "text": [
      "Clipping input data to the valid range for imshow with RGB data ([0..1] for floats or [0..255] for integers).\n"
     ]
    },
    {
     "name": "stdout",
     "output_type": "stream",
     "text": [
      "1/1 [==============================] - 0s 105ms/step - loss: 0.0194 - accuracy: 0.9826\n",
      "Epoch 104/1000\n",
      "1/1 [==============================] - 0s 15ms/stepss: 0.0192 - accuracy: 0.98\n"
     ]
    },
    {
     "name": "stderr",
     "output_type": "stream",
     "text": [
      "Clipping input data to the valid range for imshow with RGB data ([0..1] for floats or [0..255] for integers).\n"
     ]
    },
    {
     "name": "stdout",
     "output_type": "stream",
     "text": [
      "1/1 [==============================] - 0s 98ms/step - loss: 0.0192 - accuracy: 0.9825\n",
      "Epoch 105/1000\n",
      "1/1 [==============================] - 0s 16ms/stepss: 0.0190 - accuracy: 0.98\n"
     ]
    },
    {
     "name": "stderr",
     "output_type": "stream",
     "text": [
      "Clipping input data to the valid range for imshow with RGB data ([0..1] for floats or [0..255] for integers).\n"
     ]
    },
    {
     "name": "stdout",
     "output_type": "stream",
     "text": [
      "1/1 [==============================] - 0s 101ms/step - loss: 0.0190 - accuracy: 0.9824\n",
      "Epoch 106/1000\n",
      "1/1 [==============================] - 0s 15ms/stepss: 0.0188 - accuracy: 0.98\n"
     ]
    },
    {
     "name": "stderr",
     "output_type": "stream",
     "text": [
      "Clipping input data to the valid range for imshow with RGB data ([0..1] for floats or [0..255] for integers).\n"
     ]
    },
    {
     "name": "stdout",
     "output_type": "stream",
     "text": [
      "1/1 [==============================] - 0s 102ms/step - loss: 0.0188 - accuracy: 0.9824\n",
      "Epoch 107/1000\n",
      "1/1 [==============================] - 0s 17ms/stepss: 0.0186 - accuracy: 0.98\n"
     ]
    },
    {
     "name": "stderr",
     "output_type": "stream",
     "text": [
      "Clipping input data to the valid range for imshow with RGB data ([0..1] for floats or [0..255] for integers).\n"
     ]
    },
    {
     "name": "stdout",
     "output_type": "stream",
     "text": [
      "1/1 [==============================] - 0s 100ms/step - loss: 0.0186 - accuracy: 0.9823\n",
      "Epoch 108/1000\n",
      "1/1 [==============================] - 0s 15ms/stepss: 0.0184 - accuracy: 0.98\n"
     ]
    },
    {
     "name": "stderr",
     "output_type": "stream",
     "text": [
      "Clipping input data to the valid range for imshow with RGB data ([0..1] for floats or [0..255] for integers).\n"
     ]
    },
    {
     "name": "stdout",
     "output_type": "stream",
     "text": [
      "1/1 [==============================] - 0s 98ms/step - loss: 0.0184 - accuracy: 0.9823\n",
      "Epoch 109/1000\n",
      "1/1 [==============================] - 0s 15ms/stepss: 0.0182 - accuracy: 0.98\n"
     ]
    },
    {
     "name": "stderr",
     "output_type": "stream",
     "text": [
      "Clipping input data to the valid range for imshow with RGB data ([0..1] for floats or [0..255] for integers).\n"
     ]
    },
    {
     "name": "stdout",
     "output_type": "stream",
     "text": [
      "1/1 [==============================] - 0s 101ms/step - loss: 0.0182 - accuracy: 0.9823\n",
      "Epoch 110/1000\n",
      "1/1 [==============================] - 0s 17ms/stepss: 0.0180 - accuracy: 0.98\n"
     ]
    },
    {
     "name": "stderr",
     "output_type": "stream",
     "text": [
      "Clipping input data to the valid range for imshow with RGB data ([0..1] for floats or [0..255] for integers).\n"
     ]
    },
    {
     "name": "stdout",
     "output_type": "stream",
     "text": [
      "1/1 [==============================] - 0s 101ms/step - loss: 0.0180 - accuracy: 0.9824\n",
      "Epoch 111/1000\n",
      "1/1 [==============================] - 0s 15ms/stepss: 0.0178 - accuracy: 0.98\n"
     ]
    },
    {
     "name": "stderr",
     "output_type": "stream",
     "text": [
      "Clipping input data to the valid range for imshow with RGB data ([0..1] for floats or [0..255] for integers).\n"
     ]
    },
    {
     "name": "stdout",
     "output_type": "stream",
     "text": [
      "1/1 [==============================] - 0s 102ms/step - loss: 0.0178 - accuracy: 0.9824\n",
      "Epoch 112/1000\n",
      "1/1 [==============================] - 0s 15ms/stepss: 0.0176 - accuracy: 0.98\n"
     ]
    },
    {
     "name": "stderr",
     "output_type": "stream",
     "text": [
      "Clipping input data to the valid range for imshow with RGB data ([0..1] for floats or [0..255] for integers).\n"
     ]
    },
    {
     "name": "stdout",
     "output_type": "stream",
     "text": [
      "1/1 [==============================] - 0s 100ms/step - loss: 0.0176 - accuracy: 0.9825\n",
      "Epoch 113/1000\n",
      "1/1 [==============================] - 0s 15ms/stepss: 0.0174 - accuracy: 0.98\n"
     ]
    },
    {
     "name": "stderr",
     "output_type": "stream",
     "text": [
      "Clipping input data to the valid range for imshow with RGB data ([0..1] for floats or [0..255] for integers).\n"
     ]
    },
    {
     "name": "stdout",
     "output_type": "stream",
     "text": [
      "1/1 [==============================] - 0s 103ms/step - loss: 0.0174 - accuracy: 0.9826\n",
      "Epoch 114/1000\n",
      "1/1 [==============================] - 0s 16ms/stepss: 0.0172 - accuracy: 0.98\n"
     ]
    },
    {
     "name": "stderr",
     "output_type": "stream",
     "text": [
      "Clipping input data to the valid range for imshow with RGB data ([0..1] for floats or [0..255] for integers).\n"
     ]
    },
    {
     "name": "stdout",
     "output_type": "stream",
     "text": [
      "1/1 [==============================] - 0s 106ms/step - loss: 0.0172 - accuracy: 0.9827\n",
      "Epoch 115/1000\n",
      "1/1 [==============================] - 0s 16ms/stepss: 0.0170 - accuracy: 0.98\n"
     ]
    },
    {
     "name": "stderr",
     "output_type": "stream",
     "text": [
      "Clipping input data to the valid range for imshow with RGB data ([0..1] for floats or [0..255] for integers).\n"
     ]
    },
    {
     "name": "stdout",
     "output_type": "stream",
     "text": [
      "1/1 [==============================] - 0s 131ms/step - loss: 0.0170 - accuracy: 0.9829\n",
      "Epoch 116/1000\n",
      "1/1 [==============================] - 0s 19ms/stepss: 0.0168 - accuracy: 0.98\n"
     ]
    },
    {
     "name": "stderr",
     "output_type": "stream",
     "text": [
      "Clipping input data to the valid range for imshow with RGB data ([0..1] for floats or [0..255] for integers).\n"
     ]
    },
    {
     "name": "stdout",
     "output_type": "stream",
     "text": [
      "1/1 [==============================] - 0s 111ms/step - loss: 0.0168 - accuracy: 0.9831\n",
      "Epoch 117/1000\n",
      "1/1 [==============================] - 0s 17ms/stepss: 0.0167 - accuracy: 0.98\n"
     ]
    },
    {
     "name": "stderr",
     "output_type": "stream",
     "text": [
      "Clipping input data to the valid range for imshow with RGB data ([0..1] for floats or [0..255] for integers).\n"
     ]
    },
    {
     "name": "stdout",
     "output_type": "stream",
     "text": [
      "1/1 [==============================] - 0s 108ms/step - loss: 0.0167 - accuracy: 0.9833\n",
      "Epoch 118/1000\n",
      "1/1 [==============================] - 0s 15ms/stepss: 0.0165 - accuracy: 0.98\n"
     ]
    },
    {
     "name": "stderr",
     "output_type": "stream",
     "text": [
      "Clipping input data to the valid range for imshow with RGB data ([0..1] for floats or [0..255] for integers).\n"
     ]
    },
    {
     "name": "stdout",
     "output_type": "stream",
     "text": [
      "1/1 [==============================] - 0s 108ms/step - loss: 0.0165 - accuracy: 0.9834\n",
      "Epoch 119/1000\n",
      "1/1 [==============================] - 0s 19ms/stepss: 0.0164 - accuracy: 0.98\n"
     ]
    },
    {
     "name": "stderr",
     "output_type": "stream",
     "text": [
      "Clipping input data to the valid range for imshow with RGB data ([0..1] for floats or [0..255] for integers).\n"
     ]
    },
    {
     "name": "stdout",
     "output_type": "stream",
     "text": [
      "1/1 [==============================] - 0s 115ms/step - loss: 0.0164 - accuracy: 0.9834\n",
      "Epoch 120/1000\n",
      "1/1 [==============================] - 0s 15ms/stepss: 0.0163 - accuracy: 0.98\n"
     ]
    },
    {
     "name": "stderr",
     "output_type": "stream",
     "text": [
      "Clipping input data to the valid range for imshow with RGB data ([0..1] for floats or [0..255] for integers).\n"
     ]
    },
    {
     "name": "stdout",
     "output_type": "stream",
     "text": [
      "1/1 [==============================] - 0s 112ms/step - loss: 0.0163 - accuracy: 0.9835\n",
      "Epoch 121/1000\n",
      "1/1 [==============================] - 0s 26ms/stepss: 0.0164 - accuracy: 0.98\n"
     ]
    },
    {
     "name": "stderr",
     "output_type": "stream",
     "text": [
      "Clipping input data to the valid range for imshow with RGB data ([0..1] for floats or [0..255] for integers).\n"
     ]
    },
    {
     "name": "stdout",
     "output_type": "stream",
     "text": [
      "1/1 [==============================] - 0s 137ms/step - loss: 0.0164 - accuracy: 0.9834\n",
      "Epoch 122/1000\n",
      "1/1 [==============================] - 0s 16ms/stepss: 0.0161 - accuracy: 0.98\n"
     ]
    },
    {
     "name": "stderr",
     "output_type": "stream",
     "text": [
      "Clipping input data to the valid range for imshow with RGB data ([0..1] for floats or [0..255] for integers).\n"
     ]
    },
    {
     "name": "stdout",
     "output_type": "stream",
     "text": [
      "1/1 [==============================] - 0s 102ms/step - loss: 0.0161 - accuracy: 0.9835\n",
      "Epoch 123/1000\n",
      "1/1 [==============================] - 0s 16ms/stepss: 0.0158 - accuracy: 0.98\n"
     ]
    },
    {
     "name": "stderr",
     "output_type": "stream",
     "text": [
      "Clipping input data to the valid range for imshow with RGB data ([0..1] for floats or [0..255] for integers).\n"
     ]
    },
    {
     "name": "stdout",
     "output_type": "stream",
     "text": [
      "1/1 [==============================] - 0s 112ms/step - loss: 0.0158 - accuracy: 0.9835\n",
      "Epoch 124/1000\n",
      "1/1 [==============================] - 0s 23ms/stepss: 0.0159 - accuracy: 0.98\n"
     ]
    },
    {
     "name": "stderr",
     "output_type": "stream",
     "text": [
      "Clipping input data to the valid range for imshow with RGB data ([0..1] for floats or [0..255] for integers).\n"
     ]
    },
    {
     "name": "stdout",
     "output_type": "stream",
     "text": [
      "1/1 [==============================] - 0s 122ms/step - loss: 0.0159 - accuracy: 0.9834\n",
      "Epoch 125/1000\n",
      "1/1 [==============================] - 0s 17ms/stepss: 0.0157 - accuracy: 0.98\n"
     ]
    },
    {
     "name": "stderr",
     "output_type": "stream",
     "text": [
      "Clipping input data to the valid range for imshow with RGB data ([0..1] for floats or [0..255] for integers).\n"
     ]
    },
    {
     "name": "stdout",
     "output_type": "stream",
     "text": [
      "1/1 [==============================] - 0s 118ms/step - loss: 0.0157 - accuracy: 0.9835\n",
      "Epoch 126/1000\n",
      "1/1 [==============================] - 0s 16ms/stepss: 0.0155 - accuracy: 0.98\n"
     ]
    },
    {
     "name": "stderr",
     "output_type": "stream",
     "text": [
      "Clipping input data to the valid range for imshow with RGB data ([0..1] for floats or [0..255] for integers).\n"
     ]
    },
    {
     "name": "stdout",
     "output_type": "stream",
     "text": [
      "1/1 [==============================] - 0s 112ms/step - loss: 0.0155 - accuracy: 0.9835\n",
      "Epoch 127/1000\n",
      "1/1 [==============================] - 0s 15ms/stepss: 0.0156 - accuracy: 0.98\n"
     ]
    },
    {
     "name": "stderr",
     "output_type": "stream",
     "text": [
      "Clipping input data to the valid range for imshow with RGB data ([0..1] for floats or [0..255] for integers).\n"
     ]
    },
    {
     "name": "stdout",
     "output_type": "stream",
     "text": [
      "1/1 [==============================] - 0s 100ms/step - loss: 0.0156 - accuracy: 0.9835\n",
      "Epoch 128/1000\n",
      "1/1 [==============================] - 0s 15ms/stepss: 0.0153 - accuracy: 0.98\n"
     ]
    },
    {
     "name": "stderr",
     "output_type": "stream",
     "text": [
      "Clipping input data to the valid range for imshow with RGB data ([0..1] for floats or [0..255] for integers).\n"
     ]
    },
    {
     "name": "stdout",
     "output_type": "stream",
     "text": [
      "1/1 [==============================] - 0s 93ms/step - loss: 0.0153 - accuracy: 0.9836\n",
      "Epoch 129/1000\n",
      "1/1 [==============================] - 0s 16ms/stepss: 0.0152 - accuracy: 0.98\n"
     ]
    },
    {
     "name": "stderr",
     "output_type": "stream",
     "text": [
      "Clipping input data to the valid range for imshow with RGB data ([0..1] for floats or [0..255] for integers).\n"
     ]
    },
    {
     "name": "stdout",
     "output_type": "stream",
     "text": [
      "1/1 [==============================] - 0s 106ms/step - loss: 0.0152 - accuracy: 0.9837\n",
      "Epoch 130/1000\n",
      "1/1 [==============================] - 0s 14ms/stepss: 0.0152 - accuracy: 0.98\n"
     ]
    },
    {
     "name": "stderr",
     "output_type": "stream",
     "text": [
      "Clipping input data to the valid range for imshow with RGB data ([0..1] for floats or [0..255] for integers).\n"
     ]
    },
    {
     "name": "stdout",
     "output_type": "stream",
     "text": [
      "1/1 [==============================] - 0s 95ms/step - loss: 0.0152 - accuracy: 0.9836\n",
      "Epoch 131/1000\n",
      "1/1 [==============================] - 0s 14ms/stepss: 0.0150 - accuracy: 0.98\n"
     ]
    },
    {
     "name": "stderr",
     "output_type": "stream",
     "text": [
      "Clipping input data to the valid range for imshow with RGB data ([0..1] for floats or [0..255] for integers).\n"
     ]
    },
    {
     "name": "stdout",
     "output_type": "stream",
     "text": [
      "1/1 [==============================] - 0s 93ms/step - loss: 0.0150 - accuracy: 0.9837\n",
      "Epoch 132/1000\n",
      "1/1 [==============================] - 0s 15ms/stepss: 0.0150 - accuracy: 0.98\n"
     ]
    },
    {
     "name": "stderr",
     "output_type": "stream",
     "text": [
      "Clipping input data to the valid range for imshow with RGB data ([0..1] for floats or [0..255] for integers).\n"
     ]
    },
    {
     "name": "stdout",
     "output_type": "stream",
     "text": [
      "1/1 [==============================] - 0s 104ms/step - loss: 0.0150 - accuracy: 0.9837\n",
      "Epoch 133/1000\n",
      "1/1 [==============================] - 0s 17ms/stepss: 0.0148 - accuracy: 0.98\n"
     ]
    },
    {
     "name": "stderr",
     "output_type": "stream",
     "text": [
      "Clipping input data to the valid range for imshow with RGB data ([0..1] for floats or [0..255] for integers).\n"
     ]
    },
    {
     "name": "stdout",
     "output_type": "stream",
     "text": [
      "1/1 [==============================] - 0s 101ms/step - loss: 0.0148 - accuracy: 0.9837\n",
      "Epoch 134/1000\n",
      "1/1 [==============================] - 0s 15ms/stepss: 0.0147 - accuracy: 0.98\n"
     ]
    },
    {
     "name": "stderr",
     "output_type": "stream",
     "text": [
      "Clipping input data to the valid range for imshow with RGB data ([0..1] for floats or [0..255] for integers).\n"
     ]
    },
    {
     "name": "stdout",
     "output_type": "stream",
     "text": [
      "1/1 [==============================] - 0s 104ms/step - loss: 0.0147 - accuracy: 0.9837\n",
      "Epoch 135/1000\n",
      "1/1 [==============================] - 0s 15ms/stepss: 0.0147 - accuracy: 0.98\n"
     ]
    },
    {
     "name": "stderr",
     "output_type": "stream",
     "text": [
      "Clipping input data to the valid range for imshow with RGB data ([0..1] for floats or [0..255] for integers).\n"
     ]
    },
    {
     "name": "stdout",
     "output_type": "stream",
     "text": [
      "1/1 [==============================] - 0s 112ms/step - loss: 0.0147 - accuracy: 0.9837\n",
      "Epoch 136/1000\n",
      "1/1 [==============================] - 0s 23ms/stepss: 0.0145 - accuracy: 0.98\n"
     ]
    },
    {
     "name": "stderr",
     "output_type": "stream",
     "text": [
      "Clipping input data to the valid range for imshow with RGB data ([0..1] for floats or [0..255] for integers).\n"
     ]
    },
    {
     "name": "stdout",
     "output_type": "stream",
     "text": [
      "1/1 [==============================] - 0s 128ms/step - loss: 0.0145 - accuracy: 0.9837\n",
      "Epoch 137/1000\n",
      "1/1 [==============================] - 0s 18ms/stepss: 0.0145 - accuracy: 0.98\n"
     ]
    },
    {
     "name": "stderr",
     "output_type": "stream",
     "text": [
      "Clipping input data to the valid range for imshow with RGB data ([0..1] for floats or [0..255] for integers).\n"
     ]
    },
    {
     "name": "stdout",
     "output_type": "stream",
     "text": [
      "1/1 [==============================] - 0s 109ms/step - loss: 0.0145 - accuracy: 0.9837\n",
      "Epoch 138/1000\n",
      "1/1 [==============================] - 0s 19ms/stepss: 0.0144 - accuracy: 0.98\n"
     ]
    },
    {
     "name": "stderr",
     "output_type": "stream",
     "text": [
      "Clipping input data to the valid range for imshow with RGB data ([0..1] for floats or [0..255] for integers).\n"
     ]
    },
    {
     "name": "stdout",
     "output_type": "stream",
     "text": [
      "1/1 [==============================] - 0s 111ms/step - loss: 0.0144 - accuracy: 0.9837\n",
      "Epoch 139/1000\n",
      "1/1 [==============================] - 0s 18ms/stepss: 0.0143 - accuracy: 0.98\n"
     ]
    },
    {
     "name": "stderr",
     "output_type": "stream",
     "text": [
      "Clipping input data to the valid range for imshow with RGB data ([0..1] for floats or [0..255] for integers).\n"
     ]
    },
    {
     "name": "stdout",
     "output_type": "stream",
     "text": [
      "1/1 [==============================] - 0s 110ms/step - loss: 0.0143 - accuracy: 0.9837\n",
      "Epoch 140/1000\n",
      "1/1 [==============================] - 0s 17ms/stepss: 0.0143 - accuracy: 0.98\n"
     ]
    },
    {
     "name": "stderr",
     "output_type": "stream",
     "text": [
      "Clipping input data to the valid range for imshow with RGB data ([0..1] for floats or [0..255] for integers).\n"
     ]
    },
    {
     "name": "stdout",
     "output_type": "stream",
     "text": [
      "1/1 [==============================] - 0s 105ms/step - loss: 0.0143 - accuracy: 0.9837\n",
      "Epoch 141/1000\n",
      "1/1 [==============================] - 0s 18ms/stepss: 0.0141 - accuracy: 0.98\n"
     ]
    },
    {
     "name": "stderr",
     "output_type": "stream",
     "text": [
      "Clipping input data to the valid range for imshow with RGB data ([0..1] for floats or [0..255] for integers).\n"
     ]
    },
    {
     "name": "stdout",
     "output_type": "stream",
     "text": [
      "1/1 [==============================] - 0s 107ms/step - loss: 0.0141 - accuracy: 0.9837\n",
      "Epoch 142/1000\n",
      "1/1 [==============================] - 0s 16ms/stepss: 0.0140 - accuracy: 0.98\n"
     ]
    },
    {
     "name": "stderr",
     "output_type": "stream",
     "text": [
      "Clipping input data to the valid range for imshow with RGB data ([0..1] for floats or [0..255] for integers).\n"
     ]
    },
    {
     "name": "stdout",
     "output_type": "stream",
     "text": [
      "1/1 [==============================] - 0s 100ms/step - loss: 0.0140 - accuracy: 0.9837\n",
      "Epoch 143/1000\n",
      "1/1 [==============================] - 0s 14ms/stepss: 0.0140 - accuracy: 0.98\n"
     ]
    },
    {
     "name": "stderr",
     "output_type": "stream",
     "text": [
      "Clipping input data to the valid range for imshow with RGB data ([0..1] for floats or [0..255] for integers).\n"
     ]
    },
    {
     "name": "stdout",
     "output_type": "stream",
     "text": [
      "1/1 [==============================] - 0s 96ms/step - loss: 0.0140 - accuracy: 0.9837\n",
      "Epoch 144/1000\n",
      "1/1 [==============================] - 0s 14ms/stepss: 0.0139 - accuracy: 0.98\n"
     ]
    },
    {
     "name": "stderr",
     "output_type": "stream",
     "text": [
      "Clipping input data to the valid range for imshow with RGB data ([0..1] for floats or [0..255] for integers).\n"
     ]
    },
    {
     "name": "stdout",
     "output_type": "stream",
     "text": [
      "1/1 [==============================] - 0s 97ms/step - loss: 0.0139 - accuracy: 0.9837\n",
      "Epoch 145/1000\n",
      "1/1 [==============================] - 0s 15ms/stepss: 0.0138 - accuracy: 0.98\n"
     ]
    },
    {
     "name": "stderr",
     "output_type": "stream",
     "text": [
      "Clipping input data to the valid range for imshow with RGB data ([0..1] for floats or [0..255] for integers).\n"
     ]
    },
    {
     "name": "stdout",
     "output_type": "stream",
     "text": [
      "1/1 [==============================] - 0s 95ms/step - loss: 0.0138 - accuracy: 0.9837\n",
      "Epoch 146/1000\n",
      "1/1 [==============================] - 0s 16ms/stepss: 0.0137 - accuracy: 0.98\n"
     ]
    },
    {
     "name": "stderr",
     "output_type": "stream",
     "text": [
      "Clipping input data to the valid range for imshow with RGB data ([0..1] for floats or [0..255] for integers).\n"
     ]
    },
    {
     "name": "stdout",
     "output_type": "stream",
     "text": [
      "1/1 [==============================] - 0s 99ms/step - loss: 0.0137 - accuracy: 0.9837\n",
      "Epoch 147/1000\n",
      "1/1 [==============================] - 0s 14ms/stepss: 0.0136 - accuracy: 0.98\n"
     ]
    },
    {
     "name": "stderr",
     "output_type": "stream",
     "text": [
      "Clipping input data to the valid range for imshow with RGB data ([0..1] for floats or [0..255] for integers).\n"
     ]
    },
    {
     "name": "stdout",
     "output_type": "stream",
     "text": [
      "1/1 [==============================] - 0s 97ms/step - loss: 0.0136 - accuracy: 0.9837\n",
      "Epoch 148/1000\n",
      "1/1 [==============================] - 0s 15ms/stepss: 0.0136 - accuracy: 0.98\n"
     ]
    },
    {
     "name": "stderr",
     "output_type": "stream",
     "text": [
      "Clipping input data to the valid range for imshow with RGB data ([0..1] for floats or [0..255] for integers).\n"
     ]
    },
    {
     "name": "stdout",
     "output_type": "stream",
     "text": [
      "1/1 [==============================] - 0s 98ms/step - loss: 0.0136 - accuracy: 0.9837\n",
      "Epoch 149/1000\n",
      "1/1 [==============================] - 0s 15ms/stepss: 0.0135 - accuracy: 0.98\n"
     ]
    },
    {
     "name": "stderr",
     "output_type": "stream",
     "text": [
      "Clipping input data to the valid range for imshow with RGB data ([0..1] for floats or [0..255] for integers).\n"
     ]
    },
    {
     "name": "stdout",
     "output_type": "stream",
     "text": [
      "1/1 [==============================] - 0s 101ms/step - loss: 0.0135 - accuracy: 0.9837\n",
      "Epoch 150/1000\n",
      "1/1 [==============================] - 0s 15ms/stepss: 0.0134 - accuracy: 0.98\n"
     ]
    },
    {
     "name": "stderr",
     "output_type": "stream",
     "text": [
      "Clipping input data to the valid range for imshow with RGB data ([0..1] for floats or [0..255] for integers).\n"
     ]
    },
    {
     "name": "stdout",
     "output_type": "stream",
     "text": [
      "1/1 [==============================] - 0s 97ms/step - loss: 0.0134 - accuracy: 0.9837\n",
      "Epoch 151/1000\n",
      "1/1 [==============================] - 0s 14ms/stepss: 0.0133 - accuracy: 0.98\n"
     ]
    },
    {
     "name": "stderr",
     "output_type": "stream",
     "text": [
      "Clipping input data to the valid range for imshow with RGB data ([0..1] for floats or [0..255] for integers).\n"
     ]
    },
    {
     "name": "stdout",
     "output_type": "stream",
     "text": [
      "1/1 [==============================] - 0s 96ms/step - loss: 0.0133 - accuracy: 0.9838\n",
      "Epoch 152/1000\n",
      "1/1 [==============================] - 0s 14ms/stepss: 0.0133 - accuracy: 0.98\n"
     ]
    },
    {
     "name": "stderr",
     "output_type": "stream",
     "text": [
      "Clipping input data to the valid range for imshow with RGB data ([0..1] for floats or [0..255] for integers).\n"
     ]
    },
    {
     "name": "stdout",
     "output_type": "stream",
     "text": [
      "1/1 [==============================] - 0s 94ms/step - loss: 0.0133 - accuracy: 0.9837\n",
      "Epoch 153/1000\n",
      "1/1 [==============================] - 0s 14ms/stepss: 0.0132 - accuracy: 0.98\n"
     ]
    },
    {
     "name": "stderr",
     "output_type": "stream",
     "text": [
      "Clipping input data to the valid range for imshow with RGB data ([0..1] for floats or [0..255] for integers).\n"
     ]
    },
    {
     "name": "stdout",
     "output_type": "stream",
     "text": [
      "1/1 [==============================] - 0s 93ms/step - loss: 0.0132 - accuracy: 0.9836\n",
      "Epoch 154/1000\n",
      "1/1 [==============================] - 0s 14ms/stepss: 0.0131 - accuracy: 0.98\n"
     ]
    },
    {
     "name": "stderr",
     "output_type": "stream",
     "text": [
      "Clipping input data to the valid range for imshow with RGB data ([0..1] for floats or [0..255] for integers).\n"
     ]
    },
    {
     "name": "stdout",
     "output_type": "stream",
     "text": [
      "1/1 [==============================] - 0s 93ms/step - loss: 0.0131 - accuracy: 0.9836\n",
      "Epoch 155/1000\n",
      "1/1 [==============================] - 0s 15ms/stepss: 0.0130 - accuracy: 0.98\n"
     ]
    },
    {
     "name": "stderr",
     "output_type": "stream",
     "text": [
      "Clipping input data to the valid range for imshow with RGB data ([0..1] for floats or [0..255] for integers).\n"
     ]
    },
    {
     "name": "stdout",
     "output_type": "stream",
     "text": [
      "1/1 [==============================] - 0s 92ms/step - loss: 0.0130 - accuracy: 0.9837\n",
      "Epoch 156/1000\n",
      "1/1 [==============================] - 0s 14ms/stepss: 0.0129 - accuracy: 0.98\n"
     ]
    },
    {
     "name": "stderr",
     "output_type": "stream",
     "text": [
      "Clipping input data to the valid range for imshow with RGB data ([0..1] for floats or [0..255] for integers).\n"
     ]
    },
    {
     "name": "stdout",
     "output_type": "stream",
     "text": [
      "1/1 [==============================] - 0s 95ms/step - loss: 0.0129 - accuracy: 0.9836\n",
      "Epoch 157/1000\n",
      "1/1 [==============================] - 0s 13ms/stepss: 0.0129 - accuracy: 0.98\n"
     ]
    },
    {
     "name": "stderr",
     "output_type": "stream",
     "text": [
      "Clipping input data to the valid range for imshow with RGB data ([0..1] for floats or [0..255] for integers).\n"
     ]
    },
    {
     "name": "stdout",
     "output_type": "stream",
     "text": [
      "1/1 [==============================] - 0s 95ms/step - loss: 0.0129 - accuracy: 0.9836\n",
      "Epoch 158/1000\n",
      "1/1 [==============================] - 0s 15ms/stepss: 0.0128 - accuracy: 0.98\n"
     ]
    },
    {
     "name": "stderr",
     "output_type": "stream",
     "text": [
      "Clipping input data to the valid range for imshow with RGB data ([0..1] for floats or [0..255] for integers).\n"
     ]
    },
    {
     "name": "stdout",
     "output_type": "stream",
     "text": [
      "1/1 [==============================] - 0s 101ms/step - loss: 0.0128 - accuracy: 0.9836\n",
      "Epoch 159/1000\n",
      "1/1 [==============================] - 0s 15ms/stepss: 0.0127 - accuracy: 0.98\n"
     ]
    },
    {
     "name": "stderr",
     "output_type": "stream",
     "text": [
      "Clipping input data to the valid range for imshow with RGB data ([0..1] for floats or [0..255] for integers).\n"
     ]
    },
    {
     "name": "stdout",
     "output_type": "stream",
     "text": [
      "1/1 [==============================] - 0s 96ms/step - loss: 0.0127 - accuracy: 0.9836\n",
      "Epoch 160/1000\n",
      "1/1 [==============================] - 0s 14ms/stepss: 0.0126 - accuracy: 0.98\n"
     ]
    },
    {
     "name": "stderr",
     "output_type": "stream",
     "text": [
      "Clipping input data to the valid range for imshow with RGB data ([0..1] for floats or [0..255] for integers).\n"
     ]
    },
    {
     "name": "stdout",
     "output_type": "stream",
     "text": [
      "1/1 [==============================] - 0s 95ms/step - loss: 0.0126 - accuracy: 0.9836\n",
      "Epoch 161/1000\n",
      "1/1 [==============================] - 0s 15ms/stepss: 0.0126 - accuracy: 0.98\n"
     ]
    },
    {
     "name": "stderr",
     "output_type": "stream",
     "text": [
      "Clipping input data to the valid range for imshow with RGB data ([0..1] for floats or [0..255] for integers).\n"
     ]
    },
    {
     "name": "stdout",
     "output_type": "stream",
     "text": [
      "1/1 [==============================] - 0s 97ms/step - loss: 0.0126 - accuracy: 0.9836\n",
      "Epoch 162/1000\n",
      "1/1 [==============================] - 0s 15ms/stepss: 0.0125 - accuracy: 0.98\n"
     ]
    },
    {
     "name": "stderr",
     "output_type": "stream",
     "text": [
      "Clipping input data to the valid range for imshow with RGB data ([0..1] for floats or [0..255] for integers).\n"
     ]
    },
    {
     "name": "stdout",
     "output_type": "stream",
     "text": [
      "1/1 [==============================] - 0s 96ms/step - loss: 0.0125 - accuracy: 0.9836\n",
      "Epoch 163/1000\n",
      "1/1 [==============================] - 0s 16ms/stepss: 0.0124 - accuracy: 0.98\n"
     ]
    },
    {
     "name": "stderr",
     "output_type": "stream",
     "text": [
      "Clipping input data to the valid range for imshow with RGB data ([0..1] for floats or [0..255] for integers).\n"
     ]
    },
    {
     "name": "stdout",
     "output_type": "stream",
     "text": [
      "1/1 [==============================] - 0s 102ms/step - loss: 0.0124 - accuracy: 0.9836\n",
      "Epoch 164/1000\n",
      "1/1 [==============================] - 0s 15ms/stepss: 0.0124 - accuracy: 0.98\n"
     ]
    },
    {
     "name": "stderr",
     "output_type": "stream",
     "text": [
      "Clipping input data to the valid range for imshow with RGB data ([0..1] for floats or [0..255] for integers).\n"
     ]
    },
    {
     "name": "stdout",
     "output_type": "stream",
     "text": [
      "1/1 [==============================] - 0s 99ms/step - loss: 0.0124 - accuracy: 0.9836\n",
      "Epoch 165/1000\n",
      "1/1 [==============================] - 0s 14ms/stepss: 0.0123 - accuracy: 0.98\n"
     ]
    },
    {
     "name": "stderr",
     "output_type": "stream",
     "text": [
      "Clipping input data to the valid range for imshow with RGB data ([0..1] for floats or [0..255] for integers).\n"
     ]
    },
    {
     "name": "stdout",
     "output_type": "stream",
     "text": [
      "1/1 [==============================] - 0s 95ms/step - loss: 0.0123 - accuracy: 0.9836\n",
      "Epoch 166/1000\n",
      "1/1 [==============================] - 0s 16ms/stepss: 0.0122 - accuracy: 0.98\n"
     ]
    },
    {
     "name": "stderr",
     "output_type": "stream",
     "text": [
      "Clipping input data to the valid range for imshow with RGB data ([0..1] for floats or [0..255] for integers).\n"
     ]
    },
    {
     "name": "stdout",
     "output_type": "stream",
     "text": [
      "1/1 [==============================] - 0s 98ms/step - loss: 0.0122 - accuracy: 0.9836\n",
      "Epoch 167/1000\n",
      "1/1 [==============================] - 0s 15ms/stepss: 0.0121 - accuracy: 0.98\n"
     ]
    },
    {
     "name": "stderr",
     "output_type": "stream",
     "text": [
      "Clipping input data to the valid range for imshow with RGB data ([0..1] for floats or [0..255] for integers).\n"
     ]
    },
    {
     "name": "stdout",
     "output_type": "stream",
     "text": [
      "1/1 [==============================] - 0s 98ms/step - loss: 0.0121 - accuracy: 0.9835\n",
      "Epoch 168/1000\n",
      "1/1 [==============================] - 0s 15ms/stepss: 0.0121 - accuracy: 0.98\n"
     ]
    },
    {
     "name": "stderr",
     "output_type": "stream",
     "text": [
      "Clipping input data to the valid range for imshow with RGB data ([0..1] for floats or [0..255] for integers).\n"
     ]
    },
    {
     "name": "stdout",
     "output_type": "stream",
     "text": [
      "1/1 [==============================] - 0s 97ms/step - loss: 0.0121 - accuracy: 0.9835\n",
      "Epoch 169/1000\n",
      "1/1 [==============================] - 0s 15ms/stepss: 0.0120 - accuracy: 0.98\n"
     ]
    },
    {
     "name": "stderr",
     "output_type": "stream",
     "text": [
      "Clipping input data to the valid range for imshow with RGB data ([0..1] for floats or [0..255] for integers).\n"
     ]
    },
    {
     "name": "stdout",
     "output_type": "stream",
     "text": [
      "1/1 [==============================] - 0s 98ms/step - loss: 0.0120 - accuracy: 0.9834\n",
      "Epoch 170/1000\n",
      "1/1 [==============================] - 0s 14ms/stepss: 0.0119 - accuracy: 0.98\n"
     ]
    },
    {
     "name": "stderr",
     "output_type": "stream",
     "text": [
      "Clipping input data to the valid range for imshow with RGB data ([0..1] for floats or [0..255] for integers).\n"
     ]
    },
    {
     "name": "stdout",
     "output_type": "stream",
     "text": [
      "1/1 [==============================] - 0s 98ms/step - loss: 0.0119 - accuracy: 0.9834\n",
      "Epoch 171/1000\n",
      "1/1 [==============================] - 0s 16ms/stepss: 0.0119 - accuracy: 0.98\n"
     ]
    },
    {
     "name": "stderr",
     "output_type": "stream",
     "text": [
      "Clipping input data to the valid range for imshow with RGB data ([0..1] for floats or [0..255] for integers).\n"
     ]
    },
    {
     "name": "stdout",
     "output_type": "stream",
     "text": [
      "1/1 [==============================] - 0s 99ms/step - loss: 0.0119 - accuracy: 0.9834\n",
      "Epoch 172/1000\n",
      "1/1 [==============================] - 0s 15ms/stepss: 0.0118 - accuracy: 0.98\n"
     ]
    },
    {
     "name": "stderr",
     "output_type": "stream",
     "text": [
      "Clipping input data to the valid range for imshow with RGB data ([0..1] for floats or [0..255] for integers).\n"
     ]
    },
    {
     "name": "stdout",
     "output_type": "stream",
     "text": [
      "1/1 [==============================] - 0s 101ms/step - loss: 0.0118 - accuracy: 0.9835\n",
      "Epoch 173/1000\n",
      "1/1 [==============================] - 0s 16ms/stepss: 0.0118 - accuracy: 0.98\n"
     ]
    },
    {
     "name": "stderr",
     "output_type": "stream",
     "text": [
      "Clipping input data to the valid range for imshow with RGB data ([0..1] for floats or [0..255] for integers).\n"
     ]
    },
    {
     "name": "stdout",
     "output_type": "stream",
     "text": [
      "1/1 [==============================] - 0s 99ms/step - loss: 0.0118 - accuracy: 0.9835\n",
      "Epoch 174/1000\n",
      "1/1 [==============================] - 0s 14ms/stepss: 0.0118 - accuracy: 0.98\n"
     ]
    },
    {
     "name": "stderr",
     "output_type": "stream",
     "text": [
      "Clipping input data to the valid range for imshow with RGB data ([0..1] for floats or [0..255] for integers).\n"
     ]
    },
    {
     "name": "stdout",
     "output_type": "stream",
     "text": [
      "1/1 [==============================] - 0s 99ms/step - loss: 0.0118 - accuracy: 0.9834\n",
      "Epoch 175/1000\n",
      "1/1 [==============================] - 0s 15ms/stepss: 0.0119 - accuracy: 0.98\n"
     ]
    },
    {
     "name": "stderr",
     "output_type": "stream",
     "text": [
      "Clipping input data to the valid range for imshow with RGB data ([0..1] for floats or [0..255] for integers).\n"
     ]
    },
    {
     "name": "stdout",
     "output_type": "stream",
     "text": [
      "1/1 [==============================] - 0s 96ms/step - loss: 0.0119 - accuracy: 0.9834\n",
      "Epoch 176/1000\n",
      "1/1 [==============================] - 0s 16ms/stepss: 0.0123 - accuracy: 0.98\n"
     ]
    },
    {
     "name": "stderr",
     "output_type": "stream",
     "text": [
      "Clipping input data to the valid range for imshow with RGB data ([0..1] for floats or [0..255] for integers).\n"
     ]
    },
    {
     "name": "stdout",
     "output_type": "stream",
     "text": [
      "1/1 [==============================] - 0s 102ms/step - loss: 0.0123 - accuracy: 0.9833\n",
      "Epoch 177/1000\n",
      "1/1 [==============================] - 0s 14ms/stepss: 0.0127 - accuracy: 0.98\n"
     ]
    },
    {
     "name": "stderr",
     "output_type": "stream",
     "text": [
      "Clipping input data to the valid range for imshow with RGB data ([0..1] for floats or [0..255] for integers).\n"
     ]
    },
    {
     "name": "stdout",
     "output_type": "stream",
     "text": [
      "1/1 [==============================] - 0s 96ms/step - loss: 0.0127 - accuracy: 0.9832\n",
      "Epoch 178/1000\n",
      "1/1 [==============================] - 0s 14ms/stepss: 0.0117 - accuracy: 0.98\n"
     ]
    },
    {
     "name": "stderr",
     "output_type": "stream",
     "text": [
      "Clipping input data to the valid range for imshow with RGB data ([0..1] for floats or [0..255] for integers).\n"
     ]
    },
    {
     "name": "stdout",
     "output_type": "stream",
     "text": [
      "1/1 [==============================] - 0s 93ms/step - loss: 0.0117 - accuracy: 0.9831\n",
      "Epoch 179/1000\n",
      "1/1 [==============================] - 0s 14ms/stepss: 0.0116 - accuracy: 0.98\n"
     ]
    },
    {
     "name": "stderr",
     "output_type": "stream",
     "text": [
      "Clipping input data to the valid range for imshow with RGB data ([0..1] for floats or [0..255] for integers).\n"
     ]
    },
    {
     "name": "stdout",
     "output_type": "stream",
     "text": [
      "1/1 [==============================] - 0s 95ms/step - loss: 0.0116 - accuracy: 0.9831\n",
      "Epoch 180/1000\n",
      "1/1 [==============================] - 0s 14ms/stepss: 0.0121 - accuracy: 0.98\n"
     ]
    },
    {
     "name": "stderr",
     "output_type": "stream",
     "text": [
      "Clipping input data to the valid range for imshow with RGB data ([0..1] for floats or [0..255] for integers).\n"
     ]
    },
    {
     "name": "stdout",
     "output_type": "stream",
     "text": [
      "1/1 [==============================] - 0s 94ms/step - loss: 0.0121 - accuracy: 0.9833\n",
      "Epoch 181/1000\n",
      "1/1 [==============================] - 0s 14ms/stepss: 0.0114 - accuracy: 0.98\n"
     ]
    },
    {
     "name": "stderr",
     "output_type": "stream",
     "text": [
      "Clipping input data to the valid range for imshow with RGB data ([0..1] for floats or [0..255] for integers).\n"
     ]
    },
    {
     "name": "stdout",
     "output_type": "stream",
     "text": [
      "1/1 [==============================] - 0s 96ms/step - loss: 0.0114 - accuracy: 0.9833\n",
      "Epoch 182/1000\n",
      "1/1 [==============================] - 0s 14ms/stepss: 0.0116 - accuracy: 0.98\n"
     ]
    },
    {
     "name": "stderr",
     "output_type": "stream",
     "text": [
      "Clipping input data to the valid range for imshow with RGB data ([0..1] for floats or [0..255] for integers).\n"
     ]
    },
    {
     "name": "stdout",
     "output_type": "stream",
     "text": [
      "1/1 [==============================] - 0s 94ms/step - loss: 0.0116 - accuracy: 0.9832\n",
      "Epoch 183/1000\n",
      "1/1 [==============================] - 0s 14ms/stepss: 0.0118 - accuracy: 0.98\n"
     ]
    },
    {
     "name": "stderr",
     "output_type": "stream",
     "text": [
      "Clipping input data to the valid range for imshow with RGB data ([0..1] for floats or [0..255] for integers).\n"
     ]
    },
    {
     "name": "stdout",
     "output_type": "stream",
     "text": [
      "1/1 [==============================] - 0s 92ms/step - loss: 0.0118 - accuracy: 0.9834\n",
      "Epoch 184/1000\n",
      "1/1 [==============================] - 0s 18ms/stepss: 0.0112 - accuracy: 0.98\n"
     ]
    },
    {
     "name": "stderr",
     "output_type": "stream",
     "text": [
      "Clipping input data to the valid range for imshow with RGB data ([0..1] for floats or [0..255] for integers).\n"
     ]
    },
    {
     "name": "stdout",
     "output_type": "stream",
     "text": [
      "1/1 [==============================] - 0s 100ms/step - loss: 0.0112 - accuracy: 0.9834\n",
      "Epoch 185/1000\n",
      "1/1 [==============================] - 0s 15ms/stepss: 0.0117 - accuracy: 0.98\n"
     ]
    },
    {
     "name": "stderr",
     "output_type": "stream",
     "text": [
      "Clipping input data to the valid range for imshow with RGB data ([0..1] for floats or [0..255] for integers).\n"
     ]
    },
    {
     "name": "stdout",
     "output_type": "stream",
     "text": [
      "1/1 [==============================] - 0s 98ms/step - loss: 0.0117 - accuracy: 0.9832\n",
      "Epoch 186/1000\n",
      "1/1 [==============================] - 0s 15ms/stepss: 0.0114 - accuracy: 0.98\n"
     ]
    },
    {
     "name": "stderr",
     "output_type": "stream",
     "text": [
      "Clipping input data to the valid range for imshow with RGB data ([0..1] for floats or [0..255] for integers).\n"
     ]
    },
    {
     "name": "stdout",
     "output_type": "stream",
     "text": [
      "1/1 [==============================] - 0s 96ms/step - loss: 0.0114 - accuracy: 0.9832\n",
      "Epoch 187/1000\n",
      "1/1 [==============================] - 0s 15ms/stepss: 0.0112 - accuracy: 0.98\n"
     ]
    },
    {
     "name": "stderr",
     "output_type": "stream",
     "text": [
      "Clipping input data to the valid range for imshow with RGB data ([0..1] for floats or [0..255] for integers).\n"
     ]
    },
    {
     "name": "stdout",
     "output_type": "stream",
     "text": [
      "1/1 [==============================] - 0s 96ms/step - loss: 0.0112 - accuracy: 0.9831\n",
      "Epoch 188/1000\n",
      "1/1 [==============================] - 0s 15ms/stepss: 0.0115 - accuracy: 0.98\n"
     ]
    },
    {
     "name": "stderr",
     "output_type": "stream",
     "text": [
      "Clipping input data to the valid range for imshow with RGB data ([0..1] for floats or [0..255] for integers).\n"
     ]
    },
    {
     "name": "stdout",
     "output_type": "stream",
     "text": [
      "1/1 [==============================] - 0s 97ms/step - loss: 0.0115 - accuracy: 0.9830\n",
      "Epoch 189/1000\n",
      "1/1 [==============================] - 0s 16ms/stepss: 0.0110 - accuracy: 0.98\n"
     ]
    },
    {
     "name": "stderr",
     "output_type": "stream",
     "text": [
      "Clipping input data to the valid range for imshow with RGB data ([0..1] for floats or [0..255] for integers).\n"
     ]
    },
    {
     "name": "stdout",
     "output_type": "stream",
     "text": [
      "1/1 [==============================] - 0s 102ms/step - loss: 0.0110 - accuracy: 0.9832\n",
      "Epoch 190/1000\n",
      "1/1 [==============================] - 0s 16ms/stepss: 0.0112 - accuracy: 0.98\n"
     ]
    },
    {
     "name": "stderr",
     "output_type": "stream",
     "text": [
      "Clipping input data to the valid range for imshow with RGB data ([0..1] for floats or [0..255] for integers).\n"
     ]
    },
    {
     "name": "stdout",
     "output_type": "stream",
     "text": [
      "1/1 [==============================] - 0s 100ms/step - loss: 0.0112 - accuracy: 0.9833\n",
      "Epoch 191/1000\n",
      "1/1 [==============================] - 0s 15ms/stepss: 0.0111 - accuracy: 0.98\n"
     ]
    },
    {
     "name": "stderr",
     "output_type": "stream",
     "text": [
      "Clipping input data to the valid range for imshow with RGB data ([0..1] for floats or [0..255] for integers).\n"
     ]
    },
    {
     "name": "stdout",
     "output_type": "stream",
     "text": [
      "1/1 [==============================] - 0s 97ms/step - loss: 0.0111 - accuracy: 0.9832\n",
      "Epoch 192/1000\n",
      "1/1 [==============================] - 0s 14ms/stepss: 0.0109 - accuracy: 0.98\n"
     ]
    },
    {
     "name": "stderr",
     "output_type": "stream",
     "text": [
      "Clipping input data to the valid range for imshow with RGB data ([0..1] for floats or [0..255] for integers).\n"
     ]
    },
    {
     "name": "stdout",
     "output_type": "stream",
     "text": [
      "1/1 [==============================] - 0s 95ms/step - loss: 0.0109 - accuracy: 0.9832\n",
      "Epoch 193/1000\n",
      "1/1 [==============================] - 0s 15ms/stepss: 0.0111 - accuracy: 0.98\n"
     ]
    },
    {
     "name": "stderr",
     "output_type": "stream",
     "text": [
      "Clipping input data to the valid range for imshow with RGB data ([0..1] for floats or [0..255] for integers).\n"
     ]
    },
    {
     "name": "stdout",
     "output_type": "stream",
     "text": [
      "1/1 [==============================] - 0s 100ms/step - loss: 0.0111 - accuracy: 0.9832\n",
      "Epoch 194/1000\n",
      "1/1 [==============================] - 0s 14ms/stepss: 0.0108 - accuracy: 0.98\n"
     ]
    },
    {
     "name": "stderr",
     "output_type": "stream",
     "text": [
      "Clipping input data to the valid range for imshow with RGB data ([0..1] for floats or [0..255] for integers).\n"
     ]
    },
    {
     "name": "stdout",
     "output_type": "stream",
     "text": [
      "1/1 [==============================] - 0s 100ms/step - loss: 0.0108 - accuracy: 0.9831\n",
      "Epoch 195/1000\n",
      "1/1 [==============================] - 0s 15ms/stepss: 0.0110 - accuracy: 0.98\n"
     ]
    },
    {
     "name": "stderr",
     "output_type": "stream",
     "text": [
      "Clipping input data to the valid range for imshow with RGB data ([0..1] for floats or [0..255] for integers).\n"
     ]
    },
    {
     "name": "stdout",
     "output_type": "stream",
     "text": [
      "1/1 [==============================] - 0s 98ms/step - loss: 0.0110 - accuracy: 0.9830\n",
      "Epoch 196/1000\n",
      "1/1 [==============================] - 0s 14ms/stepss: 0.0108 - accuracy: 0.98\n"
     ]
    },
    {
     "name": "stderr",
     "output_type": "stream",
     "text": [
      "Clipping input data to the valid range for imshow with RGB data ([0..1] for floats or [0..255] for integers).\n"
     ]
    },
    {
     "name": "stdout",
     "output_type": "stream",
     "text": [
      "1/1 [==============================] - 0s 98ms/step - loss: 0.0108 - accuracy: 0.9831\n",
      "Epoch 197/1000\n",
      "1/1 [==============================] - 0s 14ms/stepss: 0.0107 - accuracy: 0.98\n"
     ]
    },
    {
     "name": "stderr",
     "output_type": "stream",
     "text": [
      "Clipping input data to the valid range for imshow with RGB data ([0..1] for floats or [0..255] for integers).\n"
     ]
    },
    {
     "name": "stdout",
     "output_type": "stream",
     "text": [
      "1/1 [==============================] - 0s 96ms/step - loss: 0.0107 - accuracy: 0.9832\n",
      "Epoch 198/1000\n",
      "1/1 [==============================] - 0s 15ms/stepss: 0.0108 - accuracy: 0.98\n"
     ]
    },
    {
     "name": "stderr",
     "output_type": "stream",
     "text": [
      "Clipping input data to the valid range for imshow with RGB data ([0..1] for floats or [0..255] for integers).\n"
     ]
    },
    {
     "name": "stdout",
     "output_type": "stream",
     "text": [
      "1/1 [==============================] - 0s 97ms/step - loss: 0.0108 - accuracy: 0.9830\n",
      "Epoch 199/1000\n",
      "1/1 [==============================] - 0s 18ms/stepss: 0.0106 - accuracy: 0.98\n"
     ]
    },
    {
     "name": "stderr",
     "output_type": "stream",
     "text": [
      "Clipping input data to the valid range for imshow with RGB data ([0..1] for floats or [0..255] for integers).\n"
     ]
    },
    {
     "name": "stdout",
     "output_type": "stream",
     "text": [
      "1/1 [==============================] - 0s 105ms/step - loss: 0.0106 - accuracy: 0.9831\n",
      "Epoch 200/1000\n",
      "1/1 [==============================] - 0s 16ms/stepss: 0.0107 - accuracy: 0.98\n"
     ]
    },
    {
     "name": "stderr",
     "output_type": "stream",
     "text": [
      "Clipping input data to the valid range for imshow with RGB data ([0..1] for floats or [0..255] for integers).\n"
     ]
    },
    {
     "name": "stdout",
     "output_type": "stream",
     "text": [
      "1/1 [==============================] - 0s 103ms/step - loss: 0.0107 - accuracy: 0.9831\n",
      "Epoch 201/1000\n",
      "1/1 [==============================] - 0s 15ms/stepss: 0.0106 - accuracy: 0.98\n"
     ]
    },
    {
     "name": "stderr",
     "output_type": "stream",
     "text": [
      "Clipping input data to the valid range for imshow with RGB data ([0..1] for floats or [0..255] for integers).\n"
     ]
    },
    {
     "name": "stdout",
     "output_type": "stream",
     "text": [
      "1/1 [==============================] - 2s 2s/step - loss: 0.0106 - accuracy: 0.9830\n",
      "Epoch 202/1000\n",
      "1/1 [==============================] - 0s 14ms/stepss: 0.0105 - accuracy: 0.98\n"
     ]
    },
    {
     "name": "stderr",
     "output_type": "stream",
     "text": [
      "Clipping input data to the valid range for imshow with RGB data ([0..1] for floats or [0..255] for integers).\n"
     ]
    },
    {
     "name": "stdout",
     "output_type": "stream",
     "text": [
      "1/1 [==============================] - 0s 95ms/step - loss: 0.0105 - accuracy: 0.9831\n",
      "Epoch 203/1000\n",
      "1/1 [==============================] - 0s 15ms/stepss: 0.0106 - accuracy: 0.98\n"
     ]
    },
    {
     "name": "stderr",
     "output_type": "stream",
     "text": [
      "Clipping input data to the valid range for imshow with RGB data ([0..1] for floats or [0..255] for integers).\n"
     ]
    },
    {
     "name": "stdout",
     "output_type": "stream",
     "text": [
      "1/1 [==============================] - 0s 96ms/step - loss: 0.0106 - accuracy: 0.9831\n",
      "Epoch 204/1000\n",
      "1/1 [==============================] - 0s 14ms/stepss: 0.0105 - accuracy: 0.98\n"
     ]
    },
    {
     "name": "stderr",
     "output_type": "stream",
     "text": [
      "Clipping input data to the valid range for imshow with RGB data ([0..1] for floats or [0..255] for integers).\n"
     ]
    },
    {
     "name": "stdout",
     "output_type": "stream",
     "text": [
      "1/1 [==============================] - 0s 98ms/step - loss: 0.0105 - accuracy: 0.9830\n",
      "Epoch 205/1000\n",
      "1/1 [==============================] - 0s 15ms/stepss: 0.0104 - accuracy: 0.98\n"
     ]
    },
    {
     "name": "stderr",
     "output_type": "stream",
     "text": [
      "Clipping input data to the valid range for imshow with RGB data ([0..1] for floats or [0..255] for integers).\n"
     ]
    },
    {
     "name": "stdout",
     "output_type": "stream",
     "text": [
      "1/1 [==============================] - 0s 97ms/step - loss: 0.0104 - accuracy: 0.9829\n",
      "Epoch 206/1000\n",
      "1/1 [==============================] - 0s 15ms/stepss: 0.0104 - accuracy: 0.98\n"
     ]
    },
    {
     "name": "stderr",
     "output_type": "stream",
     "text": [
      "Clipping input data to the valid range for imshow with RGB data ([0..1] for floats or [0..255] for integers).\n"
     ]
    },
    {
     "name": "stdout",
     "output_type": "stream",
     "text": [
      "1/1 [==============================] - 0s 95ms/step - loss: 0.0104 - accuracy: 0.9830\n",
      "Epoch 207/1000\n",
      "1/1 [==============================] - 0s 14ms/stepss: 0.0103 - accuracy: 0.98\n"
     ]
    },
    {
     "name": "stderr",
     "output_type": "stream",
     "text": [
      "Clipping input data to the valid range for imshow with RGB data ([0..1] for floats or [0..255] for integers).\n"
     ]
    },
    {
     "name": "stdout",
     "output_type": "stream",
     "text": [
      "1/1 [==============================] - 0s 94ms/step - loss: 0.0103 - accuracy: 0.9829\n",
      "Epoch 208/1000\n",
      "1/1 [==============================] - 0s 14ms/stepss: 0.0103 - accuracy: 0.98\n"
     ]
    },
    {
     "name": "stderr",
     "output_type": "stream",
     "text": [
      "Clipping input data to the valid range for imshow with RGB data ([0..1] for floats or [0..255] for integers).\n"
     ]
    },
    {
     "name": "stdout",
     "output_type": "stream",
     "text": [
      "1/1 [==============================] - 0s 94ms/step - loss: 0.0103 - accuracy: 0.9829\n",
      "Epoch 209/1000\n",
      "1/1 [==============================] - 0s 14ms/stepss: 0.0103 - accuracy: 0.98\n"
     ]
    },
    {
     "name": "stderr",
     "output_type": "stream",
     "text": [
      "Clipping input data to the valid range for imshow with RGB data ([0..1] for floats or [0..255] for integers).\n"
     ]
    },
    {
     "name": "stdout",
     "output_type": "stream",
     "text": [
      "1/1 [==============================] - 0s 95ms/step - loss: 0.0103 - accuracy: 0.9830\n",
      "Epoch 210/1000\n",
      "1/1 [==============================] - 0s 14ms/stepss: 0.0102 - accuracy: 0.98\n"
     ]
    },
    {
     "name": "stderr",
     "output_type": "stream",
     "text": [
      "Clipping input data to the valid range for imshow with RGB data ([0..1] for floats or [0..255] for integers).\n"
     ]
    },
    {
     "name": "stdout",
     "output_type": "stream",
     "text": [
      "1/1 [==============================] - 0s 94ms/step - loss: 0.0102 - accuracy: 0.9829\n",
      "Epoch 211/1000\n",
      "1/1 [==============================] - 0s 15ms/stepss: 0.0102 - accuracy: 0.98\n"
     ]
    },
    {
     "name": "stderr",
     "output_type": "stream",
     "text": [
      "Clipping input data to the valid range for imshow with RGB data ([0..1] for floats or [0..255] for integers).\n"
     ]
    },
    {
     "name": "stdout",
     "output_type": "stream",
     "text": [
      "1/1 [==============================] - 0s 95ms/step - loss: 0.0102 - accuracy: 0.9828\n",
      "Epoch 212/1000\n",
      "1/1 [==============================] - 0s 15ms/stepss: 0.0102 - accuracy: 0.98\n"
     ]
    },
    {
     "name": "stderr",
     "output_type": "stream",
     "text": [
      "Clipping input data to the valid range for imshow with RGB data ([0..1] for floats or [0..255] for integers).\n"
     ]
    },
    {
     "name": "stdout",
     "output_type": "stream",
     "text": [
      "1/1 [==============================] - 0s 99ms/step - loss: 0.0102 - accuracy: 0.9829\n",
      "Epoch 213/1000\n",
      "1/1 [==============================] - 0s 15ms/stepss: 0.0101 - accuracy: 0.98\n"
     ]
    },
    {
     "name": "stderr",
     "output_type": "stream",
     "text": [
      "Clipping input data to the valid range for imshow with RGB data ([0..1] for floats or [0..255] for integers).\n"
     ]
    },
    {
     "name": "stdout",
     "output_type": "stream",
     "text": [
      "1/1 [==============================] - 0s 98ms/step - loss: 0.0101 - accuracy: 0.9827\n",
      "Epoch 214/1000\n",
      "1/1 [==============================] - 0s 17ms/stepss: 0.0101 - accuracy: 0.98\n"
     ]
    },
    {
     "name": "stderr",
     "output_type": "stream",
     "text": [
      "Clipping input data to the valid range for imshow with RGB data ([0..1] for floats or [0..255] for integers).\n"
     ]
    },
    {
     "name": "stdout",
     "output_type": "stream",
     "text": [
      "1/1 [==============================] - 0s 109ms/step - loss: 0.0101 - accuracy: 0.9826\n",
      "Epoch 215/1000\n",
      "1/1 [==============================] - 0s 15ms/stepss: 0.0101 - accuracy: 0.98\n"
     ]
    },
    {
     "name": "stderr",
     "output_type": "stream",
     "text": [
      "Clipping input data to the valid range for imshow with RGB data ([0..1] for floats or [0..255] for integers).\n"
     ]
    },
    {
     "name": "stdout",
     "output_type": "stream",
     "text": [
      "1/1 [==============================] - 0s 99ms/step - loss: 0.0101 - accuracy: 0.9828\n",
      "Epoch 216/1000\n",
      "1/1 [==============================] - 0s 15ms/stepss: 0.0100 - accuracy: 0.98\n"
     ]
    },
    {
     "name": "stderr",
     "output_type": "stream",
     "text": [
      "Clipping input data to the valid range for imshow with RGB data ([0..1] for floats or [0..255] for integers).\n"
     ]
    },
    {
     "name": "stdout",
     "output_type": "stream",
     "text": [
      "1/1 [==============================] - 0s 102ms/step - loss: 0.0100 - accuracy: 0.9827\n",
      "Epoch 217/1000\n",
      "1/1 [==============================] - 0s 15ms/stepss: 0.0100 - accuracy: 0.98\n"
     ]
    },
    {
     "name": "stderr",
     "output_type": "stream",
     "text": [
      "Clipping input data to the valid range for imshow with RGB data ([0..1] for floats or [0..255] for integers).\n"
     ]
    },
    {
     "name": "stdout",
     "output_type": "stream",
     "text": [
      "1/1 [==============================] - 0s 97ms/step - loss: 0.0100 - accuracy: 0.9828\n",
      "Epoch 218/1000\n",
      "1/1 [==============================] - 0s 14ms/stepss: 0.0100 - accuracy: 0.98\n"
     ]
    },
    {
     "name": "stderr",
     "output_type": "stream",
     "text": [
      "Clipping input data to the valid range for imshow with RGB data ([0..1] for floats or [0..255] for integers).\n"
     ]
    },
    {
     "name": "stdout",
     "output_type": "stream",
     "text": [
      "1/1 [==============================] - 0s 94ms/step - loss: 0.0100 - accuracy: 0.9829\n",
      "Epoch 219/1000\n",
      "1/1 [==============================] - 0s 17ms/stepss: 0.0099 - accuracy: 0.98\n"
     ]
    },
    {
     "name": "stderr",
     "output_type": "stream",
     "text": [
      "Clipping input data to the valid range for imshow with RGB data ([0..1] for floats or [0..255] for integers).\n"
     ]
    },
    {
     "name": "stdout",
     "output_type": "stream",
     "text": [
      "1/1 [==============================] - 0s 104ms/step - loss: 0.0099 - accuracy: 0.9828\n",
      "Epoch 220/1000\n",
      "1/1 [==============================] - 0s 17ms/stepss: 0.0099 - accuracy: 0.98\n"
     ]
    },
    {
     "name": "stderr",
     "output_type": "stream",
     "text": [
      "Clipping input data to the valid range for imshow with RGB data ([0..1] for floats or [0..255] for integers).\n"
     ]
    },
    {
     "name": "stdout",
     "output_type": "stream",
     "text": [
      "1/1 [==============================] - 0s 100ms/step - loss: 0.0099 - accuracy: 0.9827\n",
      "Epoch 221/1000\n",
      "1/1 [==============================] - 0s 16ms/stepss: 0.0099 - accuracy: 0.98\n"
     ]
    },
    {
     "name": "stderr",
     "output_type": "stream",
     "text": [
      "Clipping input data to the valid range for imshow with RGB data ([0..1] for floats or [0..255] for integers).\n"
     ]
    },
    {
     "name": "stdout",
     "output_type": "stream",
     "text": [
      "1/1 [==============================] - 0s 100ms/step - loss: 0.0099 - accuracy: 0.9829\n",
      "Epoch 222/1000\n",
      "1/1 [==============================] - 0s 16ms/stepss: 0.0098 - accuracy: 0.98\n"
     ]
    },
    {
     "name": "stderr",
     "output_type": "stream",
     "text": [
      "Clipping input data to the valid range for imshow with RGB data ([0..1] for floats or [0..255] for integers).\n"
     ]
    },
    {
     "name": "stdout",
     "output_type": "stream",
     "text": [
      "1/1 [==============================] - 0s 98ms/step - loss: 0.0098 - accuracy: 0.9827\n",
      "Epoch 223/1000\n",
      "1/1 [==============================] - 0s 14ms/stepss: 0.0098 - accuracy: 0.98\n"
     ]
    },
    {
     "name": "stderr",
     "output_type": "stream",
     "text": [
      "Clipping input data to the valid range for imshow with RGB data ([0..1] for floats or [0..255] for integers).\n"
     ]
    },
    {
     "name": "stdout",
     "output_type": "stream",
     "text": [
      "1/1 [==============================] - 0s 96ms/step - loss: 0.0098 - accuracy: 0.9828\n",
      "Epoch 224/1000\n",
      "1/1 [==============================] - 0s 15ms/stepss: 0.0097 - accuracy: 0.98\n"
     ]
    },
    {
     "name": "stderr",
     "output_type": "stream",
     "text": [
      "Clipping input data to the valid range for imshow with RGB data ([0..1] for floats or [0..255] for integers).\n"
     ]
    },
    {
     "name": "stdout",
     "output_type": "stream",
     "text": [
      "1/1 [==============================] - 0s 102ms/step - loss: 0.0097 - accuracy: 0.9828\n",
      "Epoch 225/1000\n",
      "1/1 [==============================] - 0s 15ms/stepss: 0.0097 - accuracy: 0.98\n"
     ]
    },
    {
     "name": "stderr",
     "output_type": "stream",
     "text": [
      "Clipping input data to the valid range for imshow with RGB data ([0..1] for floats or [0..255] for integers).\n"
     ]
    },
    {
     "name": "stdout",
     "output_type": "stream",
     "text": [
      "1/1 [==============================] - 0s 97ms/step - loss: 0.0097 - accuracy: 0.9826\n",
      "Epoch 226/1000\n",
      "1/1 [==============================] - 0s 15ms/stepss: 0.0097 - accuracy: 0.98\n"
     ]
    },
    {
     "name": "stderr",
     "output_type": "stream",
     "text": [
      "Clipping input data to the valid range for imshow with RGB data ([0..1] for floats or [0..255] for integers).\n"
     ]
    },
    {
     "name": "stdout",
     "output_type": "stream",
     "text": [
      "1/1 [==============================] - 0s 98ms/step - loss: 0.0097 - accuracy: 0.9826\n",
      "Epoch 227/1000\n",
      "1/1 [==============================] - 0s 15ms/stepss: 0.0096 - accuracy: 0.98\n"
     ]
    },
    {
     "name": "stderr",
     "output_type": "stream",
     "text": [
      "Clipping input data to the valid range for imshow with RGB data ([0..1] for floats or [0..255] for integers).\n"
     ]
    },
    {
     "name": "stdout",
     "output_type": "stream",
     "text": [
      "1/1 [==============================] - 0s 99ms/step - loss: 0.0096 - accuracy: 0.9825\n",
      "Epoch 228/1000\n",
      "1/1 [==============================] - 0s 15ms/stepss: 0.0096 - accuracy: 0.98\n"
     ]
    },
    {
     "name": "stderr",
     "output_type": "stream",
     "text": [
      "Clipping input data to the valid range for imshow with RGB data ([0..1] for floats or [0..255] for integers).\n"
     ]
    },
    {
     "name": "stdout",
     "output_type": "stream",
     "text": [
      "1/1 [==============================] - 0s 96ms/step - loss: 0.0096 - accuracy: 0.9825\n",
      "Epoch 229/1000\n",
      "1/1 [==============================] - 0s 16ms/stepss: 0.0096 - accuracy: 0.98\n"
     ]
    },
    {
     "name": "stderr",
     "output_type": "stream",
     "text": [
      "Clipping input data to the valid range for imshow with RGB data ([0..1] for floats or [0..255] for integers).\n"
     ]
    },
    {
     "name": "stdout",
     "output_type": "stream",
     "text": [
      "1/1 [==============================] - 0s 107ms/step - loss: 0.0096 - accuracy: 0.9827\n",
      "Epoch 230/1000\n",
      "1/1 [==============================] - 0s 15ms/stepss: 0.0095 - accuracy: 0.98\n"
     ]
    },
    {
     "name": "stderr",
     "output_type": "stream",
     "text": [
      "Clipping input data to the valid range for imshow with RGB data ([0..1] for floats or [0..255] for integers).\n"
     ]
    },
    {
     "name": "stdout",
     "output_type": "stream",
     "text": [
      "1/1 [==============================] - 0s 99ms/step - loss: 0.0095 - accuracy: 0.9826\n",
      "Epoch 231/1000\n",
      "1/1 [==============================] - 0s 15ms/stepss: 0.0095 - accuracy: 0.98\n"
     ]
    },
    {
     "name": "stderr",
     "output_type": "stream",
     "text": [
      "Clipping input data to the valid range for imshow with RGB data ([0..1] for floats or [0..255] for integers).\n"
     ]
    },
    {
     "name": "stdout",
     "output_type": "stream",
     "text": [
      "1/1 [==============================] - 0s 100ms/step - loss: 0.0095 - accuracy: 0.9828\n",
      "Epoch 232/1000\n",
      "1/1 [==============================] - 0s 16ms/stepss: 0.0095 - accuracy: 0.98\n"
     ]
    },
    {
     "name": "stderr",
     "output_type": "stream",
     "text": [
      "Clipping input data to the valid range for imshow with RGB data ([0..1] for floats or [0..255] for integers).\n"
     ]
    },
    {
     "name": "stdout",
     "output_type": "stream",
     "text": [
      "1/1 [==============================] - 0s 98ms/step - loss: 0.0095 - accuracy: 0.9827\n",
      "Epoch 233/1000\n",
      "1/1 [==============================] - 0s 16ms/stepss: 0.0094 - accuracy: 0.98\n"
     ]
    },
    {
     "name": "stderr",
     "output_type": "stream",
     "text": [
      "Clipping input data to the valid range for imshow with RGB data ([0..1] for floats or [0..255] for integers).\n"
     ]
    },
    {
     "name": "stdout",
     "output_type": "stream",
     "text": [
      "1/1 [==============================] - 0s 99ms/step - loss: 0.0094 - accuracy: 0.9827\n",
      "Epoch 234/1000\n",
      "1/1 [==============================] - 0s 16ms/stepss: 0.0094 - accuracy: 0.98\n"
     ]
    },
    {
     "name": "stderr",
     "output_type": "stream",
     "text": [
      "Clipping input data to the valid range for imshow with RGB data ([0..1] for floats or [0..255] for integers).\n"
     ]
    },
    {
     "name": "stdout",
     "output_type": "stream",
     "text": [
      "1/1 [==============================] - 0s 109ms/step - loss: 0.0094 - accuracy: 0.9827\n",
      "Epoch 235/1000\n",
      "1/1 [==============================] - 0s 15ms/stepss: 0.0094 - accuracy: 0.98\n"
     ]
    },
    {
     "name": "stderr",
     "output_type": "stream",
     "text": [
      "Clipping input data to the valid range for imshow with RGB data ([0..1] for floats or [0..255] for integers).\n"
     ]
    },
    {
     "name": "stdout",
     "output_type": "stream",
     "text": [
      "1/1 [==============================] - 0s 98ms/step - loss: 0.0094 - accuracy: 0.9826\n",
      "Epoch 236/1000\n",
      "1/1 [==============================] - 0s 15ms/stepss: 0.0093 - accuracy: 0.98\n"
     ]
    },
    {
     "name": "stderr",
     "output_type": "stream",
     "text": [
      "Clipping input data to the valid range for imshow with RGB data ([0..1] for floats or [0..255] for integers).\n"
     ]
    },
    {
     "name": "stdout",
     "output_type": "stream",
     "text": [
      "1/1 [==============================] - 0s 99ms/step - loss: 0.0093 - accuracy: 0.9827\n",
      "Epoch 237/1000\n",
      "1/1 [==============================] - 0s 15ms/stepss: 0.0093 - accuracy: 0.98\n"
     ]
    },
    {
     "name": "stderr",
     "output_type": "stream",
     "text": [
      "Clipping input data to the valid range for imshow with RGB data ([0..1] for floats or [0..255] for integers).\n"
     ]
    },
    {
     "name": "stdout",
     "output_type": "stream",
     "text": [
      "1/1 [==============================] - 0s 101ms/step - loss: 0.0093 - accuracy: 0.9825\n",
      "Epoch 238/1000\n",
      "1/1 [==============================] - 0s 14ms/stepss: 0.0093 - accuracy: 0.98\n"
     ]
    },
    {
     "name": "stderr",
     "output_type": "stream",
     "text": [
      "Clipping input data to the valid range for imshow with RGB data ([0..1] for floats or [0..255] for integers).\n"
     ]
    },
    {
     "name": "stdout",
     "output_type": "stream",
     "text": [
      "1/1 [==============================] - 0s 98ms/step - loss: 0.0093 - accuracy: 0.9827\n",
      "Epoch 239/1000\n",
      "1/1 [==============================] - 0s 18ms/stepss: 0.0093 - accuracy: 0.98\n"
     ]
    },
    {
     "name": "stderr",
     "output_type": "stream",
     "text": [
      "Clipping input data to the valid range for imshow with RGB data ([0..1] for floats or [0..255] for integers).\n"
     ]
    },
    {
     "name": "stdout",
     "output_type": "stream",
     "text": [
      "1/1 [==============================] - 0s 108ms/step - loss: 0.0093 - accuracy: 0.9825\n",
      "Epoch 240/1000\n",
      "1/1 [==============================] - 0s 15ms/stepss: 0.0092 - accuracy: 0.98\n"
     ]
    },
    {
     "name": "stderr",
     "output_type": "stream",
     "text": [
      "Clipping input data to the valid range for imshow with RGB data ([0..1] for floats or [0..255] for integers).\n"
     ]
    },
    {
     "name": "stdout",
     "output_type": "stream",
     "text": [
      "1/1 [==============================] - 0s 96ms/step - loss: 0.0092 - accuracy: 0.9827\n",
      "Epoch 241/1000\n",
      "1/1 [==============================] - 0s 15ms/stepss: 0.0092 - accuracy: 0.98\n"
     ]
    },
    {
     "name": "stderr",
     "output_type": "stream",
     "text": [
      "Clipping input data to the valid range for imshow with RGB data ([0..1] for floats or [0..255] for integers).\n"
     ]
    },
    {
     "name": "stdout",
     "output_type": "stream",
     "text": [
      "1/1 [==============================] - 0s 96ms/step - loss: 0.0092 - accuracy: 0.9824\n",
      "Epoch 242/1000\n",
      "1/1 [==============================] - 0s 15ms/stepss: 0.0092 - accuracy: 0.98\n"
     ]
    },
    {
     "name": "stderr",
     "output_type": "stream",
     "text": [
      "Clipping input data to the valid range for imshow with RGB data ([0..1] for floats or [0..255] for integers).\n"
     ]
    },
    {
     "name": "stdout",
     "output_type": "stream",
     "text": [
      "1/1 [==============================] - 0s 95ms/step - loss: 0.0092 - accuracy: 0.9827\n",
      "Epoch 243/1000\n",
      "1/1 [==============================] - 0s 14ms/stepss: 0.0091 - accuracy: 0.98\n"
     ]
    },
    {
     "name": "stderr",
     "output_type": "stream",
     "text": [
      "Clipping input data to the valid range for imshow with RGB data ([0..1] for floats or [0..255] for integers).\n"
     ]
    },
    {
     "name": "stdout",
     "output_type": "stream",
     "text": [
      "1/1 [==============================] - 0s 95ms/step - loss: 0.0091 - accuracy: 0.9824\n",
      "Epoch 244/1000\n",
      "1/1 [==============================] - 0s 14ms/stepss: 0.0091 - accuracy: 0.98\n"
     ]
    },
    {
     "name": "stderr",
     "output_type": "stream",
     "text": [
      "Clipping input data to the valid range for imshow with RGB data ([0..1] for floats or [0..255] for integers).\n"
     ]
    },
    {
     "name": "stdout",
     "output_type": "stream",
     "text": [
      "1/1 [==============================] - 0s 99ms/step - loss: 0.0091 - accuracy: 0.9827\n",
      "Epoch 245/1000\n",
      "1/1 [==============================] - 0s 17ms/stepss: 0.0091 - accuracy: 0.98\n"
     ]
    },
    {
     "name": "stderr",
     "output_type": "stream",
     "text": [
      "Clipping input data to the valid range for imshow with RGB data ([0..1] for floats or [0..255] for integers).\n"
     ]
    },
    {
     "name": "stdout",
     "output_type": "stream",
     "text": [
      "1/1 [==============================] - 0s 100ms/step - loss: 0.0091 - accuracy: 0.9825\n",
      "Epoch 246/1000\n",
      "1/1 [==============================] - 0s 19ms/stepss: 0.0091 - accuracy: 0.98\n"
     ]
    },
    {
     "name": "stderr",
     "output_type": "stream",
     "text": [
      "Clipping input data to the valid range for imshow with RGB data ([0..1] for floats or [0..255] for integers).\n"
     ]
    },
    {
     "name": "stdout",
     "output_type": "stream",
     "text": [
      "1/1 [==============================] - 0s 112ms/step - loss: 0.0091 - accuracy: 0.9827\n",
      "Epoch 247/1000\n",
      "1/1 [==============================] - 0s 16ms/stepss: 0.0092 - accuracy: 0.98\n"
     ]
    },
    {
     "name": "stderr",
     "output_type": "stream",
     "text": [
      "Clipping input data to the valid range for imshow with RGB data ([0..1] for floats or [0..255] for integers).\n"
     ]
    },
    {
     "name": "stdout",
     "output_type": "stream",
     "text": [
      "1/1 [==============================] - 0s 103ms/step - loss: 0.0092 - accuracy: 0.9823\n",
      "Epoch 248/1000\n",
      "1/1 [==============================] - 0s 18ms/stepss: 0.0092 - accuracy: 0.98\n"
     ]
    },
    {
     "name": "stderr",
     "output_type": "stream",
     "text": [
      "Clipping input data to the valid range for imshow with RGB data ([0..1] for floats or [0..255] for integers).\n"
     ]
    },
    {
     "name": "stdout",
     "output_type": "stream",
     "text": [
      "1/1 [==============================] - 0s 105ms/step - loss: 0.0092 - accuracy: 0.9825\n",
      "Epoch 249/1000\n",
      "1/1 [==============================] - 0s 18ms/stepss: 0.0092 - accuracy: 0.98\n"
     ]
    },
    {
     "name": "stderr",
     "output_type": "stream",
     "text": [
      "Clipping input data to the valid range for imshow with RGB data ([0..1] for floats or [0..255] for integers).\n"
     ]
    },
    {
     "name": "stdout",
     "output_type": "stream",
     "text": [
      "1/1 [==============================] - 0s 112ms/step - loss: 0.0092 - accuracy: 0.9822\n",
      "Epoch 250/1000\n",
      "1/1 [==============================] - 0s 18ms/stepss: 0.0092 - accuracy: 0.98\n"
     ]
    },
    {
     "name": "stderr",
     "output_type": "stream",
     "text": [
      "Clipping input data to the valid range for imshow with RGB data ([0..1] for floats or [0..255] for integers).\n"
     ]
    },
    {
     "name": "stdout",
     "output_type": "stream",
     "text": [
      "1/1 [==============================] - 0s 115ms/step - loss: 0.0092 - accuracy: 0.9824\n",
      "Epoch 251/1000\n",
      "1/1 [==============================] - 0s 17ms/stepss: 0.0090 - accuracy: 0.98\n"
     ]
    },
    {
     "name": "stderr",
     "output_type": "stream",
     "text": [
      "Clipping input data to the valid range for imshow with RGB data ([0..1] for floats or [0..255] for integers).\n"
     ]
    },
    {
     "name": "stdout",
     "output_type": "stream",
     "text": [
      "1/1 [==============================] - 0s 111ms/step - loss: 0.0090 - accuracy: 0.9824\n",
      "Epoch 252/1000\n",
      "1/1 [==============================] - 0s 16ms/stepss: 0.0089 - accuracy: 0.98\n"
     ]
    },
    {
     "name": "stderr",
     "output_type": "stream",
     "text": [
      "Clipping input data to the valid range for imshow with RGB data ([0..1] for floats or [0..255] for integers).\n"
     ]
    },
    {
     "name": "stdout",
     "output_type": "stream",
     "text": [
      "1/1 [==============================] - 0s 103ms/step - loss: 0.0089 - accuracy: 0.9826\n",
      "Epoch 253/1000\n",
      "1/1 [==============================] - 0s 18ms/stepss: 0.0088 - accuracy: 0.98\n"
     ]
    },
    {
     "name": "stderr",
     "output_type": "stream",
     "text": [
      "Clipping input data to the valid range for imshow with RGB data ([0..1] for floats or [0..255] for integers).\n"
     ]
    },
    {
     "name": "stdout",
     "output_type": "stream",
     "text": [
      "1/1 [==============================] - 0s 122ms/step - loss: 0.0088 - accuracy: 0.9827\n",
      "Epoch 254/1000\n",
      "1/1 [==============================] - 0s 24ms/stepss: 0.0088 - accuracy: 0.98\n"
     ]
    },
    {
     "name": "stderr",
     "output_type": "stream",
     "text": [
      "Clipping input data to the valid range for imshow with RGB data ([0..1] for floats or [0..255] for integers).\n"
     ]
    },
    {
     "name": "stdout",
     "output_type": "stream",
     "text": [
      "1/1 [==============================] - 0s 131ms/step - loss: 0.0088 - accuracy: 0.9826\n",
      "Epoch 255/1000\n",
      "1/1 [==============================] - 0s 16ms/stepss: 0.0089 - accuracy: 0.98\n"
     ]
    },
    {
     "name": "stderr",
     "output_type": "stream",
     "text": [
      "Clipping input data to the valid range for imshow with RGB data ([0..1] for floats or [0..255] for integers).\n"
     ]
    },
    {
     "name": "stdout",
     "output_type": "stream",
     "text": [
      "1/1 [==============================] - 0s 113ms/step - loss: 0.0089 - accuracy: 0.9825\n",
      "Epoch 256/1000\n",
      "1/1 [==============================] - 0s 17ms/stepss: 0.0089 - accuracy: 0.98\n"
     ]
    },
    {
     "name": "stderr",
     "output_type": "stream",
     "text": [
      "Clipping input data to the valid range for imshow with RGB data ([0..1] for floats or [0..255] for integers).\n"
     ]
    },
    {
     "name": "stdout",
     "output_type": "stream",
     "text": [
      "1/1 [==============================] - 0s 115ms/step - loss: 0.0089 - accuracy: 0.9824\n",
      "Epoch 257/1000\n",
      "1/1 [==============================] - 0s 17ms/stepss: 0.0089 - accuracy: 0.98\n"
     ]
    },
    {
     "name": "stderr",
     "output_type": "stream",
     "text": [
      "Clipping input data to the valid range for imshow with RGB data ([0..1] for floats or [0..255] for integers).\n"
     ]
    },
    {
     "name": "stdout",
     "output_type": "stream",
     "text": [
      "1/1 [==============================] - 0s 113ms/step - loss: 0.0089 - accuracy: 0.9826\n",
      "Epoch 258/1000\n",
      "1/1 [==============================] - 0s 20ms/stepss: 0.0087 - accuracy: 0.98\n"
     ]
    },
    {
     "name": "stderr",
     "output_type": "stream",
     "text": [
      "Clipping input data to the valid range for imshow with RGB data ([0..1] for floats or [0..255] for integers).\n"
     ]
    },
    {
     "name": "stdout",
     "output_type": "stream",
     "text": [
      "1/1 [==============================] - 0s 126ms/step - loss: 0.0087 - accuracy: 0.9825\n",
      "Epoch 259/1000\n",
      "1/1 [==============================] - 0s 17ms/stepss: 0.0087 - accuracy: 0.98\n"
     ]
    },
    {
     "name": "stderr",
     "output_type": "stream",
     "text": [
      "Clipping input data to the valid range for imshow with RGB data ([0..1] for floats or [0..255] for integers).\n"
     ]
    },
    {
     "name": "stdout",
     "output_type": "stream",
     "text": [
      "1/1 [==============================] - 0s 114ms/step - loss: 0.0087 - accuracy: 0.9825\n",
      "Epoch 260/1000\n",
      "1/1 [==============================] - 0s 16ms/stepss: 0.0086 - accuracy: 0.98\n"
     ]
    },
    {
     "name": "stderr",
     "output_type": "stream",
     "text": [
      "Clipping input data to the valid range for imshow with RGB data ([0..1] for floats or [0..255] for integers).\n"
     ]
    },
    {
     "name": "stdout",
     "output_type": "stream",
     "text": [
      "1/1 [==============================] - 0s 108ms/step - loss: 0.0086 - accuracy: 0.9824\n",
      "Epoch 261/1000\n",
      "1/1 [==============================] - 0s 20ms/stepss: 0.0086 - accuracy: 0.98\n"
     ]
    },
    {
     "name": "stderr",
     "output_type": "stream",
     "text": [
      "Clipping input data to the valid range for imshow with RGB data ([0..1] for floats or [0..255] for integers).\n"
     ]
    },
    {
     "name": "stdout",
     "output_type": "stream",
     "text": [
      "1/1 [==============================] - 0s 114ms/step - loss: 0.0086 - accuracy: 0.9824\n",
      "Epoch 262/1000\n",
      "1/1 [==============================] - 0s 17ms/stepss: 0.0087 - accuracy: 0.98\n"
     ]
    },
    {
     "name": "stderr",
     "output_type": "stream",
     "text": [
      "Clipping input data to the valid range for imshow with RGB data ([0..1] for floats or [0..255] for integers).\n"
     ]
    },
    {
     "name": "stdout",
     "output_type": "stream",
     "text": [
      "1/1 [==============================] - 0s 112ms/step - loss: 0.0087 - accuracy: 0.9826\n",
      "Epoch 263/1000\n",
      "1/1 [==============================] - 0s 18ms/stepss: 0.0087 - accuracy: 0.98\n"
     ]
    },
    {
     "name": "stderr",
     "output_type": "stream",
     "text": [
      "Clipping input data to the valid range for imshow with RGB data ([0..1] for floats or [0..255] for integers).\n"
     ]
    },
    {
     "name": "stdout",
     "output_type": "stream",
     "text": [
      "1/1 [==============================] - 0s 109ms/step - loss: 0.0087 - accuracy: 0.9827\n",
      "Epoch 264/1000\n",
      "1/1 [==============================] - 0s 17ms/stepss: 0.0087 - accuracy: 0.98\n"
     ]
    },
    {
     "name": "stderr",
     "output_type": "stream",
     "text": [
      "Clipping input data to the valid range for imshow with RGB data ([0..1] for floats or [0..255] for integers).\n"
     ]
    },
    {
     "name": "stdout",
     "output_type": "stream",
     "text": [
      "1/1 [==============================] - 0s 147ms/step - loss: 0.0087 - accuracy: 0.9826\n",
      "Epoch 265/1000\n",
      "1/1 [==============================] - 0s 16ms/stepss: 0.0086 - accuracy: 0.98\n"
     ]
    },
    {
     "name": "stderr",
     "output_type": "stream",
     "text": [
      "Clipping input data to the valid range for imshow with RGB data ([0..1] for floats or [0..255] for integers).\n"
     ]
    },
    {
     "name": "stdout",
     "output_type": "stream",
     "text": [
      "1/1 [==============================] - 0s 109ms/step - loss: 0.0086 - accuracy: 0.9827\n",
      "Epoch 266/1000\n",
      "1/1 [==============================] - 0s 16ms/stepss: 0.0085 - accuracy: 0.98\n"
     ]
    },
    {
     "name": "stderr",
     "output_type": "stream",
     "text": [
      "Clipping input data to the valid range for imshow with RGB data ([0..1] for floats or [0..255] for integers).\n"
     ]
    },
    {
     "name": "stdout",
     "output_type": "stream",
     "text": [
      "1/1 [==============================] - 0s 114ms/step - loss: 0.0085 - accuracy: 0.9826\n",
      "Epoch 267/1000\n",
      "1/1 [==============================] - 0s 16ms/stepss: 0.0085 - accuracy: 0.98\n"
     ]
    },
    {
     "name": "stderr",
     "output_type": "stream",
     "text": [
      "Clipping input data to the valid range for imshow with RGB data ([0..1] for floats or [0..255] for integers).\n"
     ]
    },
    {
     "name": "stdout",
     "output_type": "stream",
     "text": [
      "1/1 [==============================] - 0s 108ms/step - loss: 0.0085 - accuracy: 0.9825\n",
      "Epoch 268/1000\n",
      "1/1 [==============================] - 0s 16ms/stepss: 0.0084 - accuracy: 0.98\n"
     ]
    },
    {
     "name": "stderr",
     "output_type": "stream",
     "text": [
      "Clipping input data to the valid range for imshow with RGB data ([0..1] for floats or [0..255] for integers).\n"
     ]
    },
    {
     "name": "stdout",
     "output_type": "stream",
     "text": [
      "1/1 [==============================] - 0s 110ms/step - loss: 0.0084 - accuracy: 0.9826\n",
      "Epoch 269/1000\n",
      "1/1 [==============================] - 0s 18ms/stepss: 0.0084 - accuracy: 0.98\n"
     ]
    },
    {
     "name": "stderr",
     "output_type": "stream",
     "text": [
      "Clipping input data to the valid range for imshow with RGB data ([0..1] for floats or [0..255] for integers).\n"
     ]
    },
    {
     "name": "stdout",
     "output_type": "stream",
     "text": [
      "1/1 [==============================] - 0s 117ms/step - loss: 0.0084 - accuracy: 0.9826\n",
      "Epoch 270/1000\n",
      "1/1 [==============================] - 0s 17ms/stepss: 0.0084 - accuracy: 0.98\n"
     ]
    },
    {
     "name": "stderr",
     "output_type": "stream",
     "text": [
      "Clipping input data to the valid range for imshow with RGB data ([0..1] for floats or [0..255] for integers).\n"
     ]
    },
    {
     "name": "stdout",
     "output_type": "stream",
     "text": [
      "1/1 [==============================] - 0s 107ms/step - loss: 0.0084 - accuracy: 0.9827\n",
      "Epoch 271/1000\n",
      "1/1 [==============================] - 0s 14ms/stepss: 0.0084 - accuracy: 0.98\n"
     ]
    },
    {
     "name": "stderr",
     "output_type": "stream",
     "text": [
      "Clipping input data to the valid range for imshow with RGB data ([0..1] for floats or [0..255] for integers).\n"
     ]
    },
    {
     "name": "stdout",
     "output_type": "stream",
     "text": [
      "1/1 [==============================] - 0s 100ms/step - loss: 0.0084 - accuracy: 0.9826\n",
      "Epoch 272/1000\n",
      "1/1 [==============================] - 0s 15ms/stepss: 0.0084 - accuracy: 0.98\n"
     ]
    },
    {
     "name": "stderr",
     "output_type": "stream",
     "text": [
      "Clipping input data to the valid range for imshow with RGB data ([0..1] for floats or [0..255] for integers).\n"
     ]
    },
    {
     "name": "stdout",
     "output_type": "stream",
     "text": [
      "1/1 [==============================] - 0s 97ms/step - loss: 0.0084 - accuracy: 0.9826\n",
      "Epoch 273/1000\n",
      "1/1 [==============================] - 0s 15ms/stepss: 0.0085 - accuracy: 0.98\n"
     ]
    },
    {
     "name": "stderr",
     "output_type": "stream",
     "text": [
      "Clipping input data to the valid range for imshow with RGB data ([0..1] for floats or [0..255] for integers).\n"
     ]
    },
    {
     "name": "stdout",
     "output_type": "stream",
     "text": [
      "1/1 [==============================] - 0s 98ms/step - loss: 0.0085 - accuracy: 0.9826\n",
      "Epoch 274/1000\n",
      "1/1 [==============================] - 0s 15ms/stepss: 0.0085 - accuracy: 0.98\n"
     ]
    },
    {
     "name": "stderr",
     "output_type": "stream",
     "text": [
      "Clipping input data to the valid range for imshow with RGB data ([0..1] for floats or [0..255] for integers).\n"
     ]
    },
    {
     "name": "stdout",
     "output_type": "stream",
     "text": [
      "1/1 [==============================] - 0s 98ms/step - loss: 0.0085 - accuracy: 0.9824\n",
      "Epoch 275/1000\n",
      "1/1 [==============================] - 0s 18ms/stepss: 0.0085 - accuracy: 0.98\n"
     ]
    },
    {
     "name": "stderr",
     "output_type": "stream",
     "text": [
      "Clipping input data to the valid range for imshow with RGB data ([0..1] for floats or [0..255] for integers).\n"
     ]
    },
    {
     "name": "stdout",
     "output_type": "stream",
     "text": [
      "1/1 [==============================] - 0s 108ms/step - loss: 0.0085 - accuracy: 0.9826\n",
      "Epoch 276/1000\n",
      "1/1 [==============================] - 0s 15ms/stepss: 0.0084 - accuracy: 0.98\n"
     ]
    },
    {
     "name": "stderr",
     "output_type": "stream",
     "text": [
      "Clipping input data to the valid range for imshow with RGB data ([0..1] for floats or [0..255] for integers).\n"
     ]
    },
    {
     "name": "stdout",
     "output_type": "stream",
     "text": [
      "1/1 [==============================] - 0s 105ms/step - loss: 0.0084 - accuracy: 0.9822\n",
      "Epoch 277/1000\n",
      "1/1 [==============================] - 0s 17ms/stepss: 0.0084 - accuracy: 0.98\n"
     ]
    },
    {
     "name": "stderr",
     "output_type": "stream",
     "text": [
      "Clipping input data to the valid range for imshow with RGB data ([0..1] for floats or [0..255] for integers).\n"
     ]
    },
    {
     "name": "stdout",
     "output_type": "stream",
     "text": [
      "1/1 [==============================] - 0s 104ms/step - loss: 0.0084 - accuracy: 0.9825\n",
      "Epoch 278/1000\n",
      "1/1 [==============================] - 0s 16ms/stepss: 0.0083 - accuracy: 0.98\n"
     ]
    },
    {
     "name": "stderr",
     "output_type": "stream",
     "text": [
      "Clipping input data to the valid range for imshow with RGB data ([0..1] for floats or [0..255] for integers).\n"
     ]
    },
    {
     "name": "stdout",
     "output_type": "stream",
     "text": [
      "1/1 [==============================] - 0s 109ms/step - loss: 0.0083 - accuracy: 0.9825\n",
      "Epoch 279/1000\n",
      "1/1 [==============================] - 0s 17ms/stepss: 0.0082 - accuracy: 0.98\n"
     ]
    },
    {
     "name": "stderr",
     "output_type": "stream",
     "text": [
      "Clipping input data to the valid range for imshow with RGB data ([0..1] for floats or [0..255] for integers).\n"
     ]
    },
    {
     "name": "stdout",
     "output_type": "stream",
     "text": [
      "1/1 [==============================] - 0s 111ms/step - loss: 0.0082 - accuracy: 0.9826\n",
      "Epoch 280/1000\n",
      "1/1 [==============================] - 0s 17ms/stepss: 0.0081 - accuracy: 0.98\n"
     ]
    },
    {
     "name": "stderr",
     "output_type": "stream",
     "text": [
      "Clipping input data to the valid range for imshow with RGB data ([0..1] for floats or [0..255] for integers).\n"
     ]
    },
    {
     "name": "stdout",
     "output_type": "stream",
     "text": [
      "1/1 [==============================] - 0s 104ms/step - loss: 0.0081 - accuracy: 0.9825\n",
      "Epoch 281/1000\n",
      "1/1 [==============================] - 0s 15ms/stepss: 0.0081 - accuracy: 0.98\n"
     ]
    },
    {
     "name": "stderr",
     "output_type": "stream",
     "text": [
      "Clipping input data to the valid range for imshow with RGB data ([0..1] for floats or [0..255] for integers).\n"
     ]
    },
    {
     "name": "stdout",
     "output_type": "stream",
     "text": [
      "1/1 [==============================] - 0s 100ms/step - loss: 0.0081 - accuracy: 0.9823\n",
      "Epoch 282/1000\n",
      "1/1 [==============================] - 0s 16ms/stepss: 0.0082 - accuracy: 0.98\n"
     ]
    },
    {
     "name": "stderr",
     "output_type": "stream",
     "text": [
      "Clipping input data to the valid range for imshow with RGB data ([0..1] for floats or [0..255] for integers).\n"
     ]
    },
    {
     "name": "stdout",
     "output_type": "stream",
     "text": [
      "1/1 [==============================] - 0s 99ms/step - loss: 0.0082 - accuracy: 0.9825\n",
      "Epoch 283/1000\n",
      "1/1 [==============================] - 0s 16ms/stepss: 0.0082 - accuracy: 0.98\n"
     ]
    },
    {
     "name": "stderr",
     "output_type": "stream",
     "text": [
      "Clipping input data to the valid range for imshow with RGB data ([0..1] for floats or [0..255] for integers).\n"
     ]
    },
    {
     "name": "stdout",
     "output_type": "stream",
     "text": [
      "1/1 [==============================] - 0s 99ms/step - loss: 0.0082 - accuracy: 0.9823\n",
      "Epoch 284/1000\n",
      "1/1 [==============================] - 0s 16ms/stepss: 0.0082 - accuracy: 0.98\n"
     ]
    },
    {
     "name": "stderr",
     "output_type": "stream",
     "text": [
      "Clipping input data to the valid range for imshow with RGB data ([0..1] for floats or [0..255] for integers).\n"
     ]
    },
    {
     "name": "stdout",
     "output_type": "stream",
     "text": [
      "1/1 [==============================] - 0s 104ms/step - loss: 0.0082 - accuracy: 0.9825\n",
      "Epoch 285/1000\n",
      "1/1 [==============================] - 0s 16ms/stepss: 0.0082 - accuracy: 0.98\n"
     ]
    },
    {
     "name": "stderr",
     "output_type": "stream",
     "text": [
      "Clipping input data to the valid range for imshow with RGB data ([0..1] for floats or [0..255] for integers).\n"
     ]
    },
    {
     "name": "stdout",
     "output_type": "stream",
     "text": [
      "1/1 [==============================] - 0s 102ms/step - loss: 0.0082 - accuracy: 0.9822\n",
      "Epoch 286/1000\n",
      "1/1 [==============================] - 0s 15ms/stepss: 0.0082 - accuracy: 0.98\n"
     ]
    },
    {
     "name": "stderr",
     "output_type": "stream",
     "text": [
      "Clipping input data to the valid range for imshow with RGB data ([0..1] for floats or [0..255] for integers).\n"
     ]
    },
    {
     "name": "stdout",
     "output_type": "stream",
     "text": [
      "1/1 [==============================] - 0s 98ms/step - loss: 0.0082 - accuracy: 0.9824\n",
      "Epoch 287/1000\n",
      "1/1 [==============================] - 0s 15ms/stepss: 0.0082 - accuracy: 0.98\n"
     ]
    },
    {
     "name": "stderr",
     "output_type": "stream",
     "text": [
      "Clipping input data to the valid range for imshow with RGB data ([0..1] for floats or [0..255] for integers).\n"
     ]
    },
    {
     "name": "stdout",
     "output_type": "stream",
     "text": [
      "1/1 [==============================] - 0s 98ms/step - loss: 0.0082 - accuracy: 0.9822\n",
      "Epoch 288/1000\n",
      "1/1 [==============================] - 0s 14ms/stepss: 0.0081 - accuracy: 0.98\n"
     ]
    },
    {
     "name": "stderr",
     "output_type": "stream",
     "text": [
      "Clipping input data to the valid range for imshow with RGB data ([0..1] for floats or [0..255] for integers).\n"
     ]
    },
    {
     "name": "stdout",
     "output_type": "stream",
     "text": [
      "1/1 [==============================] - 0s 100ms/step - loss: 0.0081 - accuracy: 0.9824\n",
      "Epoch 289/1000\n",
      "1/1 [==============================] - 0s 16ms/stepss: 0.0080 - accuracy: 0.98\n"
     ]
    },
    {
     "name": "stderr",
     "output_type": "stream",
     "text": [
      "Clipping input data to the valid range for imshow with RGB data ([0..1] for floats or [0..255] for integers).\n"
     ]
    },
    {
     "name": "stdout",
     "output_type": "stream",
     "text": [
      "1/1 [==============================] - 0s 106ms/step - loss: 0.0080 - accuracy: 0.9822\n",
      "Epoch 290/1000\n",
      "1/1 [==============================] - 0s 17ms/stepss: 0.0080 - accuracy: 0.98\n"
     ]
    },
    {
     "name": "stderr",
     "output_type": "stream",
     "text": [
      "Clipping input data to the valid range for imshow with RGB data ([0..1] for floats or [0..255] for integers).\n"
     ]
    },
    {
     "name": "stdout",
     "output_type": "stream",
     "text": [
      "1/1 [==============================] - 0s 102ms/step - loss: 0.0080 - accuracy: 0.9824\n",
      "Epoch 291/1000\n",
      "1/1 [==============================] - 0s 17ms/stepss: 0.0079 - accuracy: 0.98\n"
     ]
    },
    {
     "name": "stderr",
     "output_type": "stream",
     "text": [
      "Clipping input data to the valid range for imshow with RGB data ([0..1] for floats or [0..255] for integers).\n"
     ]
    },
    {
     "name": "stdout",
     "output_type": "stream",
     "text": [
      "1/1 [==============================] - 0s 108ms/step - loss: 0.0079 - accuracy: 0.9825\n",
      "Epoch 292/1000\n",
      "1/1 [==============================] - 0s 16ms/stepss: 0.0079 - accuracy: 0.98\n"
     ]
    },
    {
     "name": "stderr",
     "output_type": "stream",
     "text": [
      "Clipping input data to the valid range for imshow with RGB data ([0..1] for floats or [0..255] for integers).\n"
     ]
    },
    {
     "name": "stdout",
     "output_type": "stream",
     "text": [
      "1/1 [==============================] - 0s 105ms/step - loss: 0.0079 - accuracy: 0.9823\n",
      "Epoch 293/1000\n",
      "1/1 [==============================] - 0s 15ms/stepss: 0.0079 - accuracy: 0.98\n"
     ]
    },
    {
     "name": "stderr",
     "output_type": "stream",
     "text": [
      "Clipping input data to the valid range for imshow with RGB data ([0..1] for floats or [0..255] for integers).\n"
     ]
    },
    {
     "name": "stdout",
     "output_type": "stream",
     "text": [
      "1/1 [==============================] - 0s 102ms/step - loss: 0.0079 - accuracy: 0.9821\n",
      "Epoch 294/1000\n",
      "1/1 [==============================] - 0s 16ms/stepss: 0.0079 - accuracy: 0.98\n"
     ]
    },
    {
     "name": "stderr",
     "output_type": "stream",
     "text": [
      "Clipping input data to the valid range for imshow with RGB data ([0..1] for floats or [0..255] for integers).\n"
     ]
    },
    {
     "name": "stdout",
     "output_type": "stream",
     "text": [
      "1/1 [==============================] - 0s 108ms/step - loss: 0.0079 - accuracy: 0.9820\n",
      "Epoch 295/1000\n",
      "1/1 [==============================] - 0s 14ms/stepss: 0.0080 - accuracy: 0.98\n"
     ]
    },
    {
     "name": "stderr",
     "output_type": "stream",
     "text": [
      "Clipping input data to the valid range for imshow with RGB data ([0..1] for floats or [0..255] for integers).\n"
     ]
    },
    {
     "name": "stdout",
     "output_type": "stream",
     "text": [
      "1/1 [==============================] - 0s 96ms/step - loss: 0.0080 - accuracy: 0.9823\n",
      "Epoch 296/1000\n",
      "1/1 [==============================] - 0s 15ms/stepss: 0.0080 - accuracy: 0.98\n"
     ]
    },
    {
     "name": "stderr",
     "output_type": "stream",
     "text": [
      "Clipping input data to the valid range for imshow with RGB data ([0..1] for floats or [0..255] for integers).\n"
     ]
    },
    {
     "name": "stdout",
     "output_type": "stream",
     "text": [
      "1/1 [==============================] - 0s 96ms/step - loss: 0.0080 - accuracy: 0.9819\n",
      "Epoch 297/1000\n",
      "1/1 [==============================] - 0s 14ms/stepss: 0.0081 - accuracy: 0.98\n"
     ]
    },
    {
     "name": "stderr",
     "output_type": "stream",
     "text": [
      "Clipping input data to the valid range for imshow with RGB data ([0..1] for floats or [0..255] for integers).\n"
     ]
    },
    {
     "name": "stdout",
     "output_type": "stream",
     "text": [
      "1/1 [==============================] - 0s 94ms/step - loss: 0.0081 - accuracy: 0.9822\n",
      "Epoch 298/1000\n",
      "1/1 [==============================] - 0s 14ms/stepss: 0.0081 - accuracy: 0.98\n"
     ]
    },
    {
     "name": "stderr",
     "output_type": "stream",
     "text": [
      "Clipping input data to the valid range for imshow with RGB data ([0..1] for floats or [0..255] for integers).\n"
     ]
    },
    {
     "name": "stdout",
     "output_type": "stream",
     "text": [
      "1/1 [==============================] - 0s 93ms/step - loss: 0.0081 - accuracy: 0.9820\n",
      "Epoch 299/1000\n",
      "1/1 [==============================] - 0s 15ms/stepss: 0.0082 - accuracy: 0.98\n"
     ]
    },
    {
     "name": "stderr",
     "output_type": "stream",
     "text": [
      "Clipping input data to the valid range for imshow with RGB data ([0..1] for floats or [0..255] for integers).\n"
     ]
    },
    {
     "name": "stdout",
     "output_type": "stream",
     "text": [
      "1/1 [==============================] - 0s 98ms/step - loss: 0.0082 - accuracy: 0.9822\n",
      "Epoch 300/1000\n",
      "1/1 [==============================] - 0s 15ms/stepss: 0.0081 - accuracy: 0.98\n"
     ]
    },
    {
     "name": "stderr",
     "output_type": "stream",
     "text": [
      "Clipping input data to the valid range for imshow with RGB data ([0..1] for floats or [0..255] for integers).\n"
     ]
    },
    {
     "name": "stdout",
     "output_type": "stream",
     "text": [
      "1/1 [==============================] - 0s 94ms/step - loss: 0.0081 - accuracy: 0.9818\n",
      "Epoch 301/1000\n",
      "1/1 [==============================] - 0s 17ms/stepss: 0.0079 - accuracy: 0.98\n"
     ]
    },
    {
     "name": "stderr",
     "output_type": "stream",
     "text": [
      "Clipping input data to the valid range for imshow with RGB data ([0..1] for floats or [0..255] for integers).\n"
     ]
    },
    {
     "name": "stdout",
     "output_type": "stream",
     "text": [
      "1/1 [==============================] - 0s 104ms/step - loss: 0.0079 - accuracy: 0.9821\n",
      "Epoch 302/1000\n",
      "1/1 [==============================] - 0s 15ms/stepss: 0.0077 - accuracy: 0.98\n"
     ]
    },
    {
     "name": "stderr",
     "output_type": "stream",
     "text": [
      "Clipping input data to the valid range for imshow with RGB data ([0..1] for floats or [0..255] for integers).\n"
     ]
    },
    {
     "name": "stdout",
     "output_type": "stream",
     "text": [
      "1/1 [==============================] - 0s 99ms/step - loss: 0.0077 - accuracy: 0.9821\n",
      "Epoch 303/1000\n",
      "1/1 [==============================] - 0s 15ms/stepss: 0.0077 - accuracy: 0.98\n"
     ]
    },
    {
     "name": "stderr",
     "output_type": "stream",
     "text": [
      "Clipping input data to the valid range for imshow with RGB data ([0..1] for floats or [0..255] for integers).\n"
     ]
    },
    {
     "name": "stdout",
     "output_type": "stream",
     "text": [
      "1/1 [==============================] - 0s 98ms/step - loss: 0.0077 - accuracy: 0.9822\n",
      "Epoch 304/1000\n",
      "1/1 [==============================] - 0s 15ms/stepss: 0.0078 - accuracy: 0.98\n"
     ]
    },
    {
     "name": "stderr",
     "output_type": "stream",
     "text": [
      "Clipping input data to the valid range for imshow with RGB data ([0..1] for floats or [0..255] for integers).\n"
     ]
    },
    {
     "name": "stdout",
     "output_type": "stream",
     "text": [
      "1/1 [==============================] - 0s 101ms/step - loss: 0.0078 - accuracy: 0.9822\n",
      "Epoch 305/1000\n",
      "1/1 [==============================] - 0s 14ms/stepss: 0.0078 - accuracy: 0.98\n"
     ]
    },
    {
     "name": "stderr",
     "output_type": "stream",
     "text": [
      "Clipping input data to the valid range for imshow with RGB data ([0..1] for floats or [0..255] for integers).\n"
     ]
    },
    {
     "name": "stdout",
     "output_type": "stream",
     "text": [
      "1/1 [==============================] - 0s 97ms/step - loss: 0.0078 - accuracy: 0.9819\n",
      "Epoch 306/1000\n",
      "1/1 [==============================] - 0s 16ms/stepss: 0.0079 - accuracy: 0.98\n"
     ]
    },
    {
     "name": "stderr",
     "output_type": "stream",
     "text": [
      "Clipping input data to the valid range for imshow with RGB data ([0..1] for floats or [0..255] for integers).\n"
     ]
    },
    {
     "name": "stdout",
     "output_type": "stream",
     "text": [
      "1/1 [==============================] - 0s 102ms/step - loss: 0.0079 - accuracy: 0.9821\n",
      "Epoch 307/1000\n",
      "1/1 [==============================] - 0s 15ms/stepss: 0.0078 - accuracy: 0.98\n"
     ]
    },
    {
     "name": "stderr",
     "output_type": "stream",
     "text": [
      "Clipping input data to the valid range for imshow with RGB data ([0..1] for floats or [0..255] for integers).\n"
     ]
    },
    {
     "name": "stdout",
     "output_type": "stream",
     "text": [
      "1/1 [==============================] - 0s 102ms/step - loss: 0.0078 - accuracy: 0.9818\n",
      "Epoch 308/1000\n",
      "1/1 [==============================] - 0s 16ms/stepss: 0.0077 - accuracy: 0.98\n"
     ]
    },
    {
     "name": "stderr",
     "output_type": "stream",
     "text": [
      "Clipping input data to the valid range for imshow with RGB data ([0..1] for floats or [0..255] for integers).\n"
     ]
    },
    {
     "name": "stdout",
     "output_type": "stream",
     "text": [
      "1/1 [==============================] - 0s 99ms/step - loss: 0.0077 - accuracy: 0.9820\n",
      "Epoch 309/1000\n",
      "1/1 [==============================] - 0s 15ms/stepss: 0.0076 - accuracy: 0.98\n"
     ]
    },
    {
     "name": "stderr",
     "output_type": "stream",
     "text": [
      "Clipping input data to the valid range for imshow with RGB data ([0..1] for floats or [0..255] for integers).\n"
     ]
    },
    {
     "name": "stdout",
     "output_type": "stream",
     "text": [
      "1/1 [==============================] - 0s 99ms/step - loss: 0.0076 - accuracy: 0.9818\n",
      "Epoch 310/1000\n",
      "1/1 [==============================] - 0s 15ms/stepss: 0.0076 - accuracy: 0.98\n"
     ]
    },
    {
     "name": "stderr",
     "output_type": "stream",
     "text": [
      "Clipping input data to the valid range for imshow with RGB data ([0..1] for floats or [0..255] for integers).\n"
     ]
    },
    {
     "name": "stdout",
     "output_type": "stream",
     "text": [
      "1/1 [==============================] - 0s 99ms/step - loss: 0.0076 - accuracy: 0.9818\n",
      "Epoch 311/1000\n",
      "1/1 [==============================] - 0s 16ms/stepss: 0.0076 - accuracy: 0.98\n"
     ]
    },
    {
     "name": "stderr",
     "output_type": "stream",
     "text": [
      "Clipping input data to the valid range for imshow with RGB data ([0..1] for floats or [0..255] for integers).\n"
     ]
    },
    {
     "name": "stdout",
     "output_type": "stream",
     "text": [
      "1/1 [==============================] - 0s 100ms/step - loss: 0.0076 - accuracy: 0.9820\n",
      "Epoch 312/1000\n",
      "1/1 [==============================] - 0s 14ms/stepss: 0.0076 - accuracy: 0.98\n"
     ]
    },
    {
     "name": "stderr",
     "output_type": "stream",
     "text": [
      "Clipping input data to the valid range for imshow with RGB data ([0..1] for floats or [0..255] for integers).\n"
     ]
    },
    {
     "name": "stdout",
     "output_type": "stream",
     "text": [
      "1/1 [==============================] - 0s 96ms/step - loss: 0.0076 - accuracy: 0.9818\n",
      "Epoch 313/1000\n",
      "1/1 [==============================] - 0s 16ms/stepss: 0.0077 - accuracy: 0.98\n"
     ]
    },
    {
     "name": "stderr",
     "output_type": "stream",
     "text": [
      "Clipping input data to the valid range for imshow with RGB data ([0..1] for floats or [0..255] for integers).\n"
     ]
    },
    {
     "name": "stdout",
     "output_type": "stream",
     "text": [
      "1/1 [==============================] - 0s 98ms/step - loss: 0.0077 - accuracy: 0.9820\n",
      "Epoch 314/1000\n",
      "1/1 [==============================] - 0s 15ms/stepss: 0.0077 - accuracy: 0.98\n"
     ]
    },
    {
     "name": "stderr",
     "output_type": "stream",
     "text": [
      "Clipping input data to the valid range for imshow with RGB data ([0..1] for floats or [0..255] for integers).\n"
     ]
    },
    {
     "name": "stdout",
     "output_type": "stream",
     "text": [
      "1/1 [==============================] - 0s 99ms/step - loss: 0.0077 - accuracy: 0.9817\n",
      "Epoch 315/1000\n",
      "1/1 [==============================] - 0s 15ms/stepss: 0.0076 - accuracy: 0.98\n"
     ]
    },
    {
     "name": "stderr",
     "output_type": "stream",
     "text": [
      "Clipping input data to the valid range for imshow with RGB data ([0..1] for floats or [0..255] for integers).\n"
     ]
    },
    {
     "name": "stdout",
     "output_type": "stream",
     "text": [
      "1/1 [==============================] - 0s 96ms/step - loss: 0.0076 - accuracy: 0.9819\n",
      "Epoch 316/1000\n",
      "1/1 [==============================] - 0s 15ms/stepss: 0.0076 - accuracy: 0.98\n"
     ]
    },
    {
     "name": "stderr",
     "output_type": "stream",
     "text": [
      "Clipping input data to the valid range for imshow with RGB data ([0..1] for floats or [0..255] for integers).\n"
     ]
    },
    {
     "name": "stdout",
     "output_type": "stream",
     "text": [
      "1/1 [==============================] - 0s 104ms/step - loss: 0.0076 - accuracy: 0.9816\n",
      "Epoch 317/1000\n",
      "1/1 [==============================] - 0s 15ms/stepss: 0.0075 - accuracy: 0.98\n"
     ]
    },
    {
     "name": "stderr",
     "output_type": "stream",
     "text": [
      "Clipping input data to the valid range for imshow with RGB data ([0..1] for floats or [0..255] for integers).\n"
     ]
    },
    {
     "name": "stdout",
     "output_type": "stream",
     "text": [
      "1/1 [==============================] - 0s 102ms/step - loss: 0.0075 - accuracy: 0.9817\n",
      "Epoch 318/1000\n",
      "1/1 [==============================] - 0s 15ms/stepss: 0.0075 - accuracy: 0.98\n"
     ]
    },
    {
     "name": "stderr",
     "output_type": "stream",
     "text": [
      "Clipping input data to the valid range for imshow with RGB data ([0..1] for floats or [0..255] for integers).\n"
     ]
    },
    {
     "name": "stdout",
     "output_type": "stream",
     "text": [
      "1/1 [==============================] - 0s 98ms/step - loss: 0.0075 - accuracy: 0.9815\n",
      "Epoch 319/1000\n",
      "1/1 [==============================] - 0s 14ms/stepss: 0.0074 - accuracy: 0.98\n"
     ]
    },
    {
     "name": "stderr",
     "output_type": "stream",
     "text": [
      "Clipping input data to the valid range for imshow with RGB data ([0..1] for floats or [0..255] for integers).\n"
     ]
    },
    {
     "name": "stdout",
     "output_type": "stream",
     "text": [
      "1/1 [==============================] - 0s 98ms/step - loss: 0.0074 - accuracy: 0.9816\n",
      "Epoch 320/1000\n",
      "1/1 [==============================] - 0s 15ms/stepss: 0.0074 - accuracy: 0.98\n"
     ]
    },
    {
     "name": "stderr",
     "output_type": "stream",
     "text": [
      "Clipping input data to the valid range for imshow with RGB data ([0..1] for floats or [0..255] for integers).\n"
     ]
    },
    {
     "name": "stdout",
     "output_type": "stream",
     "text": [
      "1/1 [==============================] - 0s 97ms/step - loss: 0.0074 - accuracy: 0.9817\n",
      "Epoch 321/1000\n",
      "1/1 [==============================] - 0s 15ms/stepss: 0.0074 - accuracy: 0.98\n"
     ]
    },
    {
     "name": "stderr",
     "output_type": "stream",
     "text": [
      "Clipping input data to the valid range for imshow with RGB data ([0..1] for floats or [0..255] for integers).\n"
     ]
    },
    {
     "name": "stdout",
     "output_type": "stream",
     "text": [
      "1/1 [==============================] - 0s 98ms/step - loss: 0.0074 - accuracy: 0.9816\n",
      "Epoch 322/1000\n",
      "1/1 [==============================] - 0s 14ms/stepss: 0.0074 - accuracy: 0.98\n"
     ]
    },
    {
     "name": "stderr",
     "output_type": "stream",
     "text": [
      "Clipping input data to the valid range for imshow with RGB data ([0..1] for floats or [0..255] for integers).\n"
     ]
    },
    {
     "name": "stdout",
     "output_type": "stream",
     "text": [
      "1/1 [==============================] - 0s 94ms/step - loss: 0.0074 - accuracy: 0.9818\n",
      "Epoch 323/1000\n",
      "1/1 [==============================] - 0s 15ms/stepss: 0.0075 - accuracy: 0.98\n"
     ]
    },
    {
     "name": "stderr",
     "output_type": "stream",
     "text": [
      "Clipping input data to the valid range for imshow with RGB data ([0..1] for floats or [0..255] for integers).\n"
     ]
    },
    {
     "name": "stdout",
     "output_type": "stream",
     "text": [
      "1/1 [==============================] - 0s 100ms/step - loss: 0.0075 - accuracy: 0.9815\n",
      "Epoch 324/1000\n",
      "1/1 [==============================] - 0s 14ms/stepss: 0.0075 - accuracy: 0.98\n"
     ]
    },
    {
     "name": "stderr",
     "output_type": "stream",
     "text": [
      "Clipping input data to the valid range for imshow with RGB data ([0..1] for floats or [0..255] for integers).\n"
     ]
    },
    {
     "name": "stdout",
     "output_type": "stream",
     "text": [
      "1/1 [==============================] - 0s 102ms/step - loss: 0.0075 - accuracy: 0.9815\n",
      "Epoch 325/1000\n",
      "1/1 [==============================] - 0s 14ms/stepss: 0.0076 - accuracy: 0.98\n"
     ]
    },
    {
     "name": "stderr",
     "output_type": "stream",
     "text": [
      "Clipping input data to the valid range for imshow with RGB data ([0..1] for floats or [0..255] for integers).\n"
     ]
    },
    {
     "name": "stdout",
     "output_type": "stream",
     "text": [
      "1/1 [==============================] - 0s 92ms/step - loss: 0.0076 - accuracy: 0.9814\n",
      "Epoch 326/1000\n",
      "1/1 [==============================] - 0s 14ms/stepss: 0.0078 - accuracy: 0.98\n"
     ]
    },
    {
     "name": "stderr",
     "output_type": "stream",
     "text": [
      "Clipping input data to the valid range for imshow with RGB data ([0..1] for floats or [0..255] for integers).\n"
     ]
    },
    {
     "name": "stdout",
     "output_type": "stream",
     "text": [
      "1/1 [==============================] - 0s 96ms/step - loss: 0.0078 - accuracy: 0.9815\n",
      "Epoch 327/1000\n",
      "1/1 [==============================] - 0s 15ms/stepss: 0.0078 - accuracy: 0.98\n"
     ]
    },
    {
     "name": "stderr",
     "output_type": "stream",
     "text": [
      "Clipping input data to the valid range for imshow with RGB data ([0..1] for floats or [0..255] for integers).\n"
     ]
    },
    {
     "name": "stdout",
     "output_type": "stream",
     "text": [
      "1/1 [==============================] - 0s 96ms/step - loss: 0.0078 - accuracy: 0.9814\n",
      "Epoch 328/1000\n",
      "1/1 [==============================] - 0s 17ms/stepss: 0.0079 - accuracy: 0.98\n"
     ]
    },
    {
     "name": "stderr",
     "output_type": "stream",
     "text": [
      "Clipping input data to the valid range for imshow with RGB data ([0..1] for floats or [0..255] for integers).\n"
     ]
    },
    {
     "name": "stdout",
     "output_type": "stream",
     "text": [
      "1/1 [==============================] - 0s 101ms/step - loss: 0.0079 - accuracy: 0.9814\n",
      "Epoch 329/1000\n",
      "1/1 [==============================] - 0s 15ms/stepss: 0.0076 - accuracy: 0.98\n"
     ]
    },
    {
     "name": "stderr",
     "output_type": "stream",
     "text": [
      "Clipping input data to the valid range for imshow with RGB data ([0..1] for floats or [0..255] for integers).\n"
     ]
    },
    {
     "name": "stdout",
     "output_type": "stream",
     "text": [
      "1/1 [==============================] - 0s 97ms/step - loss: 0.0076 - accuracy: 0.9812\n",
      "Epoch 330/1000\n",
      "1/1 [==============================] - 0s 15ms/stepss: 0.0074 - accuracy: 0.98\n"
     ]
    },
    {
     "name": "stderr",
     "output_type": "stream",
     "text": [
      "Clipping input data to the valid range for imshow with RGB data ([0..1] for floats or [0..255] for integers).\n"
     ]
    },
    {
     "name": "stdout",
     "output_type": "stream",
     "text": [
      "1/1 [==============================] - 0s 95ms/step - loss: 0.0074 - accuracy: 0.9814\n",
      "Epoch 331/1000\n",
      "1/1 [==============================] - 0s 14ms/stepss: 0.0073 - accuracy: 0.98\n"
     ]
    },
    {
     "name": "stderr",
     "output_type": "stream",
     "text": [
      "Clipping input data to the valid range for imshow with RGB data ([0..1] for floats or [0..255] for integers).\n"
     ]
    },
    {
     "name": "stdout",
     "output_type": "stream",
     "text": [
      "1/1 [==============================] - 0s 97ms/step - loss: 0.0073 - accuracy: 0.9816\n",
      "Epoch 332/1000\n",
      "1/1 [==============================] - 0s 15ms/stepss: 0.0073 - accuracy: 0.98\n"
     ]
    },
    {
     "name": "stderr",
     "output_type": "stream",
     "text": [
      "Clipping input data to the valid range for imshow with RGB data ([0..1] for floats or [0..255] for integers).\n"
     ]
    },
    {
     "name": "stdout",
     "output_type": "stream",
     "text": [
      "1/1 [==============================] - 1s 504ms/step - loss: 0.0073 - accuracy: 0.9815\n",
      "Epoch 333/1000\n",
      "1/1 [==============================] - 0s 18ms/stepss: 0.0075 - accuracy: 0.98\n"
     ]
    },
    {
     "name": "stderr",
     "output_type": "stream",
     "text": [
      "Clipping input data to the valid range for imshow with RGB data ([0..1] for floats or [0..255] for integers).\n"
     ]
    },
    {
     "name": "stdout",
     "output_type": "stream",
     "text": [
      "1/1 [==============================] - 0s 107ms/step - loss: 0.0075 - accuracy: 0.9816\n",
      "Epoch 334/1000\n",
      "1/1 [==============================] - 0s 15ms/stepss: 0.0075 - accuracy: 0.98\n"
     ]
    },
    {
     "name": "stderr",
     "output_type": "stream",
     "text": [
      "Clipping input data to the valid range for imshow with RGB data ([0..1] for floats or [0..255] for integers).\n"
     ]
    },
    {
     "name": "stdout",
     "output_type": "stream",
     "text": [
      "1/1 [==============================] - 0s 102ms/step - loss: 0.0075 - accuracy: 0.9814\n",
      "Epoch 335/1000\n",
      "1/1 [==============================] - 0s 15ms/stepss: 0.0074 - accuracy: 0.98\n"
     ]
    },
    {
     "name": "stderr",
     "output_type": "stream",
     "text": [
      "Clipping input data to the valid range for imshow with RGB data ([0..1] for floats or [0..255] for integers).\n"
     ]
    },
    {
     "name": "stdout",
     "output_type": "stream",
     "text": [
      "1/1 [==============================] - 0s 99ms/step - loss: 0.0074 - accuracy: 0.9815\n",
      "Epoch 336/1000\n",
      "1/1 [==============================] - 0s 15ms/stepss: 0.0072 - accuracy: 0.98\n"
     ]
    },
    {
     "name": "stderr",
     "output_type": "stream",
     "text": [
      "Clipping input data to the valid range for imshow with RGB data ([0..1] for floats or [0..255] for integers).\n"
     ]
    },
    {
     "name": "stdout",
     "output_type": "stream",
     "text": [
      "1/1 [==============================] - 0s 100ms/step - loss: 0.0072 - accuracy: 0.9813\n",
      "Epoch 337/1000\n",
      "1/1 [==============================] - 0s 15ms/stepss: 0.0072 - accuracy: 0.98\n"
     ]
    },
    {
     "name": "stderr",
     "output_type": "stream",
     "text": [
      "Clipping input data to the valid range for imshow with RGB data ([0..1] for floats or [0..255] for integers).\n"
     ]
    },
    {
     "name": "stdout",
     "output_type": "stream",
     "text": [
      "1/1 [==============================] - 0s 96ms/step - loss: 0.0072 - accuracy: 0.9812\n",
      "Epoch 338/1000\n",
      "1/1 [==============================] - 0s 14ms/stepss: 0.0072 - accuracy: 0.98\n"
     ]
    },
    {
     "name": "stderr",
     "output_type": "stream",
     "text": [
      "Clipping input data to the valid range for imshow with RGB data ([0..1] for floats or [0..255] for integers).\n"
     ]
    },
    {
     "name": "stdout",
     "output_type": "stream",
     "text": [
      "1/1 [==============================] - 0s 100ms/step - loss: 0.0072 - accuracy: 0.9812\n",
      "Epoch 339/1000\n",
      "1/1 [==============================] - 0s 16ms/stepss: 0.0073 - accuracy: 0.98\n"
     ]
    },
    {
     "name": "stderr",
     "output_type": "stream",
     "text": [
      "Clipping input data to the valid range for imshow with RGB data ([0..1] for floats or [0..255] for integers).\n"
     ]
    },
    {
     "name": "stdout",
     "output_type": "stream",
     "text": [
      "1/1 [==============================] - 0s 103ms/step - loss: 0.0073 - accuracy: 0.9813\n",
      "Epoch 340/1000\n",
      "1/1 [==============================] - 0s 15ms/stepss: 0.0073 - accuracy: 0.98\n"
     ]
    },
    {
     "name": "stderr",
     "output_type": "stream",
     "text": [
      "Clipping input data to the valid range for imshow with RGB data ([0..1] for floats or [0..255] for integers).\n"
     ]
    },
    {
     "name": "stdout",
     "output_type": "stream",
     "text": [
      "1/1 [==============================] - 0s 98ms/step - loss: 0.0073 - accuracy: 0.9815\n",
      "Epoch 341/1000\n",
      "1/1 [==============================] - 0s 15ms/stepss: 0.0072 - accuracy: 0.98\n"
     ]
    },
    {
     "name": "stderr",
     "output_type": "stream",
     "text": [
      "Clipping input data to the valid range for imshow with RGB data ([0..1] for floats or [0..255] for integers).\n"
     ]
    },
    {
     "name": "stdout",
     "output_type": "stream",
     "text": [
      "1/1 [==============================] - 0s 99ms/step - loss: 0.0072 - accuracy: 0.9813\n",
      "Epoch 342/1000\n",
      "1/1 [==============================] - 0s 15ms/stepss: 0.0071 - accuracy: 0.98\n"
     ]
    },
    {
     "name": "stderr",
     "output_type": "stream",
     "text": [
      "Clipping input data to the valid range for imshow with RGB data ([0..1] for floats or [0..255] for integers).\n"
     ]
    },
    {
     "name": "stdout",
     "output_type": "stream",
     "text": [
      "1/1 [==============================] - 0s 97ms/step - loss: 0.0071 - accuracy: 0.9814\n",
      "Epoch 343/1000\n",
      "1/1 [==============================] - 0s 15ms/stepss: 0.0071 - accuracy: 0.98\n"
     ]
    },
    {
     "name": "stderr",
     "output_type": "stream",
     "text": [
      "Clipping input data to the valid range for imshow with RGB data ([0..1] for floats or [0..255] for integers).\n"
     ]
    },
    {
     "name": "stdout",
     "output_type": "stream",
     "text": [
      "1/1 [==============================] - 0s 98ms/step - loss: 0.0071 - accuracy: 0.9813\n",
      "Epoch 344/1000\n",
      "1/1 [==============================] - 0s 15ms/stepss: 0.0071 - accuracy: 0.98\n"
     ]
    },
    {
     "name": "stderr",
     "output_type": "stream",
     "text": [
      "Clipping input data to the valid range for imshow with RGB data ([0..1] for floats or [0..255] for integers).\n"
     ]
    },
    {
     "name": "stdout",
     "output_type": "stream",
     "text": [
      "1/1 [==============================] - 0s 101ms/step - loss: 0.0071 - accuracy: 0.9812\n",
      "Epoch 345/1000\n",
      "1/1 [==============================] - 0s 15ms/stepss: 0.0072 - accuracy: 0.98\n"
     ]
    },
    {
     "name": "stderr",
     "output_type": "stream",
     "text": [
      "Clipping input data to the valid range for imshow with RGB data ([0..1] for floats or [0..255] for integers).\n"
     ]
    },
    {
     "name": "stdout",
     "output_type": "stream",
     "text": [
      "1/1 [==============================] - 0s 94ms/step - loss: 0.0072 - accuracy: 0.9811\n",
      "Epoch 346/1000\n",
      "1/1 [==============================] - 0s 13ms/stepss: 0.0072 - accuracy: 0.98\n"
     ]
    },
    {
     "name": "stderr",
     "output_type": "stream",
     "text": [
      "Clipping input data to the valid range for imshow with RGB data ([0..1] for floats or [0..255] for integers).\n"
     ]
    },
    {
     "name": "stdout",
     "output_type": "stream",
     "text": [
      "1/1 [==============================] - 0s 95ms/step - loss: 0.0072 - accuracy: 0.9811\n",
      "Epoch 347/1000\n",
      "1/1 [==============================] - 0s 15ms/stepss: 0.0072 - accuracy: 0.98\n"
     ]
    },
    {
     "name": "stderr",
     "output_type": "stream",
     "text": [
      "Clipping input data to the valid range for imshow with RGB data ([0..1] for floats or [0..255] for integers).\n"
     ]
    },
    {
     "name": "stdout",
     "output_type": "stream",
     "text": [
      "1/1 [==============================] - 0s 96ms/step - loss: 0.0072 - accuracy: 0.9812\n",
      "Epoch 348/1000\n",
      "1/1 [==============================] - 0s 15ms/stepss: 0.0071 - accuracy: 0.98\n"
     ]
    },
    {
     "name": "stderr",
     "output_type": "stream",
     "text": [
      "Clipping input data to the valid range for imshow with RGB data ([0..1] for floats or [0..255] for integers).\n"
     ]
    },
    {
     "name": "stdout",
     "output_type": "stream",
     "text": [
      "1/1 [==============================] - 0s 92ms/step - loss: 0.0071 - accuracy: 0.9810\n",
      "Epoch 349/1000\n",
      "1/1 [==============================] - 0s 14ms/stepss: 0.0071 - accuracy: 0.98\n"
     ]
    },
    {
     "name": "stderr",
     "output_type": "stream",
     "text": [
      "Clipping input data to the valid range for imshow with RGB data ([0..1] for floats or [0..255] for integers).\n"
     ]
    },
    {
     "name": "stdout",
     "output_type": "stream",
     "text": [
      "1/1 [==============================] - 0s 93ms/step - loss: 0.0071 - accuracy: 0.9809\n",
      "Epoch 350/1000\n",
      "1/1 [==============================] - 0s 17ms/stepss: 0.0070 - accuracy: 0.98\n"
     ]
    },
    {
     "name": "stderr",
     "output_type": "stream",
     "text": [
      "Clipping input data to the valid range for imshow with RGB data ([0..1] for floats or [0..255] for integers).\n"
     ]
    },
    {
     "name": "stdout",
     "output_type": "stream",
     "text": [
      "1/1 [==============================] - 0s 102ms/step - loss: 0.0070 - accuracy: 0.9809\n",
      "Epoch 351/1000\n",
      "1/1 [==============================] - 0s 15ms/stepss: 0.0070 - accuracy: 0.98\n"
     ]
    },
    {
     "name": "stderr",
     "output_type": "stream",
     "text": [
      "Clipping input data to the valid range for imshow with RGB data ([0..1] for floats or [0..255] for integers).\n"
     ]
    },
    {
     "name": "stdout",
     "output_type": "stream",
     "text": [
      "1/1 [==============================] - 0s 102ms/step - loss: 0.0070 - accuracy: 0.9809\n",
      "Epoch 352/1000\n",
      "1/1 [==============================] - 0s 15ms/stepss: 0.0070 - accuracy: 0.98\n"
     ]
    },
    {
     "name": "stderr",
     "output_type": "stream",
     "text": [
      "Clipping input data to the valid range for imshow with RGB data ([0..1] for floats or [0..255] for integers).\n"
     ]
    },
    {
     "name": "stdout",
     "output_type": "stream",
     "text": [
      "1/1 [==============================] - 0s 97ms/step - loss: 0.0070 - accuracy: 0.9810\n",
      "Epoch 353/1000\n",
      "1/1 [==============================] - 0s 15ms/stepss: 0.0070 - accuracy: 0.98\n"
     ]
    },
    {
     "name": "stderr",
     "output_type": "stream",
     "text": [
      "Clipping input data to the valid range for imshow with RGB data ([0..1] for floats or [0..255] for integers).\n"
     ]
    },
    {
     "name": "stdout",
     "output_type": "stream",
     "text": [
      "1/1 [==============================] - 0s 98ms/step - loss: 0.0070 - accuracy: 0.9809\n",
      "Epoch 354/1000\n",
      "1/1 [==============================] - 0s 15ms/stepss: 0.0070 - accuracy: 0.98\n"
     ]
    },
    {
     "name": "stderr",
     "output_type": "stream",
     "text": [
      "Clipping input data to the valid range for imshow with RGB data ([0..1] for floats or [0..255] for integers).\n"
     ]
    },
    {
     "name": "stdout",
     "output_type": "stream",
     "text": [
      "1/1 [==============================] - 0s 98ms/step - loss: 0.0070 - accuracy: 0.9809\n",
      "Epoch 355/1000\n",
      "1/1 [==============================] - 0s 16ms/stepss: 0.0070 - accuracy: 0.98\n"
     ]
    },
    {
     "name": "stderr",
     "output_type": "stream",
     "text": [
      "Clipping input data to the valid range for imshow with RGB data ([0..1] for floats or [0..255] for integers).\n"
     ]
    },
    {
     "name": "stdout",
     "output_type": "stream",
     "text": [
      "1/1 [==============================] - 0s 102ms/step - loss: 0.0070 - accuracy: 0.9807\n",
      "Epoch 356/1000\n",
      "1/1 [==============================] - 0s 15ms/stepss: 0.0070 - accuracy: 0.98\n"
     ]
    },
    {
     "name": "stderr",
     "output_type": "stream",
     "text": [
      "Clipping input data to the valid range for imshow with RGB data ([0..1] for floats or [0..255] for integers).\n"
     ]
    },
    {
     "name": "stdout",
     "output_type": "stream",
     "text": [
      "1/1 [==============================] - 0s 99ms/step - loss: 0.0070 - accuracy: 0.9809\n",
      "Epoch 357/1000\n",
      "1/1 [==============================] - 0s 17ms/stepss: 0.0071 - accuracy: 0.98\n"
     ]
    },
    {
     "name": "stderr",
     "output_type": "stream",
     "text": [
      "Clipping input data to the valid range for imshow with RGB data ([0..1] for floats or [0..255] for integers).\n"
     ]
    },
    {
     "name": "stdout",
     "output_type": "stream",
     "text": [
      "1/1 [==============================] - 0s 99ms/step - loss: 0.0071 - accuracy: 0.9806\n",
      "Epoch 358/1000\n",
      "1/1 [==============================] - 0s 15ms/stepss: 0.0071 - accuracy: 0.98\n"
     ]
    },
    {
     "name": "stderr",
     "output_type": "stream",
     "text": [
      "Clipping input data to the valid range for imshow with RGB data ([0..1] for floats or [0..255] for integers).\n"
     ]
    },
    {
     "name": "stdout",
     "output_type": "stream",
     "text": [
      "1/1 [==============================] - 0s 98ms/step - loss: 0.0071 - accuracy: 0.9810\n",
      "Epoch 359/1000\n",
      "1/1 [==============================] - 0s 15ms/stepss: 0.0071 - accuracy: 0.98\n"
     ]
    },
    {
     "name": "stderr",
     "output_type": "stream",
     "text": [
      "Clipping input data to the valid range for imshow with RGB data ([0..1] for floats or [0..255] for integers).\n"
     ]
    },
    {
     "name": "stdout",
     "output_type": "stream",
     "text": [
      "1/1 [==============================] - 0s 97ms/step - loss: 0.0071 - accuracy: 0.9806\n",
      "Epoch 360/1000\n",
      "1/1 [==============================] - 0s 15ms/stepss: 0.0071 - accuracy: 0.98\n"
     ]
    },
    {
     "name": "stderr",
     "output_type": "stream",
     "text": [
      "Clipping input data to the valid range for imshow with RGB data ([0..1] for floats or [0..255] for integers).\n"
     ]
    },
    {
     "name": "stdout",
     "output_type": "stream",
     "text": [
      "1/1 [==============================] - 0s 101ms/step - loss: 0.0071 - accuracy: 0.9809\n",
      "Epoch 361/1000\n",
      "1/1 [==============================] - 0s 15ms/stepss: 0.0071 - accuracy: 0.98\n"
     ]
    },
    {
     "name": "stderr",
     "output_type": "stream",
     "text": [
      "Clipping input data to the valid range for imshow with RGB data ([0..1] for floats or [0..255] for integers).\n"
     ]
    },
    {
     "name": "stdout",
     "output_type": "stream",
     "text": [
      "1/1 [==============================] - 0s 99ms/step - loss: 0.0071 - accuracy: 0.9805\n",
      "Epoch 362/1000\n",
      "1/1 [==============================] - 0s 15ms/stepss: 0.0070 - accuracy: 0.98\n"
     ]
    },
    {
     "name": "stderr",
     "output_type": "stream",
     "text": [
      "Clipping input data to the valid range for imshow with RGB data ([0..1] for floats or [0..255] for integers).\n"
     ]
    },
    {
     "name": "stdout",
     "output_type": "stream",
     "text": [
      "1/1 [==============================] - 0s 96ms/step - loss: 0.0070 - accuracy: 0.9809\n",
      "Epoch 363/1000\n",
      "1/1 [==============================] - 0s 15ms/stepss: 0.0069 - accuracy: 0.98\n"
     ]
    },
    {
     "name": "stderr",
     "output_type": "stream",
     "text": [
      "Clipping input data to the valid range for imshow with RGB data ([0..1] for floats or [0..255] for integers).\n"
     ]
    },
    {
     "name": "stdout",
     "output_type": "stream",
     "text": [
      "1/1 [==============================] - 0s 97ms/step - loss: 0.0069 - accuracy: 0.9808\n",
      "Epoch 364/1000\n",
      "1/1 [==============================] - 0s 15ms/stepss: 0.0069 - accuracy: 0.98\n"
     ]
    },
    {
     "name": "stderr",
     "output_type": "stream",
     "text": [
      "Clipping input data to the valid range for imshow with RGB data ([0..1] for floats or [0..255] for integers).\n"
     ]
    },
    {
     "name": "stdout",
     "output_type": "stream",
     "text": [
      "1/1 [==============================] - 0s 100ms/step - loss: 0.0069 - accuracy: 0.9810\n",
      "Epoch 365/1000\n",
      "1/1 [==============================] - 0s 15ms/stepss: 0.0068 - accuracy: 0.98\n"
     ]
    },
    {
     "name": "stderr",
     "output_type": "stream",
     "text": [
      "Clipping input data to the valid range for imshow with RGB data ([0..1] for floats or [0..255] for integers).\n"
     ]
    },
    {
     "name": "stdout",
     "output_type": "stream",
     "text": [
      "1/1 [==============================] - 0s 104ms/step - loss: 0.0068 - accuracy: 0.9810\n",
      "Epoch 366/1000\n",
      "1/1 [==============================] - 0s 15ms/stepss: 0.0068 - accuracy: 0.98\n"
     ]
    },
    {
     "name": "stderr",
     "output_type": "stream",
     "text": [
      "Clipping input data to the valid range for imshow with RGB data ([0..1] for floats or [0..255] for integers).\n"
     ]
    },
    {
     "name": "stdout",
     "output_type": "stream",
     "text": [
      "1/1 [==============================] - 0s 100ms/step - loss: 0.0068 - accuracy: 0.9809\n",
      "Epoch 367/1000\n",
      "1/1 [==============================] - 0s 16ms/stepss: 0.0068 - accuracy: 0.98\n"
     ]
    },
    {
     "name": "stderr",
     "output_type": "stream",
     "text": [
      "Clipping input data to the valid range for imshow with RGB data ([0..1] for floats or [0..255] for integers).\n"
     ]
    },
    {
     "name": "stdout",
     "output_type": "stream",
     "text": [
      "1/1 [==============================] - 0s 97ms/step - loss: 0.0068 - accuracy: 0.9808\n",
      "Epoch 368/1000\n",
      "1/1 [==============================] - 0s 15ms/stepss: 0.0068 - accuracy: 0.98\n"
     ]
    },
    {
     "name": "stderr",
     "output_type": "stream",
     "text": [
      "Clipping input data to the valid range for imshow with RGB data ([0..1] for floats or [0..255] for integers).\n"
     ]
    },
    {
     "name": "stdout",
     "output_type": "stream",
     "text": [
      "1/1 [==============================] - 0s 96ms/step - loss: 0.0068 - accuracy: 0.9805\n",
      "Epoch 369/1000\n",
      "1/1 [==============================] - 0s 15ms/stepss: 0.0069 - accuracy: 0.98\n"
     ]
    },
    {
     "name": "stderr",
     "output_type": "stream",
     "text": [
      "Clipping input data to the valid range for imshow with RGB data ([0..1] for floats or [0..255] for integers).\n"
     ]
    },
    {
     "name": "stdout",
     "output_type": "stream",
     "text": [
      "1/1 [==============================] - 0s 99ms/step - loss: 0.0069 - accuracy: 0.9808\n",
      "Epoch 370/1000\n",
      "1/1 [==============================] - 0s 15ms/stepss: 0.0069 - accuracy: 0.98\n"
     ]
    },
    {
     "name": "stderr",
     "output_type": "stream",
     "text": [
      "Clipping input data to the valid range for imshow with RGB data ([0..1] for floats or [0..255] for integers).\n"
     ]
    },
    {
     "name": "stdout",
     "output_type": "stream",
     "text": [
      "1/1 [==============================] - 0s 94ms/step - loss: 0.0069 - accuracy: 0.9805\n",
      "Epoch 371/1000\n",
      "1/1 [==============================] - 0s 15ms/stepss: 0.0070 - accuracy: 0.98\n"
     ]
    },
    {
     "name": "stderr",
     "output_type": "stream",
     "text": [
      "Clipping input data to the valid range for imshow with RGB data ([0..1] for floats or [0..255] for integers).\n"
     ]
    },
    {
     "name": "stdout",
     "output_type": "stream",
     "text": [
      "1/1 [==============================] - 0s 96ms/step - loss: 0.0070 - accuracy: 0.9809\n",
      "Epoch 372/1000\n",
      "1/1 [==============================] - 0s 14ms/stepss: 0.0070 - accuracy: 0.98\n"
     ]
    },
    {
     "name": "stderr",
     "output_type": "stream",
     "text": [
      "Clipping input data to the valid range for imshow with RGB data ([0..1] for floats or [0..255] for integers).\n"
     ]
    },
    {
     "name": "stdout",
     "output_type": "stream",
     "text": [
      "1/1 [==============================] - 0s 95ms/step - loss: 0.0070 - accuracy: 0.9804\n",
      "Epoch 373/1000\n",
      "1/1 [==============================] - 0s 15ms/stepss: 0.0070 - accuracy: 0.98\n"
     ]
    },
    {
     "name": "stderr",
     "output_type": "stream",
     "text": [
      "Clipping input data to the valid range for imshow with RGB data ([0..1] for floats or [0..255] for integers).\n"
     ]
    },
    {
     "name": "stdout",
     "output_type": "stream",
     "text": [
      "1/1 [==============================] - 0s 97ms/step - loss: 0.0070 - accuracy: 0.9806\n",
      "Epoch 374/1000\n",
      "1/1 [==============================] - 0s 14ms/stepss: 0.0070 - accuracy: 0.98\n"
     ]
    },
    {
     "name": "stderr",
     "output_type": "stream",
     "text": [
      "Clipping input data to the valid range for imshow with RGB data ([0..1] for floats or [0..255] for integers).\n"
     ]
    },
    {
     "name": "stdout",
     "output_type": "stream",
     "text": [
      "1/1 [==============================] - 0s 96ms/step - loss: 0.0070 - accuracy: 0.9802\n",
      "Epoch 375/1000\n",
      "1/1 [==============================] - 0s 15ms/stepss: 0.0070 - accuracy: 0.98\n"
     ]
    },
    {
     "name": "stderr",
     "output_type": "stream",
     "text": [
      "Clipping input data to the valid range for imshow with RGB data ([0..1] for floats or [0..255] for integers).\n"
     ]
    },
    {
     "name": "stdout",
     "output_type": "stream",
     "text": [
      "1/1 [==============================] - 0s 105ms/step - loss: 0.0070 - accuracy: 0.9807\n",
      "Epoch 376/1000\n",
      "1/1 [==============================] - 0s 15ms/stepss: 0.0069 - accuracy: 0.98\n"
     ]
    },
    {
     "name": "stderr",
     "output_type": "stream",
     "text": [
      "Clipping input data to the valid range for imshow with RGB data ([0..1] for floats or [0..255] for integers).\n"
     ]
    },
    {
     "name": "stdout",
     "output_type": "stream",
     "text": [
      "1/1 [==============================] - 0s 101ms/step - loss: 0.0069 - accuracy: 0.9805\n",
      "Epoch 377/1000\n",
      "1/1 [==============================] - 0s 15ms/stepss: 0.0068 - accuracy: 0.98\n"
     ]
    },
    {
     "name": "stderr",
     "output_type": "stream",
     "text": [
      "Clipping input data to the valid range for imshow with RGB data ([0..1] for floats or [0..255] for integers).\n"
     ]
    },
    {
     "name": "stdout",
     "output_type": "stream",
     "text": [
      "1/1 [==============================] - 0s 102ms/step - loss: 0.0068 - accuracy: 0.9807\n",
      "Epoch 378/1000\n",
      "1/1 [==============================] - 0s 16ms/stepss: 0.0067 - accuracy: 0.98\n"
     ]
    },
    {
     "name": "stderr",
     "output_type": "stream",
     "text": [
      "Clipping input data to the valid range for imshow with RGB data ([0..1] for floats or [0..255] for integers).\n"
     ]
    },
    {
     "name": "stdout",
     "output_type": "stream",
     "text": [
      "1/1 [==============================] - 0s 101ms/step - loss: 0.0067 - accuracy: 0.9806\n",
      "Epoch 379/1000\n",
      "1/1 [==============================] - 0s 15ms/stepss: 0.0067 - accuracy: 0.98\n"
     ]
    },
    {
     "name": "stderr",
     "output_type": "stream",
     "text": [
      "Clipping input data to the valid range for imshow with RGB data ([0..1] for floats or [0..255] for integers).\n"
     ]
    },
    {
     "name": "stdout",
     "output_type": "stream",
     "text": [
      "1/1 [==============================] - 0s 101ms/step - loss: 0.0067 - accuracy: 0.9807\n",
      "Epoch 380/1000\n",
      "1/1 [==============================] - 0s 15ms/stepss: 0.0067 - accuracy: 0.98\n"
     ]
    },
    {
     "name": "stderr",
     "output_type": "stream",
     "text": [
      "Clipping input data to the valid range for imshow with RGB data ([0..1] for floats or [0..255] for integers).\n"
     ]
    },
    {
     "name": "stdout",
     "output_type": "stream",
     "text": [
      "1/1 [==============================] - 0s 99ms/step - loss: 0.0067 - accuracy: 0.9807\n",
      "Epoch 381/1000\n",
      "1/1 [==============================] - 0s 14ms/stepss: 0.0067 - accuracy: 0.98\n"
     ]
    },
    {
     "name": "stderr",
     "output_type": "stream",
     "text": [
      "Clipping input data to the valid range for imshow with RGB data ([0..1] for floats or [0..255] for integers).\n"
     ]
    },
    {
     "name": "stdout",
     "output_type": "stream",
     "text": [
      "1/1 [==============================] - 0s 97ms/step - loss: 0.0067 - accuracy: 0.9805\n",
      "Epoch 382/1000\n",
      "1/1 [==============================] - 0s 17ms/stepss: 0.0067 - accuracy: 0.98\n"
     ]
    },
    {
     "name": "stderr",
     "output_type": "stream",
     "text": [
      "Clipping input data to the valid range for imshow with RGB data ([0..1] for floats or [0..255] for integers).\n"
     ]
    },
    {
     "name": "stdout",
     "output_type": "stream",
     "text": [
      "1/1 [==============================] - 0s 105ms/step - loss: 0.0067 - accuracy: 0.9807\n",
      "Epoch 383/1000\n",
      "1/1 [==============================] - 0s 15ms/stepss: 0.0068 - accuracy: 0.98\n"
     ]
    },
    {
     "name": "stderr",
     "output_type": "stream",
     "text": [
      "Clipping input data to the valid range for imshow with RGB data ([0..1] for floats or [0..255] for integers).\n"
     ]
    },
    {
     "name": "stdout",
     "output_type": "stream",
     "text": [
      "1/1 [==============================] - 0s 97ms/step - loss: 0.0068 - accuracy: 0.9806\n",
      "Epoch 384/1000\n",
      "1/1 [==============================] - 0s 15ms/stepss: 0.0068 - accuracy: 0.98\n"
     ]
    },
    {
     "name": "stderr",
     "output_type": "stream",
     "text": [
      "Clipping input data to the valid range for imshow with RGB data ([0..1] for floats or [0..255] for integers).\n"
     ]
    },
    {
     "name": "stdout",
     "output_type": "stream",
     "text": [
      "1/1 [==============================] - 0s 97ms/step - loss: 0.0068 - accuracy: 0.9807\n",
      "Epoch 385/1000\n",
      "1/1 [==============================] - 0s 16ms/stepss: 0.0068 - accuracy: 0.98\n"
     ]
    },
    {
     "name": "stderr",
     "output_type": "stream",
     "text": [
      "Clipping input data to the valid range for imshow with RGB data ([0..1] for floats or [0..255] for integers).\n"
     ]
    },
    {
     "name": "stdout",
     "output_type": "stream",
     "text": [
      "1/1 [==============================] - 0s 104ms/step - loss: 0.0068 - accuracy: 0.9802\n",
      "Epoch 386/1000\n",
      "1/1 [==============================] - 0s 17ms/stepss: 0.0068 - accuracy: 0.98\n"
     ]
    },
    {
     "name": "stderr",
     "output_type": "stream",
     "text": [
      "Clipping input data to the valid range for imshow with RGB data ([0..1] for floats or [0..255] for integers).\n"
     ]
    },
    {
     "name": "stdout",
     "output_type": "stream",
     "text": [
      "1/1 [==============================] - 0s 101ms/step - loss: 0.0068 - accuracy: 0.9803\n",
      "Epoch 387/1000\n",
      "1/1 [==============================] - 0s 14ms/stepss: 0.0067 - accuracy: 0.98\n"
     ]
    },
    {
     "name": "stderr",
     "output_type": "stream",
     "text": [
      "Clipping input data to the valid range for imshow with RGB data ([0..1] for floats or [0..255] for integers).\n"
     ]
    },
    {
     "name": "stdout",
     "output_type": "stream",
     "text": [
      "1/1 [==============================] - 0s 99ms/step - loss: 0.0067 - accuracy: 0.9803\n",
      "Epoch 388/1000\n",
      "1/1 [==============================] - 0s 15ms/stepss: 0.0067 - accuracy: 0.98\n"
     ]
    },
    {
     "name": "stderr",
     "output_type": "stream",
     "text": [
      "Clipping input data to the valid range for imshow with RGB data ([0..1] for floats or [0..255] for integers).\n"
     ]
    },
    {
     "name": "stdout",
     "output_type": "stream",
     "text": [
      "1/1 [==============================] - 0s 98ms/step - loss: 0.0067 - accuracy: 0.9807\n",
      "Epoch 389/1000\n",
      "1/1 [==============================] - 0s 15ms/stepss: 0.0066 - accuracy: 0.98\n"
     ]
    },
    {
     "name": "stderr",
     "output_type": "stream",
     "text": [
      "Clipping input data to the valid range for imshow with RGB data ([0..1] for floats or [0..255] for integers).\n"
     ]
    },
    {
     "name": "stdout",
     "output_type": "stream",
     "text": [
      "1/1 [==============================] - 0s 98ms/step - loss: 0.0066 - accuracy: 0.9806\n",
      "Epoch 390/1000\n",
      "1/1 [==============================] - 0s 15ms/stepss: 0.0066 - accuracy: 0.98\n"
     ]
    },
    {
     "name": "stderr",
     "output_type": "stream",
     "text": [
      "Clipping input data to the valid range for imshow with RGB data ([0..1] for floats or [0..255] for integers).\n"
     ]
    },
    {
     "name": "stdout",
     "output_type": "stream",
     "text": [
      "1/1 [==============================] - 0s 99ms/step - loss: 0.0066 - accuracy: 0.9806\n",
      "Epoch 391/1000\n",
      "1/1 [==============================] - 0s 20ms/stepss: 0.0065 - accuracy: 0.98\n"
     ]
    },
    {
     "name": "stderr",
     "output_type": "stream",
     "text": [
      "Clipping input data to the valid range for imshow with RGB data ([0..1] for floats or [0..255] for integers).\n"
     ]
    },
    {
     "name": "stdout",
     "output_type": "stream",
     "text": [
      "1/1 [==============================] - 0s 106ms/step - loss: 0.0065 - accuracy: 0.9805\n",
      "Epoch 392/1000\n",
      "1/1 [==============================] - 0s 14ms/stepss: 0.0065 - accuracy: 0.98\n"
     ]
    },
    {
     "name": "stderr",
     "output_type": "stream",
     "text": [
      "Clipping input data to the valid range for imshow with RGB data ([0..1] for floats or [0..255] for integers).\n"
     ]
    },
    {
     "name": "stdout",
     "output_type": "stream",
     "text": [
      "1/1 [==============================] - 0s 99ms/step - loss: 0.0065 - accuracy: 0.9803\n",
      "Epoch 393/1000\n",
      "1/1 [==============================] - 0s 15ms/stepss: 0.0065 - accuracy: 0.98\n"
     ]
    },
    {
     "name": "stderr",
     "output_type": "stream",
     "text": [
      "Clipping input data to the valid range for imshow with RGB data ([0..1] for floats or [0..255] for integers).\n"
     ]
    },
    {
     "name": "stdout",
     "output_type": "stream",
     "text": [
      "1/1 [==============================] - 0s 97ms/step - loss: 0.0065 - accuracy: 0.9802\n",
      "Epoch 394/1000\n",
      "1/1 [==============================] - 0s 14ms/stepss: 0.0066 - accuracy: 0.98\n"
     ]
    },
    {
     "name": "stderr",
     "output_type": "stream",
     "text": [
      "Clipping input data to the valid range for imshow with RGB data ([0..1] for floats or [0..255] for integers).\n"
     ]
    },
    {
     "name": "stdout",
     "output_type": "stream",
     "text": [
      "1/1 [==============================] - 0s 100ms/step - loss: 0.0066 - accuracy: 0.9801\n",
      "Epoch 395/1000\n",
      "1/1 [==============================] - 0s 16ms/stepss: 0.0066 - accuracy: 0.98\n"
     ]
    },
    {
     "name": "stderr",
     "output_type": "stream",
     "text": [
      "Clipping input data to the valid range for imshow with RGB data ([0..1] for floats or [0..255] for integers).\n"
     ]
    },
    {
     "name": "stdout",
     "output_type": "stream",
     "text": [
      "1/1 [==============================] - 0s 97ms/step - loss: 0.0066 - accuracy: 0.9803\n",
      "Epoch 396/1000\n",
      "1/1 [==============================] - 0s 15ms/stepss: 0.0066 - accuracy: 0.97\n"
     ]
    },
    {
     "name": "stderr",
     "output_type": "stream",
     "text": [
      "Clipping input data to the valid range for imshow with RGB data ([0..1] for floats or [0..255] for integers).\n"
     ]
    },
    {
     "name": "stdout",
     "output_type": "stream",
     "text": [
      "1/1 [==============================] - 0s 98ms/step - loss: 0.0066 - accuracy: 0.9799\n",
      "Epoch 397/1000\n",
      "1/1 [==============================] - 0s 16ms/stepss: 0.0067 - accuracy: 0.98\n"
     ]
    },
    {
     "name": "stderr",
     "output_type": "stream",
     "text": [
      "Clipping input data to the valid range for imshow with RGB data ([0..1] for floats or [0..255] for integers).\n"
     ]
    },
    {
     "name": "stdout",
     "output_type": "stream",
     "text": [
      "1/1 [==============================] - 0s 102ms/step - loss: 0.0067 - accuracy: 0.9800\n",
      "Epoch 398/1000\n",
      "1/1 [==============================] - 0s 14ms/stepss: 0.0068 - accuracy: 0.97\n"
     ]
    },
    {
     "name": "stderr",
     "output_type": "stream",
     "text": [
      "Clipping input data to the valid range for imshow with RGB data ([0..1] for floats or [0..255] for integers).\n"
     ]
    },
    {
     "name": "stdout",
     "output_type": "stream",
     "text": [
      "1/1 [==============================] - 0s 92ms/step - loss: 0.0068 - accuracy: 0.9799\n",
      "Epoch 399/1000\n",
      "1/1 [==============================] - 0s 14ms/stepss: 0.0069 - accuracy: 0.98\n"
     ]
    },
    {
     "name": "stderr",
     "output_type": "stream",
     "text": [
      "Clipping input data to the valid range for imshow with RGB data ([0..1] for floats or [0..255] for integers).\n"
     ]
    },
    {
     "name": "stdout",
     "output_type": "stream",
     "text": [
      "1/1 [==============================] - 0s 97ms/step - loss: 0.0069 - accuracy: 0.9803\n",
      "Epoch 400/1000\n",
      "1/1 [==============================] - 0s 15ms/stepss: 0.0069 - accuracy: 0.97\n"
     ]
    },
    {
     "name": "stderr",
     "output_type": "stream",
     "text": [
      "Clipping input data to the valid range for imshow with RGB data ([0..1] for floats or [0..255] for integers).\n"
     ]
    },
    {
     "name": "stdout",
     "output_type": "stream",
     "text": [
      "1/1 [==============================] - 0s 98ms/step - loss: 0.0069 - accuracy: 0.9799\n",
      "Epoch 401/1000\n",
      "1/1 [==============================] - 0s 15ms/stepss: 0.0069 - accuracy: 0.98\n"
     ]
    },
    {
     "name": "stderr",
     "output_type": "stream",
     "text": [
      "Clipping input data to the valid range for imshow with RGB data ([0..1] for floats or [0..255] for integers).\n"
     ]
    },
    {
     "name": "stdout",
     "output_type": "stream",
     "text": [
      "1/1 [==============================] - 0s 98ms/step - loss: 0.0069 - accuracy: 0.9804\n",
      "Epoch 402/1000\n",
      "1/1 [==============================] - 0s 16ms/stepss: 0.0067 - accuracy: 0.98\n"
     ]
    },
    {
     "name": "stderr",
     "output_type": "stream",
     "text": [
      "Clipping input data to the valid range for imshow with RGB data ([0..1] for floats or [0..255] for integers).\n"
     ]
    },
    {
     "name": "stdout",
     "output_type": "stream",
     "text": [
      "1/1 [==============================] - 0s 100ms/step - loss: 0.0067 - accuracy: 0.9800\n",
      "Epoch 403/1000\n",
      "1/1 [==============================] - 0s 18ms/stepss: 0.0065 - accuracy: 0.97\n"
     ]
    },
    {
     "name": "stderr",
     "output_type": "stream",
     "text": [
      "Clipping input data to the valid range for imshow with RGB data ([0..1] for floats or [0..255] for integers).\n"
     ]
    },
    {
     "name": "stdout",
     "output_type": "stream",
     "text": [
      "1/1 [==============================] - 0s 104ms/step - loss: 0.0065 - accuracy: 0.9799\n",
      "Epoch 404/1000\n",
      "1/1 [==============================] - 0s 15ms/stepss: 0.0064 - accuracy: 0.97\n"
     ]
    },
    {
     "name": "stderr",
     "output_type": "stream",
     "text": [
      "Clipping input data to the valid range for imshow with RGB data ([0..1] for floats or [0..255] for integers).\n"
     ]
    },
    {
     "name": "stdout",
     "output_type": "stream",
     "text": [
      "1/1 [==============================] - 0s 102ms/step - loss: 0.0064 - accuracy: 0.9799\n",
      "Epoch 405/1000\n",
      "1/1 [==============================] - 0s 17ms/stepss: 0.0064 - accuracy: 0.98\n"
     ]
    },
    {
     "name": "stderr",
     "output_type": "stream",
     "text": [
      "Clipping input data to the valid range for imshow with RGB data ([0..1] for floats or [0..255] for integers).\n"
     ]
    },
    {
     "name": "stdout",
     "output_type": "stream",
     "text": [
      "1/1 [==============================] - 0s 101ms/step - loss: 0.0064 - accuracy: 0.9805\n",
      "Epoch 406/1000\n",
      "1/1 [==============================] - 0s 15ms/stepss: 0.0065 - accuracy: 0.98\n"
     ]
    },
    {
     "name": "stderr",
     "output_type": "stream",
     "text": [
      "Clipping input data to the valid range for imshow with RGB data ([0..1] for floats or [0..255] for integers).\n"
     ]
    },
    {
     "name": "stdout",
     "output_type": "stream",
     "text": [
      "1/1 [==============================] - 0s 99ms/step - loss: 0.0065 - accuracy: 0.9808\n",
      "Epoch 407/1000\n",
      "1/1 [==============================] - 0s 15ms/stepss: 0.0066 - accuracy: 0.98\n"
     ]
    },
    {
     "name": "stderr",
     "output_type": "stream",
     "text": [
      "Clipping input data to the valid range for imshow with RGB data ([0..1] for floats or [0..255] for integers).\n"
     ]
    },
    {
     "name": "stdout",
     "output_type": "stream",
     "text": [
      "1/1 [==============================] - 0s 105ms/step - loss: 0.0066 - accuracy: 0.9802\n",
      "Epoch 408/1000\n",
      "1/1 [==============================] - 0s 19ms/stepss: 0.0066 - accuracy: 0.98\n"
     ]
    },
    {
     "name": "stderr",
     "output_type": "stream",
     "text": [
      "Clipping input data to the valid range for imshow with RGB data ([0..1] for floats or [0..255] for integers).\n"
     ]
    },
    {
     "name": "stdout",
     "output_type": "stream",
     "text": [
      "1/1 [==============================] - 0s 108ms/step - loss: 0.0066 - accuracy: 0.9800\n",
      "Epoch 409/1000\n",
      "1/1 [==============================] - 0s 18ms/stepss: 0.0065 - accuracy: 0.97\n"
     ]
    },
    {
     "name": "stderr",
     "output_type": "stream",
     "text": [
      "Clipping input data to the valid range for imshow with RGB data ([0..1] for floats or [0..255] for integers).\n"
     ]
    },
    {
     "name": "stdout",
     "output_type": "stream",
     "text": [
      "1/1 [==============================] - 0s 106ms/step - loss: 0.0065 - accuracy: 0.9798\n",
      "Epoch 410/1000\n",
      "1/1 [==============================] - 0s 16ms/stepss: 0.0064 - accuracy: 0.98\n"
     ]
    },
    {
     "name": "stderr",
     "output_type": "stream",
     "text": [
      "Clipping input data to the valid range for imshow with RGB data ([0..1] for floats or [0..255] for integers).\n"
     ]
    },
    {
     "name": "stdout",
     "output_type": "stream",
     "text": [
      "1/1 [==============================] - 0s 104ms/step - loss: 0.0064 - accuracy: 0.9800\n",
      "Epoch 411/1000\n",
      "1/1 [==============================] - 0s 16ms/stepss: 0.0064 - accuracy: 0.97\n"
     ]
    },
    {
     "name": "stderr",
     "output_type": "stream",
     "text": [
      "Clipping input data to the valid range for imshow with RGB data ([0..1] for floats or [0..255] for integers).\n"
     ]
    },
    {
     "name": "stdout",
     "output_type": "stream",
     "text": [
      "1/1 [==============================] - 0s 103ms/step - loss: 0.0064 - accuracy: 0.9797\n",
      "Epoch 412/1000\n",
      "1/1 [==============================] - 0s 18ms/stepss: 0.0063 - accuracy: 0.97\n"
     ]
    },
    {
     "name": "stderr",
     "output_type": "stream",
     "text": [
      "Clipping input data to the valid range for imshow with RGB data ([0..1] for floats or [0..255] for integers).\n"
     ]
    },
    {
     "name": "stdout",
     "output_type": "stream",
     "text": [
      "1/1 [==============================] - 0s 108ms/step - loss: 0.0063 - accuracy: 0.9799\n",
      "Epoch 413/1000\n",
      "1/1 [==============================] - 0s 15ms/stepss: 0.0064 - accuracy: 0.98\n"
     ]
    },
    {
     "name": "stderr",
     "output_type": "stream",
     "text": [
      "Clipping input data to the valid range for imshow with RGB data ([0..1] for floats or [0..255] for integers).\n"
     ]
    },
    {
     "name": "stdout",
     "output_type": "stream",
     "text": [
      "1/1 [==============================] - 0s 102ms/step - loss: 0.0064 - accuracy: 0.9802\n",
      "Epoch 414/1000\n",
      "1/1 [==============================] - 0s 15ms/stepss: 0.0064 - accuracy: 0.98\n"
     ]
    },
    {
     "name": "stderr",
     "output_type": "stream",
     "text": [
      "Clipping input data to the valid range for imshow with RGB data ([0..1] for floats or [0..255] for integers).\n"
     ]
    },
    {
     "name": "stdout",
     "output_type": "stream",
     "text": [
      "1/1 [==============================] - 0s 112ms/step - loss: 0.0064 - accuracy: 0.9801\n",
      "Epoch 415/1000\n",
      "1/1 [==============================] - 0s 19ms/stepss: 0.0064 - accuracy: 0.98\n"
     ]
    },
    {
     "name": "stderr",
     "output_type": "stream",
     "text": [
      "Clipping input data to the valid range for imshow with RGB data ([0..1] for floats or [0..255] for integers).\n"
     ]
    },
    {
     "name": "stdout",
     "output_type": "stream",
     "text": [
      "1/1 [==============================] - 0s 111ms/step - loss: 0.0064 - accuracy: 0.9801\n",
      "Epoch 416/1000\n",
      "1/1 [==============================] - 0s 15ms/stepss: 0.0064 - accuracy: 0.97\n"
     ]
    },
    {
     "name": "stderr",
     "output_type": "stream",
     "text": [
      "Clipping input data to the valid range for imshow with RGB data ([0..1] for floats or [0..255] for integers).\n"
     ]
    },
    {
     "name": "stdout",
     "output_type": "stream",
     "text": [
      "1/1 [==============================] - 0s 103ms/step - loss: 0.0064 - accuracy: 0.9794\n",
      "Epoch 417/1000\n",
      "1/1 [==============================] - 0s 18ms/stepss: 0.0064 - accuracy: 0.97\n"
     ]
    },
    {
     "name": "stderr",
     "output_type": "stream",
     "text": [
      "Clipping input data to the valid range for imshow with RGB data ([0..1] for floats or [0..255] for integers).\n"
     ]
    },
    {
     "name": "stdout",
     "output_type": "stream",
     "text": [
      "1/1 [==============================] - 0s 109ms/step - loss: 0.0064 - accuracy: 0.9798\n",
      "Epoch 418/1000\n",
      "1/1 [==============================] - 0s 15ms/stepss: 0.0064 - accuracy: 0.97\n"
     ]
    },
    {
     "name": "stderr",
     "output_type": "stream",
     "text": [
      "Clipping input data to the valid range for imshow with RGB data ([0..1] for floats or [0..255] for integers).\n"
     ]
    },
    {
     "name": "stdout",
     "output_type": "stream",
     "text": [
      "1/1 [==============================] - 0s 103ms/step - loss: 0.0064 - accuracy: 0.9796\n",
      "Epoch 419/1000\n",
      "1/1 [==============================] - 0s 16ms/stepss: 0.0063 - accuracy: 0.97\n"
     ]
    },
    {
     "name": "stderr",
     "output_type": "stream",
     "text": [
      "Clipping input data to the valid range for imshow with RGB data ([0..1] for floats or [0..255] for integers).\n"
     ]
    },
    {
     "name": "stdout",
     "output_type": "stream",
     "text": [
      "1/1 [==============================] - 0s 103ms/step - loss: 0.0063 - accuracy: 0.9797\n",
      "Epoch 420/1000\n",
      "1/1 [==============================] - 0s 16ms/stepss: 0.0063 - accuracy: 0.97\n"
     ]
    },
    {
     "name": "stderr",
     "output_type": "stream",
     "text": [
      "Clipping input data to the valid range for imshow with RGB data ([0..1] for floats or [0..255] for integers).\n"
     ]
    },
    {
     "name": "stdout",
     "output_type": "stream",
     "text": [
      "1/1 [==============================] - 0s 99ms/step - loss: 0.0063 - accuracy: 0.9795\n",
      "Epoch 421/1000\n",
      "1/1 [==============================] - 0s 18ms/stepss: 0.0063 - accuracy: 0.97\n"
     ]
    },
    {
     "name": "stderr",
     "output_type": "stream",
     "text": [
      "Clipping input data to the valid range for imshow with RGB data ([0..1] for floats or [0..255] for integers).\n"
     ]
    },
    {
     "name": "stdout",
     "output_type": "stream",
     "text": [
      "1/1 [==============================] - 0s 105ms/step - loss: 0.0063 - accuracy: 0.9796\n",
      "Epoch 422/1000\n",
      "1/1 [==============================] - 0s 15ms/stepss: 0.0063 - accuracy: 0.97\n"
     ]
    },
    {
     "name": "stderr",
     "output_type": "stream",
     "text": [
      "Clipping input data to the valid range for imshow with RGB data ([0..1] for floats or [0..255] for integers).\n"
     ]
    },
    {
     "name": "stdout",
     "output_type": "stream",
     "text": [
      "1/1 [==============================] - 0s 100ms/step - loss: 0.0063 - accuracy: 0.9798\n",
      "Epoch 423/1000\n",
      "1/1 [==============================] - 0s 15ms/stepss: 0.0063 - accuracy: 0.97\n"
     ]
    },
    {
     "name": "stderr",
     "output_type": "stream",
     "text": [
      "Clipping input data to the valid range for imshow with RGB data ([0..1] for floats or [0..255] for integers).\n"
     ]
    },
    {
     "name": "stdout",
     "output_type": "stream",
     "text": [
      "1/1 [==============================] - 0s 96ms/step - loss: 0.0063 - accuracy: 0.9795\n",
      "Epoch 424/1000\n",
      "1/1 [==============================] - 0s 16ms/stepss: 0.0063 - accuracy: 0.97\n"
     ]
    },
    {
     "name": "stderr",
     "output_type": "stream",
     "text": [
      "Clipping input data to the valid range for imshow with RGB data ([0..1] for floats or [0..255] for integers).\n"
     ]
    },
    {
     "name": "stdout",
     "output_type": "stream",
     "text": [
      "1/1 [==============================] - 0s 99ms/step - loss: 0.0063 - accuracy: 0.9796\n",
      "Epoch 425/1000\n",
      "1/1 [==============================] - 0s 15ms/stepss: 0.0063 - accuracy: 0.97\n"
     ]
    },
    {
     "name": "stderr",
     "output_type": "stream",
     "text": [
      "Clipping input data to the valid range for imshow with RGB data ([0..1] for floats or [0..255] for integers).\n"
     ]
    },
    {
     "name": "stdout",
     "output_type": "stream",
     "text": [
      "1/1 [==============================] - 0s 96ms/step - loss: 0.0063 - accuracy: 0.9793\n",
      "Epoch 426/1000\n",
      "1/1 [==============================] - 0s 16ms/stepss: 0.0064 - accuracy: 0.97\n"
     ]
    },
    {
     "name": "stderr",
     "output_type": "stream",
     "text": [
      "Clipping input data to the valid range for imshow with RGB data ([0..1] for floats or [0..255] for integers).\n"
     ]
    },
    {
     "name": "stdout",
     "output_type": "stream",
     "text": [
      "1/1 [==============================] - 0s 99ms/step - loss: 0.0064 - accuracy: 0.9797\n",
      "Epoch 427/1000\n",
      "1/1 [==============================] - 0s 14ms/stepss: 0.0064 - accuracy: 0.97\n"
     ]
    },
    {
     "name": "stderr",
     "output_type": "stream",
     "text": [
      "Clipping input data to the valid range for imshow with RGB data ([0..1] for floats or [0..255] for integers).\n"
     ]
    },
    {
     "name": "stdout",
     "output_type": "stream",
     "text": [
      "1/1 [==============================] - 0s 94ms/step - loss: 0.0064 - accuracy: 0.9790\n",
      "Epoch 428/1000\n",
      "1/1 [==============================] - 0s 15ms/stepss: 0.0065 - accuracy: 0.97\n"
     ]
    },
    {
     "name": "stderr",
     "output_type": "stream",
     "text": [
      "Clipping input data to the valid range for imshow with RGB data ([0..1] for floats or [0..255] for integers).\n"
     ]
    },
    {
     "name": "stdout",
     "output_type": "stream",
     "text": [
      "1/1 [==============================] - 0s 98ms/step - loss: 0.0065 - accuracy: 0.9793\n",
      "Epoch 429/1000\n",
      "1/1 [==============================] - 0s 15ms/stepss: 0.0065 - accuracy: 0.97\n"
     ]
    },
    {
     "name": "stderr",
     "output_type": "stream",
     "text": [
      "Clipping input data to the valid range for imshow with RGB data ([0..1] for floats or [0..255] for integers).\n"
     ]
    },
    {
     "name": "stdout",
     "output_type": "stream",
     "text": [
      "1/1 [==============================] - 0s 102ms/step - loss: 0.0065 - accuracy: 0.9790\n",
      "Epoch 430/1000\n",
      "1/1 [==============================] - 0s 15ms/stepss: 0.0066 - accuracy: 0.97\n"
     ]
    },
    {
     "name": "stderr",
     "output_type": "stream",
     "text": [
      "Clipping input data to the valid range for imshow with RGB data ([0..1] for floats or [0..255] for integers).\n"
     ]
    },
    {
     "name": "stdout",
     "output_type": "stream",
     "text": [
      "1/1 [==============================] - 0s 97ms/step - loss: 0.0066 - accuracy: 0.9797\n",
      "Epoch 431/1000\n",
      "1/1 [==============================] - 0s 16ms/stepss: 0.0065 - accuracy: 0.97\n"
     ]
    },
    {
     "name": "stderr",
     "output_type": "stream",
     "text": [
      "Clipping input data to the valid range for imshow with RGB data ([0..1] for floats or [0..255] for integers).\n"
     ]
    },
    {
     "name": "stdout",
     "output_type": "stream",
     "text": [
      "1/1 [==============================] - 0s 105ms/step - loss: 0.0065 - accuracy: 0.9791\n",
      "Epoch 432/1000\n",
      "1/1 [==============================] - 0s 15ms/stepss: 0.0064 - accuracy: 0.97\n"
     ]
    },
    {
     "name": "stderr",
     "output_type": "stream",
     "text": [
      "Clipping input data to the valid range for imshow with RGB data ([0..1] for floats or [0..255] for integers).\n"
     ]
    },
    {
     "name": "stdout",
     "output_type": "stream",
     "text": [
      "1/1 [==============================] - 0s 96ms/step - loss: 0.0064 - accuracy: 0.9795\n",
      "Epoch 433/1000\n",
      "1/1 [==============================] - 0s 15ms/stepss: 0.0063 - accuracy: 0.97\n"
     ]
    },
    {
     "name": "stderr",
     "output_type": "stream",
     "text": [
      "Clipping input data to the valid range for imshow with RGB data ([0..1] for floats or [0..255] for integers).\n"
     ]
    },
    {
     "name": "stdout",
     "output_type": "stream",
     "text": [
      "1/1 [==============================] - 0s 101ms/step - loss: 0.0063 - accuracy: 0.9791\n",
      "Epoch 434/1000\n",
      "1/1 [==============================] - 0s 15ms/stepss: 0.0062 - accuracy: 0.97\n"
     ]
    },
    {
     "name": "stderr",
     "output_type": "stream",
     "text": [
      "Clipping input data to the valid range for imshow with RGB data ([0..1] for floats or [0..255] for integers).\n"
     ]
    },
    {
     "name": "stdout",
     "output_type": "stream",
     "text": [
      "1/1 [==============================] - 0s 98ms/step - loss: 0.0062 - accuracy: 0.9793\n",
      "Epoch 435/1000\n",
      "1/1 [==============================] - 0s 14ms/stepss: 0.0061 - accuracy: 0.97\n"
     ]
    },
    {
     "name": "stderr",
     "output_type": "stream",
     "text": [
      "Clipping input data to the valid range for imshow with RGB data ([0..1] for floats or [0..255] for integers).\n"
     ]
    },
    {
     "name": "stdout",
     "output_type": "stream",
     "text": [
      "1/1 [==============================] - 0s 96ms/step - loss: 0.0061 - accuracy: 0.9794\n",
      "Epoch 436/1000\n",
      "1/1 [==============================] - 0s 15ms/stepss: 0.0062 - accuracy: 0.97\n"
     ]
    },
    {
     "name": "stderr",
     "output_type": "stream",
     "text": [
      "Clipping input data to the valid range for imshow with RGB data ([0..1] for floats or [0..255] for integers).\n"
     ]
    },
    {
     "name": "stdout",
     "output_type": "stream",
     "text": [
      "1/1 [==============================] - 0s 100ms/step - loss: 0.0062 - accuracy: 0.9794\n",
      "Epoch 437/1000\n",
      "1/1 [==============================] - 0s 14ms/stepss: 0.0062 - accuracy: 0.97\n"
     ]
    },
    {
     "name": "stderr",
     "output_type": "stream",
     "text": [
      "Clipping input data to the valid range for imshow with RGB data ([0..1] for floats or [0..255] for integers).\n"
     ]
    },
    {
     "name": "stdout",
     "output_type": "stream",
     "text": [
      "1/1 [==============================] - 0s 96ms/step - loss: 0.0062 - accuracy: 0.9795\n",
      "Epoch 438/1000\n",
      "1/1 [==============================] - 0s 16ms/stepss: 0.0063 - accuracy: 0.97\n"
     ]
    },
    {
     "name": "stderr",
     "output_type": "stream",
     "text": [
      "Clipping input data to the valid range for imshow with RGB data ([0..1] for floats or [0..255] for integers).\n"
     ]
    },
    {
     "name": "stdout",
     "output_type": "stream",
     "text": [
      "1/1 [==============================] - 0s 103ms/step - loss: 0.0063 - accuracy: 0.9791\n",
      "Epoch 439/1000\n",
      "1/1 [==============================] - 0s 15ms/stepss: 0.0063 - accuracy: 0.97\n"
     ]
    },
    {
     "name": "stderr",
     "output_type": "stream",
     "text": [
      "Clipping input data to the valid range for imshow with RGB data ([0..1] for floats or [0..255] for integers).\n"
     ]
    },
    {
     "name": "stdout",
     "output_type": "stream",
     "text": [
      "1/1 [==============================] - 0s 103ms/step - loss: 0.0063 - accuracy: 0.9792\n",
      "Epoch 440/1000\n",
      "1/1 [==============================] - 0s 15ms/stepss: 0.0062 - accuracy: 0.97\n"
     ]
    },
    {
     "name": "stderr",
     "output_type": "stream",
     "text": [
      "Clipping input data to the valid range for imshow with RGB data ([0..1] for floats or [0..255] for integers).\n"
     ]
    },
    {
     "name": "stdout",
     "output_type": "stream",
     "text": [
      "1/1 [==============================] - 0s 96ms/step - loss: 0.0062 - accuracy: 0.9792\n",
      "Epoch 441/1000\n",
      "1/1 [==============================] - 0s 15ms/stepss: 0.0062 - accuracy: 0.97\n"
     ]
    },
    {
     "name": "stderr",
     "output_type": "stream",
     "text": [
      "Clipping input data to the valid range for imshow with RGB data ([0..1] for floats or [0..255] for integers).\n"
     ]
    },
    {
     "name": "stdout",
     "output_type": "stream",
     "text": [
      "1/1 [==============================] - 0s 98ms/step - loss: 0.0062 - accuracy: 0.9793\n",
      "Epoch 442/1000\n",
      "1/1 [==============================] - 0s 15ms/stepss: 0.0061 - accuracy: 0.97\n"
     ]
    },
    {
     "name": "stderr",
     "output_type": "stream",
     "text": [
      "Clipping input data to the valid range for imshow with RGB data ([0..1] for floats or [0..255] for integers).\n"
     ]
    },
    {
     "name": "stdout",
     "output_type": "stream",
     "text": [
      "1/1 [==============================] - 0s 98ms/step - loss: 0.0061 - accuracy: 0.9793\n",
      "Epoch 443/1000\n",
      "1/1 [==============================] - 0s 15ms/stepss: 0.0061 - accuracy: 0.97\n"
     ]
    },
    {
     "name": "stderr",
     "output_type": "stream",
     "text": [
      "Clipping input data to the valid range for imshow with RGB data ([0..1] for floats or [0..255] for integers).\n"
     ]
    },
    {
     "name": "stdout",
     "output_type": "stream",
     "text": [
      "1/1 [==============================] - 0s 105ms/step - loss: 0.0061 - accuracy: 0.9792\n",
      "Epoch 444/1000\n",
      "1/1 [==============================] - 0s 16ms/stepss: 0.0061 - accuracy: 0.97\n"
     ]
    },
    {
     "name": "stderr",
     "output_type": "stream",
     "text": [
      "Clipping input data to the valid range for imshow with RGB data ([0..1] for floats or [0..255] for integers).\n"
     ]
    },
    {
     "name": "stdout",
     "output_type": "stream",
     "text": [
      "1/1 [==============================] - 0s 101ms/step - loss: 0.0061 - accuracy: 0.9791\n",
      "Epoch 445/1000\n",
      "1/1 [==============================] - 0s 15ms/stepss: 0.0061 - accuracy: 0.97\n"
     ]
    },
    {
     "name": "stderr",
     "output_type": "stream",
     "text": [
      "Clipping input data to the valid range for imshow with RGB data ([0..1] for floats or [0..255] for integers).\n"
     ]
    },
    {
     "name": "stdout",
     "output_type": "stream",
     "text": [
      "1/1 [==============================] - 0s 95ms/step - loss: 0.0061 - accuracy: 0.9790\n",
      "Epoch 446/1000\n",
      "1/1 [==============================] - 0s 15ms/stepss: 0.0061 - accuracy: 0.97\n"
     ]
    },
    {
     "name": "stderr",
     "output_type": "stream",
     "text": [
      "Clipping input data to the valid range for imshow with RGB data ([0..1] for floats or [0..255] for integers).\n"
     ]
    },
    {
     "name": "stdout",
     "output_type": "stream",
     "text": [
      "1/1 [==============================] - 0s 99ms/step - loss: 0.0061 - accuracy: 0.9790\n",
      "Epoch 447/1000\n",
      "1/1 [==============================] - 0s 15ms/stepss: 0.0061 - accuracy: 0.97\n"
     ]
    },
    {
     "name": "stderr",
     "output_type": "stream",
     "text": [
      "Clipping input data to the valid range for imshow with RGB data ([0..1] for floats or [0..255] for integers).\n"
     ]
    },
    {
     "name": "stdout",
     "output_type": "stream",
     "text": [
      "1/1 [==============================] - 0s 98ms/step - loss: 0.0061 - accuracy: 0.9789\n",
      "Epoch 448/1000\n",
      "1/1 [==============================] - 0s 15ms/stepss: 0.0062 - accuracy: 0.97\n"
     ]
    },
    {
     "name": "stderr",
     "output_type": "stream",
     "text": [
      "Clipping input data to the valid range for imshow with RGB data ([0..1] for floats or [0..255] for integers).\n"
     ]
    },
    {
     "name": "stdout",
     "output_type": "stream",
     "text": [
      "1/1 [==============================] - 0s 98ms/step - loss: 0.0062 - accuracy: 0.9790\n",
      "Epoch 449/1000\n",
      "1/1 [==============================] - 0s 15ms/stepss: 0.0062 - accuracy: 0.97\n"
     ]
    },
    {
     "name": "stderr",
     "output_type": "stream",
     "text": [
      "Clipping input data to the valid range for imshow with RGB data ([0..1] for floats or [0..255] for integers).\n"
     ]
    },
    {
     "name": "stdout",
     "output_type": "stream",
     "text": [
      "1/1 [==============================] - 0s 98ms/step - loss: 0.0062 - accuracy: 0.9788\n",
      "Epoch 450/1000\n",
      "1/1 [==============================] - 0s 14ms/stepss: 0.0062 - accuracy: 0.97\n"
     ]
    },
    {
     "name": "stderr",
     "output_type": "stream",
     "text": [
      "Clipping input data to the valid range for imshow with RGB data ([0..1] for floats or [0..255] for integers).\n"
     ]
    },
    {
     "name": "stdout",
     "output_type": "stream",
     "text": [
      "1/1 [==============================] - 0s 93ms/step - loss: 0.0062 - accuracy: 0.9790\n",
      "Epoch 451/1000\n",
      "1/1 [==============================] - 0s 14ms/stepss: 0.0062 - accuracy: 0.97\n"
     ]
    },
    {
     "name": "stderr",
     "output_type": "stream",
     "text": [
      "Clipping input data to the valid range for imshow with RGB data ([0..1] for floats or [0..255] for integers).\n"
     ]
    },
    {
     "name": "stdout",
     "output_type": "stream",
     "text": [
      "1/1 [==============================] - 0s 96ms/step - loss: 0.0062 - accuracy: 0.9787\n",
      "Epoch 452/1000\n",
      "1/1 [==============================] - 0s 14ms/stepss: 0.0062 - accuracy: 0.97\n"
     ]
    },
    {
     "name": "stderr",
     "output_type": "stream",
     "text": [
      "Clipping input data to the valid range for imshow with RGB data ([0..1] for floats or [0..255] for integers).\n"
     ]
    },
    {
     "name": "stdout",
     "output_type": "stream",
     "text": [
      "1/1 [==============================] - 0s 94ms/step - loss: 0.0062 - accuracy: 0.9791\n",
      "Epoch 453/1000\n",
      "1/1 [==============================] - 0s 14ms/stepss: 0.0061 - accuracy: 0.97\n"
     ]
    },
    {
     "name": "stderr",
     "output_type": "stream",
     "text": [
      "Clipping input data to the valid range for imshow with RGB data ([0..1] for floats or [0..255] for integers).\n"
     ]
    },
    {
     "name": "stdout",
     "output_type": "stream",
     "text": [
      "1/1 [==============================] - 0s 92ms/step - loss: 0.0061 - accuracy: 0.9788\n",
      "Epoch 454/1000\n",
      "1/1 [==============================] - 0s 13ms/stepss: 0.0061 - accuracy: 0.97\n"
     ]
    },
    {
     "name": "stderr",
     "output_type": "stream",
     "text": [
      "Clipping input data to the valid range for imshow with RGB data ([0..1] for floats or [0..255] for integers).\n"
     ]
    },
    {
     "name": "stdout",
     "output_type": "stream",
     "text": [
      "1/1 [==============================] - 0s 94ms/step - loss: 0.0061 - accuracy: 0.9791\n",
      "Epoch 455/1000\n",
      "1/1 [==============================] - 0s 16ms/stepss: 0.0061 - accuracy: 0.97\n"
     ]
    },
    {
     "name": "stderr",
     "output_type": "stream",
     "text": [
      "Clipping input data to the valid range for imshow with RGB data ([0..1] for floats or [0..255] for integers).\n"
     ]
    },
    {
     "name": "stdout",
     "output_type": "stream",
     "text": [
      "1/1 [==============================] - 0s 102ms/step - loss: 0.0061 - accuracy: 0.9788\n",
      "Epoch 456/1000\n",
      "1/1 [==============================] - 0s 15ms/stepss: 0.0060 - accuracy: 0.97\n"
     ]
    },
    {
     "name": "stderr",
     "output_type": "stream",
     "text": [
      "Clipping input data to the valid range for imshow with RGB data ([0..1] for floats or [0..255] for integers).\n"
     ]
    },
    {
     "name": "stdout",
     "output_type": "stream",
     "text": [
      "1/1 [==============================] - 0s 98ms/step - loss: 0.0060 - accuracy: 0.9789\n",
      "Epoch 457/1000\n",
      "1/1 [==============================] - 0s 15ms/stepss: 0.0060 - accuracy: 0.97\n"
     ]
    },
    {
     "name": "stderr",
     "output_type": "stream",
     "text": [
      "Clipping input data to the valid range for imshow with RGB data ([0..1] for floats or [0..255] for integers).\n"
     ]
    },
    {
     "name": "stdout",
     "output_type": "stream",
     "text": [
      "1/1 [==============================] - 0s 97ms/step - loss: 0.0060 - accuracy: 0.9789\n",
      "Epoch 458/1000\n",
      "1/1 [==============================] - 0s 15ms/stepss: 0.0059 - accuracy: 0.97\n"
     ]
    },
    {
     "name": "stderr",
     "output_type": "stream",
     "text": [
      "Clipping input data to the valid range for imshow with RGB data ([0..1] for floats or [0..255] for integers).\n"
     ]
    },
    {
     "name": "stdout",
     "output_type": "stream",
     "text": [
      "1/1 [==============================] - 0s 98ms/step - loss: 0.0059 - accuracy: 0.9789\n",
      "Epoch 459/1000\n",
      "1/1 [==============================] - 0s 15ms/stepss: 0.0059 - accuracy: 0.97\n"
     ]
    },
    {
     "name": "stderr",
     "output_type": "stream",
     "text": [
      "Clipping input data to the valid range for imshow with RGB data ([0..1] for floats or [0..255] for integers).\n"
     ]
    },
    {
     "name": "stdout",
     "output_type": "stream",
     "text": [
      "1/1 [==============================] - 0s 100ms/step - loss: 0.0059 - accuracy: 0.9789\n",
      "Epoch 460/1000\n",
      "1/1 [==============================] - 0s 16ms/stepss: 0.0059 - accuracy: 0.97\n"
     ]
    },
    {
     "name": "stderr",
     "output_type": "stream",
     "text": [
      "Clipping input data to the valid range for imshow with RGB data ([0..1] for floats or [0..255] for integers).\n"
     ]
    },
    {
     "name": "stdout",
     "output_type": "stream",
     "text": [
      "1/1 [==============================] - 0s 100ms/step - loss: 0.0059 - accuracy: 0.9787\n",
      "Epoch 461/1000\n",
      "1/1 [==============================] - 0s 15ms/stepss: 0.0060 - accuracy: 0.97\n"
     ]
    },
    {
     "name": "stderr",
     "output_type": "stream",
     "text": [
      "Clipping input data to the valid range for imshow with RGB data ([0..1] for floats or [0..255] for integers).\n"
     ]
    },
    {
     "name": "stdout",
     "output_type": "stream",
     "text": [
      "1/1 [==============================] - 0s 99ms/step - loss: 0.0060 - accuracy: 0.9788\n",
      "Epoch 462/1000\n",
      "1/1 [==============================] - 0s 15ms/stepss: 0.0060 - accuracy: 0.97\n"
     ]
    },
    {
     "name": "stderr",
     "output_type": "stream",
     "text": [
      "Clipping input data to the valid range for imshow with RGB data ([0..1] for floats or [0..255] for integers).\n"
     ]
    },
    {
     "name": "stdout",
     "output_type": "stream",
     "text": [
      "1/1 [==============================] - 0s 97ms/step - loss: 0.0060 - accuracy: 0.9787\n",
      "Epoch 463/1000\n",
      "1/1 [==============================] - 0s 16ms/stepss: 0.0060 - accuracy: 0.97\n"
     ]
    },
    {
     "name": "stderr",
     "output_type": "stream",
     "text": [
      "Clipping input data to the valid range for imshow with RGB data ([0..1] for floats or [0..255] for integers).\n"
     ]
    },
    {
     "name": "stdout",
     "output_type": "stream",
     "text": [
      "1/1 [==============================] - 0s 97ms/step - loss: 0.0060 - accuracy: 0.9787\n",
      "Epoch 464/1000\n",
      "1/1 [==============================] - 0s 16ms/stepss: 0.0060 - accuracy: 0.97\n"
     ]
    },
    {
     "name": "stderr",
     "output_type": "stream",
     "text": [
      "Clipping input data to the valid range for imshow with RGB data ([0..1] for floats or [0..255] for integers).\n"
     ]
    },
    {
     "name": "stdout",
     "output_type": "stream",
     "text": [
      "1/1 [==============================] - 0s 97ms/step - loss: 0.0060 - accuracy: 0.9786\n",
      "Epoch 465/1000\n",
      "1/1 [==============================] - 0s 15ms/stepss: 0.0061 - accuracy: 0.97\n"
     ]
    },
    {
     "name": "stderr",
     "output_type": "stream",
     "text": [
      "Clipping input data to the valid range for imshow with RGB data ([0..1] for floats or [0..255] for integers).\n"
     ]
    },
    {
     "name": "stdout",
     "output_type": "stream",
     "text": [
      "1/1 [==============================] - 0s 99ms/step - loss: 0.0061 - accuracy: 0.9788\n",
      "Epoch 466/1000\n",
      "1/1 [==============================] - 0s 14ms/stepss: 0.0062 - accuracy: 0.97\n"
     ]
    },
    {
     "name": "stderr",
     "output_type": "stream",
     "text": [
      "Clipping input data to the valid range for imshow with RGB data ([0..1] for floats or [0..255] for integers).\n"
     ]
    },
    {
     "name": "stdout",
     "output_type": "stream",
     "text": [
      "1/1 [==============================] - 0s 100ms/step - loss: 0.0062 - accuracy: 0.9785\n",
      "Epoch 467/1000\n",
      "1/1 [==============================] - 0s 14ms/stepss: 0.0063 - accuracy: 0.97\n"
     ]
    },
    {
     "name": "stderr",
     "output_type": "stream",
     "text": [
      "Clipping input data to the valid range for imshow with RGB data ([0..1] for floats or [0..255] for integers).\n"
     ]
    },
    {
     "name": "stdout",
     "output_type": "stream",
     "text": [
      "1/1 [==============================] - 0s 97ms/step - loss: 0.0063 - accuracy: 0.9789\n",
      "Epoch 468/1000\n",
      "1/1 [==============================] - 0s 15ms/stepss: 0.0064 - accuracy: 0.97\n"
     ]
    },
    {
     "name": "stderr",
     "output_type": "stream",
     "text": [
      "Clipping input data to the valid range for imshow with RGB data ([0..1] for floats or [0..255] for integers).\n"
     ]
    },
    {
     "name": "stdout",
     "output_type": "stream",
     "text": [
      "1/1 [==============================] - 0s 99ms/step - loss: 0.0064 - accuracy: 0.9784\n",
      "Epoch 469/1000\n",
      "1/1 [==============================] - 0s 14ms/stepss: 0.0067 - accuracy: 0.97\n"
     ]
    },
    {
     "name": "stderr",
     "output_type": "stream",
     "text": [
      "Clipping input data to the valid range for imshow with RGB data ([0..1] for floats or [0..255] for integers).\n"
     ]
    },
    {
     "name": "stdout",
     "output_type": "stream",
     "text": [
      "1/1 [==============================] - 0s 101ms/step - loss: 0.0067 - accuracy: 0.9789\n",
      "Epoch 470/1000\n",
      "1/1 [==============================] - 0s 16ms/stepss: 0.0065 - accuracy: 0.97\n"
     ]
    },
    {
     "name": "stderr",
     "output_type": "stream",
     "text": [
      "Clipping input data to the valid range for imshow with RGB data ([0..1] for floats or [0..255] for integers).\n"
     ]
    },
    {
     "name": "stdout",
     "output_type": "stream",
     "text": [
      "1/1 [==============================] - 0s 103ms/step - loss: 0.0065 - accuracy: 0.9785\n",
      "Epoch 471/1000\n",
      "1/1 [==============================] - 0s 15ms/stepss: 0.0063 - accuracy: 0.97\n"
     ]
    },
    {
     "name": "stderr",
     "output_type": "stream",
     "text": [
      "Clipping input data to the valid range for imshow with RGB data ([0..1] for floats or [0..255] for integers).\n"
     ]
    },
    {
     "name": "stdout",
     "output_type": "stream",
     "text": [
      "1/1 [==============================] - 0s 101ms/step - loss: 0.0063 - accuracy: 0.9789\n",
      "Epoch 472/1000\n",
      "1/1 [==============================] - 0s 16ms/stepss: 0.0060 - accuracy: 0.97\n"
     ]
    },
    {
     "name": "stderr",
     "output_type": "stream",
     "text": [
      "Clipping input data to the valid range for imshow with RGB data ([0..1] for floats or [0..255] for integers).\n"
     ]
    },
    {
     "name": "stdout",
     "output_type": "stream",
     "text": [
      "1/1 [==============================] - 0s 101ms/step - loss: 0.0060 - accuracy: 0.9789\n",
      "Epoch 473/1000\n",
      "1/1 [==============================] - 0s 15ms/stepss: 0.0058 - accuracy: 0.97\n"
     ]
    },
    {
     "name": "stderr",
     "output_type": "stream",
     "text": [
      "Clipping input data to the valid range for imshow with RGB data ([0..1] for floats or [0..255] for integers).\n"
     ]
    },
    {
     "name": "stdout",
     "output_type": "stream",
     "text": [
      "1/1 [==============================] - 0s 104ms/step - loss: 0.0058 - accuracy: 0.9790\n",
      "Epoch 474/1000\n",
      "1/1 [==============================] - 0s 16ms/stepss: 0.0060 - accuracy: 0.97\n"
     ]
    },
    {
     "name": "stderr",
     "output_type": "stream",
     "text": [
      "Clipping input data to the valid range for imshow with RGB data ([0..1] for floats or [0..255] for integers).\n"
     ]
    },
    {
     "name": "stdout",
     "output_type": "stream",
     "text": [
      "1/1 [==============================] - 0s 102ms/step - loss: 0.0060 - accuracy: 0.9791\n",
      "Epoch 475/1000\n",
      "1/1 [==============================] - 0s 14ms/stepss: 0.0061 - accuracy: 0.97\n"
     ]
    },
    {
     "name": "stderr",
     "output_type": "stream",
     "text": [
      "Clipping input data to the valid range for imshow with RGB data ([0..1] for floats or [0..255] for integers).\n"
     ]
    },
    {
     "name": "stdout",
     "output_type": "stream",
     "text": [
      "1/1 [==============================] - 0s 94ms/step - loss: 0.0061 - accuracy: 0.9790\n",
      "Epoch 476/1000\n",
      "1/1 [==============================] - 0s 15ms/stepss: 0.0062 - accuracy: 0.97\n"
     ]
    },
    {
     "name": "stderr",
     "output_type": "stream",
     "text": [
      "Clipping input data to the valid range for imshow with RGB data ([0..1] for floats or [0..255] for integers).\n"
     ]
    },
    {
     "name": "stdout",
     "output_type": "stream",
     "text": [
      "1/1 [==============================] - 0s 102ms/step - loss: 0.0062 - accuracy: 0.9792\n",
      "Epoch 477/1000\n",
      "1/1 [==============================] - 0s 15ms/stepss: 0.0060 - accuracy: 0.97\n"
     ]
    },
    {
     "name": "stderr",
     "output_type": "stream",
     "text": [
      "Clipping input data to the valid range for imshow with RGB data ([0..1] for floats or [0..255] for integers).\n"
     ]
    },
    {
     "name": "stdout",
     "output_type": "stream",
     "text": [
      "1/1 [==============================] - 0s 95ms/step - loss: 0.0060 - accuracy: 0.9787\n",
      "Epoch 478/1000\n",
      "1/1 [==============================] - 0s 15ms/stepss: 0.0059 - accuracy: 0.97\n"
     ]
    },
    {
     "name": "stderr",
     "output_type": "stream",
     "text": [
      "Clipping input data to the valid range for imshow with RGB data ([0..1] for floats or [0..255] for integers).\n"
     ]
    },
    {
     "name": "stdout",
     "output_type": "stream",
     "text": [
      "1/1 [==============================] - 0s 93ms/step - loss: 0.0059 - accuracy: 0.9789\n",
      "Epoch 479/1000\n",
      "1/1 [==============================] - 0s 15ms/stepss: 0.0058 - accuracy: 0.97\n"
     ]
    },
    {
     "name": "stderr",
     "output_type": "stream",
     "text": [
      "Clipping input data to the valid range for imshow with RGB data ([0..1] for floats or [0..255] for integers).\n"
     ]
    },
    {
     "name": "stdout",
     "output_type": "stream",
     "text": [
      "1/1 [==============================] - 0s 103ms/step - loss: 0.0058 - accuracy: 0.9789\n",
      "Epoch 480/1000\n",
      "1/1 [==============================] - 0s 14ms/stepss: 0.0059 - accuracy: 0.97\n"
     ]
    },
    {
     "name": "stderr",
     "output_type": "stream",
     "text": [
      "Clipping input data to the valid range for imshow with RGB data ([0..1] for floats or [0..255] for integers).\n"
     ]
    },
    {
     "name": "stdout",
     "output_type": "stream",
     "text": [
      "1/1 [==============================] - 0s 94ms/step - loss: 0.0059 - accuracy: 0.9789\n",
      "Epoch 481/1000\n",
      "1/1 [==============================] - 0s 19ms/stepss: 0.0060 - accuracy: 0.97\n"
     ]
    },
    {
     "name": "stderr",
     "output_type": "stream",
     "text": [
      "Clipping input data to the valid range for imshow with RGB data ([0..1] for floats or [0..255] for integers).\n"
     ]
    },
    {
     "name": "stdout",
     "output_type": "stream",
     "text": [
      "1/1 [==============================] - 0s 105ms/step - loss: 0.0060 - accuracy: 0.9792\n",
      "Epoch 482/1000\n",
      "1/1 [==============================] - 0s 17ms/stepss: 0.0060 - accuracy: 0.97\n"
     ]
    },
    {
     "name": "stderr",
     "output_type": "stream",
     "text": [
      "Clipping input data to the valid range for imshow with RGB data ([0..1] for floats or [0..255] for integers).\n"
     ]
    },
    {
     "name": "stdout",
     "output_type": "stream",
     "text": [
      "1/1 [==============================] - 0s 107ms/step - loss: 0.0060 - accuracy: 0.9789\n",
      "Epoch 483/1000\n",
      "1/1 [==============================] - 0s 15ms/stepss: 0.0059 - accuracy: 0.97\n"
     ]
    },
    {
     "name": "stderr",
     "output_type": "stream",
     "text": [
      "Clipping input data to the valid range for imshow with RGB data ([0..1] for floats or [0..255] for integers).\n"
     ]
    },
    {
     "name": "stdout",
     "output_type": "stream",
     "text": [
      "1/1 [==============================] - 0s 96ms/step - loss: 0.0059 - accuracy: 0.9788\n",
      "Epoch 484/1000\n",
      "1/1 [==============================] - 0s 15ms/stepss: 0.0058 - accuracy: 0.97\n"
     ]
    },
    {
     "name": "stderr",
     "output_type": "stream",
     "text": [
      "Clipping input data to the valid range for imshow with RGB data ([0..1] for floats or [0..255] for integers).\n"
     ]
    },
    {
     "name": "stdout",
     "output_type": "stream",
     "text": [
      "1/1 [==============================] - 0s 98ms/step - loss: 0.0058 - accuracy: 0.9789\n",
      "Epoch 485/1000\n",
      "1/1 [==============================] - 0s 15ms/stepss: 0.0058 - accuracy: 0.97\n"
     ]
    },
    {
     "name": "stderr",
     "output_type": "stream",
     "text": [
      "Clipping input data to the valid range for imshow with RGB data ([0..1] for floats or [0..255] for integers).\n"
     ]
    },
    {
     "name": "stdout",
     "output_type": "stream",
     "text": [
      "1/1 [==============================] - 0s 97ms/step - loss: 0.0058 - accuracy: 0.9788\n",
      "Epoch 486/1000\n",
      "1/1 [==============================] - 0s 16ms/stepss: 0.0058 - accuracy: 0.97\n"
     ]
    },
    {
     "name": "stderr",
     "output_type": "stream",
     "text": [
      "Clipping input data to the valid range for imshow with RGB data ([0..1] for floats or [0..255] for integers).\n"
     ]
    },
    {
     "name": "stdout",
     "output_type": "stream",
     "text": [
      "1/1 [==============================] - 0s 99ms/step - loss: 0.0058 - accuracy: 0.9787\n",
      "Epoch 487/1000\n",
      "1/1 [==============================] - 0s 16ms/stepss: 0.0059 - accuracy: 0.97\n"
     ]
    },
    {
     "name": "stderr",
     "output_type": "stream",
     "text": [
      "Clipping input data to the valid range for imshow with RGB data ([0..1] for floats or [0..255] for integers).\n"
     ]
    },
    {
     "name": "stdout",
     "output_type": "stream",
     "text": [
      "1/1 [==============================] - 0s 100ms/step - loss: 0.0059 - accuracy: 0.9784\n",
      "Epoch 488/1000\n",
      "1/1 [==============================] - 0s 15ms/stepss: 0.0059 - accuracy: 0.97\n"
     ]
    },
    {
     "name": "stderr",
     "output_type": "stream",
     "text": [
      "Clipping input data to the valid range for imshow with RGB data ([0..1] for floats or [0..255] for integers).\n"
     ]
    },
    {
     "name": "stdout",
     "output_type": "stream",
     "text": [
      "1/1 [==============================] - 0s 98ms/step - loss: 0.0059 - accuracy: 0.9788\n",
      "Epoch 489/1000\n",
      "1/1 [==============================] - 0s 16ms/stepss: 0.0058 - accuracy: 0.97\n"
     ]
    },
    {
     "name": "stderr",
     "output_type": "stream",
     "text": [
      "Clipping input data to the valid range for imshow with RGB data ([0..1] for floats or [0..255] for integers).\n"
     ]
    },
    {
     "name": "stdout",
     "output_type": "stream",
     "text": [
      "1/1 [==============================] - 0s 98ms/step - loss: 0.0058 - accuracy: 0.9786\n",
      "Epoch 490/1000\n",
      "1/1 [==============================] - 0s 15ms/stepss: 0.0058 - accuracy: 0.97\n"
     ]
    },
    {
     "name": "stderr",
     "output_type": "stream",
     "text": [
      "Clipping input data to the valid range for imshow with RGB data ([0..1] for floats or [0..255] for integers).\n"
     ]
    },
    {
     "name": "stdout",
     "output_type": "stream",
     "text": [
      "1/1 [==============================] - 0s 95ms/step - loss: 0.0058 - accuracy: 0.9787\n",
      "Epoch 491/1000\n",
      "1/1 [==============================] - 0s 15ms/stepss: 0.0057 - accuracy: 0.97\n"
     ]
    },
    {
     "name": "stderr",
     "output_type": "stream",
     "text": [
      "Clipping input data to the valid range for imshow with RGB data ([0..1] for floats or [0..255] for integers).\n"
     ]
    },
    {
     "name": "stdout",
     "output_type": "stream",
     "text": [
      "1/1 [==============================] - 0s 103ms/step - loss: 0.0057 - accuracy: 0.9786\n",
      "Epoch 492/1000\n",
      "1/1 [==============================] - 0s 15ms/stepss: 0.0057 - accuracy: 0.97\n"
     ]
    },
    {
     "name": "stderr",
     "output_type": "stream",
     "text": [
      "Clipping input data to the valid range for imshow with RGB data ([0..1] for floats or [0..255] for integers).\n"
     ]
    },
    {
     "name": "stdout",
     "output_type": "stream",
     "text": [
      "1/1 [==============================] - 1s 614ms/step - loss: 0.0057 - accuracy: 0.9787\n",
      "Epoch 493/1000\n",
      "1/1 [==============================] - 0s 16ms/stepss: 0.0058 - accuracy: 0.97\n"
     ]
    },
    {
     "name": "stderr",
     "output_type": "stream",
     "text": [
      "Clipping input data to the valid range for imshow with RGB data ([0..1] for floats or [0..255] for integers).\n"
     ]
    },
    {
     "name": "stdout",
     "output_type": "stream",
     "text": [
      "1/1 [==============================] - 0s 100ms/step - loss: 0.0058 - accuracy: 0.9786\n",
      "Epoch 494/1000\n",
      "1/1 [==============================] - 0s 16ms/stepss: 0.0058 - accuracy: 0.97\n"
     ]
    },
    {
     "name": "stderr",
     "output_type": "stream",
     "text": [
      "Clipping input data to the valid range for imshow with RGB data ([0..1] for floats or [0..255] for integers).\n"
     ]
    },
    {
     "name": "stdout",
     "output_type": "stream",
     "text": [
      "1/1 [==============================] - 0s 101ms/step - loss: 0.0058 - accuracy: 0.9785\n",
      "Epoch 495/1000\n",
      "1/1 [==============================] - 0s 16ms/stepss: 0.0058 - accuracy: 0.97\n"
     ]
    },
    {
     "name": "stderr",
     "output_type": "stream",
     "text": [
      "Clipping input data to the valid range for imshow with RGB data ([0..1] for floats or [0..255] for integers).\n"
     ]
    },
    {
     "name": "stdout",
     "output_type": "stream",
     "text": [
      "1/1 [==============================] - 0s 98ms/step - loss: 0.0058 - accuracy: 0.9785\n",
      "Epoch 496/1000\n",
      "1/1 [==============================] - 0s 15ms/stepss: 0.0058 - accuracy: 0.97\n"
     ]
    },
    {
     "name": "stderr",
     "output_type": "stream",
     "text": [
      "Clipping input data to the valid range for imshow with RGB data ([0..1] for floats or [0..255] for integers).\n"
     ]
    },
    {
     "name": "stdout",
     "output_type": "stream",
     "text": [
      "1/1 [==============================] - 0s 99ms/step - loss: 0.0058 - accuracy: 0.9781\n",
      "Epoch 497/1000\n",
      "1/1 [==============================] - 0s 15ms/stepss: 0.0057 - accuracy: 0.97\n"
     ]
    },
    {
     "name": "stderr",
     "output_type": "stream",
     "text": [
      "Clipping input data to the valid range for imshow with RGB data ([0..1] for floats or [0..255] for integers).\n"
     ]
    },
    {
     "name": "stdout",
     "output_type": "stream",
     "text": [
      "1/1 [==============================] - 0s 99ms/step - loss: 0.0057 - accuracy: 0.9784\n",
      "Epoch 498/1000\n",
      "1/1 [==============================] - 0s 18ms/stepss: 0.0057 - accuracy: 0.97\n"
     ]
    },
    {
     "name": "stderr",
     "output_type": "stream",
     "text": [
      "Clipping input data to the valid range for imshow with RGB data ([0..1] for floats or [0..255] for integers).\n"
     ]
    },
    {
     "name": "stdout",
     "output_type": "stream",
     "text": [
      "1/1 [==============================] - 0s 113ms/step - loss: 0.0057 - accuracy: 0.9782\n",
      "Epoch 499/1000\n",
      "1/1 [==============================] - 0s 15ms/stepss: 0.0057 - accuracy: 0.97\n"
     ]
    },
    {
     "name": "stderr",
     "output_type": "stream",
     "text": [
      "Clipping input data to the valid range for imshow with RGB data ([0..1] for floats or [0..255] for integers).\n"
     ]
    },
    {
     "name": "stdout",
     "output_type": "stream",
     "text": [
      "1/1 [==============================] - 0s 98ms/step - loss: 0.0057 - accuracy: 0.9783\n",
      "Epoch 500/1000\n",
      "1/1 [==============================] - 0s 15ms/stepss: 0.0057 - accuracy: 0.97\n"
     ]
    },
    {
     "name": "stderr",
     "output_type": "stream",
     "text": [
      "Clipping input data to the valid range for imshow with RGB data ([0..1] for floats or [0..255] for integers).\n"
     ]
    },
    {
     "name": "stdout",
     "output_type": "stream",
     "text": [
      "1/1 [==============================] - 0s 97ms/step - loss: 0.0057 - accuracy: 0.9782\n",
      "Epoch 501/1000\n",
      "1/1 [==============================] - 0s 14ms/stepss: 0.0057 - accuracy: 0.97\n"
     ]
    },
    {
     "name": "stderr",
     "output_type": "stream",
     "text": [
      "Clipping input data to the valid range for imshow with RGB data ([0..1] for floats or [0..255] for integers).\n"
     ]
    },
    {
     "name": "stdout",
     "output_type": "stream",
     "text": [
      "1/1 [==============================] - 0s 97ms/step - loss: 0.0057 - accuracy: 0.9781\n",
      "Epoch 502/1000\n",
      "1/1 [==============================] - 0s 18ms/stepss: 0.0057 - accuracy: 0.97\n"
     ]
    },
    {
     "name": "stderr",
     "output_type": "stream",
     "text": [
      "Clipping input data to the valid range for imshow with RGB data ([0..1] for floats or [0..255] for integers).\n"
     ]
    },
    {
     "name": "stdout",
     "output_type": "stream",
     "text": [
      "1/1 [==============================] - 0s 111ms/step - loss: 0.0057 - accuracy: 0.9780\n",
      "Epoch 503/1000\n",
      "1/1 [==============================] - 0s 16ms/stepss: 0.0057 - accuracy: 0.97\n"
     ]
    },
    {
     "name": "stderr",
     "output_type": "stream",
     "text": [
      "Clipping input data to the valid range for imshow with RGB data ([0..1] for floats or [0..255] for integers).\n"
     ]
    },
    {
     "name": "stdout",
     "output_type": "stream",
     "text": [
      "1/1 [==============================] - 0s 99ms/step - loss: 0.0057 - accuracy: 0.9779\n",
      "Epoch 504/1000\n",
      "1/1 [==============================] - 0s 15ms/stepss: 0.0057 - accuracy: 0.97\n"
     ]
    },
    {
     "name": "stderr",
     "output_type": "stream",
     "text": [
      "Clipping input data to the valid range for imshow with RGB data ([0..1] for floats or [0..255] for integers).\n"
     ]
    },
    {
     "name": "stdout",
     "output_type": "stream",
     "text": [
      "1/1 [==============================] - 0s 96ms/step - loss: 0.0057 - accuracy: 0.9780\n",
      "Epoch 505/1000\n",
      "1/1 [==============================] - 0s 16ms/stepss: 0.0057 - accuracy: 0.97\n"
     ]
    },
    {
     "name": "stderr",
     "output_type": "stream",
     "text": [
      "Clipping input data to the valid range for imshow with RGB data ([0..1] for floats or [0..255] for integers).\n"
     ]
    },
    {
     "name": "stdout",
     "output_type": "stream",
     "text": [
      "1/1 [==============================] - 0s 103ms/step - loss: 0.0057 - accuracy: 0.9779\n",
      "Epoch 506/1000\n",
      "1/1 [==============================] - 0s 14ms/stepss: 0.0057 - accuracy: 0.97\n"
     ]
    },
    {
     "name": "stderr",
     "output_type": "stream",
     "text": [
      "Clipping input data to the valid range for imshow with RGB data ([0..1] for floats or [0..255] for integers).\n"
     ]
    },
    {
     "name": "stdout",
     "output_type": "stream",
     "text": [
      "1/1 [==============================] - 0s 92ms/step - loss: 0.0057 - accuracy: 0.9778\n",
      "Epoch 507/1000\n",
      "1/1 [==============================] - 0s 14ms/stepss: 0.0057 - accuracy: 0.97\n"
     ]
    },
    {
     "name": "stderr",
     "output_type": "stream",
     "text": [
      "Clipping input data to the valid range for imshow with RGB data ([0..1] for floats or [0..255] for integers).\n"
     ]
    },
    {
     "name": "stdout",
     "output_type": "stream",
     "text": [
      "1/1 [==============================] - 0s 95ms/step - loss: 0.0057 - accuracy: 0.9777\n",
      "Epoch 508/1000\n",
      "1/1 [==============================] - 0s 15ms/stepss: 0.0058 - accuracy: 0.97\n"
     ]
    },
    {
     "name": "stderr",
     "output_type": "stream",
     "text": [
      "Clipping input data to the valid range for imshow with RGB data ([0..1] for floats or [0..255] for integers).\n"
     ]
    },
    {
     "name": "stdout",
     "output_type": "stream",
     "text": [
      "1/1 [==============================] - 0s 94ms/step - loss: 0.0058 - accuracy: 0.9779\n",
      "Epoch 509/1000\n",
      "1/1 [==============================] - 0s 17ms/stepss: 0.0058 - accuracy: 0.97\n"
     ]
    },
    {
     "name": "stderr",
     "output_type": "stream",
     "text": [
      "Clipping input data to the valid range for imshow with RGB data ([0..1] for floats or [0..255] for integers).\n"
     ]
    },
    {
     "name": "stdout",
     "output_type": "stream",
     "text": [
      "1/1 [==============================] - 0s 100ms/step - loss: 0.0058 - accuracy: 0.9776\n",
      "Epoch 510/1000\n",
      "1/1 [==============================] - 0s 16ms/stepss: 0.0058 - accuracy: 0.97\n"
     ]
    },
    {
     "name": "stderr",
     "output_type": "stream",
     "text": [
      "Clipping input data to the valid range for imshow with RGB data ([0..1] for floats or [0..255] for integers).\n"
     ]
    },
    {
     "name": "stdout",
     "output_type": "stream",
     "text": [
      "1/1 [==============================] - 0s 99ms/step - loss: 0.0058 - accuracy: 0.9780\n",
      "Epoch 511/1000\n",
      "1/1 [==============================] - 0s 15ms/stepss: 0.0059 - accuracy: 0.97\n"
     ]
    },
    {
     "name": "stderr",
     "output_type": "stream",
     "text": [
      "Clipping input data to the valid range for imshow with RGB data ([0..1] for floats or [0..255] for integers).\n"
     ]
    },
    {
     "name": "stdout",
     "output_type": "stream",
     "text": [
      "1/1 [==============================] - 0s 98ms/step - loss: 0.0059 - accuracy: 0.9777\n",
      "Epoch 512/1000\n",
      "1/1 [==============================] - 0s 14ms/stepss: 0.0059 - accuracy: 0.97\n"
     ]
    },
    {
     "name": "stderr",
     "output_type": "stream",
     "text": [
      "Clipping input data to the valid range for imshow with RGB data ([0..1] for floats or [0..255] for integers).\n"
     ]
    },
    {
     "name": "stdout",
     "output_type": "stream",
     "text": [
      "1/1 [==============================] - 0s 98ms/step - loss: 0.0059 - accuracy: 0.9779\n",
      "Epoch 513/1000\n",
      "1/1 [==============================] - 0s 16ms/stepss: 0.0059 - accuracy: 0.97\n"
     ]
    },
    {
     "name": "stderr",
     "output_type": "stream",
     "text": [
      "Clipping input data to the valid range for imshow with RGB data ([0..1] for floats or [0..255] for integers).\n"
     ]
    },
    {
     "name": "stdout",
     "output_type": "stream",
     "text": [
      "1/1 [==============================] - 0s 104ms/step - loss: 0.0059 - accuracy: 0.9780\n",
      "Epoch 514/1000\n",
      "1/1 [==============================] - 0s 19ms/stepss: 0.0058 - accuracy: 0.97\n"
     ]
    },
    {
     "name": "stderr",
     "output_type": "stream",
     "text": [
      "Clipping input data to the valid range for imshow with RGB data ([0..1] for floats or [0..255] for integers).\n"
     ]
    },
    {
     "name": "stdout",
     "output_type": "stream",
     "text": [
      "1/1 [==============================] - 0s 105ms/step - loss: 0.0058 - accuracy: 0.9782\n",
      "Epoch 515/1000\n",
      "1/1 [==============================] - 0s 16ms/stepss: 0.0057 - accuracy: 0.97\n"
     ]
    },
    {
     "name": "stderr",
     "output_type": "stream",
     "text": [
      "Clipping input data to the valid range for imshow with RGB data ([0..1] for floats or [0..255] for integers).\n"
     ]
    },
    {
     "name": "stdout",
     "output_type": "stream",
     "text": [
      "1/1 [==============================] - 0s 100ms/step - loss: 0.0057 - accuracy: 0.9778\n",
      "Epoch 516/1000\n",
      "1/1 [==============================] - 0s 15ms/stepss: 0.0056 - accuracy: 0.97\n"
     ]
    },
    {
     "name": "stderr",
     "output_type": "stream",
     "text": [
      "Clipping input data to the valid range for imshow with RGB data ([0..1] for floats or [0..255] for integers).\n"
     ]
    },
    {
     "name": "stdout",
     "output_type": "stream",
     "text": [
      "1/1 [==============================] - 0s 97ms/step - loss: 0.0056 - accuracy: 0.9781\n",
      "Epoch 517/1000\n",
      "1/1 [==============================] - 0s 15ms/stepss: 0.0056 - accuracy: 0.97\n"
     ]
    },
    {
     "name": "stderr",
     "output_type": "stream",
     "text": [
      "Clipping input data to the valid range for imshow with RGB data ([0..1] for floats or [0..255] for integers).\n"
     ]
    },
    {
     "name": "stdout",
     "output_type": "stream",
     "text": [
      "1/1 [==============================] - 0s 97ms/step - loss: 0.0056 - accuracy: 0.9782\n",
      "Epoch 518/1000\n",
      "1/1 [==============================] - 0s 14ms/stepss: 0.0055 - accuracy: 0.97\n"
     ]
    },
    {
     "name": "stderr",
     "output_type": "stream",
     "text": [
      "Clipping input data to the valid range for imshow with RGB data ([0..1] for floats or [0..255] for integers).\n"
     ]
    },
    {
     "name": "stdout",
     "output_type": "stream",
     "text": [
      "1/1 [==============================] - 0s 99ms/step - loss: 0.0055 - accuracy: 0.9781\n",
      "Epoch 519/1000\n",
      "1/1 [==============================] - 0s 15ms/stepss: 0.0056 - accuracy: 0.97\n"
     ]
    },
    {
     "name": "stderr",
     "output_type": "stream",
     "text": [
      "Clipping input data to the valid range for imshow with RGB data ([0..1] for floats or [0..255] for integers).\n"
     ]
    },
    {
     "name": "stdout",
     "output_type": "stream",
     "text": [
      "1/1 [==============================] - 0s 101ms/step - loss: 0.0056 - accuracy: 0.9780\n",
      "Epoch 520/1000\n",
      "1/1 [==============================] - 0s 15ms/stepss: 0.0056 - accuracy: 0.97\n"
     ]
    },
    {
     "name": "stderr",
     "output_type": "stream",
     "text": [
      "Clipping input data to the valid range for imshow with RGB data ([0..1] for floats or [0..255] for integers).\n"
     ]
    },
    {
     "name": "stdout",
     "output_type": "stream",
     "text": [
      "1/1 [==============================] - 0s 99ms/step - loss: 0.0056 - accuracy: 0.9779\n",
      "Epoch 521/1000\n",
      "1/1 [==============================] - 0s 15ms/stepss: 0.0056 - accuracy: 0.97\n"
     ]
    },
    {
     "name": "stderr",
     "output_type": "stream",
     "text": [
      "Clipping input data to the valid range for imshow with RGB data ([0..1] for floats or [0..255] for integers).\n"
     ]
    },
    {
     "name": "stdout",
     "output_type": "stream",
     "text": [
      "1/1 [==============================] - 0s 98ms/step - loss: 0.0056 - accuracy: 0.9779\n",
      "Epoch 522/1000\n",
      "1/1 [==============================] - 0s 16ms/stepss: 0.0057 - accuracy: 0.97\n"
     ]
    },
    {
     "name": "stderr",
     "output_type": "stream",
     "text": [
      "Clipping input data to the valid range for imshow with RGB data ([0..1] for floats or [0..255] for integers).\n"
     ]
    },
    {
     "name": "stdout",
     "output_type": "stream",
     "text": [
      "1/1 [==============================] - 0s 102ms/step - loss: 0.0057 - accuracy: 0.9776\n",
      "Epoch 523/1000\n",
      "1/1 [==============================] - 0s 15ms/stepss: 0.0057 - accuracy: 0.97\n"
     ]
    },
    {
     "name": "stderr",
     "output_type": "stream",
     "text": [
      "Clipping input data to the valid range for imshow with RGB data ([0..1] for floats or [0..255] for integers).\n"
     ]
    },
    {
     "name": "stdout",
     "output_type": "stream",
     "text": [
      "1/1 [==============================] - 0s 96ms/step - loss: 0.0057 - accuracy: 0.9779\n",
      "Epoch 524/1000\n",
      "1/1 [==============================] - 0s 14ms/stepss: 0.0056 - accuracy: 0.97\n"
     ]
    },
    {
     "name": "stderr",
     "output_type": "stream",
     "text": [
      "Clipping input data to the valid range for imshow with RGB data ([0..1] for floats or [0..255] for integers).\n"
     ]
    },
    {
     "name": "stdout",
     "output_type": "stream",
     "text": [
      "1/1 [==============================] - 0s 105ms/step - loss: 0.0056 - accuracy: 0.9779\n",
      "Epoch 525/1000\n",
      "1/1 [==============================] - 0s 15ms/stepss: 0.0056 - accuracy: 0.97\n"
     ]
    },
    {
     "name": "stderr",
     "output_type": "stream",
     "text": [
      "Clipping input data to the valid range for imshow with RGB data ([0..1] for floats or [0..255] for integers).\n"
     ]
    },
    {
     "name": "stdout",
     "output_type": "stream",
     "text": [
      "1/1 [==============================] - 0s 100ms/step - loss: 0.0056 - accuracy: 0.9779\n",
      "Epoch 526/1000\n",
      "1/1 [==============================] - 0s 15ms/stepss: 0.0056 - accuracy: 0.97\n"
     ]
    },
    {
     "name": "stderr",
     "output_type": "stream",
     "text": [
      "Clipping input data to the valid range for imshow with RGB data ([0..1] for floats or [0..255] for integers).\n"
     ]
    },
    {
     "name": "stdout",
     "output_type": "stream",
     "text": [
      "1/1 [==============================] - 0s 97ms/step - loss: 0.0056 - accuracy: 0.9775\n",
      "Epoch 527/1000\n",
      "1/1 [==============================] - 0s 14ms/stepss: 0.0055 - accuracy: 0.97\n"
     ]
    },
    {
     "name": "stderr",
     "output_type": "stream",
     "text": [
      "Clipping input data to the valid range for imshow with RGB data ([0..1] for floats or [0..255] for integers).\n"
     ]
    },
    {
     "name": "stdout",
     "output_type": "stream",
     "text": [
      "1/1 [==============================] - 0s 100ms/step - loss: 0.0055 - accuracy: 0.9777\n",
      "Epoch 528/1000\n",
      "1/1 [==============================] - 0s 14ms/stepss: 0.0055 - accuracy: 0.97\n"
     ]
    },
    {
     "name": "stderr",
     "output_type": "stream",
     "text": [
      "Clipping input data to the valid range for imshow with RGB data ([0..1] for floats or [0..255] for integers).\n"
     ]
    },
    {
     "name": "stdout",
     "output_type": "stream",
     "text": [
      "1/1 [==============================] - 0s 100ms/step - loss: 0.0055 - accuracy: 0.9778\n",
      "Epoch 529/1000\n",
      "1/1 [==============================] - 0s 14ms/stepss: 0.0055 - accuracy: 0.97\n"
     ]
    },
    {
     "name": "stderr",
     "output_type": "stream",
     "text": [
      "Clipping input data to the valid range for imshow with RGB data ([0..1] for floats or [0..255] for integers).\n"
     ]
    },
    {
     "name": "stdout",
     "output_type": "stream",
     "text": [
      "1/1 [==============================] - 0s 95ms/step - loss: 0.0055 - accuracy: 0.9776\n",
      "Epoch 530/1000\n",
      "1/1 [==============================] - 0s 14ms/stepss: 0.0055 - accuracy: 0.97\n"
     ]
    },
    {
     "name": "stderr",
     "output_type": "stream",
     "text": [
      "Clipping input data to the valid range for imshow with RGB data ([0..1] for floats or [0..255] for integers).\n"
     ]
    },
    {
     "name": "stdout",
     "output_type": "stream",
     "text": [
      "1/1 [==============================] - 0s 93ms/step - loss: 0.0055 - accuracy: 0.9775\n",
      "Epoch 531/1000\n",
      "1/1 [==============================] - 0s 15ms/stepss: 0.0055 - accuracy: 0.97\n"
     ]
    },
    {
     "name": "stderr",
     "output_type": "stream",
     "text": [
      "Clipping input data to the valid range for imshow with RGB data ([0..1] for floats or [0..255] for integers).\n"
     ]
    },
    {
     "name": "stdout",
     "output_type": "stream",
     "text": [
      "1/1 [==============================] - 0s 94ms/step - loss: 0.0055 - accuracy: 0.9775\n",
      "Epoch 532/1000\n",
      "1/1 [==============================] - 0s 14ms/stepss: 0.0055 - accuracy: 0.97\n"
     ]
    },
    {
     "name": "stderr",
     "output_type": "stream",
     "text": [
      "Clipping input data to the valid range for imshow with RGB data ([0..1] for floats or [0..255] for integers).\n"
     ]
    },
    {
     "name": "stdout",
     "output_type": "stream",
     "text": [
      "1/1 [==============================] - 0s 94ms/step - loss: 0.0055 - accuracy: 0.9775\n",
      "Epoch 533/1000\n",
      "1/1 [==============================] - 0s 14ms/stepss: 0.0055 - accuracy: 0.97\n"
     ]
    },
    {
     "name": "stderr",
     "output_type": "stream",
     "text": [
      "Clipping input data to the valid range for imshow with RGB data ([0..1] for floats or [0..255] for integers).\n"
     ]
    },
    {
     "name": "stdout",
     "output_type": "stream",
     "text": [
      "1/1 [==============================] - 0s 94ms/step - loss: 0.0055 - accuracy: 0.9774\n",
      "Epoch 534/1000\n",
      "1/1 [==============================] - 0s 13ms/stepss: 0.0055 - accuracy: 0.97\n"
     ]
    },
    {
     "name": "stderr",
     "output_type": "stream",
     "text": [
      "Clipping input data to the valid range for imshow with RGB data ([0..1] for floats or [0..255] for integers).\n"
     ]
    },
    {
     "name": "stdout",
     "output_type": "stream",
     "text": [
      "1/1 [==============================] - 0s 95ms/step - loss: 0.0055 - accuracy: 0.9772\n",
      "Epoch 535/1000\n",
      "1/1 [==============================] - 0s 15ms/stepss: 0.0055 - accuracy: 0.97\n"
     ]
    },
    {
     "name": "stderr",
     "output_type": "stream",
     "text": [
      "Clipping input data to the valid range for imshow with RGB data ([0..1] for floats or [0..255] for integers).\n"
     ]
    },
    {
     "name": "stdout",
     "output_type": "stream",
     "text": [
      "1/1 [==============================] - 0s 97ms/step - loss: 0.0055 - accuracy: 0.9775\n",
      "Epoch 536/1000\n",
      "1/1 [==============================] - 0s 16ms/stepss: 0.0056 - accuracy: 0.97\n"
     ]
    },
    {
     "name": "stderr",
     "output_type": "stream",
     "text": [
      "Clipping input data to the valid range for imshow with RGB data ([0..1] for floats or [0..255] for integers).\n"
     ]
    },
    {
     "name": "stdout",
     "output_type": "stream",
     "text": [
      "1/1 [==============================] - 0s 100ms/step - loss: 0.0056 - accuracy: 0.9773\n",
      "Epoch 537/1000\n",
      "1/1 [==============================] - 0s 14ms/stepss: 0.0057 - accuracy: 0.97\n"
     ]
    },
    {
     "name": "stderr",
     "output_type": "stream",
     "text": [
      "Clipping input data to the valid range for imshow with RGB data ([0..1] for floats or [0..255] for integers).\n"
     ]
    },
    {
     "name": "stdout",
     "output_type": "stream",
     "text": [
      "1/1 [==============================] - 0s 97ms/step - loss: 0.0057 - accuracy: 0.9771\n",
      "Epoch 538/1000\n",
      "1/1 [==============================] - 0s 14ms/stepss: 0.0059 - accuracy: 0.97\n"
     ]
    },
    {
     "name": "stderr",
     "output_type": "stream",
     "text": [
      "Clipping input data to the valid range for imshow with RGB data ([0..1] for floats or [0..255] for integers).\n"
     ]
    },
    {
     "name": "stdout",
     "output_type": "stream",
     "text": [
      "1/1 [==============================] - 0s 96ms/step - loss: 0.0059 - accuracy: 0.9773\n",
      "Epoch 539/1000\n",
      "1/1 [==============================] - 0s 14ms/stepss: 0.0061 - accuracy: 0.97\n"
     ]
    },
    {
     "name": "stderr",
     "output_type": "stream",
     "text": [
      "Clipping input data to the valid range for imshow with RGB data ([0..1] for floats or [0..255] for integers).\n"
     ]
    },
    {
     "name": "stdout",
     "output_type": "stream",
     "text": [
      "1/1 [==============================] - 0s 99ms/step - loss: 0.0061 - accuracy: 0.9772\n",
      "Epoch 540/1000\n",
      "1/1 [==============================] - 0s 15ms/stepss: 0.0064 - accuracy: 0.97\n"
     ]
    },
    {
     "name": "stderr",
     "output_type": "stream",
     "text": [
      "Clipping input data to the valid range for imshow with RGB data ([0..1] for floats or [0..255] for integers).\n"
     ]
    },
    {
     "name": "stdout",
     "output_type": "stream",
     "text": [
      "1/1 [==============================] - 0s 98ms/step - loss: 0.0064 - accuracy: 0.9775\n",
      "Epoch 541/1000\n",
      "1/1 [==============================] - 0s 16ms/stepss: 0.0062 - accuracy: 0.97\n"
     ]
    },
    {
     "name": "stderr",
     "output_type": "stream",
     "text": [
      "Clipping input data to the valid range for imshow with RGB data ([0..1] for floats or [0..255] for integers).\n"
     ]
    },
    {
     "name": "stdout",
     "output_type": "stream",
     "text": [
      "1/1 [==============================] - 0s 103ms/step - loss: 0.0062 - accuracy: 0.9768\n",
      "Epoch 542/1000\n",
      "1/1 [==============================] - 0s 14ms/stepss: 0.0061 - accuracy: 0.97\n"
     ]
    },
    {
     "name": "stderr",
     "output_type": "stream",
     "text": [
      "Clipping input data to the valid range for imshow with RGB data ([0..1] for floats or [0..255] for integers).\n"
     ]
    },
    {
     "name": "stdout",
     "output_type": "stream",
     "text": [
      "1/1 [==============================] - 0s 95ms/step - loss: 0.0061 - accuracy: 0.9776\n",
      "Epoch 543/1000\n",
      "1/1 [==============================] - 0s 16ms/stepss: 0.0056 - accuracy: 0.97\n"
     ]
    },
    {
     "name": "stderr",
     "output_type": "stream",
     "text": [
      "Clipping input data to the valid range for imshow with RGB data ([0..1] for floats or [0..255] for integers).\n"
     ]
    },
    {
     "name": "stdout",
     "output_type": "stream",
     "text": [
      "1/1 [==============================] - 0s 99ms/step - loss: 0.0056 - accuracy: 0.9776\n",
      "Epoch 544/1000\n",
      "1/1 [==============================] - 0s 14ms/stepss: 0.0054 - accuracy: 0.97\n"
     ]
    },
    {
     "name": "stderr",
     "output_type": "stream",
     "text": [
      "Clipping input data to the valid range for imshow with RGB data ([0..1] for floats or [0..255] for integers).\n"
     ]
    },
    {
     "name": "stdout",
     "output_type": "stream",
     "text": [
      "1/1 [==============================] - 0s 100ms/step - loss: 0.0054 - accuracy: 0.9779\n",
      "Epoch 545/1000\n",
      "1/1 [==============================] - 0s 14ms/stepss: 0.0056 - accuracy: 0.97\n"
     ]
    },
    {
     "name": "stderr",
     "output_type": "stream",
     "text": [
      "Clipping input data to the valid range for imshow with RGB data ([0..1] for floats or [0..255] for integers).\n"
     ]
    },
    {
     "name": "stdout",
     "output_type": "stream",
     "text": [
      "1/1 [==============================] - 0s 100ms/step - loss: 0.0056 - accuracy: 0.9780\n",
      "Epoch 546/1000\n",
      "1/1 [==============================] - 0s 15ms/stepss: 0.0058 - accuracy: 0.97\n"
     ]
    },
    {
     "name": "stderr",
     "output_type": "stream",
     "text": [
      "Clipping input data to the valid range for imshow with RGB data ([0..1] for floats or [0..255] for integers).\n"
     ]
    },
    {
     "name": "stdout",
     "output_type": "stream",
     "text": [
      "1/1 [==============================] - 0s 101ms/step - loss: 0.0058 - accuracy: 0.9778\n",
      "Epoch 547/1000\n",
      "1/1 [==============================] - 0s 15ms/stepss: 0.0059 - accuracy: 0.97\n"
     ]
    },
    {
     "name": "stderr",
     "output_type": "stream",
     "text": [
      "Clipping input data to the valid range for imshow with RGB data ([0..1] for floats or [0..255] for integers).\n"
     ]
    },
    {
     "name": "stdout",
     "output_type": "stream",
     "text": [
      "1/1 [==============================] - 0s 95ms/step - loss: 0.0059 - accuracy: 0.9779\n",
      "Epoch 548/1000\n",
      "1/1 [==============================] - 0s 14ms/stepss: 0.0056 - accuracy: 0.97\n"
     ]
    },
    {
     "name": "stderr",
     "output_type": "stream",
     "text": [
      "Clipping input data to the valid range for imshow with RGB data ([0..1] for floats or [0..255] for integers).\n"
     ]
    },
    {
     "name": "stdout",
     "output_type": "stream",
     "text": [
      "1/1 [==============================] - 0s 95ms/step - loss: 0.0056 - accuracy: 0.9771\n",
      "Epoch 549/1000\n",
      "1/1 [==============================] - 0s 14ms/stepss: 0.0054 - accuracy: 0.97\n"
     ]
    },
    {
     "name": "stderr",
     "output_type": "stream",
     "text": [
      "Clipping input data to the valid range for imshow with RGB data ([0..1] for floats or [0..255] for integers).\n"
     ]
    },
    {
     "name": "stdout",
     "output_type": "stream",
     "text": [
      "1/1 [==============================] - 0s 98ms/step - loss: 0.0054 - accuracy: 0.9774\n",
      "Epoch 550/1000\n",
      "1/1 [==============================] - 0s 14ms/stepss: 0.0054 - accuracy: 0.97\n"
     ]
    },
    {
     "name": "stderr",
     "output_type": "stream",
     "text": [
      "Clipping input data to the valid range for imshow with RGB data ([0..1] for floats or [0..255] for integers).\n"
     ]
    },
    {
     "name": "stdout",
     "output_type": "stream",
     "text": [
      "1/1 [==============================] - 0s 102ms/step - loss: 0.0054 - accuracy: 0.9780\n",
      "Epoch 551/1000\n",
      "1/1 [==============================] - 0s 17ms/stepss: 0.0056 - accuracy: 0.97\n"
     ]
    },
    {
     "name": "stderr",
     "output_type": "stream",
     "text": [
      "Clipping input data to the valid range for imshow with RGB data ([0..1] for floats or [0..255] for integers).\n"
     ]
    },
    {
     "name": "stdout",
     "output_type": "stream",
     "text": [
      "1/1 [==============================] - 0s 105ms/step - loss: 0.0056 - accuracy: 0.9780\n",
      "Epoch 552/1000\n",
      "1/1 [==============================] - 0s 16ms/stepss: 0.0056 - accuracy: 0.97\n"
     ]
    },
    {
     "name": "stderr",
     "output_type": "stream",
     "text": [
      "Clipping input data to the valid range for imshow with RGB data ([0..1] for floats or [0..255] for integers).\n"
     ]
    },
    {
     "name": "stdout",
     "output_type": "stream",
     "text": [
      "1/1 [==============================] - 0s 107ms/step - loss: 0.0056 - accuracy: 0.9778\n",
      "Epoch 553/1000\n",
      "1/1 [==============================] - 0s 15ms/stepss: 0.0055 - accuracy: 0.97\n"
     ]
    },
    {
     "name": "stderr",
     "output_type": "stream",
     "text": [
      "Clipping input data to the valid range for imshow with RGB data ([0..1] for floats or [0..255] for integers).\n"
     ]
    },
    {
     "name": "stdout",
     "output_type": "stream",
     "text": [
      "1/1 [==============================] - 0s 103ms/step - loss: 0.0055 - accuracy: 0.9776\n",
      "Epoch 554/1000\n",
      "1/1 [==============================] - 0s 18ms/stepss: 0.0054 - accuracy: 0.97\n"
     ]
    },
    {
     "name": "stderr",
     "output_type": "stream",
     "text": [
      "Clipping input data to the valid range for imshow with RGB data ([0..1] for floats or [0..255] for integers).\n"
     ]
    },
    {
     "name": "stdout",
     "output_type": "stream",
     "text": [
      "1/1 [==============================] - 0s 106ms/step - loss: 0.0054 - accuracy: 0.9778\n",
      "Epoch 555/1000\n",
      "1/1 [==============================] - 0s 16ms/stepss: 0.0054 - accuracy: 0.97\n"
     ]
    },
    {
     "name": "stderr",
     "output_type": "stream",
     "text": [
      "Clipping input data to the valid range for imshow with RGB data ([0..1] for floats or [0..255] for integers).\n"
     ]
    },
    {
     "name": "stdout",
     "output_type": "stream",
     "text": [
      "1/1 [==============================] - 0s 103ms/step - loss: 0.0054 - accuracy: 0.9777\n",
      "Epoch 556/1000\n",
      "1/1 [==============================] - 0s 14ms/stepss: 0.0054 - accuracy: 0.97\n"
     ]
    },
    {
     "name": "stderr",
     "output_type": "stream",
     "text": [
      "Clipping input data to the valid range for imshow with RGB data ([0..1] for floats or [0..255] for integers).\n"
     ]
    },
    {
     "name": "stdout",
     "output_type": "stream",
     "text": [
      "1/1 [==============================] - 0s 103ms/step - loss: 0.0054 - accuracy: 0.9775\n",
      "Epoch 557/1000\n",
      "1/1 [==============================] - 0s 14ms/stepss: 0.0055 - accuracy: 0.97\n"
     ]
    },
    {
     "name": "stderr",
     "output_type": "stream",
     "text": [
      "Clipping input data to the valid range for imshow with RGB data ([0..1] for floats or [0..255] for integers).\n"
     ]
    },
    {
     "name": "stdout",
     "output_type": "stream",
     "text": [
      "1/1 [==============================] - 0s 94ms/step - loss: 0.0055 - accuracy: 0.9776\n",
      "Epoch 558/1000\n",
      "1/1 [==============================] - 0s 14ms/stepss: 0.0054 - accuracy: 0.97\n"
     ]
    },
    {
     "name": "stderr",
     "output_type": "stream",
     "text": [
      "Clipping input data to the valid range for imshow with RGB data ([0..1] for floats or [0..255] for integers).\n"
     ]
    },
    {
     "name": "stdout",
     "output_type": "stream",
     "text": [
      "1/1 [==============================] - 0s 96ms/step - loss: 0.0054 - accuracy: 0.9777\n",
      "Epoch 559/1000\n",
      "1/1 [==============================] - 0s 16ms/stepss: 0.0054 - accuracy: 0.97\n"
     ]
    },
    {
     "name": "stderr",
     "output_type": "stream",
     "text": [
      "Clipping input data to the valid range for imshow with RGB data ([0..1] for floats or [0..255] for integers).\n"
     ]
    },
    {
     "name": "stdout",
     "output_type": "stream",
     "text": [
      "1/1 [==============================] - 0s 98ms/step - loss: 0.0054 - accuracy: 0.9774\n",
      "Epoch 560/1000\n",
      "1/1 [==============================] - 0s 15ms/stepss: 0.0053 - accuracy: 0.97\n"
     ]
    },
    {
     "name": "stderr",
     "output_type": "stream",
     "text": [
      "Clipping input data to the valid range for imshow with RGB data ([0..1] for floats or [0..255] for integers).\n"
     ]
    },
    {
     "name": "stdout",
     "output_type": "stream",
     "text": [
      "1/1 [==============================] - 0s 96ms/step - loss: 0.0053 - accuracy: 0.9768\n",
      "Epoch 561/1000\n",
      "1/1 [==============================] - 0s 16ms/stepss: 0.0053 - accuracy: 0.97\n"
     ]
    },
    {
     "name": "stderr",
     "output_type": "stream",
     "text": [
      "Clipping input data to the valid range for imshow with RGB data ([0..1] for floats or [0..255] for integers).\n"
     ]
    },
    {
     "name": "stdout",
     "output_type": "stream",
     "text": [
      "1/1 [==============================] - 0s 101ms/step - loss: 0.0053 - accuracy: 0.9772\n",
      "Epoch 562/1000\n",
      "1/1 [==============================] - 0s 15ms/stepss: 0.0054 - accuracy: 0.97\n"
     ]
    },
    {
     "name": "stderr",
     "output_type": "stream",
     "text": [
      "Clipping input data to the valid range for imshow with RGB data ([0..1] for floats or [0..255] for integers).\n"
     ]
    },
    {
     "name": "stdout",
     "output_type": "stream",
     "text": [
      "1/1 [==============================] - 0s 104ms/step - loss: 0.0054 - accuracy: 0.9778\n",
      "Epoch 563/1000\n",
      "1/1 [==============================] - 0s 16ms/stepss: 0.0054 - accuracy: 0.97\n"
     ]
    },
    {
     "name": "stderr",
     "output_type": "stream",
     "text": [
      "Clipping input data to the valid range for imshow with RGB data ([0..1] for floats or [0..255] for integers).\n"
     ]
    },
    {
     "name": "stdout",
     "output_type": "stream",
     "text": [
      "1/1 [==============================] - 0s 104ms/step - loss: 0.0054 - accuracy: 0.9775\n",
      "Epoch 564/1000\n",
      "1/1 [==============================] - 0s 16ms/stepss: 0.0054 - accuracy: 0.97\n"
     ]
    },
    {
     "name": "stderr",
     "output_type": "stream",
     "text": [
      "Clipping input data to the valid range for imshow with RGB data ([0..1] for floats or [0..255] for integers).\n"
     ]
    },
    {
     "name": "stdout",
     "output_type": "stream",
     "text": [
      "1/1 [==============================] - 0s 107ms/step - loss: 0.0054 - accuracy: 0.9769\n",
      "Epoch 565/1000\n",
      "1/1 [==============================] - 0s 15ms/stepss: 0.0053 - accuracy: 0.97\n"
     ]
    },
    {
     "name": "stderr",
     "output_type": "stream",
     "text": [
      "Clipping input data to the valid range for imshow with RGB data ([0..1] for floats or [0..255] for integers).\n"
     ]
    },
    {
     "name": "stdout",
     "output_type": "stream",
     "text": [
      "1/1 [==============================] - 0s 100ms/step - loss: 0.0053 - accuracy: 0.9766\n",
      "Epoch 566/1000\n",
      "1/1 [==============================] - 0s 16ms/stepss: 0.0053 - accuracy: 0.97\n"
     ]
    },
    {
     "name": "stderr",
     "output_type": "stream",
     "text": [
      "Clipping input data to the valid range for imshow with RGB data ([0..1] for floats or [0..255] for integers).\n"
     ]
    },
    {
     "name": "stdout",
     "output_type": "stream",
     "text": [
      "1/1 [==============================] - 0s 109ms/step - loss: 0.0053 - accuracy: 0.9769\n",
      "Epoch 567/1000\n",
      "1/1 [==============================] - 0s 15ms/stepss: 0.0053 - accuracy: 0.97\n"
     ]
    },
    {
     "name": "stderr",
     "output_type": "stream",
     "text": [
      "Clipping input data to the valid range for imshow with RGB data ([0..1] for floats or [0..255] for integers).\n"
     ]
    },
    {
     "name": "stdout",
     "output_type": "stream",
     "text": [
      "1/1 [==============================] - 0s 108ms/step - loss: 0.0053 - accuracy: 0.9769\n",
      "Epoch 568/1000\n",
      "1/1 [==============================] - 0s 18ms/stepss: 0.0053 - accuracy: 0.97\n"
     ]
    },
    {
     "name": "stderr",
     "output_type": "stream",
     "text": [
      "Clipping input data to the valid range for imshow with RGB data ([0..1] for floats or [0..255] for integers).\n"
     ]
    },
    {
     "name": "stdout",
     "output_type": "stream",
     "text": [
      "1/1 [==============================] - 0s 103ms/step - loss: 0.0053 - accuracy: 0.9769\n",
      "Epoch 569/1000\n",
      "1/1 [==============================] - 0s 17ms/stepss: 0.0053 - accuracy: 0.97\n"
     ]
    },
    {
     "name": "stderr",
     "output_type": "stream",
     "text": [
      "Clipping input data to the valid range for imshow with RGB data ([0..1] for floats or [0..255] for integers).\n"
     ]
    },
    {
     "name": "stdout",
     "output_type": "stream",
     "text": [
      "1/1 [==============================] - 0s 110ms/step - loss: 0.0053 - accuracy: 0.9771\n",
      "Epoch 570/1000\n",
      "1/1 [==============================] - 0s 15ms/stepss: 0.0053 - accuracy: 0.97\n"
     ]
    },
    {
     "name": "stderr",
     "output_type": "stream",
     "text": [
      "Clipping input data to the valid range for imshow with RGB data ([0..1] for floats or [0..255] for integers).\n"
     ]
    },
    {
     "name": "stdout",
     "output_type": "stream",
     "text": [
      "1/1 [==============================] - 0s 102ms/step - loss: 0.0053 - accuracy: 0.9768\n",
      "Epoch 571/1000\n",
      "1/1 [==============================] - 0s 16ms/stepss: 0.0053 - accuracy: 0.97\n"
     ]
    },
    {
     "name": "stderr",
     "output_type": "stream",
     "text": [
      "Clipping input data to the valid range for imshow with RGB data ([0..1] for floats or [0..255] for integers).\n"
     ]
    },
    {
     "name": "stdout",
     "output_type": "stream",
     "text": [
      "1/1 [==============================] - 0s 108ms/step - loss: 0.0053 - accuracy: 0.9764\n",
      "Epoch 572/1000\n",
      "1/1 [==============================] - 0s 16ms/stepss: 0.0053 - accuracy: 0.97\n"
     ]
    },
    {
     "name": "stderr",
     "output_type": "stream",
     "text": [
      "Clipping input data to the valid range for imshow with RGB data ([0..1] for floats or [0..255] for integers).\n"
     ]
    },
    {
     "name": "stdout",
     "output_type": "stream",
     "text": [
      "1/1 [==============================] - 0s 100ms/step - loss: 0.0053 - accuracy: 0.9764\n",
      "Epoch 573/1000\n",
      "1/1 [==============================] - 0s 16ms/stepss: 0.0053 - accuracy: 0.97\n"
     ]
    },
    {
     "name": "stderr",
     "output_type": "stream",
     "text": [
      "Clipping input data to the valid range for imshow with RGB data ([0..1] for floats or [0..255] for integers).\n"
     ]
    },
    {
     "name": "stdout",
     "output_type": "stream",
     "text": [
      "1/1 [==============================] - 0s 105ms/step - loss: 0.0053 - accuracy: 0.9768\n",
      "Epoch 574/1000\n",
      "1/1 [==============================] - 0s 24ms/stepss: 0.0052 - accuracy: 0.97\n"
     ]
    },
    {
     "name": "stderr",
     "output_type": "stream",
     "text": [
      "Clipping input data to the valid range for imshow with RGB data ([0..1] for floats or [0..255] for integers).\n"
     ]
    },
    {
     "name": "stdout",
     "output_type": "stream",
     "text": [
      "1/1 [==============================] - 0s 120ms/step - loss: 0.0052 - accuracy: 0.9767\n",
      "Epoch 575/1000\n",
      "1/1 [==============================] - 0s 20ms/stepss: 0.0052 - accuracy: 0.97\n"
     ]
    },
    {
     "name": "stderr",
     "output_type": "stream",
     "text": [
      "Clipping input data to the valid range for imshow with RGB data ([0..1] for floats or [0..255] for integers).\n"
     ]
    },
    {
     "name": "stdout",
     "output_type": "stream",
     "text": [
      "1/1 [==============================] - 0s 105ms/step - loss: 0.0052 - accuracy: 0.9765\n",
      "Epoch 576/1000\n",
      "1/1 [==============================] - 0s 20ms/stepss: 0.0052 - accuracy: 0.97\n"
     ]
    },
    {
     "name": "stderr",
     "output_type": "stream",
     "text": [
      "Clipping input data to the valid range for imshow with RGB data ([0..1] for floats or [0..255] for integers).\n"
     ]
    },
    {
     "name": "stdout",
     "output_type": "stream",
     "text": [
      "1/1 [==============================] - 0s 123ms/step - loss: 0.0052 - accuracy: 0.9763\n",
      "Epoch 577/1000\n",
      "1/1 [==============================] - 0s 18ms/stepss: 0.0052 - accuracy: 0.97\n"
     ]
    },
    {
     "name": "stderr",
     "output_type": "stream",
     "text": [
      "Clipping input data to the valid range for imshow with RGB data ([0..1] for floats or [0..255] for integers).\n"
     ]
    },
    {
     "name": "stdout",
     "output_type": "stream",
     "text": [
      "1/1 [==============================] - 0s 108ms/step - loss: 0.0052 - accuracy: 0.9763\n",
      "Epoch 578/1000\n",
      "1/1 [==============================] - 0s 17ms/stepss: 0.0052 - accuracy: 0.97\n"
     ]
    },
    {
     "name": "stderr",
     "output_type": "stream",
     "text": [
      "Clipping input data to the valid range for imshow with RGB data ([0..1] for floats or [0..255] for integers).\n"
     ]
    },
    {
     "name": "stdout",
     "output_type": "stream",
     "text": [
      "1/1 [==============================] - 0s 105ms/step - loss: 0.0052 - accuracy: 0.9764\n",
      "Epoch 579/1000\n",
      "1/1 [==============================] - 0s 14ms/stepss: 0.0052 - accuracy: 0.97\n"
     ]
    },
    {
     "name": "stderr",
     "output_type": "stream",
     "text": [
      "Clipping input data to the valid range for imshow with RGB data ([0..1] for floats or [0..255] for integers).\n"
     ]
    },
    {
     "name": "stdout",
     "output_type": "stream",
     "text": [
      "1/1 [==============================] - 0s 98ms/step - loss: 0.0052 - accuracy: 0.9762\n",
      "Epoch 580/1000\n",
      "1/1 [==============================] - 0s 15ms/stepss: 0.0052 - accuracy: 0.97\n"
     ]
    },
    {
     "name": "stderr",
     "output_type": "stream",
     "text": [
      "Clipping input data to the valid range for imshow with RGB data ([0..1] for floats or [0..255] for integers).\n"
     ]
    },
    {
     "name": "stdout",
     "output_type": "stream",
     "text": [
      "1/1 [==============================] - 0s 103ms/step - loss: 0.0052 - accuracy: 0.9763\n",
      "Epoch 581/1000\n",
      "1/1 [==============================] - 0s 19ms/stepss: 0.0053 - accuracy: 0.97\n"
     ]
    },
    {
     "name": "stderr",
     "output_type": "stream",
     "text": [
      "Clipping input data to the valid range for imshow with RGB data ([0..1] for floats or [0..255] for integers).\n"
     ]
    },
    {
     "name": "stdout",
     "output_type": "stream",
     "text": [
      "1/1 [==============================] - 0s 102ms/step - loss: 0.0053 - accuracy: 0.9762\n",
      "Epoch 582/1000\n",
      "1/1 [==============================] - 0s 14ms/stepss: 0.0053 - accuracy: 0.97\n"
     ]
    },
    {
     "name": "stderr",
     "output_type": "stream",
     "text": [
      "Clipping input data to the valid range for imshow with RGB data ([0..1] for floats or [0..255] for integers).\n"
     ]
    },
    {
     "name": "stdout",
     "output_type": "stream",
     "text": [
      "1/1 [==============================] - 0s 94ms/step - loss: 0.0053 - accuracy: 0.9761\n",
      "Epoch 583/1000\n",
      "1/1 [==============================] - 0s 14ms/stepss: 0.0053 - accuracy: 0.97\n"
     ]
    },
    {
     "name": "stderr",
     "output_type": "stream",
     "text": [
      "Clipping input data to the valid range for imshow with RGB data ([0..1] for floats or [0..255] for integers).\n"
     ]
    },
    {
     "name": "stdout",
     "output_type": "stream",
     "text": [
      "1/1 [==============================] - 0s 97ms/step - loss: 0.0053 - accuracy: 0.9761\n",
      "Epoch 584/1000\n",
      "1/1 [==============================] - 0s 14ms/stepss: 0.0053 - accuracy: 0.97\n"
     ]
    },
    {
     "name": "stderr",
     "output_type": "stream",
     "text": [
      "Clipping input data to the valid range for imshow with RGB data ([0..1] for floats or [0..255] for integers).\n"
     ]
    },
    {
     "name": "stdout",
     "output_type": "stream",
     "text": [
      "1/1 [==============================] - 0s 94ms/step - loss: 0.0053 - accuracy: 0.9765\n",
      "Epoch 585/1000\n",
      "1/1 [==============================] - 0s 14ms/stepss: 0.0053 - accuracy: 0.97\n"
     ]
    },
    {
     "name": "stderr",
     "output_type": "stream",
     "text": [
      "Clipping input data to the valid range for imshow with RGB data ([0..1] for floats or [0..255] for integers).\n"
     ]
    },
    {
     "name": "stdout",
     "output_type": "stream",
     "text": [
      "1/1 [==============================] - 0s 93ms/step - loss: 0.0053 - accuracy: 0.9764\n",
      "Epoch 586/1000\n",
      "1/1 [==============================] - 0s 14ms/stepss: 0.0053 - accuracy: 0.97\n"
     ]
    },
    {
     "name": "stderr",
     "output_type": "stream",
     "text": [
      "Clipping input data to the valid range for imshow with RGB data ([0..1] for floats or [0..255] for integers).\n"
     ]
    },
    {
     "name": "stdout",
     "output_type": "stream",
     "text": [
      "1/1 [==============================] - 0s 93ms/step - loss: 0.0053 - accuracy: 0.9763\n",
      "Epoch 587/1000\n",
      "1/1 [==============================] - 0s 15ms/stepss: 0.0053 - accuracy: 0.97\n"
     ]
    },
    {
     "name": "stderr",
     "output_type": "stream",
     "text": [
      "Clipping input data to the valid range for imshow with RGB data ([0..1] for floats or [0..255] for integers).\n"
     ]
    },
    {
     "name": "stdout",
     "output_type": "stream",
     "text": [
      "1/1 [==============================] - 0s 100ms/step - loss: 0.0053 - accuracy: 0.9758\n",
      "Epoch 588/1000\n",
      "1/1 [==============================] - 0s 15ms/stepss: 0.0054 - accuracy: 0.97\n"
     ]
    },
    {
     "name": "stderr",
     "output_type": "stream",
     "text": [
      "Clipping input data to the valid range for imshow with RGB data ([0..1] for floats or [0..255] for integers).\n"
     ]
    },
    {
     "name": "stdout",
     "output_type": "stream",
     "text": [
      "1/1 [==============================] - 0s 100ms/step - loss: 0.0054 - accuracy: 0.9761\n",
      "Epoch 589/1000\n",
      "1/1 [==============================] - 0s 15ms/stepss: 0.0054 - accuracy: 0.97\n"
     ]
    },
    {
     "name": "stderr",
     "output_type": "stream",
     "text": [
      "Clipping input data to the valid range for imshow with RGB data ([0..1] for floats or [0..255] for integers).\n"
     ]
    },
    {
     "name": "stdout",
     "output_type": "stream",
     "text": [
      "1/1 [==============================] - 0s 99ms/step - loss: 0.0054 - accuracy: 0.9759\n",
      "Epoch 590/1000\n",
      "1/1 [==============================] - 0s 15ms/stepss: 0.0055 - accuracy: 0.97\n"
     ]
    },
    {
     "name": "stderr",
     "output_type": "stream",
     "text": [
      "Clipping input data to the valid range for imshow with RGB data ([0..1] for floats or [0..255] for integers).\n"
     ]
    },
    {
     "name": "stdout",
     "output_type": "stream",
     "text": [
      "1/1 [==============================] - 0s 97ms/step - loss: 0.0055 - accuracy: 0.9763\n",
      "Epoch 591/1000\n",
      "1/1 [==============================] - 0s 15ms/stepss: 0.0054 - accuracy: 0.97\n"
     ]
    },
    {
     "name": "stderr",
     "output_type": "stream",
     "text": [
      "Clipping input data to the valid range for imshow with RGB data ([0..1] for floats or [0..255] for integers).\n"
     ]
    },
    {
     "name": "stdout",
     "output_type": "stream",
     "text": [
      "1/1 [==============================] - 0s 99ms/step - loss: 0.0054 - accuracy: 0.9763\n",
      "Epoch 592/1000\n",
      "1/1 [==============================] - 0s 15ms/stepss: 0.0054 - accuracy: 0.97\n"
     ]
    },
    {
     "name": "stderr",
     "output_type": "stream",
     "text": [
      "Clipping input data to the valid range for imshow with RGB data ([0..1] for floats or [0..255] for integers).\n"
     ]
    },
    {
     "name": "stdout",
     "output_type": "stream",
     "text": [
      "1/1 [==============================] - 0s 100ms/step - loss: 0.0054 - accuracy: 0.9766\n",
      "Epoch 593/1000\n",
      "1/1 [==============================] - 0s 17ms/stepss: 0.0053 - accuracy: 0.97\n"
     ]
    },
    {
     "name": "stderr",
     "output_type": "stream",
     "text": [
      "Clipping input data to the valid range for imshow with RGB data ([0..1] for floats or [0..255] for integers).\n"
     ]
    },
    {
     "name": "stdout",
     "output_type": "stream",
     "text": [
      "1/1 [==============================] - 0s 101ms/step - loss: 0.0053 - accuracy: 0.9760\n",
      "Epoch 594/1000\n",
      "1/1 [==============================] - 0s 16ms/stepss: 0.0053 - accuracy: 0.97\n"
     ]
    },
    {
     "name": "stderr",
     "output_type": "stream",
     "text": [
      "Clipping input data to the valid range for imshow with RGB data ([0..1] for floats or [0..255] for integers).\n"
     ]
    },
    {
     "name": "stdout",
     "output_type": "stream",
     "text": [
      "1/1 [==============================] - 0s 102ms/step - loss: 0.0053 - accuracy: 0.9764\n",
      "Epoch 595/1000\n",
      "1/1 [==============================] - 0s 15ms/stepss: 0.0052 - accuracy: 0.97\n"
     ]
    },
    {
     "name": "stderr",
     "output_type": "stream",
     "text": [
      "Clipping input data to the valid range for imshow with RGB data ([0..1] for floats or [0..255] for integers).\n"
     ]
    },
    {
     "name": "stdout",
     "output_type": "stream",
     "text": [
      "1/1 [==============================] - 0s 98ms/step - loss: 0.0052 - accuracy: 0.9765\n",
      "Epoch 596/1000\n",
      "1/1 [==============================] - 0s 14ms/stepss: 0.0051 - accuracy: 0.97\n"
     ]
    },
    {
     "name": "stderr",
     "output_type": "stream",
     "text": [
      "Clipping input data to the valid range for imshow with RGB data ([0..1] for floats or [0..255] for integers).\n"
     ]
    },
    {
     "name": "stdout",
     "output_type": "stream",
     "text": [
      "1/1 [==============================] - 0s 98ms/step - loss: 0.0051 - accuracy: 0.9763\n",
      "Epoch 597/1000\n",
      "1/1 [==============================] - 0s 14ms/stepss: 0.0051 - accuracy: 0.97\n"
     ]
    },
    {
     "name": "stderr",
     "output_type": "stream",
     "text": [
      "Clipping input data to the valid range for imshow with RGB data ([0..1] for floats or [0..255] for integers).\n"
     ]
    },
    {
     "name": "stdout",
     "output_type": "stream",
     "text": [
      "1/1 [==============================] - 0s 99ms/step - loss: 0.0051 - accuracy: 0.9760\n",
      "Epoch 598/1000\n",
      "1/1 [==============================] - 0s 15ms/stepss: 0.0051 - accuracy: 0.97\n"
     ]
    },
    {
     "name": "stderr",
     "output_type": "stream",
     "text": [
      "Clipping input data to the valid range for imshow with RGB data ([0..1] for floats or [0..255] for integers).\n"
     ]
    },
    {
     "name": "stdout",
     "output_type": "stream",
     "text": [
      "1/1 [==============================] - 0s 97ms/step - loss: 0.0051 - accuracy: 0.9764\n",
      "Epoch 599/1000\n",
      "1/1 [==============================] - 0s 14ms/stepss: 0.0052 - accuracy: 0.97\n"
     ]
    },
    {
     "name": "stderr",
     "output_type": "stream",
     "text": [
      "Clipping input data to the valid range for imshow with RGB data ([0..1] for floats or [0..255] for integers).\n"
     ]
    },
    {
     "name": "stdout",
     "output_type": "stream",
     "text": [
      "1/1 [==============================] - 0s 98ms/step - loss: 0.0052 - accuracy: 0.9765\n",
      "Epoch 600/1000\n",
      "1/1 [==============================] - 0s 15ms/stepss: 0.0052 - accuracy: 0.97\n"
     ]
    },
    {
     "name": "stderr",
     "output_type": "stream",
     "text": [
      "Clipping input data to the valid range for imshow with RGB data ([0..1] for floats or [0..255] for integers).\n"
     ]
    },
    {
     "name": "stdout",
     "output_type": "stream",
     "text": [
      "1/1 [==============================] - 0s 97ms/step - loss: 0.0052 - accuracy: 0.9760\n",
      "Epoch 601/1000\n",
      "1/1 [==============================] - 0s 15ms/stepss: 0.0052 - accuracy: 0.97\n"
     ]
    },
    {
     "name": "stderr",
     "output_type": "stream",
     "text": [
      "Clipping input data to the valid range for imshow with RGB data ([0..1] for floats or [0..255] for integers).\n"
     ]
    },
    {
     "name": "stdout",
     "output_type": "stream",
     "text": [
      "1/1 [==============================] - 0s 99ms/step - loss: 0.0052 - accuracy: 0.9760\n",
      "Epoch 602/1000\n",
      "1/1 [==============================] - 0s 15ms/stepss: 0.0052 - accuracy: 0.97\n"
     ]
    },
    {
     "name": "stderr",
     "output_type": "stream",
     "text": [
      "Clipping input data to the valid range for imshow with RGB data ([0..1] for floats or [0..255] for integers).\n"
     ]
    },
    {
     "name": "stdout",
     "output_type": "stream",
     "text": [
      "1/1 [==============================] - 0s 101ms/step - loss: 0.0052 - accuracy: 0.9761\n",
      "Epoch 603/1000\n",
      "1/1 [==============================] - 0s 15ms/stepss: 0.0053 - accuracy: 0.97\n"
     ]
    },
    {
     "name": "stderr",
     "output_type": "stream",
     "text": [
      "Clipping input data to the valid range for imshow with RGB data ([0..1] for floats or [0..255] for integers).\n"
     ]
    },
    {
     "name": "stdout",
     "output_type": "stream",
     "text": [
      "1/1 [==============================] - 0s 104ms/step - loss: 0.0053 - accuracy: 0.9760\n",
      "Epoch 604/1000\n",
      "1/1 [==============================] - 0s 15ms/stepss: 0.0052 - accuracy: 0.97\n"
     ]
    },
    {
     "name": "stderr",
     "output_type": "stream",
     "text": [
      "Clipping input data to the valid range for imshow with RGB data ([0..1] for floats or [0..255] for integers).\n"
     ]
    },
    {
     "name": "stdout",
     "output_type": "stream",
     "text": [
      "1/1 [==============================] - 0s 100ms/step - loss: 0.0052 - accuracy: 0.9754\n",
      "Epoch 605/1000\n",
      "1/1 [==============================] - 0s 15ms/stepss: 0.0052 - accuracy: 0.97\n"
     ]
    },
    {
     "name": "stderr",
     "output_type": "stream",
     "text": [
      "Clipping input data to the valid range for imshow with RGB data ([0..1] for floats or [0..255] for integers).\n"
     ]
    },
    {
     "name": "stdout",
     "output_type": "stream",
     "text": [
      "1/1 [==============================] - 0s 97ms/step - loss: 0.0052 - accuracy: 0.9757\n",
      "Epoch 606/1000\n",
      "1/1 [==============================] - 0s 15ms/stepss: 0.0052 - accuracy: 0.97\n"
     ]
    },
    {
     "name": "stderr",
     "output_type": "stream",
     "text": [
      "Clipping input data to the valid range for imshow with RGB data ([0..1] for floats or [0..255] for integers).\n"
     ]
    },
    {
     "name": "stdout",
     "output_type": "stream",
     "text": [
      "1/1 [==============================] - 0s 97ms/step - loss: 0.0052 - accuracy: 0.9760\n",
      "Epoch 607/1000\n",
      "1/1 [==============================] - 0s 15ms/stepss: 0.0051 - accuracy: 0.97\n"
     ]
    },
    {
     "name": "stderr",
     "output_type": "stream",
     "text": [
      "Clipping input data to the valid range for imshow with RGB data ([0..1] for floats or [0..255] for integers).\n"
     ]
    },
    {
     "name": "stdout",
     "output_type": "stream",
     "text": [
      "1/1 [==============================] - 0s 99ms/step - loss: 0.0051 - accuracy: 0.9760\n",
      "Epoch 608/1000\n",
      "1/1 [==============================] - 0s 15ms/stepss: 0.0051 - accuracy: 0.97\n"
     ]
    },
    {
     "name": "stderr",
     "output_type": "stream",
     "text": [
      "Clipping input data to the valid range for imshow with RGB data ([0..1] for floats or [0..255] for integers).\n"
     ]
    },
    {
     "name": "stdout",
     "output_type": "stream",
     "text": [
      "1/1 [==============================] - 0s 95ms/step - loss: 0.0051 - accuracy: 0.9758\n",
      "Epoch 609/1000\n",
      "1/1 [==============================] - 0s 14ms/stepss: 0.0051 - accuracy: 0.97\n"
     ]
    },
    {
     "name": "stderr",
     "output_type": "stream",
     "text": [
      "Clipping input data to the valid range for imshow with RGB data ([0..1] for floats or [0..255] for integers).\n"
     ]
    },
    {
     "name": "stdout",
     "output_type": "stream",
     "text": [
      "1/1 [==============================] - 0s 96ms/step - loss: 0.0051 - accuracy: 0.9761\n",
      "Epoch 610/1000\n",
      "1/1 [==============================] - 0s 13ms/stepss: 0.0051 - accuracy: 0.97\n"
     ]
    },
    {
     "name": "stderr",
     "output_type": "stream",
     "text": [
      "Clipping input data to the valid range for imshow with RGB data ([0..1] for floats or [0..255] for integers).\n"
     ]
    },
    {
     "name": "stdout",
     "output_type": "stream",
     "text": [
      "1/1 [==============================] - 0s 92ms/step - loss: 0.0051 - accuracy: 0.9762\n",
      "Epoch 611/1000\n",
      "1/1 [==============================] - 0s 16ms/stepss: 0.0051 - accuracy: 0.97\n"
     ]
    },
    {
     "name": "stderr",
     "output_type": "stream",
     "text": [
      "Clipping input data to the valid range for imshow with RGB data ([0..1] for floats or [0..255] for integers).\n"
     ]
    },
    {
     "name": "stdout",
     "output_type": "stream",
     "text": [
      "1/1 [==============================] - 0s 96ms/step - loss: 0.0051 - accuracy: 0.9756\n",
      "Epoch 612/1000\n",
      "1/1 [==============================] - 0s 14ms/stepss: 0.0051 - accuracy: 0.97\n"
     ]
    },
    {
     "name": "stderr",
     "output_type": "stream",
     "text": [
      "Clipping input data to the valid range for imshow with RGB data ([0..1] for floats or [0..255] for integers).\n"
     ]
    },
    {
     "name": "stdout",
     "output_type": "stream",
     "text": [
      "1/1 [==============================] - 0s 93ms/step - loss: 0.0051 - accuracy: 0.9755\n",
      "Epoch 613/1000\n",
      "1/1 [==============================] - 0s 15ms/stepss: 0.0051 - accuracy: 0.97\n"
     ]
    },
    {
     "name": "stderr",
     "output_type": "stream",
     "text": [
      "Clipping input data to the valid range for imshow with RGB data ([0..1] for floats or [0..255] for integers).\n"
     ]
    },
    {
     "name": "stdout",
     "output_type": "stream",
     "text": [
      "1/1 [==============================] - 0s 98ms/step - loss: 0.0051 - accuracy: 0.9757\n",
      "Epoch 614/1000\n",
      "1/1 [==============================] - 0s 14ms/stepss: 0.0051 - accuracy: 0.97\n"
     ]
    },
    {
     "name": "stderr",
     "output_type": "stream",
     "text": [
      "Clipping input data to the valid range for imshow with RGB data ([0..1] for floats or [0..255] for integers).\n"
     ]
    },
    {
     "name": "stdout",
     "output_type": "stream",
     "text": [
      "1/1 [==============================] - 0s 100ms/step - loss: 0.0051 - accuracy: 0.9760\n",
      "Epoch 615/1000\n",
      "1/1 [==============================] - 0s 15ms/stepss: 0.0051 - accuracy: 0.97\n"
     ]
    },
    {
     "name": "stderr",
     "output_type": "stream",
     "text": [
      "Clipping input data to the valid range for imshow with RGB data ([0..1] for floats or [0..255] for integers).\n"
     ]
    },
    {
     "name": "stdout",
     "output_type": "stream",
     "text": [
      "1/1 [==============================] - 0s 99ms/step - loss: 0.0051 - accuracy: 0.9754\n",
      "Epoch 616/1000\n",
      "1/1 [==============================] - 0s 15ms/stepss: 0.0051 - accuracy: 0.97\n"
     ]
    },
    {
     "name": "stderr",
     "output_type": "stream",
     "text": [
      "Clipping input data to the valid range for imshow with RGB data ([0..1] for floats or [0..255] for integers).\n"
     ]
    },
    {
     "name": "stdout",
     "output_type": "stream",
     "text": [
      "1/1 [==============================] - 0s 98ms/step - loss: 0.0051 - accuracy: 0.9753\n",
      "Epoch 617/1000\n",
      "1/1 [==============================] - 0s 15ms/stepss: 0.0052 - accuracy: 0.97\n"
     ]
    },
    {
     "name": "stderr",
     "output_type": "stream",
     "text": [
      "Clipping input data to the valid range for imshow with RGB data ([0..1] for floats or [0..255] for integers).\n"
     ]
    },
    {
     "name": "stdout",
     "output_type": "stream",
     "text": [
      "1/1 [==============================] - 0s 98ms/step - loss: 0.0052 - accuracy: 0.9755\n",
      "Epoch 618/1000\n",
      "1/1 [==============================] - 0s 16ms/stepss: 0.0053 - accuracy: 0.97\n"
     ]
    },
    {
     "name": "stderr",
     "output_type": "stream",
     "text": [
      "Clipping input data to the valid range for imshow with RGB data ([0..1] for floats or [0..255] for integers).\n"
     ]
    },
    {
     "name": "stdout",
     "output_type": "stream",
     "text": [
      "1/1 [==============================] - 0s 100ms/step - loss: 0.0053 - accuracy: 0.9757\n",
      "Epoch 619/1000\n",
      "1/1 [==============================] - 0s 16ms/stepss: 0.0055 - accuracy: 0.97\n"
     ]
    },
    {
     "name": "stderr",
     "output_type": "stream",
     "text": [
      "Clipping input data to the valid range for imshow with RGB data ([0..1] for floats or [0..255] for integers).\n"
     ]
    },
    {
     "name": "stdout",
     "output_type": "stream",
     "text": [
      "1/1 [==============================] - 0s 102ms/step - loss: 0.0055 - accuracy: 0.9750\n",
      "Epoch 620/1000\n",
      "1/1 [==============================] - 0s 15ms/stepss: 0.0058 - accuracy: 0.97\n"
     ]
    },
    {
     "name": "stderr",
     "output_type": "stream",
     "text": [
      "Clipping input data to the valid range for imshow with RGB data ([0..1] for floats or [0..255] for integers).\n"
     ]
    },
    {
     "name": "stdout",
     "output_type": "stream",
     "text": [
      "1/1 [==============================] - 0s 98ms/step - loss: 0.0058 - accuracy: 0.9752\n",
      "Epoch 621/1000\n",
      "1/1 [==============================] - 0s 16ms/stepss: 0.0060 - accuracy: 0.97\n"
     ]
    },
    {
     "name": "stderr",
     "output_type": "stream",
     "text": [
      "Clipping input data to the valid range for imshow with RGB data ([0..1] for floats or [0..255] for integers).\n"
     ]
    },
    {
     "name": "stdout",
     "output_type": "stream",
     "text": [
      "1/1 [==============================] - 0s 101ms/step - loss: 0.0060 - accuracy: 0.9756\n",
      "Epoch 622/1000\n",
      "1/1 [==============================] - 0s 15ms/stepss: 0.0063 - accuracy: 0.97\n"
     ]
    },
    {
     "name": "stderr",
     "output_type": "stream",
     "text": [
      "Clipping input data to the valid range for imshow with RGB data ([0..1] for floats or [0..255] for integers).\n"
     ]
    },
    {
     "name": "stdout",
     "output_type": "stream",
     "text": [
      "1/1 [==============================] - 0s 97ms/step - loss: 0.0063 - accuracy: 0.9757\n",
      "Epoch 623/1000\n",
      "1/1 [==============================] - 0s 15ms/stepss: 0.0058 - accuracy: 0.97\n"
     ]
    },
    {
     "name": "stderr",
     "output_type": "stream",
     "text": [
      "Clipping input data to the valid range for imshow with RGB data ([0..1] for floats or [0..255] for integers).\n"
     ]
    },
    {
     "name": "stdout",
     "output_type": "stream",
     "text": [
      "1/1 [==============================] - 0s 103ms/step - loss: 0.0058 - accuracy: 0.9756\n",
      "Epoch 624/1000\n",
      "1/1 [==============================] - 0s 16ms/stepss: 0.0054 - accuracy: 0.97\n"
     ]
    },
    {
     "name": "stderr",
     "output_type": "stream",
     "text": [
      "Clipping input data to the valid range for imshow with RGB data ([0..1] for floats or [0..255] for integers).\n"
     ]
    },
    {
     "name": "stdout",
     "output_type": "stream",
     "text": [
      "1/1 [==============================] - 0s 102ms/step - loss: 0.0054 - accuracy: 0.9769\n",
      "Epoch 625/1000\n",
      "1/1 [==============================] - 0s 15ms/stepss: 0.0051 - accuracy: 0.97\n"
     ]
    },
    {
     "name": "stderr",
     "output_type": "stream",
     "text": [
      "Clipping input data to the valid range for imshow with RGB data ([0..1] for floats or [0..255] for integers).\n"
     ]
    },
    {
     "name": "stdout",
     "output_type": "stream",
     "text": [
      "1/1 [==============================] - 0s 101ms/step - loss: 0.0051 - accuracy: 0.9772\n",
      "Epoch 626/1000\n",
      "1/1 [==============================] - 0s 15ms/stepss: 0.0051 - accuracy: 0.97\n"
     ]
    },
    {
     "name": "stderr",
     "output_type": "stream",
     "text": [
      "Clipping input data to the valid range for imshow with RGB data ([0..1] for floats or [0..255] for integers).\n"
     ]
    },
    {
     "name": "stdout",
     "output_type": "stream",
     "text": [
      "1/1 [==============================] - 0s 98ms/step - loss: 0.0051 - accuracy: 0.9764\n",
      "Epoch 627/1000\n",
      "1/1 [==============================] - 0s 15ms/stepss: 0.0054 - accuracy: 0.97\n"
     ]
    },
    {
     "name": "stderr",
     "output_type": "stream",
     "text": [
      "Clipping input data to the valid range for imshow with RGB data ([0..1] for floats or [0..255] for integers).\n"
     ]
    },
    {
     "name": "stdout",
     "output_type": "stream",
     "text": [
      "1/1 [==============================] - 0s 96ms/step - loss: 0.0054 - accuracy: 0.9759\n",
      "Epoch 628/1000\n",
      "1/1 [==============================] - 0s 15ms/stepss: 0.0055 - accuracy: 0.97\n"
     ]
    },
    {
     "name": "stderr",
     "output_type": "stream",
     "text": [
      "Clipping input data to the valid range for imshow with RGB data ([0..1] for floats or [0..255] for integers).\n"
     ]
    },
    {
     "name": "stdout",
     "output_type": "stream",
     "text": [
      "1/1 [==============================] - 0s 99ms/step - loss: 0.0055 - accuracy: 0.9762\n",
      "Epoch 629/1000\n",
      "1/1 [==============================] - 0s 19ms/stepss: 0.0054 - accuracy: 0.97\n"
     ]
    },
    {
     "name": "stderr",
     "output_type": "stream",
     "text": [
      "Clipping input data to the valid range for imshow with RGB data ([0..1] for floats or [0..255] for integers).\n"
     ]
    },
    {
     "name": "stdout",
     "output_type": "stream",
     "text": [
      "1/1 [==============================] - 0s 105ms/step - loss: 0.0054 - accuracy: 0.9773\n",
      "Epoch 630/1000\n",
      "1/1 [==============================] - 0s 14ms/stepss: 0.0051 - accuracy: 0.97\n"
     ]
    },
    {
     "name": "stderr",
     "output_type": "stream",
     "text": [
      "Clipping input data to the valid range for imshow with RGB data ([0..1] for floats or [0..255] for integers).\n"
     ]
    },
    {
     "name": "stdout",
     "output_type": "stream",
     "text": [
      "1/1 [==============================] - 0s 94ms/step - loss: 0.0051 - accuracy: 0.9766\n",
      "Epoch 631/1000\n",
      "1/1 [==============================] - 0s 15ms/stepss: 0.0051 - accuracy: 0.97\n"
     ]
    },
    {
     "name": "stderr",
     "output_type": "stream",
     "text": [
      "Clipping input data to the valid range for imshow with RGB data ([0..1] for floats or [0..255] for integers).\n"
     ]
    },
    {
     "name": "stdout",
     "output_type": "stream",
     "text": [
      "1/1 [==============================] - 0s 99ms/step - loss: 0.0051 - accuracy: 0.9754\n",
      "Epoch 632/1000\n",
      "1/1 [==============================] - 0s 16ms/stepss: 0.0052 - accuracy: 0.97\n"
     ]
    },
    {
     "name": "stderr",
     "output_type": "stream",
     "text": [
      "Clipping input data to the valid range for imshow with RGB data ([0..1] for floats or [0..255] for integers).\n"
     ]
    },
    {
     "name": "stdout",
     "output_type": "stream",
     "text": [
      "1/1 [==============================] - 0s 97ms/step - loss: 0.0052 - accuracy: 0.9763\n",
      "Epoch 633/1000\n",
      "1/1 [==============================] - 0s 16ms/stepss: 0.0053 - accuracy: 0.97\n"
     ]
    },
    {
     "name": "stderr",
     "output_type": "stream",
     "text": [
      "Clipping input data to the valid range for imshow with RGB data ([0..1] for floats or [0..255] for integers).\n"
     ]
    },
    {
     "name": "stdout",
     "output_type": "stream",
     "text": [
      "1/1 [==============================] - 0s 107ms/step - loss: 0.0053 - accuracy: 0.9770\n",
      "Epoch 634/1000\n",
      "1/1 [==============================] - 0s 15ms/stepss: 0.0051 - accuracy: 0.97\n"
     ]
    },
    {
     "name": "stderr",
     "output_type": "stream",
     "text": [
      "Clipping input data to the valid range for imshow with RGB data ([0..1] for floats or [0..255] for integers).\n"
     ]
    },
    {
     "name": "stdout",
     "output_type": "stream",
     "text": [
      "1/1 [==============================] - 0s 103ms/step - loss: 0.0051 - accuracy: 0.9770\n",
      "Epoch 635/1000\n",
      "1/1 [==============================] - 0s 15ms/stepss: 0.0050 - accuracy: 0.97\n"
     ]
    },
    {
     "name": "stderr",
     "output_type": "stream",
     "text": [
      "Clipping input data to the valid range for imshow with RGB data ([0..1] for floats or [0..255] for integers).\n"
     ]
    },
    {
     "name": "stdout",
     "output_type": "stream",
     "text": [
      "1/1 [==============================] - 0s 97ms/step - loss: 0.0050 - accuracy: 0.9761\n",
      "Epoch 636/1000\n",
      "1/1 [==============================] - 0s 14ms/stepss: 0.0050 - accuracy: 0.97\n"
     ]
    },
    {
     "name": "stderr",
     "output_type": "stream",
     "text": [
      "Clipping input data to the valid range for imshow with RGB data ([0..1] for floats or [0..255] for integers).\n"
     ]
    },
    {
     "name": "stdout",
     "output_type": "stream",
     "text": [
      "1/1 [==============================] - 0s 101ms/step - loss: 0.0050 - accuracy: 0.9757\n",
      "Epoch 637/1000\n",
      "1/1 [==============================] - 0s 16ms/stepss: 0.0051 - accuracy: 0.97\n"
     ]
    },
    {
     "name": "stderr",
     "output_type": "stream",
     "text": [
      "Clipping input data to the valid range for imshow with RGB data ([0..1] for floats or [0..255] for integers).\n"
     ]
    },
    {
     "name": "stdout",
     "output_type": "stream",
     "text": [
      "1/1 [==============================] - 0s 99ms/step - loss: 0.0051 - accuracy: 0.9762\n",
      "Epoch 638/1000\n",
      "1/1 [==============================] - 0s 16ms/stepss: 0.0051 - accuracy: 0.97\n"
     ]
    },
    {
     "name": "stderr",
     "output_type": "stream",
     "text": [
      "Clipping input data to the valid range for imshow with RGB data ([0..1] for floats or [0..255] for integers).\n"
     ]
    },
    {
     "name": "stdout",
     "output_type": "stream",
     "text": [
      "1/1 [==============================] - 0s 100ms/step - loss: 0.0051 - accuracy: 0.9765\n",
      "Epoch 639/1000\n",
      "1/1 [==============================] - 0s 14ms/stepss: 0.0050 - accuracy: 0.97\n"
     ]
    },
    {
     "name": "stderr",
     "output_type": "stream",
     "text": [
      "Clipping input data to the valid range for imshow with RGB data ([0..1] for floats or [0..255] for integers).\n"
     ]
    },
    {
     "name": "stdout",
     "output_type": "stream",
     "text": [
      "1/1 [==============================] - 0s 97ms/step - loss: 0.0050 - accuracy: 0.9766\n",
      "Epoch 640/1000\n",
      "1/1 [==============================] - 0s 15ms/stepss: 0.0050 - accuracy: 0.97\n"
     ]
    },
    {
     "name": "stderr",
     "output_type": "stream",
     "text": [
      "Clipping input data to the valid range for imshow with RGB data ([0..1] for floats or [0..255] for integers).\n"
     ]
    },
    {
     "name": "stdout",
     "output_type": "stream",
     "text": [
      "1/1 [==============================] - 0s 102ms/step - loss: 0.0050 - accuracy: 0.9763\n",
      "Epoch 641/1000\n",
      "1/1 [==============================] - 0s 17ms/stepss: 0.0050 - accuracy: 0.97\n"
     ]
    },
    {
     "name": "stderr",
     "output_type": "stream",
     "text": [
      "Clipping input data to the valid range for imshow with RGB data ([0..1] for floats or [0..255] for integers).\n"
     ]
    },
    {
     "name": "stdout",
     "output_type": "stream",
     "text": [
      "1/1 [==============================] - 0s 107ms/step - loss: 0.0050 - accuracy: 0.9761\n",
      "Epoch 642/1000\n",
      "1/1 [==============================] - 0s 18ms/stepss: 0.0050 - accuracy: 0.97\n"
     ]
    },
    {
     "name": "stderr",
     "output_type": "stream",
     "text": [
      "Clipping input data to the valid range for imshow with RGB data ([0..1] for floats or [0..255] for integers).\n"
     ]
    },
    {
     "name": "stdout",
     "output_type": "stream",
     "text": [
      "1/1 [==============================] - 0s 113ms/step - loss: 0.0050 - accuracy: 0.9758\n",
      "Epoch 643/1000\n",
      "1/1 [==============================] - 0s 16ms/stepss: 0.0050 - accuracy: 0.97\n"
     ]
    },
    {
     "name": "stderr",
     "output_type": "stream",
     "text": [
      "Clipping input data to the valid range for imshow with RGB data ([0..1] for floats or [0..255] for integers).\n"
     ]
    },
    {
     "name": "stdout",
     "output_type": "stream",
     "text": [
      "1/1 [==============================] - 0s 101ms/step - loss: 0.0050 - accuracy: 0.9750\n",
      "Epoch 644/1000\n",
      "1/1 [==============================] - 0s 17ms/stepss: 0.0050 - accuracy: 0.97\n"
     ]
    },
    {
     "name": "stderr",
     "output_type": "stream",
     "text": [
      "Clipping input data to the valid range for imshow with RGB data ([0..1] for floats or [0..255] for integers).\n"
     ]
    },
    {
     "name": "stdout",
     "output_type": "stream",
     "text": [
      "1/1 [==============================] - 0s 103ms/step - loss: 0.0050 - accuracy: 0.9753\n",
      "Epoch 645/1000\n",
      "1/1 [==============================] - 0s 16ms/stepss: 0.0050 - accuracy: 0.97\n"
     ]
    },
    {
     "name": "stderr",
     "output_type": "stream",
     "text": [
      "Clipping input data to the valid range for imshow with RGB data ([0..1] for floats or [0..255] for integers).\n"
     ]
    },
    {
     "name": "stdout",
     "output_type": "stream",
     "text": [
      "1/1 [==============================] - 0s 105ms/step - loss: 0.0050 - accuracy: 0.9760\n",
      "Epoch 646/1000\n",
      "1/1 [==============================] - 0s 15ms/stepss: 0.0049 - accuracy: 0.97\n"
     ]
    },
    {
     "name": "stderr",
     "output_type": "stream",
     "text": [
      "Clipping input data to the valid range for imshow with RGB data ([0..1] for floats or [0..255] for integers).\n"
     ]
    },
    {
     "name": "stdout",
     "output_type": "stream",
     "text": [
      "1/1 [==============================] - 0s 98ms/step - loss: 0.0049 - accuracy: 0.9763\n",
      "Epoch 647/1000\n",
      "1/1 [==============================] - 0s 16ms/stepss: 0.0049 - accuracy: 0.97\n"
     ]
    },
    {
     "name": "stderr",
     "output_type": "stream",
     "text": [
      "Clipping input data to the valid range for imshow with RGB data ([0..1] for floats or [0..255] for integers).\n"
     ]
    },
    {
     "name": "stdout",
     "output_type": "stream",
     "text": [
      "1/1 [==============================] - 0s 99ms/step - loss: 0.0049 - accuracy: 0.9758\n",
      "Epoch 648/1000\n",
      "1/1 [==============================] - 0s 16ms/stepss: 0.0049 - accuracy: 0.97\n"
     ]
    },
    {
     "name": "stderr",
     "output_type": "stream",
     "text": [
      "Clipping input data to the valid range for imshow with RGB data ([0..1] for floats or [0..255] for integers).\n"
     ]
    },
    {
     "name": "stdout",
     "output_type": "stream",
     "text": [
      "1/1 [==============================] - 0s 105ms/step - loss: 0.0049 - accuracy: 0.9751\n",
      "Epoch 649/1000\n",
      "1/1 [==============================] - 0s 17ms/stepss: 0.0050 - accuracy: 0.97\n"
     ]
    },
    {
     "name": "stderr",
     "output_type": "stream",
     "text": [
      "Clipping input data to the valid range for imshow with RGB data ([0..1] for floats or [0..255] for integers).\n"
     ]
    },
    {
     "name": "stdout",
     "output_type": "stream",
     "text": [
      "1/1 [==============================] - 0s 108ms/step - loss: 0.0050 - accuracy: 0.9755\n",
      "Epoch 650/1000\n",
      "1/1 [==============================] - 0s 17ms/stepss: 0.0050 - accuracy: 0.97\n"
     ]
    },
    {
     "name": "stderr",
     "output_type": "stream",
     "text": [
      "Clipping input data to the valid range for imshow with RGB data ([0..1] for floats or [0..255] for integers).\n"
     ]
    },
    {
     "name": "stdout",
     "output_type": "stream",
     "text": [
      "1/1 [==============================] - 0s 111ms/step - loss: 0.0050 - accuracy: 0.9757\n",
      "Epoch 651/1000\n",
      "1/1 [==============================] - 0s 16ms/stepss: 0.0049 - accuracy: 0.97\n"
     ]
    },
    {
     "name": "stderr",
     "output_type": "stream",
     "text": [
      "Clipping input data to the valid range for imshow with RGB data ([0..1] for floats or [0..255] for integers).\n"
     ]
    },
    {
     "name": "stdout",
     "output_type": "stream",
     "text": [
      "1/1 [==============================] - 0s 105ms/step - loss: 0.0049 - accuracy: 0.9754\n",
      "Epoch 652/1000\n",
      "1/1 [==============================] - 0s 17ms/stepss: 0.0049 - accuracy: 0.97\n"
     ]
    },
    {
     "name": "stderr",
     "output_type": "stream",
     "text": [
      "Clipping input data to the valid range for imshow with RGB data ([0..1] for floats or [0..255] for integers).\n"
     ]
    },
    {
     "name": "stdout",
     "output_type": "stream",
     "text": [
      "1/1 [==============================] - 0s 107ms/step - loss: 0.0049 - accuracy: 0.9747\n",
      "Epoch 653/1000\n",
      "1/1 [==============================] - 0s 15ms/stepss: 0.0049 - accuracy: 0.97\n"
     ]
    },
    {
     "name": "stderr",
     "output_type": "stream",
     "text": [
      "Clipping input data to the valid range for imshow with RGB data ([0..1] for floats or [0..255] for integers).\n"
     ]
    },
    {
     "name": "stdout",
     "output_type": "stream",
     "text": [
      "1/1 [==============================] - 0s 97ms/step - loss: 0.0049 - accuracy: 0.9747\n",
      "Epoch 654/1000\n",
      "1/1 [==============================] - 0s 17ms/stepss: 0.0049 - accuracy: 0.97\n"
     ]
    },
    {
     "name": "stderr",
     "output_type": "stream",
     "text": [
      "Clipping input data to the valid range for imshow with RGB data ([0..1] for floats or [0..255] for integers).\n"
     ]
    },
    {
     "name": "stdout",
     "output_type": "stream",
     "text": [
      "1/1 [==============================] - 0s 105ms/step - loss: 0.0049 - accuracy: 0.9751\n",
      "Epoch 655/1000\n",
      "1/1 [==============================] - 0s 15ms/stepss: 0.0049 - accuracy: 0.97\n"
     ]
    },
    {
     "name": "stderr",
     "output_type": "stream",
     "text": [
      "Clipping input data to the valid range for imshow with RGB data ([0..1] for floats or [0..255] for integers).\n"
     ]
    },
    {
     "name": "stdout",
     "output_type": "stream",
     "text": [
      "1/1 [==============================] - 0s 98ms/step - loss: 0.0049 - accuracy: 0.9754\n",
      "Epoch 656/1000\n",
      "1/1 [==============================] - 0s 16ms/stepss: 0.0049 - accuracy: 0.97\n"
     ]
    },
    {
     "name": "stderr",
     "output_type": "stream",
     "text": [
      "Clipping input data to the valid range for imshow with RGB data ([0..1] for floats or [0..255] for integers).\n"
     ]
    },
    {
     "name": "stdout",
     "output_type": "stream",
     "text": [
      "1/1 [==============================] - 0s 99ms/step - loss: 0.0049 - accuracy: 0.9751\n",
      "Epoch 657/1000\n",
      "1/1 [==============================] - 0s 17ms/stepss: 0.0049 - accuracy: 0.97\n"
     ]
    },
    {
     "name": "stderr",
     "output_type": "stream",
     "text": [
      "Clipping input data to the valid range for imshow with RGB data ([0..1] for floats or [0..255] for integers).\n"
     ]
    },
    {
     "name": "stdout",
     "output_type": "stream",
     "text": [
      "1/1 [==============================] - 0s 107ms/step - loss: 0.0049 - accuracy: 0.9746\n",
      "Epoch 658/1000\n",
      "1/1 [==============================] - 0s 17ms/stepss: 0.0049 - accuracy: 0.97\n"
     ]
    },
    {
     "name": "stderr",
     "output_type": "stream",
     "text": [
      "Clipping input data to the valid range for imshow with RGB data ([0..1] for floats or [0..255] for integers).\n"
     ]
    },
    {
     "name": "stdout",
     "output_type": "stream",
     "text": [
      "1/1 [==============================] - 0s 106ms/step - loss: 0.0049 - accuracy: 0.9746\n",
      "Epoch 659/1000\n",
      "1/1 [==============================] - 0s 18ms/stepss: 0.0049 - accuracy: 0.97\n"
     ]
    },
    {
     "name": "stderr",
     "output_type": "stream",
     "text": [
      "Clipping input data to the valid range for imshow with RGB data ([0..1] for floats or [0..255] for integers).\n"
     ]
    },
    {
     "name": "stdout",
     "output_type": "stream",
     "text": [
      "1/1 [==============================] - 0s 112ms/step - loss: 0.0049 - accuracy: 0.9744\n",
      "Epoch 660/1000\n",
      "1/1 [==============================] - 0s 15ms/stepss: 0.0049 - accuracy: 0.97\n"
     ]
    },
    {
     "name": "stderr",
     "output_type": "stream",
     "text": [
      "Clipping input data to the valid range for imshow with RGB data ([0..1] for floats or [0..255] for integers).\n"
     ]
    },
    {
     "name": "stdout",
     "output_type": "stream",
     "text": [
      "1/1 [==============================] - 0s 101ms/step - loss: 0.0049 - accuracy: 0.9745\n",
      "Epoch 661/1000\n",
      "1/1 [==============================] - 0s 15ms/stepss: 0.0049 - accuracy: 0.97\n"
     ]
    },
    {
     "name": "stderr",
     "output_type": "stream",
     "text": [
      "Clipping input data to the valid range for imshow with RGB data ([0..1] for floats or [0..255] for integers).\n"
     ]
    },
    {
     "name": "stdout",
     "output_type": "stream",
     "text": [
      "1/1 [==============================] - 0s 103ms/step - loss: 0.0049 - accuracy: 0.9746\n",
      "Epoch 662/1000\n",
      "1/1 [==============================] - 0s 15ms/stepss: 0.0048 - accuracy: 0.97\n"
     ]
    },
    {
     "name": "stderr",
     "output_type": "stream",
     "text": [
      "Clipping input data to the valid range for imshow with RGB data ([0..1] for floats or [0..255] for integers).\n"
     ]
    },
    {
     "name": "stdout",
     "output_type": "stream",
     "text": [
      "1/1 [==============================] - 0s 97ms/step - loss: 0.0048 - accuracy: 0.9749\n",
      "Epoch 663/1000\n",
      "1/1 [==============================] - 0s 14ms/stepss: 0.0048 - accuracy: 0.97\n"
     ]
    },
    {
     "name": "stderr",
     "output_type": "stream",
     "text": [
      "Clipping input data to the valid range for imshow with RGB data ([0..1] for floats or [0..255] for integers).\n"
     ]
    },
    {
     "name": "stdout",
     "output_type": "stream",
     "text": [
      "1/1 [==============================] - 0s 93ms/step - loss: 0.0048 - accuracy: 0.9748\n",
      "Epoch 664/1000\n",
      "1/1 [==============================] - 0s 14ms/stepss: 0.0048 - accuracy: 0.97\n"
     ]
    },
    {
     "name": "stderr",
     "output_type": "stream",
     "text": [
      "Clipping input data to the valid range for imshow with RGB data ([0..1] for floats or [0..255] for integers).\n"
     ]
    },
    {
     "name": "stdout",
     "output_type": "stream",
     "text": [
      "1/1 [==============================] - 0s 98ms/step - loss: 0.0048 - accuracy: 0.9744\n",
      "Epoch 665/1000\n",
      "1/1 [==============================] - 0s 14ms/stepss: 0.0048 - accuracy: 0.97\n"
     ]
    },
    {
     "name": "stderr",
     "output_type": "stream",
     "text": [
      "Clipping input data to the valid range for imshow with RGB data ([0..1] for floats or [0..255] for integers).\n"
     ]
    },
    {
     "name": "stdout",
     "output_type": "stream",
     "text": [
      "1/1 [==============================] - 0s 98ms/step - loss: 0.0048 - accuracy: 0.9741\n",
      "Epoch 666/1000\n",
      "1/1 [==============================] - 0s 15ms/stepss: 0.0048 - accuracy: 0.97\n"
     ]
    },
    {
     "name": "stderr",
     "output_type": "stream",
     "text": [
      "Clipping input data to the valid range for imshow with RGB data ([0..1] for floats or [0..255] for integers).\n"
     ]
    },
    {
     "name": "stdout",
     "output_type": "stream",
     "text": [
      "1/1 [==============================] - 0s 105ms/step - loss: 0.0048 - accuracy: 0.9740\n",
      "Epoch 667/1000\n",
      "1/1 [==============================] - 0s 16ms/stepss: 0.0048 - accuracy: 0.97\n"
     ]
    },
    {
     "name": "stderr",
     "output_type": "stream",
     "text": [
      "Clipping input data to the valid range for imshow with RGB data ([0..1] for floats or [0..255] for integers).\n"
     ]
    },
    {
     "name": "stdout",
     "output_type": "stream",
     "text": [
      "1/1 [==============================] - 0s 98ms/step - loss: 0.0048 - accuracy: 0.9743\n",
      "Epoch 668/1000\n",
      "1/1 [==============================] - 0s 16ms/stepss: 0.0048 - accuracy: 0.97\n"
     ]
    },
    {
     "name": "stderr",
     "output_type": "stream",
     "text": [
      "Clipping input data to the valid range for imshow with RGB data ([0..1] for floats or [0..255] for integers).\n"
     ]
    },
    {
     "name": "stdout",
     "output_type": "stream",
     "text": [
      "1/1 [==============================] - 0s 99ms/step - loss: 0.0048 - accuracy: 0.9742\n",
      "Epoch 669/1000\n",
      "1/1 [==============================] - 0s 16ms/stepss: 0.0049 - accuracy: 0.97\n"
     ]
    },
    {
     "name": "stderr",
     "output_type": "stream",
     "text": [
      "Clipping input data to the valid range for imshow with RGB data ([0..1] for floats or [0..255] for integers).\n"
     ]
    },
    {
     "name": "stdout",
     "output_type": "stream",
     "text": [
      "1/1 [==============================] - 0s 107ms/step - loss: 0.0049 - accuracy: 0.9743\n",
      "Epoch 670/1000\n",
      "1/1 [==============================] - 0s 16ms/stepss: 0.0049 - accuracy: 0.97\n"
     ]
    },
    {
     "name": "stderr",
     "output_type": "stream",
     "text": [
      "Clipping input data to the valid range for imshow with RGB data ([0..1] for floats or [0..255] for integers).\n"
     ]
    },
    {
     "name": "stdout",
     "output_type": "stream",
     "text": [
      "1/1 [==============================] - 0s 104ms/step - loss: 0.0049 - accuracy: 0.9742\n",
      "Epoch 671/1000\n",
      "1/1 [==============================] - 0s 16ms/stepss: 0.0049 - accuracy: 0.97\n"
     ]
    },
    {
     "name": "stderr",
     "output_type": "stream",
     "text": [
      "Clipping input data to the valid range for imshow with RGB data ([0..1] for floats or [0..255] for integers).\n"
     ]
    },
    {
     "name": "stdout",
     "output_type": "stream",
     "text": [
      "1/1 [==============================] - 0s 110ms/step - loss: 0.0049 - accuracy: 0.9743\n",
      "Epoch 672/1000\n",
      "1/1 [==============================] - 0s 15ms/stepss: 0.0049 - accuracy: 0.97\n"
     ]
    },
    {
     "name": "stderr",
     "output_type": "stream",
     "text": [
      "Clipping input data to the valid range for imshow with RGB data ([0..1] for floats or [0..255] for integers).\n"
     ]
    },
    {
     "name": "stdout",
     "output_type": "stream",
     "text": [
      "1/1 [==============================] - 0s 96ms/step - loss: 0.0049 - accuracy: 0.9743\n",
      "Epoch 673/1000\n",
      "1/1 [==============================] - 0s 16ms/stepss: 0.0050 - accuracy: 0.97\n"
     ]
    },
    {
     "name": "stderr",
     "output_type": "stream",
     "text": [
      "Clipping input data to the valid range for imshow with RGB data ([0..1] for floats or [0..255] for integers).\n"
     ]
    },
    {
     "name": "stdout",
     "output_type": "stream",
     "text": [
      "1/1 [==============================] - 0s 99ms/step - loss: 0.0050 - accuracy: 0.9740\n",
      "Epoch 674/1000\n",
      "1/1 [==============================] - 0s 15ms/stepss: 0.0051 - accuracy: 0.97\n"
     ]
    },
    {
     "name": "stderr",
     "output_type": "stream",
     "text": [
      "Clipping input data to the valid range for imshow with RGB data ([0..1] for floats or [0..255] for integers).\n"
     ]
    },
    {
     "name": "stdout",
     "output_type": "stream",
     "text": [
      "1/1 [==============================] - 0s 97ms/step - loss: 0.0051 - accuracy: 0.9742\n",
      "Epoch 675/1000\n",
      "1/1 [==============================] - 0s 15ms/stepss: 0.0054 - accuracy: 0.97\n"
     ]
    },
    {
     "name": "stderr",
     "output_type": "stream",
     "text": [
      "Clipping input data to the valid range for imshow with RGB data ([0..1] for floats or [0..255] for integers).\n"
     ]
    },
    {
     "name": "stdout",
     "output_type": "stream",
     "text": [
      "1/1 [==============================] - 0s 98ms/step - loss: 0.0054 - accuracy: 0.9738\n",
      "Epoch 676/1000\n",
      "1/1 [==============================] - 0s 16ms/stepss: 0.0055 - accuracy: 0.97\n"
     ]
    },
    {
     "name": "stderr",
     "output_type": "stream",
     "text": [
      "Clipping input data to the valid range for imshow with RGB data ([0..1] for floats or [0..255] for integers).\n"
     ]
    },
    {
     "name": "stdout",
     "output_type": "stream",
     "text": [
      "1/1 [==============================] - 0s 105ms/step - loss: 0.0055 - accuracy: 0.9737\n",
      "Epoch 677/1000\n",
      "1/1 [==============================] - 0s 15ms/stepss: 0.0057 - accuracy: 0.97\n"
     ]
    },
    {
     "name": "stderr",
     "output_type": "stream",
     "text": [
      "Clipping input data to the valid range for imshow with RGB data ([0..1] for floats or [0..255] for integers).\n"
     ]
    },
    {
     "name": "stdout",
     "output_type": "stream",
     "text": [
      "1/1 [==============================] - 0s 96ms/step - loss: 0.0057 - accuracy: 0.9743\n",
      "Epoch 678/1000\n",
      "1/1 [==============================] - 0s 15ms/stepss: 0.0055 - accuracy: 0.97\n"
     ]
    },
    {
     "name": "stderr",
     "output_type": "stream",
     "text": [
      "Clipping input data to the valid range for imshow with RGB data ([0..1] for floats or [0..255] for integers).\n"
     ]
    },
    {
     "name": "stdout",
     "output_type": "stream",
     "text": [
      "1/1 [==============================] - 0s 99ms/step - loss: 0.0055 - accuracy: 0.9752\n",
      "Epoch 679/1000\n",
      "1/1 [==============================] - 0s 16ms/stepss: 0.0053 - accuracy: 0.97\n"
     ]
    },
    {
     "name": "stderr",
     "output_type": "stream",
     "text": [
      "Clipping input data to the valid range for imshow with RGB data ([0..1] for floats or [0..255] for integers).\n"
     ]
    },
    {
     "name": "stdout",
     "output_type": "stream",
     "text": [
      "1/1 [==============================] - 0s 98ms/step - loss: 0.0053 - accuracy: 0.9749\n",
      "Epoch 680/1000\n",
      "1/1 [==============================] - 0s 16ms/stepss: 0.0049 - accuracy: 0.97\n"
     ]
    },
    {
     "name": "stderr",
     "output_type": "stream",
     "text": [
      "Clipping input data to the valid range for imshow with RGB data ([0..1] for floats or [0..255] for integers).\n"
     ]
    },
    {
     "name": "stdout",
     "output_type": "stream",
     "text": [
      "1/1 [==============================] - 0s 104ms/step - loss: 0.0049 - accuracy: 0.9737\n",
      "Epoch 681/1000\n",
      "1/1 [==============================] - 0s 17ms/stepss: 0.0048 - accuracy: 0.97\n"
     ]
    },
    {
     "name": "stderr",
     "output_type": "stream",
     "text": [
      "Clipping input data to the valid range for imshow with RGB data ([0..1] for floats or [0..255] for integers).\n"
     ]
    },
    {
     "name": "stdout",
     "output_type": "stream",
     "text": [
      "1/1 [==============================] - 0s 110ms/step - loss: 0.0048 - accuracy: 0.9744\n",
      "Epoch 682/1000\n",
      "1/1 [==============================] - 0s 16ms/stepss: 0.0049 - accuracy: 0.97\n"
     ]
    },
    {
     "name": "stderr",
     "output_type": "stream",
     "text": [
      "Clipping input data to the valid range for imshow with RGB data ([0..1] for floats or [0..255] for integers).\n"
     ]
    },
    {
     "name": "stdout",
     "output_type": "stream",
     "text": [
      "1/1 [==============================] - 0s 104ms/step - loss: 0.0049 - accuracy: 0.9760\n",
      "Epoch 683/1000\n",
      "1/1 [==============================] - 0s 16ms/stepss: 0.0051 - accuracy: 0.97\n"
     ]
    },
    {
     "name": "stderr",
     "output_type": "stream",
     "text": [
      "Clipping input data to the valid range for imshow with RGB data ([0..1] for floats or [0..255] for integers).\n"
     ]
    },
    {
     "name": "stdout",
     "output_type": "stream",
     "text": [
      "1/1 [==============================] - 0s 103ms/step - loss: 0.0051 - accuracy: 0.9759\n",
      "Epoch 684/1000\n",
      "1/1 [==============================] - 0s 16ms/stepss: 0.0051 - accuracy: 0.97\n"
     ]
    },
    {
     "name": "stderr",
     "output_type": "stream",
     "text": [
      "Clipping input data to the valid range for imshow with RGB data ([0..1] for floats or [0..255] for integers).\n"
     ]
    },
    {
     "name": "stdout",
     "output_type": "stream",
     "text": [
      "1/1 [==============================] - 0s 103ms/step - loss: 0.0051 - accuracy: 0.9744\n",
      "Epoch 685/1000\n",
      "1/1 [==============================] - 0s 16ms/stepss: 0.0050 - accuracy: 0.97\n"
     ]
    },
    {
     "name": "stderr",
     "output_type": "stream",
     "text": [
      "Clipping input data to the valid range for imshow with RGB data ([0..1] for floats or [0..255] for integers).\n"
     ]
    },
    {
     "name": "stdout",
     "output_type": "stream",
     "text": [
      "1/1 [==============================] - 0s 98ms/step - loss: 0.0050 - accuracy: 0.9738\n",
      "Epoch 686/1000\n",
      "1/1 [==============================] - 0s 18ms/stepss: 0.0048 - accuracy: 0.97\n"
     ]
    },
    {
     "name": "stderr",
     "output_type": "stream",
     "text": [
      "Clipping input data to the valid range for imshow with RGB data ([0..1] for floats or [0..255] for integers).\n"
     ]
    },
    {
     "name": "stdout",
     "output_type": "stream",
     "text": [
      "1/1 [==============================] - 0s 101ms/step - loss: 0.0048 - accuracy: 0.9750\n",
      "Epoch 687/1000\n",
      "1/1 [==============================] - 0s 15ms/stepss: 0.0048 - accuracy: 0.97\n"
     ]
    },
    {
     "name": "stderr",
     "output_type": "stream",
     "text": [
      "Clipping input data to the valid range for imshow with RGB data ([0..1] for floats or [0..255] for integers).\n"
     ]
    },
    {
     "name": "stdout",
     "output_type": "stream",
     "text": [
      "1/1 [==============================] - 0s 97ms/step - loss: 0.0048 - accuracy: 0.9757\n",
      "Epoch 688/1000\n",
      "1/1 [==============================] - 0s 13ms/stepss: 0.0048 - accuracy: 0.97\n"
     ]
    },
    {
     "name": "stderr",
     "output_type": "stream",
     "text": [
      "Clipping input data to the valid range for imshow with RGB data ([0..1] for floats or [0..255] for integers).\n"
     ]
    },
    {
     "name": "stdout",
     "output_type": "stream",
     "text": [
      "1/1 [==============================] - 0s 94ms/step - loss: 0.0048 - accuracy: 0.9747\n",
      "Epoch 689/1000\n",
      "1/1 [==============================] - 0s 14ms/stepss: 0.0049 - accuracy: 0.97\n"
     ]
    },
    {
     "name": "stderr",
     "output_type": "stream",
     "text": [
      "Clipping input data to the valid range for imshow with RGB data ([0..1] for floats or [0..255] for integers).\n"
     ]
    },
    {
     "name": "stdout",
     "output_type": "stream",
     "text": [
      "1/1 [==============================] - 1s 748ms/step - loss: 0.0049 - accuracy: 0.9742\n",
      "Epoch 690/1000\n",
      "1/1 [==============================] - 0s 16ms/stepss: 0.0049 - accuracy: 0.97\n"
     ]
    },
    {
     "name": "stderr",
     "output_type": "stream",
     "text": [
      "Clipping input data to the valid range for imshow with RGB data ([0..1] for floats or [0..255] for integers).\n"
     ]
    },
    {
     "name": "stdout",
     "output_type": "stream",
     "text": [
      "1/1 [==============================] - 0s 102ms/step - loss: 0.0049 - accuracy: 0.9747\n",
      "Epoch 691/1000\n",
      "1/1 [==============================] - 0s 14ms/stepss: 0.0049 - accuracy: 0.97\n"
     ]
    },
    {
     "name": "stderr",
     "output_type": "stream",
     "text": [
      "Clipping input data to the valid range for imshow with RGB data ([0..1] for floats or [0..255] for integers).\n"
     ]
    },
    {
     "name": "stdout",
     "output_type": "stream",
     "text": [
      "1/1 [==============================] - 0s 100ms/step - loss: 0.0049 - accuracy: 0.9752\n",
      "Epoch 692/1000\n",
      "1/1 [==============================] - 0s 15ms/stepss: 0.0048 - accuracy: 0.97\n"
     ]
    },
    {
     "name": "stderr",
     "output_type": "stream",
     "text": [
      "Clipping input data to the valid range for imshow with RGB data ([0..1] for floats or [0..255] for integers).\n"
     ]
    },
    {
     "name": "stdout",
     "output_type": "stream",
     "text": [
      "1/1 [==============================] - 0s 98ms/step - loss: 0.0048 - accuracy: 0.9749\n",
      "Epoch 693/1000\n",
      "1/1 [==============================] - 0s 14ms/stepss: 0.0047 - accuracy: 0.97\n"
     ]
    },
    {
     "name": "stderr",
     "output_type": "stream",
     "text": [
      "Clipping input data to the valid range for imshow with RGB data ([0..1] for floats or [0..255] for integers).\n"
     ]
    },
    {
     "name": "stdout",
     "output_type": "stream",
     "text": [
      "1/1 [==============================] - 0s 97ms/step - loss: 0.0047 - accuracy: 0.9740\n",
      "Epoch 694/1000\n",
      "1/1 [==============================] - 0s 16ms/stepss: 0.0047 - accuracy: 0.97\n"
     ]
    },
    {
     "name": "stderr",
     "output_type": "stream",
     "text": [
      "Clipping input data to the valid range for imshow with RGB data ([0..1] for floats or [0..255] for integers).\n"
     ]
    },
    {
     "name": "stdout",
     "output_type": "stream",
     "text": [
      "1/1 [==============================] - 0s 101ms/step - loss: 0.0047 - accuracy: 0.9743\n",
      "Epoch 695/1000\n",
      "1/1 [==============================] - 0s 14ms/stepss: 0.0048 - accuracy: 0.97\n"
     ]
    },
    {
     "name": "stderr",
     "output_type": "stream",
     "text": [
      "Clipping input data to the valid range for imshow with RGB data ([0..1] for floats or [0..255] for integers).\n"
     ]
    },
    {
     "name": "stdout",
     "output_type": "stream",
     "text": [
      "1/1 [==============================] - 0s 101ms/step - loss: 0.0048 - accuracy: 0.9747\n",
      "Epoch 696/1000\n",
      "1/1 [==============================] - 0s 15ms/stepss: 0.0048 - accuracy: 0.97\n"
     ]
    },
    {
     "name": "stderr",
     "output_type": "stream",
     "text": [
      "Clipping input data to the valid range for imshow with RGB data ([0..1] for floats or [0..255] for integers).\n"
     ]
    },
    {
     "name": "stdout",
     "output_type": "stream",
     "text": [
      "1/1 [==============================] - 0s 99ms/step - loss: 0.0048 - accuracy: 0.9746\n",
      "Epoch 697/1000\n",
      "1/1 [==============================] - 0s 15ms/stepss: 0.0048 - accuracy: 0.97\n"
     ]
    },
    {
     "name": "stderr",
     "output_type": "stream",
     "text": [
      "Clipping input data to the valid range for imshow with RGB data ([0..1] for floats or [0..255] for integers).\n"
     ]
    },
    {
     "name": "stdout",
     "output_type": "stream",
     "text": [
      "1/1 [==============================] - 0s 96ms/step - loss: 0.0048 - accuracy: 0.9743\n",
      "Epoch 698/1000\n",
      "1/1 [==============================] - 0s 14ms/stepss: 0.0048 - accuracy: 0.97\n"
     ]
    },
    {
     "name": "stderr",
     "output_type": "stream",
     "text": [
      "Clipping input data to the valid range for imshow with RGB data ([0..1] for floats or [0..255] for integers).\n"
     ]
    },
    {
     "name": "stdout",
     "output_type": "stream",
     "text": [
      "1/1 [==============================] - 0s 96ms/step - loss: 0.0048 - accuracy: 0.9741\n",
      "Epoch 699/1000\n",
      "1/1 [==============================] - 0s 15ms/stepss: 0.0047 - accuracy: 0.97\n"
     ]
    },
    {
     "name": "stderr",
     "output_type": "stream",
     "text": [
      "Clipping input data to the valid range for imshow with RGB data ([0..1] for floats or [0..255] for integers).\n"
     ]
    },
    {
     "name": "stdout",
     "output_type": "stream",
     "text": [
      "1/1 [==============================] - 0s 99ms/step - loss: 0.0047 - accuracy: 0.9745\n",
      "Epoch 700/1000\n",
      "1/1 [==============================] - 0s 15ms/stepss: 0.0047 - accuracy: 0.97\n"
     ]
    },
    {
     "name": "stderr",
     "output_type": "stream",
     "text": [
      "Clipping input data to the valid range for imshow with RGB data ([0..1] for floats or [0..255] for integers).\n"
     ]
    },
    {
     "name": "stdout",
     "output_type": "stream",
     "text": [
      "1/1 [==============================] - 0s 94ms/step - loss: 0.0047 - accuracy: 0.9742\n",
      "Epoch 701/1000\n",
      "1/1 [==============================] - 0s 16ms/stepss: 0.0047 - accuracy: 0.97\n"
     ]
    },
    {
     "name": "stderr",
     "output_type": "stream",
     "text": [
      "Clipping input data to the valid range for imshow with RGB data ([0..1] for floats or [0..255] for integers).\n"
     ]
    },
    {
     "name": "stdout",
     "output_type": "stream",
     "text": [
      "1/1 [==============================] - 0s 103ms/step - loss: 0.0047 - accuracy: 0.9738\n",
      "Epoch 702/1000\n",
      "1/1 [==============================] - 0s 16ms/stepss: 0.0047 - accuracy: 0.97\n"
     ]
    },
    {
     "name": "stderr",
     "output_type": "stream",
     "text": [
      "Clipping input data to the valid range for imshow with RGB data ([0..1] for floats or [0..255] for integers).\n"
     ]
    },
    {
     "name": "stdout",
     "output_type": "stream",
     "text": [
      "1/1 [==============================] - 0s 105ms/step - loss: 0.0047 - accuracy: 0.9740\n",
      "Epoch 703/1000\n",
      "1/1 [==============================] - 0s 16ms/stepss: 0.0047 - accuracy: 0.97\n"
     ]
    },
    {
     "name": "stderr",
     "output_type": "stream",
     "text": [
      "Clipping input data to the valid range for imshow with RGB data ([0..1] for floats or [0..255] for integers).\n"
     ]
    },
    {
     "name": "stdout",
     "output_type": "stream",
     "text": [
      "1/1 [==============================] - 0s 104ms/step - loss: 0.0047 - accuracy: 0.9743\n",
      "Epoch 704/1000\n",
      "1/1 [==============================] - 0s 17ms/stepss: 0.0047 - accuracy: 0.97\n"
     ]
    },
    {
     "name": "stderr",
     "output_type": "stream",
     "text": [
      "Clipping input data to the valid range for imshow with RGB data ([0..1] for floats or [0..255] for integers).\n"
     ]
    },
    {
     "name": "stdout",
     "output_type": "stream",
     "text": [
      "1/1 [==============================] - 0s 110ms/step - loss: 0.0047 - accuracy: 0.9741\n",
      "Epoch 705/1000\n",
      "1/1 [==============================] - 0s 16ms/stepss: 0.0047 - accuracy: 0.97\n"
     ]
    },
    {
     "name": "stderr",
     "output_type": "stream",
     "text": [
      "Clipping input data to the valid range for imshow with RGB data ([0..1] for floats or [0..255] for integers).\n"
     ]
    },
    {
     "name": "stdout",
     "output_type": "stream",
     "text": [
      "1/1 [==============================] - 0s 103ms/step - loss: 0.0047 - accuracy: 0.9736\n",
      "Epoch 706/1000\n",
      "1/1 [==============================] - 0s 14ms/stepss: 0.0047 - accuracy: 0.97\n"
     ]
    },
    {
     "name": "stderr",
     "output_type": "stream",
     "text": [
      "Clipping input data to the valid range for imshow with RGB data ([0..1] for floats or [0..255] for integers).\n"
     ]
    },
    {
     "name": "stdout",
     "output_type": "stream",
     "text": [
      "1/1 [==============================] - 0s 96ms/step - loss: 0.0047 - accuracy: 0.9736\n",
      "Epoch 707/1000\n",
      "1/1 [==============================] - 0s 17ms/stepss: 0.0047 - accuracy: 0.97\n"
     ]
    },
    {
     "name": "stderr",
     "output_type": "stream",
     "text": [
      "Clipping input data to the valid range for imshow with RGB data ([0..1] for floats or [0..255] for integers).\n"
     ]
    },
    {
     "name": "stdout",
     "output_type": "stream",
     "text": [
      "1/1 [==============================] - 0s 106ms/step - loss: 0.0047 - accuracy: 0.9735\n",
      "Epoch 708/1000\n",
      "1/1 [==============================] - 0s 15ms/stepss: 0.0047 - accuracy: 0.97\n"
     ]
    },
    {
     "name": "stderr",
     "output_type": "stream",
     "text": [
      "Clipping input data to the valid range for imshow with RGB data ([0..1] for floats or [0..255] for integers).\n"
     ]
    },
    {
     "name": "stdout",
     "output_type": "stream",
     "text": [
      "1/1 [==============================] - 0s 104ms/step - loss: 0.0047 - accuracy: 0.9735\n",
      "Epoch 709/1000\n",
      "1/1 [==============================] - 0s 16ms/stepss: 0.0047 - accuracy: 0.97\n"
     ]
    },
    {
     "name": "stderr",
     "output_type": "stream",
     "text": [
      "Clipping input data to the valid range for imshow with RGB data ([0..1] for floats or [0..255] for integers).\n"
     ]
    },
    {
     "name": "stdout",
     "output_type": "stream",
     "text": [
      "1/1 [==============================] - 0s 109ms/step - loss: 0.0047 - accuracy: 0.9731\n",
      "Epoch 710/1000\n",
      "1/1 [==============================] - 0s 17ms/stepss: 0.0047 - accuracy: 0.97\n"
     ]
    },
    {
     "name": "stderr",
     "output_type": "stream",
     "text": [
      "Clipping input data to the valid range for imshow with RGB data ([0..1] for floats or [0..255] for integers).\n"
     ]
    },
    {
     "name": "stdout",
     "output_type": "stream",
     "text": [
      "1/1 [==============================] - 0s 101ms/step - loss: 0.0047 - accuracy: 0.9732\n",
      "Epoch 711/1000\n",
      "1/1 [==============================] - 0s 15ms/stepss: 0.0047 - accuracy: 0.97\n"
     ]
    },
    {
     "name": "stderr",
     "output_type": "stream",
     "text": [
      "Clipping input data to the valid range for imshow with RGB data ([0..1] for floats or [0..255] for integers).\n"
     ]
    },
    {
     "name": "stdout",
     "output_type": "stream",
     "text": [
      "1/1 [==============================] - 0s 103ms/step - loss: 0.0047 - accuracy: 0.9738\n",
      "Epoch 712/1000\n",
      "1/1 [==============================] - 0s 20ms/stepss: 0.0047 - accuracy: 0.97\n"
     ]
    },
    {
     "name": "stderr",
     "output_type": "stream",
     "text": [
      "Clipping input data to the valid range for imshow with RGB data ([0..1] for floats or [0..255] for integers).\n"
     ]
    },
    {
     "name": "stdout",
     "output_type": "stream",
     "text": [
      "1/1 [==============================] - 0s 111ms/step - loss: 0.0047 - accuracy: 0.9737\n",
      "Epoch 713/1000\n",
      "1/1 [==============================] - 0s 16ms/stepss: 0.0047 - accuracy: 0.97\n"
     ]
    },
    {
     "name": "stderr",
     "output_type": "stream",
     "text": [
      "Clipping input data to the valid range for imshow with RGB data ([0..1] for floats or [0..255] for integers).\n"
     ]
    },
    {
     "name": "stdout",
     "output_type": "stream",
     "text": [
      "1/1 [==============================] - 0s 105ms/step - loss: 0.0047 - accuracy: 0.9732\n",
      "Epoch 714/1000\n",
      "1/1 [==============================] - 0s 18ms/stepss: 0.0047 - accuracy: 0.97\n"
     ]
    },
    {
     "name": "stderr",
     "output_type": "stream",
     "text": [
      "Clipping input data to the valid range for imshow with RGB data ([0..1] for floats or [0..255] for integers).\n"
     ]
    },
    {
     "name": "stdout",
     "output_type": "stream",
     "text": [
      "1/1 [==============================] - 0s 110ms/step - loss: 0.0047 - accuracy: 0.9729\n",
      "Epoch 715/1000\n",
      "1/1 [==============================] - 0s 16ms/stepss: 0.0047 - accuracy: 0.97\n"
     ]
    },
    {
     "name": "stderr",
     "output_type": "stream",
     "text": [
      "Clipping input data to the valid range for imshow with RGB data ([0..1] for floats or [0..255] for integers).\n"
     ]
    },
    {
     "name": "stdout",
     "output_type": "stream",
     "text": [
      "1/1 [==============================] - 0s 100ms/step - loss: 0.0047 - accuracy: 0.9731\n",
      "Epoch 716/1000\n",
      "1/1 [==============================] - 0s 16ms/stepss: 0.0047 - accuracy: 0.97\n"
     ]
    },
    {
     "name": "stderr",
     "output_type": "stream",
     "text": [
      "Clipping input data to the valid range for imshow with RGB data ([0..1] for floats or [0..255] for integers).\n"
     ]
    },
    {
     "name": "stdout",
     "output_type": "stream",
     "text": [
      "1/1 [==============================] - 0s 106ms/step - loss: 0.0047 - accuracy: 0.9735\n",
      "Epoch 717/1000\n",
      "1/1 [==============================] - 0s 15ms/stepss: 0.0047 - accuracy: 0.97\n"
     ]
    },
    {
     "name": "stderr",
     "output_type": "stream",
     "text": [
      "Clipping input data to the valid range for imshow with RGB data ([0..1] for floats or [0..255] for integers).\n"
     ]
    },
    {
     "name": "stdout",
     "output_type": "stream",
     "text": [
      "1/1 [==============================] - 0s 105ms/step - loss: 0.0047 - accuracy: 0.9734\n",
      "Epoch 718/1000\n",
      "1/1 [==============================] - 0s 17ms/stepss: 0.0047 - accuracy: 0.97\n"
     ]
    },
    {
     "name": "stderr",
     "output_type": "stream",
     "text": [
      "Clipping input data to the valid range for imshow with RGB data ([0..1] for floats or [0..255] for integers).\n"
     ]
    },
    {
     "name": "stdout",
     "output_type": "stream",
     "text": [
      "1/1 [==============================] - 0s 102ms/step - loss: 0.0047 - accuracy: 0.9733\n",
      "Epoch 719/1000\n",
      "1/1 [==============================] - 0s 18ms/stepss: 0.0048 - accuracy: 0.97\n"
     ]
    },
    {
     "name": "stderr",
     "output_type": "stream",
     "text": [
      "Clipping input data to the valid range for imshow with RGB data ([0..1] for floats or [0..255] for integers).\n"
     ]
    },
    {
     "name": "stdout",
     "output_type": "stream",
     "text": [
      "1/1 [==============================] - 0s 102ms/step - loss: 0.0048 - accuracy: 0.9731\n",
      "Epoch 720/1000\n",
      "1/1 [==============================] - 0s 17ms/stepss: 0.0049 - accuracy: 0.97\n"
     ]
    },
    {
     "name": "stderr",
     "output_type": "stream",
     "text": [
      "Clipping input data to the valid range for imshow with RGB data ([0..1] for floats or [0..255] for integers).\n"
     ]
    },
    {
     "name": "stdout",
     "output_type": "stream",
     "text": [
      "1/1 [==============================] - 0s 108ms/step - loss: 0.0049 - accuracy: 0.9731\n",
      "Epoch 721/1000\n",
      "1/1 [==============================] - 0s 21ms/stepss: 0.0049 - accuracy: 0.97\n"
     ]
    },
    {
     "name": "stderr",
     "output_type": "stream",
     "text": [
      "Clipping input data to the valid range for imshow with RGB data ([0..1] for floats or [0..255] for integers).\n"
     ]
    },
    {
     "name": "stdout",
     "output_type": "stream",
     "text": [
      "1/1 [==============================] - 0s 113ms/step - loss: 0.0049 - accuracy: 0.9731\n",
      "Epoch 722/1000\n",
      "1/1 [==============================] - 0s 16ms/stepss: 0.0051 - accuracy: 0.97\n"
     ]
    },
    {
     "name": "stderr",
     "output_type": "stream",
     "text": [
      "Clipping input data to the valid range for imshow with RGB data ([0..1] for floats or [0..255] for integers).\n"
     ]
    },
    {
     "name": "stdout",
     "output_type": "stream",
     "text": [
      "1/1 [==============================] - 0s 107ms/step - loss: 0.0051 - accuracy: 0.9734\n",
      "Epoch 723/1000\n",
      "1/1 [==============================] - 0s 16ms/stepss: 0.0052 - accuracy: 0.97\n"
     ]
    },
    {
     "name": "stderr",
     "output_type": "stream",
     "text": [
      "Clipping input data to the valid range for imshow with RGB data ([0..1] for floats or [0..255] for integers).\n"
     ]
    },
    {
     "name": "stdout",
     "output_type": "stream",
     "text": [
      "1/1 [==============================] - 0s 104ms/step - loss: 0.0052 - accuracy: 0.9734\n",
      "Epoch 724/1000\n",
      "1/1 [==============================] - 0s 15ms/stepss: 0.0053 - accuracy: 0.97\n"
     ]
    },
    {
     "name": "stderr",
     "output_type": "stream",
     "text": [
      "Clipping input data to the valid range for imshow with RGB data ([0..1] for floats or [0..255] for integers).\n"
     ]
    },
    {
     "name": "stdout",
     "output_type": "stream",
     "text": [
      "1/1 [==============================] - 0s 102ms/step - loss: 0.0053 - accuracy: 0.9732\n",
      "Epoch 725/1000\n",
      "1/1 [==============================] - 0s 16ms/stepss: 0.0052 - accuracy: 0.97\n"
     ]
    },
    {
     "name": "stderr",
     "output_type": "stream",
     "text": [
      "Clipping input data to the valid range for imshow with RGB data ([0..1] for floats or [0..255] for integers).\n"
     ]
    },
    {
     "name": "stdout",
     "output_type": "stream",
     "text": [
      "1/1 [==============================] - 0s 99ms/step - loss: 0.0052 - accuracy: 0.9732\n",
      "Epoch 726/1000\n",
      "1/1 [==============================] - 0s 16ms/stepss: 0.0050 - accuracy: 0.97\n"
     ]
    },
    {
     "name": "stderr",
     "output_type": "stream",
     "text": [
      "Clipping input data to the valid range for imshow with RGB data ([0..1] for floats or [0..255] for integers).\n"
     ]
    },
    {
     "name": "stdout",
     "output_type": "stream",
     "text": [
      "1/1 [==============================] - 0s 106ms/step - loss: 0.0050 - accuracy: 0.9743\n",
      "Epoch 727/1000\n",
      "1/1 [==============================] - 0s 16ms/stepss: 0.0047 - accuracy: 0.97\n"
     ]
    },
    {
     "name": "stderr",
     "output_type": "stream",
     "text": [
      "Clipping input data to the valid range for imshow with RGB data ([0..1] for floats or [0..255] for integers).\n"
     ]
    },
    {
     "name": "stdout",
     "output_type": "stream",
     "text": [
      "1/1 [==============================] - 0s 100ms/step - loss: 0.0047 - accuracy: 0.9743\n",
      "Epoch 728/1000\n",
      "1/1 [==============================] - 0s 15ms/stepss: 0.0046 - accuracy: 0.97\n"
     ]
    },
    {
     "name": "stderr",
     "output_type": "stream",
     "text": [
      "Clipping input data to the valid range for imshow with RGB data ([0..1] for floats or [0..255] for integers).\n"
     ]
    },
    {
     "name": "stdout",
     "output_type": "stream",
     "text": [
      "1/1 [==============================] - 0s 98ms/step - loss: 0.0046 - accuracy: 0.9737\n",
      "Epoch 729/1000\n",
      "1/1 [==============================] - 0s 16ms/stepss: 0.0046 - accuracy: 0.97\n"
     ]
    },
    {
     "name": "stderr",
     "output_type": "stream",
     "text": [
      "Clipping input data to the valid range for imshow with RGB data ([0..1] for floats or [0..255] for integers).\n"
     ]
    },
    {
     "name": "stdout",
     "output_type": "stream",
     "text": [
      "1/1 [==============================] - 0s 98ms/step - loss: 0.0046 - accuracy: 0.9738\n",
      "Epoch 730/1000\n",
      "1/1 [==============================] - 0s 14ms/stepss: 0.0048 - accuracy: 0.97\n"
     ]
    },
    {
     "name": "stderr",
     "output_type": "stream",
     "text": [
      "Clipping input data to the valid range for imshow with RGB data ([0..1] for floats or [0..255] for integers).\n"
     ]
    },
    {
     "name": "stdout",
     "output_type": "stream",
     "text": [
      "1/1 [==============================] - 0s 93ms/step - loss: 0.0048 - accuracy: 0.9740\n",
      "Epoch 731/1000\n",
      "1/1 [==============================] - 0s 15ms/stepss: 0.0049 - accuracy: 0.97\n"
     ]
    },
    {
     "name": "stderr",
     "output_type": "stream",
     "text": [
      "Clipping input data to the valid range for imshow with RGB data ([0..1] for floats or [0..255] for integers).\n"
     ]
    },
    {
     "name": "stdout",
     "output_type": "stream",
     "text": [
      "1/1 [==============================] - 0s 94ms/step - loss: 0.0049 - accuracy: 0.9742\n",
      "Epoch 732/1000\n",
      "1/1 [==============================] - 0s 14ms/stepss: 0.0048 - accuracy: 0.97\n"
     ]
    },
    {
     "name": "stderr",
     "output_type": "stream",
     "text": [
      "Clipping input data to the valid range for imshow with RGB data ([0..1] for floats or [0..255] for integers).\n"
     ]
    },
    {
     "name": "stdout",
     "output_type": "stream",
     "text": [
      "1/1 [==============================] - 0s 99ms/step - loss: 0.0048 - accuracy: 0.9739\n",
      "Epoch 733/1000\n",
      "1/1 [==============================] - 0s 17ms/stepss: 0.0047 - accuracy: 0.97\n"
     ]
    },
    {
     "name": "stderr",
     "output_type": "stream",
     "text": [
      "Clipping input data to the valid range for imshow with RGB data ([0..1] for floats or [0..255] for integers).\n"
     ]
    },
    {
     "name": "stdout",
     "output_type": "stream",
     "text": [
      "1/1 [==============================] - 0s 112ms/step - loss: 0.0047 - accuracy: 0.9738\n",
      "Epoch 734/1000\n",
      "1/1 [==============================] - 0s 14ms/stepss: 0.0046 - accuracy: 0.97\n"
     ]
    },
    {
     "name": "stderr",
     "output_type": "stream",
     "text": [
      "Clipping input data to the valid range for imshow with RGB data ([0..1] for floats or [0..255] for integers).\n"
     ]
    },
    {
     "name": "stdout",
     "output_type": "stream",
     "text": [
      "1/1 [==============================] - 0s 99ms/step - loss: 0.0046 - accuracy: 0.9738\n",
      "Epoch 735/1000\n",
      "1/1 [==============================] - 0s 15ms/stepss: 0.0046 - accuracy: 0.97\n"
     ]
    },
    {
     "name": "stderr",
     "output_type": "stream",
     "text": [
      "Clipping input data to the valid range for imshow with RGB data ([0..1] for floats or [0..255] for integers).\n"
     ]
    },
    {
     "name": "stdout",
     "output_type": "stream",
     "text": [
      "1/1 [==============================] - 0s 97ms/step - loss: 0.0046 - accuracy: 0.9739\n",
      "Epoch 736/1000\n",
      "1/1 [==============================] - 0s 15ms/stepss: 0.0046 - accuracy: 0.97\n"
     ]
    },
    {
     "name": "stderr",
     "output_type": "stream",
     "text": [
      "Clipping input data to the valid range for imshow with RGB data ([0..1] for floats or [0..255] for integers).\n"
     ]
    },
    {
     "name": "stdout",
     "output_type": "stream",
     "text": [
      "1/1 [==============================] - 0s 101ms/step - loss: 0.0046 - accuracy: 0.9738\n",
      "Epoch 737/1000\n",
      "1/1 [==============================] - 0s 16ms/stepss: 0.0047 - accuracy: 0.97\n"
     ]
    },
    {
     "name": "stderr",
     "output_type": "stream",
     "text": [
      "Clipping input data to the valid range for imshow with RGB data ([0..1] for floats or [0..255] for integers).\n"
     ]
    },
    {
     "name": "stdout",
     "output_type": "stream",
     "text": [
      "1/1 [==============================] - 0s 99ms/step - loss: 0.0047 - accuracy: 0.9738\n",
      "Epoch 738/1000\n",
      "1/1 [==============================] - 0s 15ms/stepss: 0.0047 - accuracy: 0.97\n"
     ]
    },
    {
     "name": "stderr",
     "output_type": "stream",
     "text": [
      "Clipping input data to the valid range for imshow with RGB data ([0..1] for floats or [0..255] for integers).\n"
     ]
    },
    {
     "name": "stdout",
     "output_type": "stream",
     "text": [
      "1/1 [==============================] - 0s 101ms/step - loss: 0.0047 - accuracy: 0.9736\n",
      "Epoch 739/1000\n",
      "1/1 [==============================] - 0s 15ms/stepss: 0.0047 - accuracy: 0.97\n"
     ]
    },
    {
     "name": "stderr",
     "output_type": "stream",
     "text": [
      "Clipping input data to the valid range for imshow with RGB data ([0..1] for floats or [0..255] for integers).\n"
     ]
    },
    {
     "name": "stdout",
     "output_type": "stream",
     "text": [
      "1/1 [==============================] - 0s 97ms/step - loss: 0.0047 - accuracy: 0.9736\n",
      "Epoch 740/1000\n",
      "1/1 [==============================] - 0s 14ms/stepss: 0.0046 - accuracy: 0.97\n"
     ]
    },
    {
     "name": "stderr",
     "output_type": "stream",
     "text": [
      "Clipping input data to the valid range for imshow with RGB data ([0..1] for floats or [0..255] for integers).\n"
     ]
    },
    {
     "name": "stdout",
     "output_type": "stream",
     "text": [
      "1/1 [==============================] - 0s 97ms/step - loss: 0.0046 - accuracy: 0.9734\n",
      "Epoch 741/1000\n",
      "1/1 [==============================] - 0s 14ms/stepss: 0.0046 - accuracy: 0.97\n"
     ]
    },
    {
     "name": "stderr",
     "output_type": "stream",
     "text": [
      "Clipping input data to the valid range for imshow with RGB data ([0..1] for floats or [0..255] for integers).\n"
     ]
    },
    {
     "name": "stdout",
     "output_type": "stream",
     "text": [
      "1/1 [==============================] - 0s 97ms/step - loss: 0.0046 - accuracy: 0.9738\n",
      "Epoch 742/1000\n",
      "1/1 [==============================] - 0s 17ms/stepss: 0.0045 - accuracy: 0.97\n"
     ]
    },
    {
     "name": "stderr",
     "output_type": "stream",
     "text": [
      "Clipping input data to the valid range for imshow with RGB data ([0..1] for floats or [0..255] for integers).\n"
     ]
    },
    {
     "name": "stdout",
     "output_type": "stream",
     "text": [
      "1/1 [==============================] - 0s 102ms/step - loss: 0.0045 - accuracy: 0.9738\n",
      "Epoch 743/1000\n",
      "1/1 [==============================] - 0s 16ms/stepss: 0.0046 - accuracy: 0.97\n"
     ]
    },
    {
     "name": "stderr",
     "output_type": "stream",
     "text": [
      "Clipping input data to the valid range for imshow with RGB data ([0..1] for floats or [0..255] for integers).\n"
     ]
    },
    {
     "name": "stdout",
     "output_type": "stream",
     "text": [
      "1/1 [==============================] - 0s 99ms/step - loss: 0.0046 - accuracy: 0.9735\n",
      "Epoch 744/1000\n",
      "1/1 [==============================] - 0s 15ms/stepss: 0.0046 - accuracy: 0.97\n"
     ]
    },
    {
     "name": "stderr",
     "output_type": "stream",
     "text": [
      "Clipping input data to the valid range for imshow with RGB data ([0..1] for floats or [0..255] for integers).\n"
     ]
    },
    {
     "name": "stdout",
     "output_type": "stream",
     "text": [
      "1/1 [==============================] - 0s 99ms/step - loss: 0.0046 - accuracy: 0.9732\n",
      "Epoch 745/1000\n",
      "1/1 [==============================] - 0s 15ms/stepss: 0.0046 - accuracy: 0.97\n"
     ]
    },
    {
     "name": "stderr",
     "output_type": "stream",
     "text": [
      "Clipping input data to the valid range for imshow with RGB data ([0..1] for floats or [0..255] for integers).\n"
     ]
    },
    {
     "name": "stdout",
     "output_type": "stream",
     "text": [
      "1/1 [==============================] - 0s 98ms/step - loss: 0.0046 - accuracy: 0.9734\n",
      "Epoch 746/1000\n",
      "1/1 [==============================] - 0s 15ms/stepss: 0.0046 - accuracy: 0.97\n"
     ]
    },
    {
     "name": "stderr",
     "output_type": "stream",
     "text": [
      "Clipping input data to the valid range for imshow with RGB data ([0..1] for floats or [0..255] for integers).\n"
     ]
    },
    {
     "name": "stdout",
     "output_type": "stream",
     "text": [
      "1/1 [==============================] - 0s 99ms/step - loss: 0.0046 - accuracy: 0.9737\n",
      "Epoch 747/1000\n",
      "1/1 [==============================] - 0s 17ms/stepss: 0.0046 - accuracy: 0.97\n"
     ]
    },
    {
     "name": "stderr",
     "output_type": "stream",
     "text": [
      "Clipping input data to the valid range for imshow with RGB data ([0..1] for floats or [0..255] for integers).\n"
     ]
    },
    {
     "name": "stdout",
     "output_type": "stream",
     "text": [
      "1/1 [==============================] - 0s 101ms/step - loss: 0.0046 - accuracy: 0.9733\n",
      "Epoch 748/1000\n",
      "1/1 [==============================] - 0s 16ms/stepss: 0.0046 - accuracy: 0.97\n"
     ]
    },
    {
     "name": "stderr",
     "output_type": "stream",
     "text": [
      "Clipping input data to the valid range for imshow with RGB data ([0..1] for floats or [0..255] for integers).\n"
     ]
    },
    {
     "name": "stdout",
     "output_type": "stream",
     "text": [
      "1/1 [==============================] - 0s 102ms/step - loss: 0.0046 - accuracy: 0.9732\n",
      "Epoch 749/1000\n",
      "1/1 [==============================] - 0s 15ms/stepss: 0.0046 - accuracy: 0.97\n"
     ]
    },
    {
     "name": "stderr",
     "output_type": "stream",
     "text": [
      "Clipping input data to the valid range for imshow with RGB data ([0..1] for floats or [0..255] for integers).\n"
     ]
    },
    {
     "name": "stdout",
     "output_type": "stream",
     "text": [
      "1/1 [==============================] - 0s 99ms/step - loss: 0.0046 - accuracy: 0.9733\n",
      "Epoch 750/1000\n",
      "1/1 [==============================] - 0s 15ms/stepss: 0.0045 - accuracy: 0.97\n"
     ]
    },
    {
     "name": "stderr",
     "output_type": "stream",
     "text": [
      "Clipping input data to the valid range for imshow with RGB data ([0..1] for floats or [0..255] for integers).\n"
     ]
    },
    {
     "name": "stdout",
     "output_type": "stream",
     "text": [
      "1/1 [==============================] - 0s 101ms/step - loss: 0.0045 - accuracy: 0.9737\n",
      "Epoch 751/1000\n",
      "1/1 [==============================] - 0s 15ms/stepss: 0.0045 - accuracy: 0.97\n"
     ]
    },
    {
     "name": "stderr",
     "output_type": "stream",
     "text": [
      "Clipping input data to the valid range for imshow with RGB data ([0..1] for floats or [0..255] for integers).\n"
     ]
    },
    {
     "name": "stdout",
     "output_type": "stream",
     "text": [
      "1/1 [==============================] - 0s 99ms/step - loss: 0.0045 - accuracy: 0.9733\n",
      "Epoch 752/1000\n",
      "1/1 [==============================] - 0s 15ms/stepss: 0.0045 - accuracy: 0.97\n"
     ]
    },
    {
     "name": "stderr",
     "output_type": "stream",
     "text": [
      "Clipping input data to the valid range for imshow with RGB data ([0..1] for floats or [0..255] for integers).\n"
     ]
    },
    {
     "name": "stdout",
     "output_type": "stream",
     "text": [
      "1/1 [==============================] - 0s 98ms/step - loss: 0.0045 - accuracy: 0.9731\n",
      "Epoch 753/1000\n",
      "1/1 [==============================] - 0s 15ms/stepss: 0.0045 - accuracy: 0.97\n"
     ]
    },
    {
     "name": "stderr",
     "output_type": "stream",
     "text": [
      "Clipping input data to the valid range for imshow with RGB data ([0..1] for floats or [0..255] for integers).\n"
     ]
    },
    {
     "name": "stdout",
     "output_type": "stream",
     "text": [
      "1/1 [==============================] - 0s 99ms/step - loss: 0.0045 - accuracy: 0.9731\n",
      "Epoch 754/1000\n",
      "1/1 [==============================] - 0s 14ms/stepss: 0.0045 - accuracy: 0.97\n"
     ]
    },
    {
     "name": "stderr",
     "output_type": "stream",
     "text": [
      "Clipping input data to the valid range for imshow with RGB data ([0..1] for floats or [0..255] for integers).\n"
     ]
    },
    {
     "name": "stdout",
     "output_type": "stream",
     "text": [
      "1/1 [==============================] - 0s 93ms/step - loss: 0.0045 - accuracy: 0.9732\n",
      "Epoch 755/1000\n",
      "1/1 [==============================] - 0s 14ms/stepss: 0.0045 - accuracy: 0.97\n"
     ]
    },
    {
     "name": "stderr",
     "output_type": "stream",
     "text": [
      "Clipping input data to the valid range for imshow with RGB data ([0..1] for floats or [0..255] for integers).\n"
     ]
    },
    {
     "name": "stdout",
     "output_type": "stream",
     "text": [
      "1/1 [==============================] - 0s 93ms/step - loss: 0.0045 - accuracy: 0.9732\n",
      "Epoch 756/1000\n",
      "1/1 [==============================] - 0s 14ms/stepss: 0.0045 - accuracy: 0.97\n"
     ]
    },
    {
     "name": "stderr",
     "output_type": "stream",
     "text": [
      "Clipping input data to the valid range for imshow with RGB data ([0..1] for floats or [0..255] for integers).\n"
     ]
    },
    {
     "name": "stdout",
     "output_type": "stream",
     "text": [
      "1/1 [==============================] - 0s 94ms/step - loss: 0.0045 - accuracy: 0.9732\n",
      "Epoch 757/1000\n",
      "1/1 [==============================] - 0s 13ms/stepss: 0.0045 - accuracy: 0.97\n"
     ]
    },
    {
     "name": "stderr",
     "output_type": "stream",
     "text": [
      "Clipping input data to the valid range for imshow with RGB data ([0..1] for floats or [0..255] for integers).\n"
     ]
    },
    {
     "name": "stdout",
     "output_type": "stream",
     "text": [
      "1/1 [==============================] - 0s 91ms/step - loss: 0.0045 - accuracy: 0.9731\n",
      "Epoch 758/1000\n",
      "1/1 [==============================] - 0s 14ms/stepss: 0.0046 - accuracy: 0.97\n"
     ]
    },
    {
     "name": "stderr",
     "output_type": "stream",
     "text": [
      "Clipping input data to the valid range for imshow with RGB data ([0..1] for floats or [0..255] for integers).\n"
     ]
    },
    {
     "name": "stdout",
     "output_type": "stream",
     "text": [
      "1/1 [==============================] - 0s 96ms/step - loss: 0.0046 - accuracy: 0.9730\n",
      "Epoch 759/1000\n",
      "1/1 [==============================] - 0s 15ms/stepss: 0.0046 - accuracy: 0.97\n"
     ]
    },
    {
     "name": "stderr",
     "output_type": "stream",
     "text": [
      "Clipping input data to the valid range for imshow with RGB data ([0..1] for floats or [0..255] for integers).\n"
     ]
    },
    {
     "name": "stdout",
     "output_type": "stream",
     "text": [
      "1/1 [==============================] - 0s 101ms/step - loss: 0.0046 - accuracy: 0.9728\n",
      "Epoch 760/1000\n",
      "1/1 [==============================] - 0s 15ms/stepss: 0.0046 - accuracy: 0.97\n"
     ]
    },
    {
     "name": "stderr",
     "output_type": "stream",
     "text": [
      "Clipping input data to the valid range for imshow with RGB data ([0..1] for floats or [0..255] for integers).\n"
     ]
    },
    {
     "name": "stdout",
     "output_type": "stream",
     "text": [
      "1/1 [==============================] - 0s 98ms/step - loss: 0.0046 - accuracy: 0.9732\n",
      "Epoch 761/1000\n",
      "1/1 [==============================] - 0s 14ms/stepss: 0.0047 - accuracy: 0.97\n"
     ]
    },
    {
     "name": "stderr",
     "output_type": "stream",
     "text": [
      "Clipping input data to the valid range for imshow with RGB data ([0..1] for floats or [0..255] for integers).\n"
     ]
    },
    {
     "name": "stdout",
     "output_type": "stream",
     "text": [
      "1/1 [==============================] - 0s 100ms/step - loss: 0.0047 - accuracy: 0.9731\n",
      "Epoch 762/1000\n",
      "1/1 [==============================] - 0s 14ms/stepss: 0.0048 - accuracy: 0.97\n"
     ]
    },
    {
     "name": "stderr",
     "output_type": "stream",
     "text": [
      "Clipping input data to the valid range for imshow with RGB data ([0..1] for floats or [0..255] for integers).\n"
     ]
    },
    {
     "name": "stdout",
     "output_type": "stream",
     "text": [
      "1/1 [==============================] - 0s 97ms/step - loss: 0.0048 - accuracy: 0.9727\n",
      "Epoch 763/1000\n",
      "1/1 [==============================] - 0s 14ms/stepss: 0.0048 - accuracy: 0.97\n"
     ]
    },
    {
     "name": "stderr",
     "output_type": "stream",
     "text": [
      "Clipping input data to the valid range for imshow with RGB data ([0..1] for floats or [0..255] for integers).\n"
     ]
    },
    {
     "name": "stdout",
     "output_type": "stream",
     "text": [
      "1/1 [==============================] - 0s 97ms/step - loss: 0.0048 - accuracy: 0.9727\n",
      "Epoch 764/1000\n",
      "1/1 [==============================] - 0s 14ms/stepss: 0.0049 - accuracy: 0.97\n"
     ]
    },
    {
     "name": "stderr",
     "output_type": "stream",
     "text": [
      "Clipping input data to the valid range for imshow with RGB data ([0..1] for floats or [0..255] for integers).\n"
     ]
    },
    {
     "name": "stdout",
     "output_type": "stream",
     "text": [
      "1/1 [==============================] - 0s 102ms/step - loss: 0.0049 - accuracy: 0.9733\n",
      "Epoch 765/1000\n",
      "1/1 [==============================] - 0s 15ms/stepss: 0.0049 - accuracy: 0.97\n"
     ]
    },
    {
     "name": "stderr",
     "output_type": "stream",
     "text": [
      "Clipping input data to the valid range for imshow with RGB data ([0..1] for floats or [0..255] for integers).\n"
     ]
    },
    {
     "name": "stdout",
     "output_type": "stream",
     "text": [
      "1/1 [==============================] - 0s 95ms/step - loss: 0.0049 - accuracy: 0.9737\n",
      "Epoch 766/1000\n",
      "1/1 [==============================] - 0s 14ms/stepss: 0.0049 - accuracy: 0.97\n"
     ]
    },
    {
     "name": "stderr",
     "output_type": "stream",
     "text": [
      "Clipping input data to the valid range for imshow with RGB data ([0..1] for floats or [0..255] for integers).\n"
     ]
    },
    {
     "name": "stdout",
     "output_type": "stream",
     "text": [
      "1/1 [==============================] - 0s 99ms/step - loss: 0.0049 - accuracy: 0.9728\n",
      "Epoch 767/1000\n",
      "1/1 [==============================] - 0s 14ms/stepss: 0.0048 - accuracy: 0.97\n"
     ]
    },
    {
     "name": "stderr",
     "output_type": "stream",
     "text": [
      "Clipping input data to the valid range for imshow with RGB data ([0..1] for floats or [0..255] for integers).\n"
     ]
    },
    {
     "name": "stdout",
     "output_type": "stream",
     "text": [
      "1/1 [==============================] - 0s 96ms/step - loss: 0.0048 - accuracy: 0.9721\n",
      "Epoch 768/1000\n",
      "1/1 [==============================] - 0s 15ms/stepss: 0.0047 - accuracy: 0.97\n"
     ]
    },
    {
     "name": "stderr",
     "output_type": "stream",
     "text": [
      "Clipping input data to the valid range for imshow with RGB data ([0..1] for floats or [0..255] for integers).\n"
     ]
    },
    {
     "name": "stdout",
     "output_type": "stream",
     "text": [
      "1/1 [==============================] - 0s 95ms/step - loss: 0.0047 - accuracy: 0.9736\n",
      "Epoch 769/1000\n",
      "1/1 [==============================] - 0s 14ms/stepss: 0.0046 - accuracy: 0.97\n"
     ]
    },
    {
     "name": "stderr",
     "output_type": "stream",
     "text": [
      "Clipping input data to the valid range for imshow with RGB data ([0..1] for floats or [0..255] for integers).\n"
     ]
    },
    {
     "name": "stdout",
     "output_type": "stream",
     "text": [
      "1/1 [==============================] - 0s 99ms/step - loss: 0.0046 - accuracy: 0.9744\n",
      "Epoch 770/1000\n",
      "1/1 [==============================] - 0s 15ms/stepss: 0.0045 - accuracy: 0.97\n"
     ]
    },
    {
     "name": "stderr",
     "output_type": "stream",
     "text": [
      "Clipping input data to the valid range for imshow with RGB data ([0..1] for floats or [0..255] for integers).\n"
     ]
    },
    {
     "name": "stdout",
     "output_type": "stream",
     "text": [
      "1/1 [==============================] - 0s 100ms/step - loss: 0.0045 - accuracy: 0.9734\n",
      "Epoch 771/1000\n",
      "1/1 [==============================] - 0s 14ms/stepss: 0.0045 - accuracy: 0.97\n"
     ]
    },
    {
     "name": "stderr",
     "output_type": "stream",
     "text": [
      "Clipping input data to the valid range for imshow with RGB data ([0..1] for floats or [0..255] for integers).\n"
     ]
    },
    {
     "name": "stdout",
     "output_type": "stream",
     "text": [
      "1/1 [==============================] - 0s 97ms/step - loss: 0.0045 - accuracy: 0.9723\n",
      "Epoch 772/1000\n",
      "1/1 [==============================] - 0s 15ms/stepss: 0.0045 - accuracy: 0.97\n"
     ]
    },
    {
     "name": "stderr",
     "output_type": "stream",
     "text": [
      "Clipping input data to the valid range for imshow with RGB data ([0..1] for floats or [0..255] for integers).\n"
     ]
    },
    {
     "name": "stdout",
     "output_type": "stream",
     "text": [
      "1/1 [==============================] - 0s 97ms/step - loss: 0.0045 - accuracy: 0.9735\n",
      "Epoch 773/1000\n",
      "1/1 [==============================] - 0s 14ms/stepss: 0.0046 - accuracy: 0.97\n"
     ]
    },
    {
     "name": "stderr",
     "output_type": "stream",
     "text": [
      "Clipping input data to the valid range for imshow with RGB data ([0..1] for floats or [0..255] for integers).\n"
     ]
    },
    {
     "name": "stdout",
     "output_type": "stream",
     "text": [
      "1/1 [==============================] - 0s 98ms/step - loss: 0.0046 - accuracy: 0.9743\n",
      "Epoch 774/1000\n",
      "1/1 [==============================] - 0s 21ms/stepss: 0.0046 - accuracy: 0.97\n"
     ]
    },
    {
     "name": "stderr",
     "output_type": "stream",
     "text": [
      "Clipping input data to the valid range for imshow with RGB data ([0..1] for floats or [0..255] for integers).\n"
     ]
    },
    {
     "name": "stdout",
     "output_type": "stream",
     "text": [
      "1/1 [==============================] - 0s 110ms/step - loss: 0.0046 - accuracy: 0.9732\n",
      "Epoch 775/1000\n",
      "1/1 [==============================] - 0s 15ms/stepss: 0.0047 - accuracy: 0.97\n"
     ]
    },
    {
     "name": "stderr",
     "output_type": "stream",
     "text": [
      "Clipping input data to the valid range for imshow with RGB data ([0..1] for floats or [0..255] for integers).\n"
     ]
    },
    {
     "name": "stdout",
     "output_type": "stream",
     "text": [
      "1/1 [==============================] - 0s 99ms/step - loss: 0.0047 - accuracy: 0.9722\n",
      "Epoch 776/1000\n",
      "1/1 [==============================] - 0s 15ms/stepss: 0.0046 - accuracy: 0.97\n"
     ]
    },
    {
     "name": "stderr",
     "output_type": "stream",
     "text": [
      "Clipping input data to the valid range for imshow with RGB data ([0..1] for floats or [0..255] for integers).\n"
     ]
    },
    {
     "name": "stdout",
     "output_type": "stream",
     "text": [
      "1/1 [==============================] - 0s 96ms/step - loss: 0.0046 - accuracy: 0.9734\n",
      "Epoch 777/1000\n",
      "1/1 [==============================] - 0s 15ms/stepss: 0.0046 - accuracy: 0.97\n"
     ]
    },
    {
     "name": "stderr",
     "output_type": "stream",
     "text": [
      "Clipping input data to the valid range for imshow with RGB data ([0..1] for floats or [0..255] for integers).\n"
     ]
    },
    {
     "name": "stdout",
     "output_type": "stream",
     "text": [
      "1/1 [==============================] - 0s 98ms/step - loss: 0.0046 - accuracy: 0.9736\n",
      "Epoch 778/1000\n",
      "1/1 [==============================] - 0s 15ms/stepss: 0.0045 - accuracy: 0.97\n"
     ]
    },
    {
     "name": "stderr",
     "output_type": "stream",
     "text": [
      "Clipping input data to the valid range for imshow with RGB data ([0..1] for floats or [0..255] for integers).\n"
     ]
    },
    {
     "name": "stdout",
     "output_type": "stream",
     "text": [
      "1/1 [==============================] - 0s 97ms/step - loss: 0.0045 - accuracy: 0.9726\n",
      "Epoch 779/1000\n",
      "1/1 [==============================] - 0s 16ms/stepss: 0.0045 - accuracy: 0.97\n"
     ]
    },
    {
     "name": "stderr",
     "output_type": "stream",
     "text": [
      "Clipping input data to the valid range for imshow with RGB data ([0..1] for floats or [0..255] for integers).\n"
     ]
    },
    {
     "name": "stdout",
     "output_type": "stream",
     "text": [
      "1/1 [==============================] - 0s 101ms/step - loss: 0.0045 - accuracy: 0.9730\n",
      "Epoch 780/1000\n",
      "1/1 [==============================] - 0s 13ms/stepss: 0.0044 - accuracy: 0.97\n"
     ]
    },
    {
     "name": "stderr",
     "output_type": "stream",
     "text": [
      "Clipping input data to the valid range for imshow with RGB data ([0..1] for floats or [0..255] for integers).\n"
     ]
    },
    {
     "name": "stdout",
     "output_type": "stream",
     "text": [
      "1/1 [==============================] - 0s 95ms/step - loss: 0.0044 - accuracy: 0.9739\n",
      "Epoch 781/1000\n",
      "1/1 [==============================] - 0s 14ms/stepss: 0.0044 - accuracy: 0.97\n"
     ]
    },
    {
     "name": "stderr",
     "output_type": "stream",
     "text": [
      "Clipping input data to the valid range for imshow with RGB data ([0..1] for floats or [0..255] for integers).\n"
     ]
    },
    {
     "name": "stdout",
     "output_type": "stream",
     "text": [
      "1/1 [==============================] - 0s 94ms/step - loss: 0.0044 - accuracy: 0.9733\n",
      "Epoch 782/1000\n",
      "1/1 [==============================] - 0s 14ms/stepss: 0.0045 - accuracy: 0.97\n"
     ]
    },
    {
     "name": "stderr",
     "output_type": "stream",
     "text": [
      "Clipping input data to the valid range for imshow with RGB data ([0..1] for floats or [0..255] for integers).\n"
     ]
    },
    {
     "name": "stdout",
     "output_type": "stream",
     "text": [
      "1/1 [==============================] - 0s 109ms/step - loss: 0.0045 - accuracy: 0.9723\n",
      "Epoch 783/1000\n",
      "1/1 [==============================] - 0s 14ms/stepss: 0.0045 - accuracy: 0.97\n"
     ]
    },
    {
     "name": "stderr",
     "output_type": "stream",
     "text": [
      "Clipping input data to the valid range for imshow with RGB data ([0..1] for floats or [0..255] for integers).\n"
     ]
    },
    {
     "name": "stdout",
     "output_type": "stream",
     "text": [
      "1/1 [==============================] - 0s 95ms/step - loss: 0.0045 - accuracy: 0.9731\n",
      "Epoch 784/1000\n",
      "1/1 [==============================] - 0s 14ms/stepss: 0.0045 - accuracy: 0.97\n"
     ]
    },
    {
     "name": "stderr",
     "output_type": "stream",
     "text": [
      "Clipping input data to the valid range for imshow with RGB data ([0..1] for floats or [0..255] for integers).\n"
     ]
    },
    {
     "name": "stdout",
     "output_type": "stream",
     "text": [
      "1/1 [==============================] - 0s 95ms/step - loss: 0.0045 - accuracy: 0.9740\n",
      "Epoch 785/1000\n",
      "1/1 [==============================] - 0s 13ms/stepss: 0.0045 - accuracy: 0.97\n"
     ]
    },
    {
     "name": "stderr",
     "output_type": "stream",
     "text": [
      "Clipping input data to the valid range for imshow with RGB data ([0..1] for floats or [0..255] for integers).\n"
     ]
    },
    {
     "name": "stdout",
     "output_type": "stream",
     "text": [
      "1/1 [==============================] - 0s 92ms/step - loss: 0.0045 - accuracy: 0.9731\n",
      "Epoch 786/1000\n",
      "1/1 [==============================] - 0s 15ms/stepss: 0.0045 - accuracy: 0.97\n"
     ]
    },
    {
     "name": "stderr",
     "output_type": "stream",
     "text": [
      "Clipping input data to the valid range for imshow with RGB data ([0..1] for floats or [0..255] for integers).\n"
     ]
    },
    {
     "name": "stdout",
     "output_type": "stream",
     "text": [
      "1/1 [==============================] - 0s 121ms/step - loss: 0.0045 - accuracy: 0.9717\n",
      "Epoch 787/1000\n",
      "1/1 [==============================] - 0s 15ms/stepss: 0.0045 - accuracy: 0.97\n"
     ]
    },
    {
     "name": "stderr",
     "output_type": "stream",
     "text": [
      "Clipping input data to the valid range for imshow with RGB data ([0..1] for floats or [0..255] for integers).\n"
     ]
    },
    {
     "name": "stdout",
     "output_type": "stream",
     "text": [
      "1/1 [==============================] - 0s 103ms/step - loss: 0.0045 - accuracy: 0.9726\n",
      "Epoch 788/1000\n",
      "1/1 [==============================] - 0s 14ms/stepss: 0.0045 - accuracy: 0.97\n"
     ]
    },
    {
     "name": "stderr",
     "output_type": "stream",
     "text": [
      "Clipping input data to the valid range for imshow with RGB data ([0..1] for floats or [0..255] for integers).\n"
     ]
    },
    {
     "name": "stdout",
     "output_type": "stream",
     "text": [
      "1/1 [==============================] - 0s 97ms/step - loss: 0.0045 - accuracy: 0.9739\n",
      "Epoch 789/1000\n",
      "1/1 [==============================] - 0s 15ms/stepss: 0.0044 - accuracy: 0.97\n"
     ]
    },
    {
     "name": "stderr",
     "output_type": "stream",
     "text": [
      "Clipping input data to the valid range for imshow with RGB data ([0..1] for floats or [0..255] for integers).\n"
     ]
    },
    {
     "name": "stdout",
     "output_type": "stream",
     "text": [
      "1/1 [==============================] - 0s 100ms/step - loss: 0.0044 - accuracy: 0.9735\n",
      "Epoch 790/1000\n",
      "1/1 [==============================] - 0s 15ms/stepss: 0.0044 - accuracy: 0.97\n"
     ]
    },
    {
     "name": "stderr",
     "output_type": "stream",
     "text": [
      "Clipping input data to the valid range for imshow with RGB data ([0..1] for floats or [0..255] for integers).\n"
     ]
    },
    {
     "name": "stdout",
     "output_type": "stream",
     "text": [
      "1/1 [==============================] - 0s 101ms/step - loss: 0.0044 - accuracy: 0.9719\n",
      "Epoch 791/1000\n",
      "1/1 [==============================] - 0s 17ms/stepss: 0.0044 - accuracy: 0.97\n"
     ]
    },
    {
     "name": "stderr",
     "output_type": "stream",
     "text": [
      "Clipping input data to the valid range for imshow with RGB data ([0..1] for floats or [0..255] for integers).\n"
     ]
    },
    {
     "name": "stdout",
     "output_type": "stream",
     "text": [
      "1/1 [==============================] - 0s 102ms/step - loss: 0.0044 - accuracy: 0.9719\n",
      "Epoch 792/1000\n",
      "1/1 [==============================] - 0s 14ms/stepss: 0.0044 - accuracy: 0.97\n"
     ]
    },
    {
     "name": "stderr",
     "output_type": "stream",
     "text": [
      "Clipping input data to the valid range for imshow with RGB data ([0..1] for floats or [0..255] for integers).\n"
     ]
    },
    {
     "name": "stdout",
     "output_type": "stream",
     "text": [
      "1/1 [==============================] - 0s 96ms/step - loss: 0.0044 - accuracy: 0.9734\n",
      "Epoch 793/1000\n",
      "1/1 [==============================] - 0s 16ms/stepss: 0.0044 - accuracy: 0.97\n"
     ]
    },
    {
     "name": "stderr",
     "output_type": "stream",
     "text": [
      "Clipping input data to the valid range for imshow with RGB data ([0..1] for floats or [0..255] for integers).\n"
     ]
    },
    {
     "name": "stdout",
     "output_type": "stream",
     "text": [
      "1/1 [==============================] - 0s 97ms/step - loss: 0.0044 - accuracy: 0.9735\n",
      "Epoch 794/1000\n",
      "1/1 [==============================] - 0s 14ms/stepss: 0.0044 - accuracy: 0.97\n"
     ]
    },
    {
     "name": "stderr",
     "output_type": "stream",
     "text": [
      "Clipping input data to the valid range for imshow with RGB data ([0..1] for floats or [0..255] for integers).\n"
     ]
    },
    {
     "name": "stdout",
     "output_type": "stream",
     "text": [
      "1/1 [==============================] - 0s 101ms/step - loss: 0.0044 - accuracy: 0.9723\n",
      "Epoch 795/1000\n",
      "1/1 [==============================] - 0s 14ms/stepss: 0.0044 - accuracy: 0.97\n"
     ]
    },
    {
     "name": "stderr",
     "output_type": "stream",
     "text": [
      "Clipping input data to the valid range for imshow with RGB data ([0..1] for floats or [0..255] for integers).\n"
     ]
    },
    {
     "name": "stdout",
     "output_type": "stream",
     "text": [
      "1/1 [==============================] - 0s 98ms/step - loss: 0.0044 - accuracy: 0.9718\n",
      "Epoch 796/1000\n",
      "1/1 [==============================] - 0s 17ms/stepss: 0.0044 - accuracy: 0.97\n"
     ]
    },
    {
     "name": "stderr",
     "output_type": "stream",
     "text": [
      "Clipping input data to the valid range for imshow with RGB data ([0..1] for floats or [0..255] for integers).\n"
     ]
    },
    {
     "name": "stdout",
     "output_type": "stream",
     "text": [
      "1/1 [==============================] - 0s 104ms/step - loss: 0.0044 - accuracy: 0.9725\n",
      "Epoch 797/1000\n",
      "1/1 [==============================] - 0s 15ms/stepss: 0.0044 - accuracy: 0.97\n"
     ]
    },
    {
     "name": "stderr",
     "output_type": "stream",
     "text": [
      "Clipping input data to the valid range for imshow with RGB data ([0..1] for floats or [0..255] for integers).\n"
     ]
    },
    {
     "name": "stdout",
     "output_type": "stream",
     "text": [
      "1/1 [==============================] - 0s 99ms/step - loss: 0.0044 - accuracy: 0.9728\n",
      "Epoch 798/1000\n",
      "1/1 [==============================] - 0s 15ms/stepss: 0.0044 - accuracy: 0.97\n"
     ]
    },
    {
     "name": "stderr",
     "output_type": "stream",
     "text": [
      "Clipping input data to the valid range for imshow with RGB data ([0..1] for floats or [0..255] for integers).\n"
     ]
    },
    {
     "name": "stdout",
     "output_type": "stream",
     "text": [
      "1/1 [==============================] - 0s 99ms/step - loss: 0.0044 - accuracy: 0.9723\n",
      "Epoch 799/1000\n",
      "1/1 [==============================] - 0s 15ms/stepss: 0.0044 - accuracy: 0.97\n"
     ]
    },
    {
     "name": "stderr",
     "output_type": "stream",
     "text": [
      "Clipping input data to the valid range for imshow with RGB data ([0..1] for floats or [0..255] for integers).\n"
     ]
    },
    {
     "name": "stdout",
     "output_type": "stream",
     "text": [
      "1/1 [==============================] - 0s 101ms/step - loss: 0.0044 - accuracy: 0.9721\n",
      "Epoch 800/1000\n",
      "1/1 [==============================] - 0s 16ms/stepss: 0.0044 - accuracy: 0.97\n"
     ]
    },
    {
     "name": "stderr",
     "output_type": "stream",
     "text": [
      "Clipping input data to the valid range for imshow with RGB data ([0..1] for floats or [0..255] for integers).\n"
     ]
    },
    {
     "name": "stdout",
     "output_type": "stream",
     "text": [
      "1/1 [==============================] - 0s 102ms/step - loss: 0.0044 - accuracy: 0.9722\n",
      "Epoch 801/1000\n",
      "1/1 [==============================] - 0s 14ms/stepss: 0.0045 - accuracy: 0.97\n"
     ]
    },
    {
     "name": "stderr",
     "output_type": "stream",
     "text": [
      "Clipping input data to the valid range for imshow with RGB data ([0..1] for floats or [0..255] for integers).\n"
     ]
    },
    {
     "name": "stdout",
     "output_type": "stream",
     "text": [
      "1/1 [==============================] - 0s 101ms/step - loss: 0.0045 - accuracy: 0.9722\n",
      "Epoch 802/1000\n",
      "1/1 [==============================] - 0s 14ms/stepss: 0.0045 - accuracy: 0.97\n"
     ]
    },
    {
     "name": "stderr",
     "output_type": "stream",
     "text": [
      "Clipping input data to the valid range for imshow with RGB data ([0..1] for floats or [0..255] for integers).\n"
     ]
    },
    {
     "name": "stdout",
     "output_type": "stream",
     "text": [
      "1/1 [==============================] - 0s 96ms/step - loss: 0.0045 - accuracy: 0.9720\n",
      "Epoch 803/1000\n",
      "1/1 [==============================] - 0s 14ms/stepss: 0.0047 - accuracy: 0.97\n"
     ]
    },
    {
     "name": "stderr",
     "output_type": "stream",
     "text": [
      "Clipping input data to the valid range for imshow with RGB data ([0..1] for floats or [0..255] for integers).\n"
     ]
    },
    {
     "name": "stdout",
     "output_type": "stream",
     "text": [
      "1/1 [==============================] - 0s 99ms/step - loss: 0.0047 - accuracy: 0.9724\n",
      "Epoch 804/1000\n",
      "1/1 [==============================] - 0s 15ms/stepss: 0.0049 - accuracy: 0.97\n"
     ]
    },
    {
     "name": "stderr",
     "output_type": "stream",
     "text": [
      "Clipping input data to the valid range for imshow with RGB data ([0..1] for floats or [0..255] for integers).\n"
     ]
    },
    {
     "name": "stdout",
     "output_type": "stream",
     "text": [
      "1/1 [==============================] - 0s 100ms/step - loss: 0.0049 - accuracy: 0.9725\n",
      "Epoch 805/1000\n",
      "1/1 [==============================] - 0s 14ms/stepss: 0.0055 - accuracy: 0.97\n"
     ]
    },
    {
     "name": "stderr",
     "output_type": "stream",
     "text": [
      "Clipping input data to the valid range for imshow with RGB data ([0..1] for floats or [0..255] for integers).\n"
     ]
    },
    {
     "name": "stdout",
     "output_type": "stream",
     "text": [
      "1/1 [==============================] - 0s 98ms/step - loss: 0.0055 - accuracy: 0.9717\n",
      "Epoch 806/1000\n",
      "1/1 [==============================] - 0s 14ms/stepss: 0.0057 - accuracy: 0.97\n"
     ]
    },
    {
     "name": "stderr",
     "output_type": "stream",
     "text": [
      "Clipping input data to the valid range for imshow with RGB data ([0..1] for floats or [0..255] for integers).\n"
     ]
    },
    {
     "name": "stdout",
     "output_type": "stream",
     "text": [
      "1/1 [==============================] - 0s 96ms/step - loss: 0.0057 - accuracy: 0.9716\n",
      "Epoch 807/1000\n",
      "1/1 [==============================] - 0s 14ms/stepss: 0.0062 - accuracy: 0.97\n"
     ]
    },
    {
     "name": "stderr",
     "output_type": "stream",
     "text": [
      "Clipping input data to the valid range for imshow with RGB data ([0..1] for floats or [0..255] for integers).\n"
     ]
    },
    {
     "name": "stdout",
     "output_type": "stream",
     "text": [
      "1/1 [==============================] - 0s 94ms/step - loss: 0.0062 - accuracy: 0.9728\n",
      "Epoch 808/1000\n",
      "1/1 [==============================] - 0s 15ms/stepss: 0.0055 - accuracy: 0.97\n"
     ]
    },
    {
     "name": "stderr",
     "output_type": "stream",
     "text": [
      "Clipping input data to the valid range for imshow with RGB data ([0..1] for floats or [0..255] for integers).\n"
     ]
    },
    {
     "name": "stdout",
     "output_type": "stream",
     "text": [
      "1/1 [==============================] - 0s 94ms/step - loss: 0.0055 - accuracy: 0.9745\n",
      "Epoch 809/1000\n",
      "1/1 [==============================] - 0s 14ms/stepss: 0.0048 - accuracy: 0.97\n"
     ]
    },
    {
     "name": "stderr",
     "output_type": "stream",
     "text": [
      "Clipping input data to the valid range for imshow with RGB data ([0..1] for floats or [0..255] for integers).\n"
     ]
    },
    {
     "name": "stdout",
     "output_type": "stream",
     "text": [
      "1/1 [==============================] - 0s 94ms/step - loss: 0.0048 - accuracy: 0.9730\n",
      "Epoch 810/1000\n",
      "1/1 [==============================] - 0s 16ms/stepss: 0.0044 - accuracy: 0.97\n"
     ]
    },
    {
     "name": "stderr",
     "output_type": "stream",
     "text": [
      "Clipping input data to the valid range for imshow with RGB data ([0..1] for floats or [0..255] for integers).\n"
     ]
    },
    {
     "name": "stdout",
     "output_type": "stream",
     "text": [
      "1/1 [==============================] - 0s 98ms/step - loss: 0.0044 - accuracy: 0.9718\n",
      "Epoch 811/1000\n",
      "1/1 [==============================] - 0s 14ms/stepss: 0.0047 - accuracy: 0.97\n"
     ]
    },
    {
     "name": "stderr",
     "output_type": "stream",
     "text": [
      "Clipping input data to the valid range for imshow with RGB data ([0..1] for floats or [0..255] for integers).\n"
     ]
    },
    {
     "name": "stdout",
     "output_type": "stream",
     "text": [
      "1/1 [==============================] - 0s 99ms/step - loss: 0.0047 - accuracy: 0.9742\n",
      "Epoch 812/1000\n",
      "1/1 [==============================] - 0s 17ms/stepss: 0.0052 - accuracy: 0.97\n"
     ]
    },
    {
     "name": "stderr",
     "output_type": "stream",
     "text": [
      "Clipping input data to the valid range for imshow with RGB data ([0..1] for floats or [0..255] for integers).\n"
     ]
    },
    {
     "name": "stdout",
     "output_type": "stream",
     "text": [
      "1/1 [==============================] - 0s 98ms/step - loss: 0.0052 - accuracy: 0.9758\n",
      "Epoch 813/1000\n",
      "1/1 [==============================] - 0s 17ms/stepss: 0.0048 - accuracy: 0.97\n"
     ]
    },
    {
     "name": "stderr",
     "output_type": "stream",
     "text": [
      "Clipping input data to the valid range for imshow with RGB data ([0..1] for floats or [0..255] for integers).\n"
     ]
    },
    {
     "name": "stdout",
     "output_type": "stream",
     "text": [
      "1/1 [==============================] - 0s 104ms/step - loss: 0.0048 - accuracy: 0.9751\n",
      "Epoch 814/1000\n",
      "1/1 [==============================] - 0s 15ms/stepss: 0.0044 - accuracy: 0.97\n"
     ]
    },
    {
     "name": "stderr",
     "output_type": "stream",
     "text": [
      "Clipping input data to the valid range for imshow with RGB data ([0..1] for floats or [0..255] for integers).\n"
     ]
    },
    {
     "name": "stdout",
     "output_type": "stream",
     "text": [
      "1/1 [==============================] - 0s 98ms/step - loss: 0.0044 - accuracy: 0.9723\n",
      "Epoch 815/1000\n",
      "1/1 [==============================] - 0s 14ms/stepss: 0.0045 - accuracy: 0.97\n"
     ]
    },
    {
     "name": "stderr",
     "output_type": "stream",
     "text": [
      "Clipping input data to the valid range for imshow with RGB data ([0..1] for floats or [0..255] for integers).\n"
     ]
    },
    {
     "name": "stdout",
     "output_type": "stream",
     "text": [
      "1/1 [==============================] - 0s 96ms/step - loss: 0.0045 - accuracy: 0.9730\n",
      "Epoch 816/1000\n",
      "1/1 [==============================] - 0s 15ms/stepss: 0.0047 - accuracy: 0.97\n"
     ]
    },
    {
     "name": "stderr",
     "output_type": "stream",
     "text": [
      "Clipping input data to the valid range for imshow with RGB data ([0..1] for floats or [0..255] for integers).\n"
     ]
    },
    {
     "name": "stdout",
     "output_type": "stream",
     "text": [
      "1/1 [==============================] - 0s 98ms/step - loss: 0.0047 - accuracy: 0.9758\n",
      "Epoch 817/1000\n",
      "1/1 [==============================] - 0s 16ms/stepss: 0.0048 - accuracy: 0.97\n"
     ]
    },
    {
     "name": "stderr",
     "output_type": "stream",
     "text": [
      "Clipping input data to the valid range for imshow with RGB data ([0..1] for floats or [0..255] for integers).\n"
     ]
    },
    {
     "name": "stdout",
     "output_type": "stream",
     "text": [
      "1/1 [==============================] - 0s 104ms/step - loss: 0.0048 - accuracy: 0.9757\n",
      "Epoch 818/1000\n",
      "1/1 [==============================] - 0s 16ms/stepss: 0.0044 - accuracy: 0.97\n"
     ]
    },
    {
     "name": "stderr",
     "output_type": "stream",
     "text": [
      "Clipping input data to the valid range for imshow with RGB data ([0..1] for floats or [0..255] for integers).\n"
     ]
    },
    {
     "name": "stdout",
     "output_type": "stream",
     "text": [
      "1/1 [==============================] - 0s 99ms/step - loss: 0.0044 - accuracy: 0.9733\n",
      "Epoch 819/1000\n",
      "1/1 [==============================] - 0s 15ms/stepss: 0.0044 - accuracy: 0.97\n"
     ]
    },
    {
     "name": "stderr",
     "output_type": "stream",
     "text": [
      "Clipping input data to the valid range for imshow with RGB data ([0..1] for floats or [0..255] for integers).\n"
     ]
    },
    {
     "name": "stdout",
     "output_type": "stream",
     "text": [
      "1/1 [==============================] - 0s 98ms/step - loss: 0.0044 - accuracy: 0.9710\n",
      "Epoch 820/1000\n",
      "1/1 [==============================] - 0s 16ms/stepss: 0.0046 - accuracy: 0.97\n"
     ]
    },
    {
     "name": "stderr",
     "output_type": "stream",
     "text": [
      "Clipping input data to the valid range for imshow with RGB data ([0..1] for floats or [0..255] for integers).\n"
     ]
    },
    {
     "name": "stdout",
     "output_type": "stream",
     "text": [
      "1/1 [==============================] - 0s 98ms/step - loss: 0.0046 - accuracy: 0.9731\n",
      "Epoch 821/1000\n",
      "1/1 [==============================] - 0s 15ms/stepss: 0.0046 - accuracy: 0.97\n"
     ]
    },
    {
     "name": "stderr",
     "output_type": "stream",
     "text": [
      "Clipping input data to the valid range for imshow with RGB data ([0..1] for floats or [0..255] for integers).\n"
     ]
    },
    {
     "name": "stdout",
     "output_type": "stream",
     "text": [
      "1/1 [==============================] - 0s 100ms/step - loss: 0.0046 - accuracy: 0.9757\n",
      "Epoch 822/1000\n",
      "1/1 [==============================] - 0s 17ms/stepss: 0.0044 - accuracy: 0.97\n"
     ]
    },
    {
     "name": "stderr",
     "output_type": "stream",
     "text": [
      "Clipping input data to the valid range for imshow with RGB data ([0..1] for floats or [0..255] for integers).\n"
     ]
    },
    {
     "name": "stdout",
     "output_type": "stream",
     "text": [
      "1/1 [==============================] - 0s 107ms/step - loss: 0.0044 - accuracy: 0.9753\n",
      "Epoch 823/1000\n",
      "1/1 [==============================] - 0s 15ms/stepss: 0.0043 - accuracy: 0.97\n"
     ]
    },
    {
     "name": "stderr",
     "output_type": "stream",
     "text": [
      "Clipping input data to the valid range for imshow with RGB data ([0..1] for floats or [0..255] for integers).\n"
     ]
    },
    {
     "name": "stdout",
     "output_type": "stream",
     "text": [
      "1/1 [==============================] - 0s 100ms/step - loss: 0.0043 - accuracy: 0.9732\n",
      "Epoch 824/1000\n",
      "1/1 [==============================] - 0s 15ms/stepss: 0.0044 - accuracy: 0.97\n"
     ]
    },
    {
     "name": "stderr",
     "output_type": "stream",
     "text": [
      "Clipping input data to the valid range for imshow with RGB data ([0..1] for floats or [0..255] for integers).\n"
     ]
    },
    {
     "name": "stdout",
     "output_type": "stream",
     "text": [
      "1/1 [==============================] - 0s 99ms/step - loss: 0.0044 - accuracy: 0.9723\n",
      "Epoch 825/1000\n",
      "1/1 [==============================] - 0s 14ms/stepss: 0.0045 - accuracy: 0.97\n"
     ]
    },
    {
     "name": "stderr",
     "output_type": "stream",
     "text": [
      "Clipping input data to the valid range for imshow with RGB data ([0..1] for floats or [0..255] for integers).\n"
     ]
    },
    {
     "name": "stdout",
     "output_type": "stream",
     "text": [
      "1/1 [==============================] - 0s 97ms/step - loss: 0.0045 - accuracy: 0.9732\n",
      "Epoch 826/1000\n",
      "1/1 [==============================] - 0s 14ms/stepss: 0.0044 - accuracy: 0.97\n"
     ]
    },
    {
     "name": "stderr",
     "output_type": "stream",
     "text": [
      "Clipping input data to the valid range for imshow with RGB data ([0..1] for floats or [0..255] for integers).\n"
     ]
    },
    {
     "name": "stdout",
     "output_type": "stream",
     "text": [
      "1/1 [==============================] - 0s 99ms/step - loss: 0.0044 - accuracy: 0.9741\n",
      "Epoch 827/1000\n",
      "1/1 [==============================] - 0s 17ms/stepss: 0.0043 - accuracy: 0.97\n"
     ]
    },
    {
     "name": "stderr",
     "output_type": "stream",
     "text": [
      "Clipping input data to the valid range for imshow with RGB data ([0..1] for floats or [0..255] for integers).\n"
     ]
    },
    {
     "name": "stdout",
     "output_type": "stream",
     "text": [
      "1/1 [==============================] - 0s 106ms/step - loss: 0.0043 - accuracy: 0.9739\n",
      "Epoch 828/1000\n",
      "1/1 [==============================] - 0s 15ms/stepss: 0.0043 - accuracy: 0.97\n"
     ]
    },
    {
     "name": "stderr",
     "output_type": "stream",
     "text": [
      "Clipping input data to the valid range for imshow with RGB data ([0..1] for floats or [0..255] for integers).\n"
     ]
    },
    {
     "name": "stdout",
     "output_type": "stream",
     "text": [
      "1/1 [==============================] - 0s 99ms/step - loss: 0.0043 - accuracy: 0.9737\n",
      "Epoch 829/1000\n",
      "1/1 [==============================] - 0s 17ms/stepss: 0.0044 - accuracy: 0.97\n"
     ]
    },
    {
     "name": "stderr",
     "output_type": "stream",
     "text": [
      "Clipping input data to the valid range for imshow with RGB data ([0..1] for floats or [0..255] for integers).\n"
     ]
    },
    {
     "name": "stdout",
     "output_type": "stream",
     "text": [
      "1/1 [==============================] - 0s 99ms/step - loss: 0.0044 - accuracy: 0.9735\n",
      "Epoch 830/1000\n",
      "1/1 [==============================] - 0s 15ms/stepss: 0.0044 - accuracy: 0.97\n"
     ]
    },
    {
     "name": "stderr",
     "output_type": "stream",
     "text": [
      "Clipping input data to the valid range for imshow with RGB data ([0..1] for floats or [0..255] for integers).\n"
     ]
    },
    {
     "name": "stdout",
     "output_type": "stream",
     "text": [
      "1/1 [==============================] - 0s 96ms/step - loss: 0.0044 - accuracy: 0.9727\n",
      "Epoch 831/1000\n",
      "1/1 [==============================] - 0s 16ms/stepss: 0.0043 - accuracy: 0.97\n"
     ]
    },
    {
     "name": "stderr",
     "output_type": "stream",
     "text": [
      "Clipping input data to the valid range for imshow with RGB data ([0..1] for floats or [0..255] for integers).\n"
     ]
    },
    {
     "name": "stdout",
     "output_type": "stream",
     "text": [
      "1/1 [==============================] - 0s 100ms/step - loss: 0.0043 - accuracy: 0.9724\n",
      "Epoch 832/1000\n",
      "1/1 [==============================] - 0s 15ms/stepss: 0.0043 - accuracy: 0.97\n"
     ]
    },
    {
     "name": "stderr",
     "output_type": "stream",
     "text": [
      "Clipping input data to the valid range for imshow with RGB data ([0..1] for floats or [0..255] for integers).\n"
     ]
    },
    {
     "name": "stdout",
     "output_type": "stream",
     "text": [
      "1/1 [==============================] - 0s 99ms/step - loss: 0.0043 - accuracy: 0.9732\n",
      "Epoch 833/1000\n",
      "1/1 [==============================] - 0s 16ms/stepss: 0.0043 - accuracy: 0.97\n"
     ]
    },
    {
     "name": "stderr",
     "output_type": "stream",
     "text": [
      "Clipping input data to the valid range for imshow with RGB data ([0..1] for floats or [0..255] for integers).\n"
     ]
    },
    {
     "name": "stdout",
     "output_type": "stream",
     "text": [
      "1/1 [==============================] - 0s 101ms/step - loss: 0.0043 - accuracy: 0.9742\n",
      "Epoch 834/1000\n",
      "1/1 [==============================] - 0s 14ms/stepss: 0.0044 - accuracy: 0.97\n"
     ]
    },
    {
     "name": "stderr",
     "output_type": "stream",
     "text": [
      "Clipping input data to the valid range for imshow with RGB data ([0..1] for floats or [0..255] for integers).\n"
     ]
    },
    {
     "name": "stdout",
     "output_type": "stream",
     "text": [
      "1/1 [==============================] - 0s 97ms/step - loss: 0.0044 - accuracy: 0.9738\n",
      "Epoch 835/1000\n",
      "1/1 [==============================] - 0s 14ms/stepss: 0.0043 - accuracy: 0.97\n"
     ]
    },
    {
     "name": "stderr",
     "output_type": "stream",
     "text": [
      "Clipping input data to the valid range for imshow with RGB data ([0..1] for floats or [0..255] for integers).\n"
     ]
    },
    {
     "name": "stdout",
     "output_type": "stream",
     "text": [
      "1/1 [==============================] - 0s 96ms/step - loss: 0.0043 - accuracy: 0.9721\n",
      "Epoch 836/1000\n",
      "1/1 [==============================] - 0s 15ms/stepss: 0.0043 - accuracy: 0.97\n"
     ]
    },
    {
     "name": "stderr",
     "output_type": "stream",
     "text": [
      "Clipping input data to the valid range for imshow with RGB data ([0..1] for floats or [0..255] for integers).\n"
     ]
    },
    {
     "name": "stdout",
     "output_type": "stream",
     "text": [
      "1/1 [==============================] - 0s 96ms/step - loss: 0.0043 - accuracy: 0.9713\n",
      "Epoch 837/1000\n",
      "1/1 [==============================] - 0s 14ms/stepss: 0.0043 - accuracy: 0.97\n"
     ]
    },
    {
     "name": "stderr",
     "output_type": "stream",
     "text": [
      "Clipping input data to the valid range for imshow with RGB data ([0..1] for floats or [0..255] for integers).\n"
     ]
    },
    {
     "name": "stdout",
     "output_type": "stream",
     "text": [
      "1/1 [==============================] - 0s 93ms/step - loss: 0.0043 - accuracy: 0.9727\n",
      "Epoch 838/1000\n",
      "1/1 [==============================] - 0s 15ms/stepss: 0.0043 - accuracy: 0.97\n"
     ]
    },
    {
     "name": "stderr",
     "output_type": "stream",
     "text": [
      "Clipping input data to the valid range for imshow with RGB data ([0..1] for floats or [0..255] for integers).\n"
     ]
    },
    {
     "name": "stdout",
     "output_type": "stream",
     "text": [
      "1/1 [==============================] - 0s 97ms/step - loss: 0.0043 - accuracy: 0.9737\n",
      "Epoch 839/1000\n",
      "1/1 [==============================] - 0s 16ms/stepss: 0.0043 - accuracy: 0.97\n"
     ]
    },
    {
     "name": "stderr",
     "output_type": "stream",
     "text": [
      "Clipping input data to the valid range for imshow with RGB data ([0..1] for floats or [0..255] for integers).\n"
     ]
    },
    {
     "name": "stdout",
     "output_type": "stream",
     "text": [
      "1/1 [==============================] - 0s 106ms/step - loss: 0.0043 - accuracy: 0.9731\n",
      "Epoch 840/1000\n",
      "1/1 [==============================] - 0s 15ms/stepss: 0.0043 - accuracy: 0.97\n"
     ]
    },
    {
     "name": "stderr",
     "output_type": "stream",
     "text": [
      "Clipping input data to the valid range for imshow with RGB data ([0..1] for floats or [0..255] for integers).\n"
     ]
    },
    {
     "name": "stdout",
     "output_type": "stream",
     "text": [
      "1/1 [==============================] - 0s 99ms/step - loss: 0.0043 - accuracy: 0.9714\n",
      "Epoch 841/1000\n",
      "1/1 [==============================] - 0s 17ms/stepss: 0.0043 - accuracy: 0.97\n"
     ]
    },
    {
     "name": "stderr",
     "output_type": "stream",
     "text": [
      "Clipping input data to the valid range for imshow with RGB data ([0..1] for floats or [0..255] for integers).\n"
     ]
    },
    {
     "name": "stdout",
     "output_type": "stream",
     "text": [
      "1/1 [==============================] - 0s 102ms/step - loss: 0.0043 - accuracy: 0.9715\n",
      "Epoch 842/1000\n",
      "1/1 [==============================] - 0s 14ms/stepss: 0.0043 - accuracy: 0.97\n"
     ]
    },
    {
     "name": "stderr",
     "output_type": "stream",
     "text": [
      "Clipping input data to the valid range for imshow with RGB data ([0..1] for floats or [0..255] for integers).\n"
     ]
    },
    {
     "name": "stdout",
     "output_type": "stream",
     "text": [
      "1/1 [==============================] - 0s 96ms/step - loss: 0.0043 - accuracy: 0.9725\n",
      "Epoch 843/1000\n",
      "1/1 [==============================] - 0s 17ms/stepss: 0.0042 - accuracy: 0.97\n"
     ]
    },
    {
     "name": "stderr",
     "output_type": "stream",
     "text": [
      "Clipping input data to the valid range for imshow with RGB data ([0..1] for floats or [0..255] for integers).\n"
     ]
    },
    {
     "name": "stdout",
     "output_type": "stream",
     "text": [
      "1/1 [==============================] - 0s 106ms/step - loss: 0.0042 - accuracy: 0.9731\n",
      "Epoch 844/1000\n",
      "1/1 [==============================] - 0s 16ms/stepss: 0.0042 - accuracy: 0.97\n"
     ]
    },
    {
     "name": "stderr",
     "output_type": "stream",
     "text": [
      "Clipping input data to the valid range for imshow with RGB data ([0..1] for floats or [0..255] for integers).\n"
     ]
    },
    {
     "name": "stdout",
     "output_type": "stream",
     "text": [
      "1/1 [==============================] - 0s 104ms/step - loss: 0.0042 - accuracy: 0.9721\n",
      "Epoch 845/1000\n",
      "1/1 [==============================] - 0s 15ms/stepss: 0.0043 - accuracy: 0.97\n"
     ]
    },
    {
     "name": "stderr",
     "output_type": "stream",
     "text": [
      "Clipping input data to the valid range for imshow with RGB data ([0..1] for floats or [0..255] for integers).\n"
     ]
    },
    {
     "name": "stdout",
     "output_type": "stream",
     "text": [
      "1/1 [==============================] - 0s 99ms/step - loss: 0.0043 - accuracy: 0.9715\n",
      "Epoch 846/1000\n",
      "1/1 [==============================] - 0s 16ms/stepss: 0.0043 - accuracy: 0.97\n"
     ]
    },
    {
     "name": "stderr",
     "output_type": "stream",
     "text": [
      "Clipping input data to the valid range for imshow with RGB data ([0..1] for floats or [0..255] for integers).\n"
     ]
    },
    {
     "name": "stdout",
     "output_type": "stream",
     "text": [
      "1/1 [==============================] - 0s 101ms/step - loss: 0.0043 - accuracy: 0.9717\n",
      "Epoch 847/1000\n",
      "1/1 [==============================] - 0s 15ms/stepss: 0.0043 - accuracy: 0.97\n"
     ]
    },
    {
     "name": "stderr",
     "output_type": "stream",
     "text": [
      "Clipping input data to the valid range for imshow with RGB data ([0..1] for floats or [0..255] for integers).\n"
     ]
    },
    {
     "name": "stdout",
     "output_type": "stream",
     "text": [
      "1/1 [==============================] - 0s 101ms/step - loss: 0.0043 - accuracy: 0.9722\n",
      "Epoch 848/1000\n",
      "1/1 [==============================] - 0s 17ms/stepss: 0.0042 - accuracy: 0.97\n"
     ]
    },
    {
     "name": "stderr",
     "output_type": "stream",
     "text": [
      "Clipping input data to the valid range for imshow with RGB data ([0..1] for floats or [0..255] for integers).\n"
     ]
    },
    {
     "name": "stdout",
     "output_type": "stream",
     "text": [
      "1/1 [==============================] - 0s 101ms/step - loss: 0.0042 - accuracy: 0.9722\n",
      "Epoch 849/1000\n",
      "1/1 [==============================] - 0s 15ms/stepss: 0.0042 - accuracy: 0.97\n"
     ]
    },
    {
     "name": "stderr",
     "output_type": "stream",
     "text": [
      "Clipping input data to the valid range for imshow with RGB data ([0..1] for floats or [0..255] for integers).\n"
     ]
    },
    {
     "name": "stdout",
     "output_type": "stream",
     "text": [
      "1/1 [==============================] - 0s 101ms/step - loss: 0.0042 - accuracy: 0.9719\n",
      "Epoch 850/1000\n",
      "1/1 [==============================] - 0s 14ms/stepss: 0.0042 - accuracy: 0.97\n"
     ]
    },
    {
     "name": "stderr",
     "output_type": "stream",
     "text": [
      "Clipping input data to the valid range for imshow with RGB data ([0..1] for floats or [0..255] for integers).\n"
     ]
    },
    {
     "name": "stdout",
     "output_type": "stream",
     "text": [
      "1/1 [==============================] - 0s 96ms/step - loss: 0.0042 - accuracy: 0.9718\n",
      "Epoch 851/1000\n",
      "1/1 [==============================] - 0s 15ms/stepss: 0.0042 - accuracy: 0.97\n"
     ]
    },
    {
     "name": "stderr",
     "output_type": "stream",
     "text": [
      "Clipping input data to the valid range for imshow with RGB data ([0..1] for floats or [0..255] for integers).\n"
     ]
    },
    {
     "name": "stdout",
     "output_type": "stream",
     "text": [
      "1/1 [==============================] - 0s 99ms/step - loss: 0.0042 - accuracy: 0.9718\n",
      "Epoch 852/1000\n",
      "1/1 [==============================] - 0s 15ms/stepss: 0.0042 - accuracy: 0.97\n"
     ]
    },
    {
     "name": "stderr",
     "output_type": "stream",
     "text": [
      "Clipping input data to the valid range for imshow with RGB data ([0..1] for floats or [0..255] for integers).\n"
     ]
    },
    {
     "name": "stdout",
     "output_type": "stream",
     "text": [
      "1/1 [==============================] - 0s 97ms/step - loss: 0.0042 - accuracy: 0.9715\n",
      "Epoch 853/1000\n",
      "1/1 [==============================] - 0s 21ms/stepss: 0.0042 - accuracy: 0.97\n"
     ]
    },
    {
     "name": "stderr",
     "output_type": "stream",
     "text": [
      "Clipping input data to the valid range for imshow with RGB data ([0..1] for floats or [0..255] for integers).\n"
     ]
    },
    {
     "name": "stdout",
     "output_type": "stream",
     "text": [
      "1/1 [==============================] - 0s 107ms/step - loss: 0.0042 - accuracy: 0.9716\n",
      "Epoch 854/1000\n",
      "1/1 [==============================] - 0s 16ms/stepss: 0.0042 - accuracy: 0.97\n"
     ]
    },
    {
     "name": "stderr",
     "output_type": "stream",
     "text": [
      "Clipping input data to the valid range for imshow with RGB data ([0..1] for floats or [0..255] for integers).\n"
     ]
    },
    {
     "name": "stdout",
     "output_type": "stream",
     "text": [
      "1/1 [==============================] - 0s 104ms/step - loss: 0.0042 - accuracy: 0.9717\n",
      "Epoch 855/1000\n",
      "1/1 [==============================] - 0s 15ms/stepss: 0.0042 - accuracy: 0.97\n"
     ]
    },
    {
     "name": "stderr",
     "output_type": "stream",
     "text": [
      "Clipping input data to the valid range for imshow with RGB data ([0..1] for floats or [0..255] for integers).\n"
     ]
    },
    {
     "name": "stdout",
     "output_type": "stream",
     "text": [
      "1/1 [==============================] - 0s 100ms/step - loss: 0.0042 - accuracy: 0.9717\n",
      "Epoch 856/1000\n",
      "1/1 [==============================] - 0s 15ms/stepss: 0.0042 - accuracy: 0.97\n"
     ]
    },
    {
     "name": "stderr",
     "output_type": "stream",
     "text": [
      "Clipping input data to the valid range for imshow with RGB data ([0..1] for floats or [0..255] for integers).\n"
     ]
    },
    {
     "name": "stdout",
     "output_type": "stream",
     "text": [
      "1/1 [==============================] - 0s 101ms/step - loss: 0.0042 - accuracy: 0.9714\n",
      "Epoch 857/1000\n",
      "1/1 [==============================] - 0s 15ms/stepss: 0.0042 - accuracy: 0.97\n"
     ]
    },
    {
     "name": "stderr",
     "output_type": "stream",
     "text": [
      "Clipping input data to the valid range for imshow with RGB data ([0..1] for floats or [0..255] for integers).\n"
     ]
    },
    {
     "name": "stdout",
     "output_type": "stream",
     "text": [
      "1/1 [==============================] - 0s 98ms/step - loss: 0.0042 - accuracy: 0.9713\n",
      "Epoch 858/1000\n",
      "1/1 [==============================] - 0s 17ms/stepss: 0.0042 - accuracy: 0.97\n"
     ]
    },
    {
     "name": "stderr",
     "output_type": "stream",
     "text": [
      "Clipping input data to the valid range for imshow with RGB data ([0..1] for floats or [0..255] for integers).\n"
     ]
    },
    {
     "name": "stdout",
     "output_type": "stream",
     "text": [
      "1/1 [==============================] - 0s 103ms/step - loss: 0.0042 - accuracy: 0.9713\n",
      "Epoch 859/1000\n",
      "1/1 [==============================] - 0s 15ms/stepss: 0.0042 - accuracy: 0.97\n"
     ]
    },
    {
     "name": "stderr",
     "output_type": "stream",
     "text": [
      "Clipping input data to the valid range for imshow with RGB data ([0..1] for floats or [0..255] for integers).\n"
     ]
    },
    {
     "name": "stdout",
     "output_type": "stream",
     "text": [
      "1/1 [==============================] - 0s 100ms/step - loss: 0.0042 - accuracy: 0.9715\n",
      "Epoch 860/1000\n",
      "1/1 [==============================] - 0s 14ms/stepss: 0.0042 - accuracy: 0.97\n"
     ]
    },
    {
     "name": "stderr",
     "output_type": "stream",
     "text": [
      "Clipping input data to the valid range for imshow with RGB data ([0..1] for floats or [0..255] for integers).\n"
     ]
    },
    {
     "name": "stdout",
     "output_type": "stream",
     "text": [
      "1/1 [==============================] - 0s 95ms/step - loss: 0.0042 - accuracy: 0.9715\n",
      "Epoch 861/1000\n",
      "1/1 [==============================] - 0s 15ms/stepss: 0.0042 - accuracy: 0.97\n"
     ]
    },
    {
     "name": "stderr",
     "output_type": "stream",
     "text": [
      "Clipping input data to the valid range for imshow with RGB data ([0..1] for floats or [0..255] for integers).\n"
     ]
    },
    {
     "name": "stdout",
     "output_type": "stream",
     "text": [
      "1/1 [==============================] - 0s 98ms/step - loss: 0.0042 - accuracy: 0.9712\n",
      "Epoch 862/1000\n",
      "1/1 [==============================] - 0s 14ms/stepss: 0.0042 - accuracy: 0.97\n"
     ]
    },
    {
     "name": "stderr",
     "output_type": "stream",
     "text": [
      "Clipping input data to the valid range for imshow with RGB data ([0..1] for floats or [0..255] for integers).\n"
     ]
    },
    {
     "name": "stdout",
     "output_type": "stream",
     "text": [
      "1/1 [==============================] - 0s 94ms/step - loss: 0.0042 - accuracy: 0.9711\n",
      "Epoch 863/1000\n",
      "1/1 [==============================] - 0s 14ms/stepss: 0.0042 - accuracy: 0.97\n"
     ]
    },
    {
     "name": "stderr",
     "output_type": "stream",
     "text": [
      "Clipping input data to the valid range for imshow with RGB data ([0..1] for floats or [0..255] for integers).\n"
     ]
    },
    {
     "name": "stdout",
     "output_type": "stream",
     "text": [
      "1/1 [==============================] - 0s 93ms/step - loss: 0.0042 - accuracy: 0.9713\n",
      "Epoch 864/1000\n",
      "1/1 [==============================] - 0s 14ms/stepss: 0.0042 - accuracy: 0.97\n"
     ]
    },
    {
     "name": "stderr",
     "output_type": "stream",
     "text": [
      "Clipping input data to the valid range for imshow with RGB data ([0..1] for floats or [0..255] for integers).\n"
     ]
    },
    {
     "name": "stdout",
     "output_type": "stream",
     "text": [
      "1/1 [==============================] - 0s 96ms/step - loss: 0.0042 - accuracy: 0.9713\n",
      "Epoch 865/1000\n",
      "1/1 [==============================] - 0s 15ms/stepss: 0.0042 - accuracy: 0.97\n"
     ]
    },
    {
     "name": "stderr",
     "output_type": "stream",
     "text": [
      "Clipping input data to the valid range for imshow with RGB data ([0..1] for floats or [0..255] for integers).\n"
     ]
    },
    {
     "name": "stdout",
     "output_type": "stream",
     "text": [
      "1/1 [==============================] - 0s 110ms/step - loss: 0.0042 - accuracy: 0.9712\n",
      "Epoch 866/1000\n",
      "1/1 [==============================] - 0s 17ms/stepss: 0.0042 - accuracy: 0.97\n"
     ]
    },
    {
     "name": "stderr",
     "output_type": "stream",
     "text": [
      "Clipping input data to the valid range for imshow with RGB data ([0..1] for floats or [0..255] for integers).\n"
     ]
    },
    {
     "name": "stdout",
     "output_type": "stream",
     "text": [
      "1/1 [==============================] - 0s 106ms/step - loss: 0.0042 - accuracy: 0.9711\n",
      "Epoch 867/1000\n",
      "1/1 [==============================] - 0s 16ms/stepss: 0.0042 - accuracy: 0.97\n"
     ]
    },
    {
     "name": "stderr",
     "output_type": "stream",
     "text": [
      "Clipping input data to the valid range for imshow with RGB data ([0..1] for floats or [0..255] for integers).\n"
     ]
    },
    {
     "name": "stdout",
     "output_type": "stream",
     "text": [
      "1/1 [==============================] - 0s 104ms/step - loss: 0.0042 - accuracy: 0.9710\n",
      "Epoch 868/1000\n",
      "1/1 [==============================] - 0s 15ms/stepss: 0.0042 - accuracy: 0.97\n"
     ]
    },
    {
     "name": "stderr",
     "output_type": "stream",
     "text": [
      "Clipping input data to the valid range for imshow with RGB data ([0..1] for floats or [0..255] for integers).\n"
     ]
    },
    {
     "name": "stdout",
     "output_type": "stream",
     "text": [
      "1/1 [==============================] - 0s 100ms/step - loss: 0.0042 - accuracy: 0.9712\n",
      "Epoch 869/1000\n",
      "1/1 [==============================] - 0s 19ms/stepss: 0.0042 - accuracy: 0.97\n"
     ]
    },
    {
     "name": "stderr",
     "output_type": "stream",
     "text": [
      "Clipping input data to the valid range for imshow with RGB data ([0..1] for floats or [0..255] for integers).\n"
     ]
    },
    {
     "name": "stdout",
     "output_type": "stream",
     "text": [
      "1/1 [==============================] - 0s 114ms/step - loss: 0.0042 - accuracy: 0.9712\n",
      "Epoch 870/1000\n",
      "1/1 [==============================] - 0s 16ms/stepss: 0.0042 - accuracy: 0.97\n"
     ]
    },
    {
     "name": "stderr",
     "output_type": "stream",
     "text": [
      "Clipping input data to the valid range for imshow with RGB data ([0..1] for floats or [0..255] for integers).\n"
     ]
    },
    {
     "name": "stdout",
     "output_type": "stream",
     "text": [
      "1/1 [==============================] - 0s 107ms/step - loss: 0.0042 - accuracy: 0.9715\n",
      "Epoch 871/1000\n",
      "1/1 [==============================] - 0s 16ms/stepss: 0.0042 - accuracy: 0.97\n"
     ]
    },
    {
     "name": "stderr",
     "output_type": "stream",
     "text": [
      "Clipping input data to the valid range for imshow with RGB data ([0..1] for floats or [0..255] for integers).\n"
     ]
    },
    {
     "name": "stdout",
     "output_type": "stream",
     "text": [
      "1/1 [==============================] - 0s 105ms/step - loss: 0.0042 - accuracy: 0.9710\n",
      "Epoch 872/1000\n",
      "1/1 [==============================] - 0s 15ms/stepss: 0.0043 - accuracy: 0.97\n"
     ]
    },
    {
     "name": "stderr",
     "output_type": "stream",
     "text": [
      "Clipping input data to the valid range for imshow with RGB data ([0..1] for floats or [0..255] for integers).\n"
     ]
    },
    {
     "name": "stdout",
     "output_type": "stream",
     "text": [
      "1/1 [==============================] - 0s 104ms/step - loss: 0.0043 - accuracy: 0.9711\n",
      "Epoch 873/1000\n",
      "1/1 [==============================] - 0s 16ms/stepss: 0.0043 - accuracy: 0.97\n"
     ]
    },
    {
     "name": "stderr",
     "output_type": "stream",
     "text": [
      "Clipping input data to the valid range for imshow with RGB data ([0..1] for floats or [0..255] for integers).\n"
     ]
    },
    {
     "name": "stdout",
     "output_type": "stream",
     "text": [
      "1/1 [==============================] - 0s 100ms/step - loss: 0.0043 - accuracy: 0.9711\n",
      "Epoch 874/1000\n",
      "1/1 [==============================] - 0s 16ms/stepss: 0.0044 - accuracy: 0.97\n"
     ]
    },
    {
     "name": "stderr",
     "output_type": "stream",
     "text": [
      "Clipping input data to the valid range for imshow with RGB data ([0..1] for floats or [0..255] for integers).\n"
     ]
    },
    {
     "name": "stdout",
     "output_type": "stream",
     "text": [
      "1/1 [==============================] - 0s 106ms/step - loss: 0.0044 - accuracy: 0.9715\n",
      "Epoch 875/1000\n",
      "1/1 [==============================] - 0s 15ms/stepss: 0.0046 - accuracy: 0.97\n"
     ]
    },
    {
     "name": "stderr",
     "output_type": "stream",
     "text": [
      "Clipping input data to the valid range for imshow with RGB data ([0..1] for floats or [0..255] for integers).\n"
     ]
    },
    {
     "name": "stdout",
     "output_type": "stream",
     "text": [
      "1/1 [==============================] - 0s 105ms/step - loss: 0.0046 - accuracy: 0.9716\n",
      "Epoch 876/1000\n",
      "1/1 [==============================] - 0s 15ms/stepss: 0.0048 - accuracy: 0.97\n"
     ]
    },
    {
     "name": "stderr",
     "output_type": "stream",
     "text": [
      "Clipping input data to the valid range for imshow with RGB data ([0..1] for floats or [0..255] for integers).\n"
     ]
    },
    {
     "name": "stdout",
     "output_type": "stream",
     "text": [
      "1/1 [==============================] - 0s 100ms/step - loss: 0.0048 - accuracy: 0.9717\n",
      "Epoch 877/1000\n",
      "1/1 [==============================] - 0s 15ms/stepss: 0.0051 - accuracy: 0.97\n"
     ]
    },
    {
     "name": "stderr",
     "output_type": "stream",
     "text": [
      "Clipping input data to the valid range for imshow with RGB data ([0..1] for floats or [0..255] for integers).\n"
     ]
    },
    {
     "name": "stdout",
     "output_type": "stream",
     "text": [
      "1/1 [==============================] - 0s 103ms/step - loss: 0.0051 - accuracy: 0.9711\n",
      "Epoch 878/1000\n",
      "1/1 [==============================] - 0s 17ms/stepss: 0.0051 - accuracy: 0.97\n"
     ]
    },
    {
     "name": "stderr",
     "output_type": "stream",
     "text": [
      "Clipping input data to the valid range for imshow with RGB data ([0..1] for floats or [0..255] for integers).\n"
     ]
    },
    {
     "name": "stdout",
     "output_type": "stream",
     "text": [
      "1/1 [==============================] - 0s 108ms/step - loss: 0.0051 - accuracy: 0.9721\n",
      "Epoch 879/1000\n",
      "1/1 [==============================] - 0s 17ms/stepss: 0.0051 - accuracy: 0.97\n"
     ]
    },
    {
     "name": "stderr",
     "output_type": "stream",
     "text": [
      "Clipping input data to the valid range for imshow with RGB data ([0..1] for floats or [0..255] for integers).\n"
     ]
    },
    {
     "name": "stdout",
     "output_type": "stream",
     "text": [
      "1/1 [==============================] - 0s 114ms/step - loss: 0.0051 - accuracy: 0.9722\n",
      "Epoch 880/1000\n",
      "1/1 [==============================] - 0s 16ms/stepss: 0.0046 - accuracy: 0.97\n"
     ]
    },
    {
     "name": "stderr",
     "output_type": "stream",
     "text": [
      "Clipping input data to the valid range for imshow with RGB data ([0..1] for floats or [0..255] for integers).\n"
     ]
    },
    {
     "name": "stdout",
     "output_type": "stream",
     "text": [
      "1/1 [==============================] - 0s 106ms/step - loss: 0.0046 - accuracy: 0.9726\n",
      "Epoch 881/1000\n",
      "1/1 [==============================] - 0s 16ms/stepss: 0.0042 - accuracy: 0.97\n"
     ]
    },
    {
     "name": "stderr",
     "output_type": "stream",
     "text": [
      "Clipping input data to the valid range for imshow with RGB data ([0..1] for floats or [0..255] for integers).\n"
     ]
    },
    {
     "name": "stdout",
     "output_type": "stream",
     "text": [
      "1/1 [==============================] - 0s 104ms/step - loss: 0.0042 - accuracy: 0.9722\n",
      "Epoch 882/1000\n",
      "1/1 [==============================] - 0s 16ms/stepss: 0.0042 - accuracy: 0.97\n"
     ]
    },
    {
     "name": "stderr",
     "output_type": "stream",
     "text": [
      "Clipping input data to the valid range for imshow with RGB data ([0..1] for floats or [0..255] for integers).\n"
     ]
    },
    {
     "name": "stdout",
     "output_type": "stream",
     "text": [
      "1/1 [==============================] - 0s 102ms/step - loss: 0.0042 - accuracy: 0.9729\n",
      "Epoch 883/1000\n",
      "1/1 [==============================] - 0s 17ms/stepss: 0.0044 - accuracy: 0.97\n"
     ]
    },
    {
     "name": "stderr",
     "output_type": "stream",
     "text": [
      "Clipping input data to the valid range for imshow with RGB data ([0..1] for floats or [0..255] for integers).\n"
     ]
    },
    {
     "name": "stdout",
     "output_type": "stream",
     "text": [
      "1/1 [==============================] - 0s 107ms/step - loss: 0.0044 - accuracy: 0.9729\n",
      "Epoch 884/1000\n",
      "1/1 [==============================] - 0s 16ms/stepss: 0.0046 - accuracy: 0.97\n"
     ]
    },
    {
     "name": "stderr",
     "output_type": "stream",
     "text": [
      "Clipping input data to the valid range for imshow with RGB data ([0..1] for floats or [0..255] for integers).\n"
     ]
    },
    {
     "name": "stdout",
     "output_type": "stream",
     "text": [
      "1/1 [==============================] - 0s 105ms/step - loss: 0.0046 - accuracy: 0.9725\n",
      "Epoch 885/1000\n",
      "1/1 [==============================] - 0s 14ms/stepss: 0.0045 - accuracy: 0.97\n"
     ]
    },
    {
     "name": "stderr",
     "output_type": "stream",
     "text": [
      "Clipping input data to the valid range for imshow with RGB data ([0..1] for floats or [0..255] for integers).\n"
     ]
    },
    {
     "name": "stdout",
     "output_type": "stream",
     "text": [
      "1/1 [==============================] - 0s 94ms/step - loss: 0.0045 - accuracy: 0.9728\n",
      "Epoch 886/1000\n",
      "1/1 [==============================] - 0s 14ms/stepss: 0.0043 - accuracy: 0.97\n"
     ]
    },
    {
     "name": "stderr",
     "output_type": "stream",
     "text": [
      "Clipping input data to the valid range for imshow with RGB data ([0..1] for floats or [0..255] for integers).\n"
     ]
    },
    {
     "name": "stdout",
     "output_type": "stream",
     "text": [
      "1/1 [==============================] - 0s 95ms/step - loss: 0.0043 - accuracy: 0.9724\n",
      "Epoch 887/1000\n",
      "1/1 [==============================] - 0s 14ms/stepss: 0.0041 - accuracy: 0.97\n"
     ]
    },
    {
     "name": "stderr",
     "output_type": "stream",
     "text": [
      "Clipping input data to the valid range for imshow with RGB data ([0..1] for floats or [0..255] for integers).\n"
     ]
    },
    {
     "name": "stdout",
     "output_type": "stream",
     "text": [
      "1/1 [==============================] - 0s 93ms/step - loss: 0.0041 - accuracy: 0.9725\n",
      "Epoch 888/1000\n",
      "1/1 [==============================] - 0s 14ms/stepss: 0.0042 - accuracy: 0.97\n"
     ]
    },
    {
     "name": "stderr",
     "output_type": "stream",
     "text": [
      "Clipping input data to the valid range for imshow with RGB data ([0..1] for floats or [0..255] for integers).\n"
     ]
    },
    {
     "name": "stdout",
     "output_type": "stream",
     "text": [
      "1/1 [==============================] - 0s 93ms/step - loss: 0.0042 - accuracy: 0.9725\n",
      "Epoch 889/1000\n",
      "1/1 [==============================] - 0s 14ms/stepss: 0.0043 - accuracy: 0.97\n"
     ]
    },
    {
     "name": "stderr",
     "output_type": "stream",
     "text": [
      "Clipping input data to the valid range for imshow with RGB data ([0..1] for floats or [0..255] for integers).\n"
     ]
    },
    {
     "name": "stdout",
     "output_type": "stream",
     "text": [
      "1/1 [==============================] - 0s 97ms/step - loss: 0.0043 - accuracy: 0.9725\n",
      "Epoch 890/1000\n",
      "1/1 [==============================] - 0s 16ms/stepss: 0.0044 - accuracy: 0.97\n"
     ]
    },
    {
     "name": "stderr",
     "output_type": "stream",
     "text": [
      "Clipping input data to the valid range for imshow with RGB data ([0..1] for floats or [0..255] for integers).\n"
     ]
    },
    {
     "name": "stdout",
     "output_type": "stream",
     "text": [
      "1/1 [==============================] - 0s 96ms/step - loss: 0.0044 - accuracy: 0.9725\n",
      "Epoch 891/1000\n",
      "1/1 [==============================] - 0s 15ms/stepss: 0.0043 - accuracy: 0.97\n"
     ]
    },
    {
     "name": "stderr",
     "output_type": "stream",
     "text": [
      "Clipping input data to the valid range for imshow with RGB data ([0..1] for floats or [0..255] for integers).\n"
     ]
    },
    {
     "name": "stdout",
     "output_type": "stream",
     "text": [
      "1/1 [==============================] - 0s 102ms/step - loss: 0.0043 - accuracy: 0.9715\n",
      "Epoch 892/1000\n",
      "1/1 [==============================] - 0s 15ms/stepss: 0.0041 - accuracy: 0.97\n"
     ]
    },
    {
     "name": "stderr",
     "output_type": "stream",
     "text": [
      "Clipping input data to the valid range for imshow with RGB data ([0..1] for floats or [0..255] for integers).\n"
     ]
    },
    {
     "name": "stdout",
     "output_type": "stream",
     "text": [
      "1/1 [==============================] - 0s 102ms/step - loss: 0.0041 - accuracy: 0.9718\n",
      "Epoch 893/1000\n",
      "1/1 [==============================] - 0s 16ms/stepss: 0.0041 - accuracy: 0.97\n"
     ]
    },
    {
     "name": "stderr",
     "output_type": "stream",
     "text": [
      "Clipping input data to the valid range for imshow with RGB data ([0..1] for floats or [0..255] for integers).\n"
     ]
    },
    {
     "name": "stdout",
     "output_type": "stream",
     "text": [
      "1/1 [==============================] - 0s 107ms/step - loss: 0.0041 - accuracy: 0.9725\n",
      "Epoch 894/1000\n",
      "1/1 [==============================] - 0s 16ms/stepss: 0.0042 - accuracy: 0.97\n"
     ]
    },
    {
     "name": "stderr",
     "output_type": "stream",
     "text": [
      "Clipping input data to the valid range for imshow with RGB data ([0..1] for floats or [0..255] for integers).\n"
     ]
    },
    {
     "name": "stdout",
     "output_type": "stream",
     "text": [
      "1/1 [==============================] - 0s 103ms/step - loss: 0.0042 - accuracy: 0.9729\n",
      "Epoch 895/1000\n",
      "1/1 [==============================] - 0s 15ms/stepss: 0.0042 - accuracy: 0.97\n"
     ]
    },
    {
     "name": "stderr",
     "output_type": "stream",
     "text": [
      "Clipping input data to the valid range for imshow with RGB data ([0..1] for floats or [0..255] for integers).\n"
     ]
    },
    {
     "name": "stdout",
     "output_type": "stream",
     "text": [
      "1/1 [==============================] - 0s 101ms/step - loss: 0.0042 - accuracy: 0.9727\n",
      "Epoch 896/1000\n",
      "1/1 [==============================] - 0s 15ms/stepss: 0.0042 - accuracy: 0.97\n"
     ]
    },
    {
     "name": "stderr",
     "output_type": "stream",
     "text": [
      "Clipping input data to the valid range for imshow with RGB data ([0..1] for floats or [0..255] for integers).\n"
     ]
    },
    {
     "name": "stdout",
     "output_type": "stream",
     "text": [
      "1/1 [==============================] - 0s 100ms/step - loss: 0.0042 - accuracy: 0.9716\n",
      "Epoch 897/1000\n",
      "1/1 [==============================] - 0s 14ms/stepss: 0.0042 - accuracy: 0.97\n"
     ]
    },
    {
     "name": "stderr",
     "output_type": "stream",
     "text": [
      "Clipping input data to the valid range for imshow with RGB data ([0..1] for floats or [0..255] for integers).\n"
     ]
    },
    {
     "name": "stdout",
     "output_type": "stream",
     "text": [
      "1/1 [==============================] - 0s 97ms/step - loss: 0.0042 - accuracy: 0.9718\n",
      "Epoch 898/1000\n",
      "1/1 [==============================] - 0s 15ms/stepss: 0.0041 - accuracy: 0.97\n"
     ]
    },
    {
     "name": "stderr",
     "output_type": "stream",
     "text": [
      "Clipping input data to the valid range for imshow with RGB data ([0..1] for floats or [0..255] for integers).\n"
     ]
    },
    {
     "name": "stdout",
     "output_type": "stream",
     "text": [
      "1/1 [==============================] - 0s 100ms/step - loss: 0.0041 - accuracy: 0.9723\n",
      "Epoch 899/1000\n",
      "1/1 [==============================] - 0s 16ms/stepss: 0.0041 - accuracy: 0.97\n"
     ]
    },
    {
     "name": "stderr",
     "output_type": "stream",
     "text": [
      "Clipping input data to the valid range for imshow with RGB data ([0..1] for floats or [0..255] for integers).\n"
     ]
    },
    {
     "name": "stdout",
     "output_type": "stream",
     "text": [
      "1/1 [==============================] - 0s 102ms/step - loss: 0.0041 - accuracy: 0.9726\n",
      "Epoch 900/1000\n",
      "1/1 [==============================] - 0s 17ms/stepss: 0.0041 - accuracy: 0.97\n"
     ]
    },
    {
     "name": "stderr",
     "output_type": "stream",
     "text": [
      "Clipping input data to the valid range for imshow with RGB data ([0..1] for floats or [0..255] for integers).\n"
     ]
    },
    {
     "name": "stdout",
     "output_type": "stream",
     "text": [
      "1/1 [==============================] - 0s 105ms/step - loss: 0.0041 - accuracy: 0.9722\n",
      "Epoch 901/1000\n",
      "1/1 [==============================] - 0s 15ms/stepss: 0.0042 - accuracy: 0.97\n"
     ]
    },
    {
     "name": "stderr",
     "output_type": "stream",
     "text": [
      "Clipping input data to the valid range for imshow with RGB data ([0..1] for floats or [0..255] for integers).\n"
     ]
    },
    {
     "name": "stdout",
     "output_type": "stream",
     "text": [
      "1/1 [==============================] - 0s 100ms/step - loss: 0.0042 - accuracy: 0.9720\n",
      "Epoch 902/1000\n",
      "1/1 [==============================] - 0s 15ms/stepss: 0.0042 - accuracy: 0.97\n"
     ]
    },
    {
     "name": "stderr",
     "output_type": "stream",
     "text": [
      "Clipping input data to the valid range for imshow with RGB data ([0..1] for floats or [0..255] for integers).\n"
     ]
    },
    {
     "name": "stdout",
     "output_type": "stream",
     "text": [
      "1/1 [==============================] - 0s 95ms/step - loss: 0.0042 - accuracy: 0.9724\n",
      "Epoch 903/1000\n",
      "1/1 [==============================] - 0s 15ms/stepss: 0.0042 - accuracy: 0.97\n"
     ]
    },
    {
     "name": "stderr",
     "output_type": "stream",
     "text": [
      "Clipping input data to the valid range for imshow with RGB data ([0..1] for floats or [0..255] for integers).\n"
     ]
    },
    {
     "name": "stdout",
     "output_type": "stream",
     "text": [
      "1/1 [==============================] - 0s 95ms/step - loss: 0.0042 - accuracy: 0.9723\n",
      "Epoch 904/1000\n",
      "1/1 [==============================] - 0s 15ms/stepss: 0.0041 - accuracy: 0.97\n"
     ]
    },
    {
     "name": "stderr",
     "output_type": "stream",
     "text": [
      "Clipping input data to the valid range for imshow with RGB data ([0..1] for floats or [0..255] for integers).\n"
     ]
    },
    {
     "name": "stdout",
     "output_type": "stream",
     "text": [
      "1/1 [==============================] - 0s 100ms/step - loss: 0.0041 - accuracy: 0.9722\n",
      "Epoch 905/1000\n",
      "1/1 [==============================] - 0s 15ms/stepss: 0.0041 - accuracy: 0.97\n"
     ]
    },
    {
     "name": "stderr",
     "output_type": "stream",
     "text": [
      "Clipping input data to the valid range for imshow with RGB data ([0..1] for floats or [0..255] for integers).\n"
     ]
    },
    {
     "name": "stdout",
     "output_type": "stream",
     "text": [
      "1/1 [==============================] - 0s 104ms/step - loss: 0.0041 - accuracy: 0.9717\n",
      "Epoch 906/1000\n",
      "1/1 [==============================] - 0s 15ms/stepss: 0.0041 - accuracy: 0.97\n"
     ]
    },
    {
     "name": "stderr",
     "output_type": "stream",
     "text": [
      "Clipping input data to the valid range for imshow with RGB data ([0..1] for floats or [0..255] for integers).\n"
     ]
    },
    {
     "name": "stdout",
     "output_type": "stream",
     "text": [
      "1/1 [==============================] - 0s 103ms/step - loss: 0.0041 - accuracy: 0.9716\n",
      "Epoch 907/1000\n",
      "1/1 [==============================] - 0s 14ms/stepss: 0.0041 - accuracy: 0.97\n"
     ]
    },
    {
     "name": "stderr",
     "output_type": "stream",
     "text": [
      "Clipping input data to the valid range for imshow with RGB data ([0..1] for floats or [0..255] for integers).\n"
     ]
    },
    {
     "name": "stdout",
     "output_type": "stream",
     "text": [
      "1/1 [==============================] - 0s 97ms/step - loss: 0.0041 - accuracy: 0.9716\n",
      "Epoch 908/1000\n",
      "1/1 [==============================] - 0s 15ms/stepss: 0.0041 - accuracy: 0.97\n"
     ]
    },
    {
     "name": "stderr",
     "output_type": "stream",
     "text": [
      "Clipping input data to the valid range for imshow with RGB data ([0..1] for floats or [0..255] for integers).\n"
     ]
    },
    {
     "name": "stdout",
     "output_type": "stream",
     "text": [
      "1/1 [==============================] - 0s 98ms/step - loss: 0.0041 - accuracy: 0.9717\n",
      "Epoch 909/1000\n",
      "1/1 [==============================] - 0s 15ms/stepss: 0.0041 - accuracy: 0.97\n"
     ]
    },
    {
     "name": "stderr",
     "output_type": "stream",
     "text": [
      "Clipping input data to the valid range for imshow with RGB data ([0..1] for floats or [0..255] for integers).\n"
     ]
    },
    {
     "name": "stdout",
     "output_type": "stream",
     "text": [
      "1/1 [==============================] - 0s 99ms/step - loss: 0.0041 - accuracy: 0.9721\n",
      "Epoch 910/1000\n",
      "1/1 [==============================] - 0s 14ms/stepss: 0.0041 - accuracy: 0.97\n"
     ]
    },
    {
     "name": "stderr",
     "output_type": "stream",
     "text": [
      "Clipping input data to the valid range for imshow with RGB data ([0..1] for floats or [0..255] for integers).\n"
     ]
    },
    {
     "name": "stdout",
     "output_type": "stream",
     "text": [
      "1/1 [==============================] - 0s 102ms/step - loss: 0.0041 - accuracy: 0.9718\n",
      "Epoch 911/1000\n",
      "1/1 [==============================] - 0s 14ms/stepss: 0.0041 - accuracy: 0.97\n"
     ]
    },
    {
     "name": "stderr",
     "output_type": "stream",
     "text": [
      "Clipping input data to the valid range for imshow with RGB data ([0..1] for floats or [0..255] for integers).\n"
     ]
    },
    {
     "name": "stdout",
     "output_type": "stream",
     "text": [
      "1/1 [==============================] - 0s 95ms/step - loss: 0.0041 - accuracy: 0.9715\n",
      "Epoch 912/1000\n",
      "1/1 [==============================] - 0s 14ms/stepss: 0.0041 - accuracy: 0.97\n"
     ]
    },
    {
     "name": "stderr",
     "output_type": "stream",
     "text": [
      "Clipping input data to the valid range for imshow with RGB data ([0..1] for floats or [0..255] for integers).\n"
     ]
    },
    {
     "name": "stdout",
     "output_type": "stream",
     "text": [
      "1/1 [==============================] - 0s 91ms/step - loss: 0.0041 - accuracy: 0.9711\n",
      "Epoch 913/1000\n",
      "1/1 [==============================] - 0s 15ms/stepss: 0.0041 - accuracy: 0.97\n"
     ]
    },
    {
     "name": "stderr",
     "output_type": "stream",
     "text": [
      "Clipping input data to the valid range for imshow with RGB data ([0..1] for floats or [0..255] for integers).\n"
     ]
    },
    {
     "name": "stdout",
     "output_type": "stream",
     "text": [
      "1/1 [==============================] - 0s 94ms/step - loss: 0.0041 - accuracy: 0.9718\n",
      "Epoch 914/1000\n",
      "1/1 [==============================] - 0s 14ms/stepss: 0.0041 - accuracy: 0.97\n"
     ]
    },
    {
     "name": "stderr",
     "output_type": "stream",
     "text": [
      "Clipping input data to the valid range for imshow with RGB data ([0..1] for floats or [0..255] for integers).\n"
     ]
    },
    {
     "name": "stdout",
     "output_type": "stream",
     "text": [
      "1/1 [==============================] - 0s 97ms/step - loss: 0.0041 - accuracy: 0.9721\n",
      "Epoch 915/1000\n",
      "1/1 [==============================] - 0s 14ms/stepss: 0.0041 - accuracy: 0.97\n"
     ]
    },
    {
     "name": "stderr",
     "output_type": "stream",
     "text": [
      "Clipping input data to the valid range for imshow with RGB data ([0..1] for floats or [0..255] for integers).\n"
     ]
    },
    {
     "name": "stdout",
     "output_type": "stream",
     "text": [
      "1/1 [==============================] - 0s 95ms/step - loss: 0.0041 - accuracy: 0.9717\n",
      "Epoch 916/1000\n",
      "1/1 [==============================] - 0s 14ms/stepss: 0.0040 - accuracy: 0.97\n"
     ]
    },
    {
     "name": "stderr",
     "output_type": "stream",
     "text": [
      "Clipping input data to the valid range for imshow with RGB data ([0..1] for floats or [0..255] for integers).\n"
     ]
    },
    {
     "name": "stdout",
     "output_type": "stream",
     "text": [
      "1/1 [==============================] - 0s 97ms/step - loss: 0.0040 - accuracy: 0.9712\n",
      "Epoch 917/1000\n",
      "1/1 [==============================] - 0s 16ms/stepss: 0.0040 - accuracy: 0.97\n"
     ]
    },
    {
     "name": "stderr",
     "output_type": "stream",
     "text": [
      "Clipping input data to the valid range for imshow with RGB data ([0..1] for floats or [0..255] for integers).\n"
     ]
    },
    {
     "name": "stdout",
     "output_type": "stream",
     "text": [
      "1/1 [==============================] - 0s 100ms/step - loss: 0.0040 - accuracy: 0.9712\n",
      "Epoch 918/1000\n",
      "1/1 [==============================] - 0s 15ms/stepss: 0.0040 - accuracy: 0.97\n"
     ]
    },
    {
     "name": "stderr",
     "output_type": "stream",
     "text": [
      "Clipping input data to the valid range for imshow with RGB data ([0..1] for floats or [0..255] for integers).\n"
     ]
    },
    {
     "name": "stdout",
     "output_type": "stream",
     "text": [
      "1/1 [==============================] - 0s 96ms/step - loss: 0.0040 - accuracy: 0.9715\n",
      "Epoch 919/1000\n",
      "1/1 [==============================] - 0s 15ms/stepss: 0.0041 - accuracy: 0.97\n"
     ]
    },
    {
     "name": "stderr",
     "output_type": "stream",
     "text": [
      "Clipping input data to the valid range for imshow with RGB data ([0..1] for floats or [0..255] for integers).\n"
     ]
    },
    {
     "name": "stdout",
     "output_type": "stream",
     "text": [
      "1/1 [==============================] - 0s 103ms/step - loss: 0.0041 - accuracy: 0.9711\n",
      "Epoch 920/1000\n",
      "1/1 [==============================] - 0s 14ms/stepss: 0.0041 - accuracy: 0.97\n"
     ]
    },
    {
     "name": "stderr",
     "output_type": "stream",
     "text": [
      "Clipping input data to the valid range for imshow with RGB data ([0..1] for floats or [0..255] for integers).\n"
     ]
    },
    {
     "name": "stdout",
     "output_type": "stream",
     "text": [
      "1/1 [==============================] - 0s 95ms/step - loss: 0.0041 - accuracy: 0.9712\n",
      "Epoch 921/1000\n",
      "1/1 [==============================] - 0s 14ms/stepss: 0.0041 - accuracy: 0.97\n"
     ]
    },
    {
     "name": "stderr",
     "output_type": "stream",
     "text": [
      "Clipping input data to the valid range for imshow with RGB data ([0..1] for floats or [0..255] for integers).\n"
     ]
    },
    {
     "name": "stdout",
     "output_type": "stream",
     "text": [
      "1/1 [==============================] - 0s 99ms/step - loss: 0.0041 - accuracy: 0.9711\n",
      "Epoch 922/1000\n",
      "1/1 [==============================] - 0s 15ms/stepss: 0.0041 - accuracy: 0.97\n"
     ]
    },
    {
     "name": "stderr",
     "output_type": "stream",
     "text": [
      "Clipping input data to the valid range for imshow with RGB data ([0..1] for floats or [0..255] for integers).\n"
     ]
    },
    {
     "name": "stdout",
     "output_type": "stream",
     "text": [
      "1/1 [==============================] - 0s 100ms/step - loss: 0.0041 - accuracy: 0.9712\n",
      "Epoch 923/1000\n",
      "1/1 [==============================] - 0s 16ms/stepss: 0.0041 - accuracy: 0.97\n"
     ]
    },
    {
     "name": "stderr",
     "output_type": "stream",
     "text": [
      "Clipping input data to the valid range for imshow with RGB data ([0..1] for floats or [0..255] for integers).\n"
     ]
    },
    {
     "name": "stdout",
     "output_type": "stream",
     "text": [
      "1/1 [==============================] - 0s 101ms/step - loss: 0.0041 - accuracy: 0.9709\n",
      "Epoch 924/1000\n",
      "1/1 [==============================] - 0s 14ms/stepss: 0.0041 - accuracy: 0.97\n"
     ]
    },
    {
     "name": "stderr",
     "output_type": "stream",
     "text": [
      "Clipping input data to the valid range for imshow with RGB data ([0..1] for floats or [0..255] for integers).\n"
     ]
    },
    {
     "name": "stdout",
     "output_type": "stream",
     "text": [
      "1/1 [==============================] - 0s 100ms/step - loss: 0.0041 - accuracy: 0.9711\n",
      "Epoch 925/1000\n",
      "1/1 [==============================] - 0s 14ms/stepss: 0.0041 - accuracy: 0.97\n"
     ]
    },
    {
     "name": "stderr",
     "output_type": "stream",
     "text": [
      "Clipping input data to the valid range for imshow with RGB data ([0..1] for floats or [0..255] for integers).\n"
     ]
    },
    {
     "name": "stdout",
     "output_type": "stream",
     "text": [
      "1/1 [==============================] - 0s 97ms/step - loss: 0.0041 - accuracy: 0.9711\n",
      "Epoch 926/1000\n",
      "1/1 [==============================] - 0s 16ms/stepss: 0.0042 - accuracy: 0.97\n"
     ]
    },
    {
     "name": "stderr",
     "output_type": "stream",
     "text": [
      "Clipping input data to the valid range for imshow with RGB data ([0..1] for floats or [0..255] for integers).\n"
     ]
    },
    {
     "name": "stdout",
     "output_type": "stream",
     "text": [
      "1/1 [==============================] - 0s 105ms/step - loss: 0.0042 - accuracy: 0.9711\n",
      "Epoch 927/1000\n",
      "1/1 [==============================] - 0s 15ms/stepss: 0.0042 - accuracy: 0.97\n"
     ]
    },
    {
     "name": "stderr",
     "output_type": "stream",
     "text": [
      "Clipping input data to the valid range for imshow with RGB data ([0..1] for floats or [0..255] for integers).\n"
     ]
    },
    {
     "name": "stdout",
     "output_type": "stream",
     "text": [
      "1/1 [==============================] - 0s 99ms/step - loss: 0.0042 - accuracy: 0.9706\n",
      "Epoch 928/1000\n",
      "1/1 [==============================] - 0s 15ms/stepss: 0.0043 - accuracy: 0.97\n"
     ]
    },
    {
     "name": "stderr",
     "output_type": "stream",
     "text": [
      "Clipping input data to the valid range for imshow with RGB data ([0..1] for floats or [0..255] for integers).\n"
     ]
    },
    {
     "name": "stdout",
     "output_type": "stream",
     "text": [
      "1/1 [==============================] - 0s 98ms/step - loss: 0.0043 - accuracy: 0.9712\n",
      "Epoch 929/1000\n",
      "1/1 [==============================] - 0s 16ms/stepss: 0.0044 - accuracy: 0.97\n"
     ]
    },
    {
     "name": "stderr",
     "output_type": "stream",
     "text": [
      "Clipping input data to the valid range for imshow with RGB data ([0..1] for floats or [0..255] for integers).\n"
     ]
    },
    {
     "name": "stdout",
     "output_type": "stream",
     "text": [
      "1/1 [==============================] - 0s 99ms/step - loss: 0.0044 - accuracy: 0.9713\n",
      "Epoch 930/1000\n",
      "1/1 [==============================] - 0s 14ms/stepss: 0.0044 - accuracy: 0.97\n"
     ]
    },
    {
     "name": "stderr",
     "output_type": "stream",
     "text": [
      "Clipping input data to the valid range for imshow with RGB data ([0..1] for floats or [0..255] for integers).\n"
     ]
    },
    {
     "name": "stdout",
     "output_type": "stream",
     "text": [
      "1/1 [==============================] - 0s 97ms/step - loss: 0.0044 - accuracy: 0.9718\n",
      "Epoch 931/1000\n",
      "1/1 [==============================] - 0s 17ms/stepss: 0.0045 - accuracy: 0.97\n"
     ]
    },
    {
     "name": "stderr",
     "output_type": "stream",
     "text": [
      "Clipping input data to the valid range for imshow with RGB data ([0..1] for floats or [0..255] for integers).\n"
     ]
    },
    {
     "name": "stdout",
     "output_type": "stream",
     "text": [
      "1/1 [==============================] - 0s 107ms/step - loss: 0.0045 - accuracy: 0.9711\n",
      "Epoch 932/1000\n",
      "1/1 [==============================] - 0s 18ms/stepss: 0.0044 - accuracy: 0.97\n"
     ]
    },
    {
     "name": "stderr",
     "output_type": "stream",
     "text": [
      "Clipping input data to the valid range for imshow with RGB data ([0..1] for floats or [0..255] for integers).\n"
     ]
    },
    {
     "name": "stdout",
     "output_type": "stream",
     "text": [
      "1/1 [==============================] - 0s 104ms/step - loss: 0.0044 - accuracy: 0.9714\n",
      "Epoch 933/1000\n",
      "1/1 [==============================] - 0s 15ms/stepss: 0.0044 - accuracy: 0.97\n"
     ]
    },
    {
     "name": "stderr",
     "output_type": "stream",
     "text": [
      "Clipping input data to the valid range for imshow with RGB data ([0..1] for floats or [0..255] for integers).\n"
     ]
    },
    {
     "name": "stdout",
     "output_type": "stream",
     "text": [
      "1/1 [==============================] - 0s 98ms/step - loss: 0.0044 - accuracy: 0.9713\n",
      "Epoch 934/1000\n",
      "1/1 [==============================] - 0s 15ms/stepss: 0.0042 - accuracy: 0.97\n"
     ]
    },
    {
     "name": "stderr",
     "output_type": "stream",
     "text": [
      "Clipping input data to the valid range for imshow with RGB data ([0..1] for floats or [0..255] for integers).\n"
     ]
    },
    {
     "name": "stdout",
     "output_type": "stream",
     "text": [
      "1/1 [==============================] - 0s 99ms/step - loss: 0.0042 - accuracy: 0.9720\n",
      "Epoch 935/1000\n",
      "1/1 [==============================] - 0s 15ms/stepss: 0.0041 - accuracy: 0.97\n"
     ]
    },
    {
     "name": "stderr",
     "output_type": "stream",
     "text": [
      "Clipping input data to the valid range for imshow with RGB data ([0..1] for floats or [0..255] for integers).\n"
     ]
    },
    {
     "name": "stdout",
     "output_type": "stream",
     "text": [
      "1/1 [==============================] - 0s 96ms/step - loss: 0.0041 - accuracy: 0.9716\n",
      "Epoch 936/1000\n",
      "1/1 [==============================] - 0s 16ms/stepss: 0.0040 - accuracy: 0.97\n"
     ]
    },
    {
     "name": "stderr",
     "output_type": "stream",
     "text": [
      "Clipping input data to the valid range for imshow with RGB data ([0..1] for floats or [0..255] for integers).\n"
     ]
    },
    {
     "name": "stdout",
     "output_type": "stream",
     "text": [
      "1/1 [==============================] - 0s 100ms/step - loss: 0.0040 - accuracy: 0.9715\n",
      "Epoch 937/1000\n",
      "1/1 [==============================] - 0s 16ms/stepss: 0.0040 - accuracy: 0.97\n"
     ]
    },
    {
     "name": "stderr",
     "output_type": "stream",
     "text": [
      "Clipping input data to the valid range for imshow with RGB data ([0..1] for floats or [0..255] for integers).\n"
     ]
    },
    {
     "name": "stdout",
     "output_type": "stream",
     "text": [
      "1/1 [==============================] - 1s 896ms/step - loss: 0.0040 - accuracy: 0.9717\n",
      "Epoch 938/1000\n",
      "1/1 [==============================] - 0s 15ms/stepss: 0.0040 - accuracy: 0.97\n"
     ]
    },
    {
     "name": "stderr",
     "output_type": "stream",
     "text": [
      "Clipping input data to the valid range for imshow with RGB data ([0..1] for floats or [0..255] for integers).\n"
     ]
    },
    {
     "name": "stdout",
     "output_type": "stream",
     "text": [
      "1/1 [==============================] - 0s 97ms/step - loss: 0.0040 - accuracy: 0.9718\n",
      "Epoch 939/1000\n",
      "1/1 [==============================] - 0s 16ms/stepss: 0.0041 - accuracy: 0.97\n"
     ]
    },
    {
     "name": "stderr",
     "output_type": "stream",
     "text": [
      "Clipping input data to the valid range for imshow with RGB data ([0..1] for floats or [0..255] for integers).\n"
     ]
    },
    {
     "name": "stdout",
     "output_type": "stream",
     "text": [
      "1/1 [==============================] - 0s 101ms/step - loss: 0.0041 - accuracy: 0.9719\n",
      "Epoch 940/1000\n",
      "1/1 [==============================] - 0s 15ms/stepss: 0.0042 - accuracy: 0.97\n"
     ]
    },
    {
     "name": "stderr",
     "output_type": "stream",
     "text": [
      "Clipping input data to the valid range for imshow with RGB data ([0..1] for floats or [0..255] for integers).\n"
     ]
    },
    {
     "name": "stdout",
     "output_type": "stream",
     "text": [
      "1/1 [==============================] - 0s 101ms/step - loss: 0.0042 - accuracy: 0.9712\n",
      "Epoch 941/1000\n",
      "1/1 [==============================] - 0s 15ms/stepss: 0.0042 - accuracy: 0.97\n"
     ]
    },
    {
     "name": "stderr",
     "output_type": "stream",
     "text": [
      "Clipping input data to the valid range for imshow with RGB data ([0..1] for floats or [0..255] for integers).\n"
     ]
    },
    {
     "name": "stdout",
     "output_type": "stream",
     "text": [
      "1/1 [==============================] - 0s 100ms/step - loss: 0.0042 - accuracy: 0.9718\n",
      "Epoch 942/1000\n",
      "1/1 [==============================] - 0s 15ms/stepss: 0.0041 - accuracy: 0.97\n"
     ]
    },
    {
     "name": "stderr",
     "output_type": "stream",
     "text": [
      "Clipping input data to the valid range for imshow with RGB data ([0..1] for floats or [0..255] for integers).\n"
     ]
    },
    {
     "name": "stdout",
     "output_type": "stream",
     "text": [
      "1/1 [==============================] - 0s 99ms/step - loss: 0.0041 - accuracy: 0.9715\n",
      "Epoch 943/1000\n",
      "1/1 [==============================] - 0s 14ms/stepss: 0.0041 - accuracy: 0.97\n"
     ]
    },
    {
     "name": "stderr",
     "output_type": "stream",
     "text": [
      "Clipping input data to the valid range for imshow with RGB data ([0..1] for floats or [0..255] for integers).\n"
     ]
    },
    {
     "name": "stdout",
     "output_type": "stream",
     "text": [
      "1/1 [==============================] - 0s 96ms/step - loss: 0.0041 - accuracy: 0.9718\n",
      "Epoch 944/1000\n",
      "1/1 [==============================] - 0s 15ms/stepss: 0.0040 - accuracy: 0.97\n"
     ]
    },
    {
     "name": "stderr",
     "output_type": "stream",
     "text": [
      "Clipping input data to the valid range for imshow with RGB data ([0..1] for floats or [0..255] for integers).\n"
     ]
    },
    {
     "name": "stdout",
     "output_type": "stream",
     "text": [
      "1/1 [==============================] - 0s 96ms/step - loss: 0.0040 - accuracy: 0.9713\n",
      "Epoch 945/1000\n",
      "1/1 [==============================] - 0s 15ms/stepss: 0.0040 - accuracy: 0.97\n"
     ]
    },
    {
     "name": "stderr",
     "output_type": "stream",
     "text": [
      "Clipping input data to the valid range for imshow with RGB data ([0..1] for floats or [0..255] for integers).\n"
     ]
    },
    {
     "name": "stdout",
     "output_type": "stream",
     "text": [
      "1/1 [==============================] - 0s 98ms/step - loss: 0.0040 - accuracy: 0.9716\n",
      "Epoch 946/1000\n",
      "1/1 [==============================] - 0s 15ms/stepss: 0.0040 - accuracy: 0.97\n"
     ]
    },
    {
     "name": "stderr",
     "output_type": "stream",
     "text": [
      "Clipping input data to the valid range for imshow with RGB data ([0..1] for floats or [0..255] for integers).\n"
     ]
    },
    {
     "name": "stdout",
     "output_type": "stream",
     "text": [
      "1/1 [==============================] - 0s 97ms/step - loss: 0.0040 - accuracy: 0.9716\n",
      "Epoch 947/1000\n",
      "1/1 [==============================] - 0s 14ms/stepss: 0.0040 - accuracy: 0.97\n"
     ]
    },
    {
     "name": "stderr",
     "output_type": "stream",
     "text": [
      "Clipping input data to the valid range for imshow with RGB data ([0..1] for floats or [0..255] for integers).\n"
     ]
    },
    {
     "name": "stdout",
     "output_type": "stream",
     "text": [
      "1/1 [==============================] - 0s 98ms/step - loss: 0.0040 - accuracy: 0.9714\n",
      "Epoch 948/1000\n",
      "1/1 [==============================] - 0s 14ms/stepss: 0.0040 - accuracy: 0.97\n"
     ]
    },
    {
     "name": "stderr",
     "output_type": "stream",
     "text": [
      "Clipping input data to the valid range for imshow with RGB data ([0..1] for floats or [0..255] for integers).\n"
     ]
    },
    {
     "name": "stdout",
     "output_type": "stream",
     "text": [
      "1/1 [==============================] - 0s 96ms/step - loss: 0.0040 - accuracy: 0.9716\n",
      "Epoch 949/1000\n",
      "1/1 [==============================] - 0s 14ms/stepss: 0.0040 - accuracy: 0.97\n"
     ]
    },
    {
     "name": "stderr",
     "output_type": "stream",
     "text": [
      "Clipping input data to the valid range for imshow with RGB data ([0..1] for floats or [0..255] for integers).\n"
     ]
    },
    {
     "name": "stdout",
     "output_type": "stream",
     "text": [
      "1/1 [==============================] - 0s 98ms/step - loss: 0.0040 - accuracy: 0.9715\n",
      "Epoch 950/1000\n",
      "1/1 [==============================] - 0s 15ms/stepss: 0.0041 - accuracy: 0.97\n"
     ]
    },
    {
     "name": "stderr",
     "output_type": "stream",
     "text": [
      "Clipping input data to the valid range for imshow with RGB data ([0..1] for floats or [0..255] for integers).\n"
     ]
    },
    {
     "name": "stdout",
     "output_type": "stream",
     "text": [
      "1/1 [==============================] - 0s 100ms/step - loss: 0.0041 - accuracy: 0.9716\n",
      "Epoch 951/1000\n",
      "1/1 [==============================] - 0s 14ms/stepss: 0.0041 - accuracy: 0.97\n"
     ]
    },
    {
     "name": "stderr",
     "output_type": "stream",
     "text": [
      "Clipping input data to the valid range for imshow with RGB data ([0..1] for floats or [0..255] for integers).\n"
     ]
    },
    {
     "name": "stdout",
     "output_type": "stream",
     "text": [
      "1/1 [==============================] - 0s 95ms/step - loss: 0.0041 - accuracy: 0.9712\n",
      "Epoch 952/1000\n",
      "1/1 [==============================] - 0s 16ms/stepss: 0.0041 - accuracy: 0.97\n"
     ]
    },
    {
     "name": "stderr",
     "output_type": "stream",
     "text": [
      "Clipping input data to the valid range for imshow with RGB data ([0..1] for floats or [0..255] for integers).\n"
     ]
    },
    {
     "name": "stdout",
     "output_type": "stream",
     "text": [
      "1/1 [==============================] - 0s 107ms/step - loss: 0.0041 - accuracy: 0.9716\n",
      "Epoch 953/1000\n",
      "1/1 [==============================] - 0s 16ms/stepss: 0.0041 - accuracy: 0.97\n"
     ]
    },
    {
     "name": "stderr",
     "output_type": "stream",
     "text": [
      "Clipping input data to the valid range for imshow with RGB data ([0..1] for floats or [0..255] for integers).\n"
     ]
    },
    {
     "name": "stdout",
     "output_type": "stream",
     "text": [
      "1/1 [==============================] - 0s 104ms/step - loss: 0.0041 - accuracy: 0.9713\n",
      "Epoch 954/1000\n",
      "1/1 [==============================] - 0s 15ms/stepss: 0.0041 - accuracy: 0.97\n"
     ]
    },
    {
     "name": "stderr",
     "output_type": "stream",
     "text": [
      "Clipping input data to the valid range for imshow with RGB data ([0..1] for floats or [0..255] for integers).\n"
     ]
    },
    {
     "name": "stdout",
     "output_type": "stream",
     "text": [
      "1/1 [==============================] - 0s 97ms/step - loss: 0.0041 - accuracy: 0.9715\n",
      "Epoch 955/1000\n",
      "1/1 [==============================] - 0s 15ms/stepss: 0.0040 - accuracy: 0.97\n"
     ]
    },
    {
     "name": "stderr",
     "output_type": "stream",
     "text": [
      "Clipping input data to the valid range for imshow with RGB data ([0..1] for floats or [0..255] for integers).\n"
     ]
    },
    {
     "name": "stdout",
     "output_type": "stream",
     "text": [
      "1/1 [==============================] - 0s 98ms/step - loss: 0.0040 - accuracy: 0.9712\n",
      "Epoch 956/1000\n",
      "1/1 [==============================] - 0s 14ms/stepss: 0.0040 - accuracy: 0.97\n"
     ]
    },
    {
     "name": "stderr",
     "output_type": "stream",
     "text": [
      "Clipping input data to the valid range for imshow with RGB data ([0..1] for floats or [0..255] for integers).\n"
     ]
    },
    {
     "name": "stdout",
     "output_type": "stream",
     "text": [
      "1/1 [==============================] - 0s 93ms/step - loss: 0.0040 - accuracy: 0.9718\n",
      "Epoch 957/1000\n",
      "1/1 [==============================] - 0s 18ms/stepss: 0.0040 - accuracy: 0.97\n"
     ]
    },
    {
     "name": "stderr",
     "output_type": "stream",
     "text": [
      "Clipping input data to the valid range for imshow with RGB data ([0..1] for floats or [0..255] for integers).\n"
     ]
    },
    {
     "name": "stdout",
     "output_type": "stream",
     "text": [
      "1/1 [==============================] - 0s 99ms/step - loss: 0.0040 - accuracy: 0.9715\n",
      "Epoch 958/1000\n",
      "1/1 [==============================] - 0s 16ms/stepss: 0.0040 - accuracy: 0.97\n"
     ]
    },
    {
     "name": "stderr",
     "output_type": "stream",
     "text": [
      "Clipping input data to the valid range for imshow with RGB data ([0..1] for floats or [0..255] for integers).\n"
     ]
    },
    {
     "name": "stdout",
     "output_type": "stream",
     "text": [
      "1/1 [==============================] - 0s 101ms/step - loss: 0.0040 - accuracy: 0.9714\n",
      "Epoch 959/1000\n",
      "1/1 [==============================] - 0s 15ms/stepss: 0.0040 - accuracy: 0.97\n"
     ]
    },
    {
     "name": "stderr",
     "output_type": "stream",
     "text": [
      "Clipping input data to the valid range for imshow with RGB data ([0..1] for floats or [0..255] for integers).\n"
     ]
    },
    {
     "name": "stdout",
     "output_type": "stream",
     "text": [
      "1/1 [==============================] - 0s 102ms/step - loss: 0.0040 - accuracy: 0.9711\n",
      "Epoch 960/1000\n",
      "1/1 [==============================] - 0s 14ms/stepss: 0.0040 - accuracy: 0.97\n"
     ]
    },
    {
     "name": "stderr",
     "output_type": "stream",
     "text": [
      "Clipping input data to the valid range for imshow with RGB data ([0..1] for floats or [0..255] for integers).\n"
     ]
    },
    {
     "name": "stdout",
     "output_type": "stream",
     "text": [
      "1/1 [==============================] - 0s 95ms/step - loss: 0.0040 - accuracy: 0.9716\n",
      "Epoch 961/1000\n",
      "1/1 [==============================] - 0s 14ms/stepss: 0.0040 - accuracy: 0.97\n"
     ]
    },
    {
     "name": "stderr",
     "output_type": "stream",
     "text": [
      "Clipping input data to the valid range for imshow with RGB data ([0..1] for floats or [0..255] for integers).\n"
     ]
    },
    {
     "name": "stdout",
     "output_type": "stream",
     "text": [
      "1/1 [==============================] - 0s 98ms/step - loss: 0.0040 - accuracy: 0.9714\n",
      "Epoch 962/1000\n",
      "1/1 [==============================] - 0s 17ms/stepss: 0.0039 - accuracy: 0.97\n"
     ]
    },
    {
     "name": "stderr",
     "output_type": "stream",
     "text": [
      "Clipping input data to the valid range for imshow with RGB data ([0..1] for floats or [0..255] for integers).\n"
     ]
    },
    {
     "name": "stdout",
     "output_type": "stream",
     "text": [
      "1/1 [==============================] - 0s 108ms/step - loss: 0.0039 - accuracy: 0.9714\n",
      "Epoch 963/1000\n",
      "1/1 [==============================] - 0s 14ms/stepss: 0.0039 - accuracy: 0.97\n"
     ]
    },
    {
     "name": "stderr",
     "output_type": "stream",
     "text": [
      "Clipping input data to the valid range for imshow with RGB data ([0..1] for floats or [0..255] for integers).\n"
     ]
    },
    {
     "name": "stdout",
     "output_type": "stream",
     "text": [
      "1/1 [==============================] - 0s 96ms/step - loss: 0.0039 - accuracy: 0.9712\n",
      "Epoch 964/1000\n",
      "1/1 [==============================] - 0s 15ms/stepss: 0.0039 - accuracy: 0.97\n"
     ]
    },
    {
     "name": "stderr",
     "output_type": "stream",
     "text": [
      "Clipping input data to the valid range for imshow with RGB data ([0..1] for floats or [0..255] for integers).\n"
     ]
    },
    {
     "name": "stdout",
     "output_type": "stream",
     "text": [
      "1/1 [==============================] - 0s 98ms/step - loss: 0.0039 - accuracy: 0.9713\n",
      "Epoch 965/1000\n",
      "1/1 [==============================] - 0s 15ms/stepss: 0.0039 - accuracy: 0.97\n"
     ]
    },
    {
     "name": "stderr",
     "output_type": "stream",
     "text": [
      "Clipping input data to the valid range for imshow with RGB data ([0..1] for floats or [0..255] for integers).\n"
     ]
    },
    {
     "name": "stdout",
     "output_type": "stream",
     "text": [
      "1/1 [==============================] - 0s 97ms/step - loss: 0.0039 - accuracy: 0.9711\n",
      "Epoch 966/1000\n",
      "1/1 [==============================] - 0s 15ms/stepss: 0.0039 - accuracy: 0.97\n"
     ]
    },
    {
     "name": "stderr",
     "output_type": "stream",
     "text": [
      "Clipping input data to the valid range for imshow with RGB data ([0..1] for floats or [0..255] for integers).\n"
     ]
    },
    {
     "name": "stdout",
     "output_type": "stream",
     "text": [
      "1/1 [==============================] - 0s 96ms/step - loss: 0.0039 - accuracy: 0.9712\n",
      "Epoch 967/1000\n",
      "1/1 [==============================] - 0s 15ms/stepss: 0.0039 - accuracy: 0.97\n"
     ]
    },
    {
     "name": "stderr",
     "output_type": "stream",
     "text": [
      "Clipping input data to the valid range for imshow with RGB data ([0..1] for floats or [0..255] for integers).\n"
     ]
    },
    {
     "name": "stdout",
     "output_type": "stream",
     "text": [
      "1/1 [==============================] - 0s 101ms/step - loss: 0.0039 - accuracy: 0.9711\n",
      "Epoch 968/1000\n",
      "1/1 [==============================] - 0s 15ms/stepss: 0.0039 - accuracy: 0.97\n"
     ]
    },
    {
     "name": "stderr",
     "output_type": "stream",
     "text": [
      "Clipping input data to the valid range for imshow with RGB data ([0..1] for floats or [0..255] for integers).\n"
     ]
    },
    {
     "name": "stdout",
     "output_type": "stream",
     "text": [
      "1/1 [==============================] - 0s 98ms/step - loss: 0.0039 - accuracy: 0.9711\n",
      "Epoch 969/1000\n",
      "1/1 [==============================] - 0s 15ms/stepss: 0.0039 - accuracy: 0.97\n"
     ]
    },
    {
     "name": "stderr",
     "output_type": "stream",
     "text": [
      "Clipping input data to the valid range for imshow with RGB data ([0..1] for floats or [0..255] for integers).\n"
     ]
    },
    {
     "name": "stdout",
     "output_type": "stream",
     "text": [
      "1/1 [==============================] - 0s 98ms/step - loss: 0.0039 - accuracy: 0.9709\n",
      "Epoch 970/1000\n",
      "1/1 [==============================] - 0s 15ms/stepss: 0.0039 - accuracy: 0.97\n"
     ]
    },
    {
     "name": "stderr",
     "output_type": "stream",
     "text": [
      "Clipping input data to the valid range for imshow with RGB data ([0..1] for floats or [0..255] for integers).\n"
     ]
    },
    {
     "name": "stdout",
     "output_type": "stream",
     "text": [
      "1/1 [==============================] - 0s 98ms/step - loss: 0.0039 - accuracy: 0.9711\n",
      "Epoch 971/1000\n",
      "1/1 [==============================] - 0s 15ms/stepss: 0.0039 - accuracy: 0.97\n"
     ]
    },
    {
     "name": "stderr",
     "output_type": "stream",
     "text": [
      "Clipping input data to the valid range for imshow with RGB data ([0..1] for floats or [0..255] for integers).\n"
     ]
    },
    {
     "name": "stdout",
     "output_type": "stream",
     "text": [
      "1/1 [==============================] - 0s 97ms/step - loss: 0.0039 - accuracy: 0.9708\n",
      "Epoch 972/1000\n",
      "1/1 [==============================] - 0s 16ms/stepss: 0.0039 - accuracy: 0.97\n"
     ]
    },
    {
     "name": "stderr",
     "output_type": "stream",
     "text": [
      "Clipping input data to the valid range for imshow with RGB data ([0..1] for floats or [0..255] for integers).\n"
     ]
    },
    {
     "name": "stdout",
     "output_type": "stream",
     "text": [
      "1/1 [==============================] - 0s 106ms/step - loss: 0.0039 - accuracy: 0.9709\n",
      "Epoch 973/1000\n",
      "1/1 [==============================] - 0s 15ms/stepss: 0.0040 - accuracy: 0.97\n"
     ]
    },
    {
     "name": "stderr",
     "output_type": "stream",
     "text": [
      "Clipping input data to the valid range for imshow with RGB data ([0..1] for floats or [0..255] for integers).\n"
     ]
    },
    {
     "name": "stdout",
     "output_type": "stream",
     "text": [
      "1/1 [==============================] - 0s 102ms/step - loss: 0.0040 - accuracy: 0.9706\n",
      "Epoch 974/1000\n",
      "1/1 [==============================] - 0s 14ms/stepss: 0.0041 - accuracy: 0.97\n"
     ]
    },
    {
     "name": "stderr",
     "output_type": "stream",
     "text": [
      "Clipping input data to the valid range for imshow with RGB data ([0..1] for floats or [0..255] for integers).\n"
     ]
    },
    {
     "name": "stdout",
     "output_type": "stream",
     "text": [
      "1/1 [==============================] - 0s 98ms/step - loss: 0.0041 - accuracy: 0.9713\n",
      "Epoch 975/1000\n",
      "1/1 [==============================] - 0s 14ms/stepss: 0.0042 - accuracy: 0.97\n"
     ]
    },
    {
     "name": "stderr",
     "output_type": "stream",
     "text": [
      "Clipping input data to the valid range for imshow with RGB data ([0..1] for floats or [0..255] for integers).\n"
     ]
    },
    {
     "name": "stdout",
     "output_type": "stream",
     "text": [
      "1/1 [==============================] - 0s 97ms/step - loss: 0.0042 - accuracy: 0.9707\n",
      "Epoch 976/1000\n",
      "1/1 [==============================] - 0s 15ms/stepss: 0.0045 - accuracy: 0.97\n"
     ]
    },
    {
     "name": "stderr",
     "output_type": "stream",
     "text": [
      "Clipping input data to the valid range for imshow with RGB data ([0..1] for floats or [0..255] for integers).\n"
     ]
    },
    {
     "name": "stdout",
     "output_type": "stream",
     "text": [
      "1/1 [==============================] - 0s 98ms/step - loss: 0.0045 - accuracy: 0.9714\n",
      "Epoch 977/1000\n",
      "1/1 [==============================] - 0s 15ms/stepss: 0.0052 - accuracy: 0.97\n"
     ]
    },
    {
     "name": "stderr",
     "output_type": "stream",
     "text": [
      "Clipping input data to the valid range for imshow with RGB data ([0..1] for floats or [0..255] for integers).\n"
     ]
    },
    {
     "name": "stdout",
     "output_type": "stream",
     "text": [
      "1/1 [==============================] - 0s 103ms/step - loss: 0.0052 - accuracy: 0.9706\n",
      "Epoch 978/1000\n",
      "1/1 [==============================] - 0s 14ms/stepss: 0.0057 - accuracy: 0.97\n"
     ]
    },
    {
     "name": "stderr",
     "output_type": "stream",
     "text": [
      "Clipping input data to the valid range for imshow with RGB data ([0..1] for floats or [0..255] for integers).\n"
     ]
    },
    {
     "name": "stdout",
     "output_type": "stream",
     "text": [
      "1/1 [==============================] - 0s 96ms/step - loss: 0.0057 - accuracy: 0.9714\n",
      "Epoch 979/1000\n",
      "1/1 [==============================] - 0s 14ms/stepss: 0.0067 - accuracy: 0.97\n"
     ]
    },
    {
     "name": "stderr",
     "output_type": "stream",
     "text": [
      "Clipping input data to the valid range for imshow with RGB data ([0..1] for floats or [0..255] for integers).\n"
     ]
    },
    {
     "name": "stdout",
     "output_type": "stream",
     "text": [
      "1/1 [==============================] - 0s 95ms/step - loss: 0.0067 - accuracy: 0.9710\n",
      "Epoch 980/1000\n",
      "1/1 [==============================] - 0s 14ms/stepss: 0.0055 - accuracy: 0.97\n"
     ]
    },
    {
     "name": "stderr",
     "output_type": "stream",
     "text": [
      "Clipping input data to the valid range for imshow with RGB data ([0..1] for floats or [0..255] for integers).\n"
     ]
    },
    {
     "name": "stdout",
     "output_type": "stream",
     "text": [
      "1/1 [==============================] - 0s 93ms/step - loss: 0.0055 - accuracy: 0.9734\n",
      "Epoch 981/1000\n",
      "1/1 [==============================] - 0s 14ms/stepss: 0.0045 - accuracy: 0.97\n"
     ]
    },
    {
     "name": "stderr",
     "output_type": "stream",
     "text": [
      "Clipping input data to the valid range for imshow with RGB data ([0..1] for floats or [0..255] for integers).\n"
     ]
    },
    {
     "name": "stdout",
     "output_type": "stream",
     "text": [
      "1/1 [==============================] - 0s 92ms/step - loss: 0.0045 - accuracy: 0.9728\n",
      "Epoch 982/1000\n",
      "1/1 [==============================] - 0s 13ms/stepss: 0.0040 - accuracy: 0.97\n"
     ]
    },
    {
     "name": "stderr",
     "output_type": "stream",
     "text": [
      "Clipping input data to the valid range for imshow with RGB data ([0..1] for floats or [0..255] for integers).\n"
     ]
    },
    {
     "name": "stdout",
     "output_type": "stream",
     "text": [
      "1/1 [==============================] - 0s 95ms/step - loss: 0.0040 - accuracy: 0.9733\n",
      "Epoch 983/1000\n",
      "1/1 [==============================] - 0s 14ms/stepss: 0.0046 - accuracy: 0.97\n"
     ]
    },
    {
     "name": "stderr",
     "output_type": "stream",
     "text": [
      "Clipping input data to the valid range for imshow with RGB data ([0..1] for floats or [0..255] for integers).\n"
     ]
    },
    {
     "name": "stdout",
     "output_type": "stream",
     "text": [
      "1/1 [==============================] - 0s 93ms/step - loss: 0.0046 - accuracy: 0.9737\n",
      "Epoch 984/1000\n",
      "1/1 [==============================] - 0s 16ms/stepss: 0.0052 - accuracy: 0.97\n"
     ]
    },
    {
     "name": "stderr",
     "output_type": "stream",
     "text": [
      "Clipping input data to the valid range for imshow with RGB data ([0..1] for floats or [0..255] for integers).\n"
     ]
    },
    {
     "name": "stdout",
     "output_type": "stream",
     "text": [
      "1/1 [==============================] - 0s 102ms/step - loss: 0.0052 - accuracy: 0.9736\n",
      "Epoch 985/1000\n",
      "1/1 [==============================] - 0s 16ms/stepss: 0.0043 - accuracy: 0.97\n"
     ]
    },
    {
     "name": "stderr",
     "output_type": "stream",
     "text": [
      "Clipping input data to the valid range for imshow with RGB data ([0..1] for floats or [0..255] for integers).\n"
     ]
    },
    {
     "name": "stdout",
     "output_type": "stream",
     "text": [
      "1/1 [==============================] - 0s 100ms/step - loss: 0.0043 - accuracy: 0.9743\n",
      "Epoch 986/1000\n",
      "1/1 [==============================] - 0s 15ms/stepss: 0.0040 - accuracy: 0.97\n"
     ]
    },
    {
     "name": "stderr",
     "output_type": "stream",
     "text": [
      "Clipping input data to the valid range for imshow with RGB data ([0..1] for floats or [0..255] for integers).\n"
     ]
    },
    {
     "name": "stdout",
     "output_type": "stream",
     "text": [
      "1/1 [==============================] - 0s 100ms/step - loss: 0.0040 - accuracy: 0.9742\n",
      "Epoch 987/1000\n",
      "1/1 [==============================] - 0s 14ms/stepss: 0.0045 - accuracy: 0.97\n"
     ]
    },
    {
     "name": "stderr",
     "output_type": "stream",
     "text": [
      "Clipping input data to the valid range for imshow with RGB data ([0..1] for floats or [0..255] for integers).\n"
     ]
    },
    {
     "name": "stdout",
     "output_type": "stream",
     "text": [
      "1/1 [==============================] - 0s 97ms/step - loss: 0.0045 - accuracy: 0.9735\n",
      "Epoch 988/1000\n",
      "1/1 [==============================] - 0s 15ms/stepss: 0.0045 - accuracy: 0.97\n"
     ]
    },
    {
     "name": "stderr",
     "output_type": "stream",
     "text": [
      "Clipping input data to the valid range for imshow with RGB data ([0..1] for floats or [0..255] for integers).\n"
     ]
    },
    {
     "name": "stdout",
     "output_type": "stream",
     "text": [
      "1/1 [==============================] - 0s 103ms/step - loss: 0.0045 - accuracy: 0.9746\n",
      "Epoch 989/1000\n",
      "1/1 [==============================] - 0s 16ms/stepss: 0.0041 - accuracy: 0.97\n"
     ]
    },
    {
     "name": "stderr",
     "output_type": "stream",
     "text": [
      "Clipping input data to the valid range for imshow with RGB data ([0..1] for floats or [0..255] for integers).\n"
     ]
    },
    {
     "name": "stdout",
     "output_type": "stream",
     "text": [
      "1/1 [==============================] - 0s 107ms/step - loss: 0.0041 - accuracy: 0.9742\n",
      "Epoch 990/1000\n",
      "1/1 [==============================] - 0s 16ms/stepss: 0.0040 - accuracy: 0.97\n"
     ]
    },
    {
     "name": "stderr",
     "output_type": "stream",
     "text": [
      "Clipping input data to the valid range for imshow with RGB data ([0..1] for floats or [0..255] for integers).\n"
     ]
    },
    {
     "name": "stdout",
     "output_type": "stream",
     "text": [
      "1/1 [==============================] - 0s 102ms/step - loss: 0.0040 - accuracy: 0.9735\n",
      "Epoch 991/1000\n",
      "1/1 [==============================] - 0s 15ms/stepss: 0.0043 - accuracy: 0.97\n"
     ]
    },
    {
     "name": "stderr",
     "output_type": "stream",
     "text": [
      "Clipping input data to the valid range for imshow with RGB data ([0..1] for floats or [0..255] for integers).\n"
     ]
    },
    {
     "name": "stdout",
     "output_type": "stream",
     "text": [
      "1/1 [==============================] - 0s 97ms/step - loss: 0.0043 - accuracy: 0.9733\n",
      "Epoch 992/1000\n",
      "1/1 [==============================] - 0s 15ms/stepss: 0.0043 - accuracy: 0.97\n"
     ]
    },
    {
     "name": "stderr",
     "output_type": "stream",
     "text": [
      "Clipping input data to the valid range for imshow with RGB data ([0..1] for floats or [0..255] for integers).\n"
     ]
    },
    {
     "name": "stdout",
     "output_type": "stream",
     "text": [
      "1/1 [==============================] - 0s 101ms/step - loss: 0.0043 - accuracy: 0.9730\n",
      "Epoch 993/1000\n",
      "1/1 [==============================] - 0s 14ms/stepss: 0.0040 - accuracy: 0.97\n"
     ]
    },
    {
     "name": "stderr",
     "output_type": "stream",
     "text": [
      "Clipping input data to the valid range for imshow with RGB data ([0..1] for floats or [0..255] for integers).\n"
     ]
    },
    {
     "name": "stdout",
     "output_type": "stream",
     "text": [
      "1/1 [==============================] - 0s 101ms/step - loss: 0.0040 - accuracy: 0.9740\n",
      "Epoch 994/1000\n",
      "1/1 [==============================] - 0s 17ms/stepss: 0.0040 - accuracy: 0.97\n"
     ]
    },
    {
     "name": "stderr",
     "output_type": "stream",
     "text": [
      "Clipping input data to the valid range for imshow with RGB data ([0..1] for floats or [0..255] for integers).\n"
     ]
    },
    {
     "name": "stdout",
     "output_type": "stream",
     "text": [
      "1/1 [==============================] - 0s 109ms/step - loss: 0.0040 - accuracy: 0.9742\n",
      "Epoch 995/1000\n",
      "1/1 [==============================] - 0s 16ms/stepss: 0.0043 - accuracy: 0.97\n"
     ]
    },
    {
     "name": "stderr",
     "output_type": "stream",
     "text": [
      "Clipping input data to the valid range for imshow with RGB data ([0..1] for floats or [0..255] for integers).\n"
     ]
    },
    {
     "name": "stdout",
     "output_type": "stream",
     "text": [
      "1/1 [==============================] - 0s 108ms/step - loss: 0.0043 - accuracy: 0.9731\n",
      "Epoch 996/1000\n",
      "1/1 [==============================] - 0s 15ms/stepss: 0.0041 - accuracy: 0.97\n"
     ]
    },
    {
     "name": "stderr",
     "output_type": "stream",
     "text": [
      "Clipping input data to the valid range for imshow with RGB data ([0..1] for floats or [0..255] for integers).\n"
     ]
    },
    {
     "name": "stdout",
     "output_type": "stream",
     "text": [
      "1/1 [==============================] - 0s 103ms/step - loss: 0.0041 - accuracy: 0.9734\n",
      "Epoch 997/1000\n",
      "1/1 [==============================] - 0s 14ms/stepss: 0.0039 - accuracy: 0.97\n"
     ]
    },
    {
     "name": "stderr",
     "output_type": "stream",
     "text": [
      "Clipping input data to the valid range for imshow with RGB data ([0..1] for floats or [0..255] for integers).\n"
     ]
    },
    {
     "name": "stdout",
     "output_type": "stream",
     "text": [
      "1/1 [==============================] - 0s 99ms/step - loss: 0.0039 - accuracy: 0.9729\n",
      "Epoch 998/1000\n",
      "1/1 [==============================] - 0s 16ms/stepss: 0.0040 - accuracy: 0.97\n"
     ]
    },
    {
     "name": "stderr",
     "output_type": "stream",
     "text": [
      "Clipping input data to the valid range for imshow with RGB data ([0..1] for floats or [0..255] for integers).\n"
     ]
    },
    {
     "name": "stdout",
     "output_type": "stream",
     "text": [
      "1/1 [==============================] - 0s 101ms/step - loss: 0.0040 - accuracy: 0.9727\n",
      "Epoch 999/1000\n",
      "1/1 [==============================] - 0s 16ms/stepss: 0.0041 - accuracy: 0.97\n"
     ]
    },
    {
     "name": "stderr",
     "output_type": "stream",
     "text": [
      "Clipping input data to the valid range for imshow with RGB data ([0..1] for floats or [0..255] for integers).\n"
     ]
    },
    {
     "name": "stdout",
     "output_type": "stream",
     "text": [
      "1/1 [==============================] - 0s 106ms/step - loss: 0.0041 - accuracy: 0.9736\n",
      "Epoch 1000/1000\n",
      "1/1 [==============================] - 0s 14ms/stepss: 0.0040 - accuracy: 0.97\n"
     ]
    },
    {
     "name": "stderr",
     "output_type": "stream",
     "text": [
      "Clipping input data to the valid range for imshow with RGB data ([0..1] for floats or [0..255] for integers).\n"
     ]
    },
    {
     "name": "stdout",
     "output_type": "stream",
     "text": [
      "1/1 [==============================] - 0s 95ms/step - loss: 0.0040 - accuracy: 0.9738\n"
     ]
    }
   ],
   "source": [
    "epochs=1000 #Fuck around with the epochs\n",
    "save_dir = \"./reconstructed_images/\"\n",
    "predict_callback = AutoencoderPredictCallback(model, img_final, save_dir)\n",
    "model_train = model.fit(img_final, img_final, \n",
    "                        epochs=epochs, \n",
    "                        callbacks=[predict_callback]\n",
    "                        )"
   ]
  },
  {
   "cell_type": "code",
   "execution_count": 114,
   "id": "9205ee64",
   "metadata": {},
   "outputs": [
    {
     "name": "stdout",
     "output_type": "stream",
     "text": [
      "1/1 [==============================] - 0s 15ms/step\n"
     ]
    },
    {
     "name": "stderr",
     "output_type": "stream",
     "text": [
      "Clipping input data to the valid range for imshow with RGB data ([0..1] for floats or [0..255] for integers).\n"
     ]
    },
    {
     "data": {
      "text/plain": [
       "<matplotlib.image.AxesImage at 0x1846cb19b70>"
      ]
     },
     "execution_count": 114,
     "metadata": {},
     "output_type": "execute_result"
    },
    {
     "data": {
      "image/png": "[encoded data removed]",
      "text/plain": [
       "<Figure size 640x480 with 1 Axes>"
      ]
     },
     "metadata": {},
     "output_type": "display_data"
    }
   ],
   "source": [
    "pred=model.predict(img_final)\n",
    "plt.axis(\"off\")\n",
    "plt.imshow(pred.reshape(256,256,3))\n",
    "#plt.savefig(\"recreatecat.png\")"
   ]
  },
  {
   "attachments": {},
   "cell_type": "markdown",
   "id": "b36867dc",
   "metadata": {},
   "source": [
    "# This kinda works "
   ]
  },
  {
   "cell_type": "code",
   "execution_count": 117,
   "id": "7f367959",
   "metadata": {},
   "outputs": [],
   "source": [
    "from PIL import Image\n",
    "import glob\n",
    "\n",
    "# Set the path to the folder containing the images\n",
    "image_folder = './reconstructed_images/'\n",
    "\n",
    "# Set the name of the output GIF file\n",
    "output_file = 'animation.gif'\n",
    "\n",
    "# Get a list of all the image file names in the folder\n",
    "image_files = glob.glob(image_folder + '*.png')\n",
    "\n",
    "# Sort the file names alphabetically to ensure they are in the correct order\n",
    "image_files.sort()\n",
    "# Open each image and add it to a list\n",
    "images = []\n",
    "for filename in image_files:\n",
    "    images.append(Image.open(filename))\n",
    "\n",
    "# Save the images as a GIF\n",
    "images[0].save(output_file, save_all=True, append_images=images[1:], duration=60, loop=0)\n"
   ]
  },
  {
   "cell_type": "code",
   "execution_count": null,
   "id": "81561670",
   "metadata": {},
   "outputs": [],
   "source": []
  }
 ],
 "metadata": {
  "kernelspec": {
   "display_name": "Python 3 (ipykernel)",
   "language": "python",
   "name": "python3"
  },
  "language_info": {
   "codemirror_mode": {
    "name": "ipython",
    "version": 3
   },
   "file_extension": ".py",
   "mimetype": "text/x-python",
   "name": "python",
   "nbconvert_exporter": "python",
   "pygments_lexer": "ipython3",
   "version": "3.10.10"
  }
 },
 "nbformat": 4,
 "nbformat_minor": 5
}
