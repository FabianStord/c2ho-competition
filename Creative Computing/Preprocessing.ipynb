{
 "cells": [
  {
   "cell_type": "code",
   "execution_count": 6,
   "id": "21070db5",
   "metadata": {},
   "outputs": [],
   "source": [
    "# Importing packages\n",
    "import os\n",
    "import numpy as np\n",
    "import librosa\n",
    "from IPython.display import Audio, display, Image\n",
    "import matplotlib.pyplot as plt\n",
    "import cv2\n",
    "import soundfile as sf\n"
   ]
  },
  {
   "cell_type": "code",
   "execution_count": 2,
   "id": "5c5357eb-a80d-4358-af9e-e10bdc2331c2",
   "metadata": {},
   "outputs": [
    {
     "name": "stdout",
     "output_type": "stream",
     "text": [
      "64\n"
     ]
    }
   ],
   "source": [
    "n_fft = 512\n",
    "hop_length = 64\n",
    "n_mels = 128\n",
    "sr=10000\n",
    "print(hop_length)"
   ]
  },
  {
   "cell_type": "code",
   "execution_count": 7,
   "id": "809332e6",
   "metadata": {},
   "outputs": [
    {
     "ename": "AttributeError",
     "evalue": "module 'librosa' has no attribute 'display'",
     "output_type": "error",
     "traceback": [
      "\u001b[1;31m---------------------------------------------------------------------------\u001b[0m",
      "\u001b[1;31mAttributeError\u001b[0m                            Traceback (most recent call last)",
      "Input \u001b[1;32mIn [7]\u001b[0m, in \u001b[0;36m<cell line: 5>\u001b[1;34m()\u001b[0m\n\u001b[0;32m     20\u001b[0m px \u001b[38;5;241m=\u001b[39m \u001b[38;5;241m1\u001b[39m\u001b[38;5;241m/\u001b[39mplt\u001b[38;5;241m.\u001b[39mrcParams[\u001b[38;5;124m'\u001b[39m\u001b[38;5;124mfigure.dpi\u001b[39m\u001b[38;5;124m'\u001b[39m]  \u001b[38;5;66;03m# pixel in inches\u001b[39;00m\n\u001b[0;32m     21\u001b[0m plt\u001b[38;5;241m.\u001b[39mfigure(figsize\u001b[38;5;241m=\u001b[39m(\u001b[38;5;241m1000\u001b[39m\u001b[38;5;241m*\u001b[39mpx, \u001b[38;5;241m1000\u001b[39m\u001b[38;5;241m*\u001b[39mpx)) \u001b[38;5;66;03m# Specifying the shape of spectrogram in pixels\u001b[39;00m\n\u001b[1;32m---> 22\u001b[0m \u001b[43mlibrosa\u001b[49m\u001b[38;5;241;43m.\u001b[39;49m\u001b[43mdisplay\u001b[49m\u001b[38;5;241m.\u001b[39mspecshow(S_dB, sr\u001b[38;5;241m=\u001b[39msr, hop_length\u001b[38;5;241m=\u001b[39mhop_length,\n\u001b[0;32m     23\u001b[0m                          x_axis\u001b[38;5;241m=\u001b[39m\u001b[38;5;124m'\u001b[39m\u001b[38;5;124mtime\u001b[39m\u001b[38;5;124m'\u001b[39m, y_axis\u001b[38;5;241m=\u001b[39m\u001b[38;5;124m'\u001b[39m\u001b[38;5;124mmel\u001b[39m\u001b[38;5;124m'\u001b[39m, cmap\u001b[38;5;241m=\u001b[39m\u001b[38;5;124m'\u001b[39m\u001b[38;5;124mgray\u001b[39m\u001b[38;5;124m'\u001b[39m, n_fft\u001b[38;5;241m=\u001b[39mn_fft)\n\u001b[0;32m     24\u001b[0m plt\u001b[38;5;241m.\u001b[39maxis(\u001b[38;5;124m'\u001b[39m\u001b[38;5;124moff\u001b[39m\u001b[38;5;124m'\u001b[39m)\n\u001b[0;32m     25\u001b[0m output_file \u001b[38;5;241m=\u001b[39m os\u001b[38;5;241m.\u001b[39mpath\u001b[38;5;241m.\u001b[39mjoin(os\u001b[38;5;241m.\u001b[39mpath\u001b[38;5;241m.\u001b[39msplitext(filename)[\u001b[38;5;241m0\u001b[39m] \u001b[38;5;241m+\u001b[39m \u001b[38;5;124m'\u001b[39m\u001b[38;5;124m_spectrogram.png\u001b[39m\u001b[38;5;124m'\u001b[39m)\n",
      "\u001b[1;31mAttributeError\u001b[0m: module 'librosa' has no attribute 'display'"
     ]
    },
    {
     "data": {
      "text/plain": [
       "<Figure size 1000x1000 with 0 Axes>"
      ]
     },
     "metadata": {},
     "output_type": "display_data"
    }
   ],
   "source": [
    "# Path to directory containing audio files\n",
    "audio_dir = \".\"\n",
    "output_dir = \".\"\n",
    "# Loop through all audio files in directory\n",
    "for filename in os.listdir(audio_dir):\n",
    "    if filename.endswith('.wav'):\n",
    "        # Load audio file\n",
    "        audio_file = os.path.join(audio_dir, filename)\n",
    "        y, sr = librosa.load(audio_file, sr=sr, mono=True, duration=5.33)\n",
    "        \n",
    "        # Compute the mel spectrogram\n",
    "        S = librosa.feature.melspectrogram(y=y, sr=sr, n_fft=n_fft,\n",
    "                                           hop_length=hop_length) #REMOVED NUMBER OF MELS\n",
    "        # Convert to decibels\n",
    "        S_dB = librosa.power_to_db(S, ref=np.max) \n",
    "        output_file = os.path.join(output_dir, os.path.splitext(filename)[0])\n",
    "\n",
    "        # Plot the spectrogram and save as PNG\n",
    "        \n",
    "        px = 1/plt.rcParams['figure.dpi']  # pixel in inches\n",
    "        plt.figure(figsize=(1000*px, 1000*px)) # Specifying the shape of spectrogram in pixels\n",
    "        librosa.display.specshow(S_dB, sr=sr, hop_length=hop_length,\n",
    "                                 x_axis='time', y_axis='mel', cmap='gray', n_fft=n_fft)\n",
    "        plt.axis('off')\n",
    "        output_file = os.path.join(os.path.splitext(filename)[0] + '_spectrogram.png')\n",
    "        plt.savefig(output_file, bbox_inches=\"tight\", pad_inches=0)\n",
    "        plt.close()\n"
   ]
  }
 ],
 "metadata": {
  "kernelspec": {
   "display_name": "Python 3 (ipykernel)",
   "language": "python",
   "name": "python3"
  },
  "language_info": {
   "codemirror_mode": {
    "name": "ipython",
    "version": 3
   },
   "file_extension": ".py",
   "mimetype": "text/x-python",
   "name": "python",
   "nbconvert_exporter": "python",
   "pygments_lexer": "ipython3",
   "version": "3.9.12"
  }
 },
 "nbformat": 4,
 "nbformat_minor": 5
}
